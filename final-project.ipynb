{
 "cells": [
  {
   "cell_type": "markdown",
   "metadata": {},
   "source": [
    "# Final Project Template "
   ]
  },
  {
   "cell_type": "markdown",
   "metadata": {},
   "source": [
    "## 1) Get your data\n",
    "You may use any data set(s) you like, so long as they meet these criteria:\n",
    "\n",
    "* Your data must be publically available for free.\n",
    "* Your data should be interesting to _you_. You want your final project to be something you're proud of.\n",
    "* Your data should be \"big enough\":\n",
    "    - It should have at least 1,000 rows.\n",
    "    - It should have enough of columns to be interesting.\n",
    "    - If you have questions, contact a member of the instructional team."
   ]
  },
  {
   "cell_type": "markdown",
   "metadata": {},
   "source": [
    "## 2) Provide a link to your data\n",
    "Your data is required to be free and open to anyone.\n",
    "As such, you should have a URL which anyone can use to download your data:"
   ]
  },
  {
   "cell_type": "code",
   "execution_count": 1,
   "metadata": {},
   "outputs": [],
   "source": [
    "# https://www.ncbi.nlm.nih.gov/pubmed/"
   ]
  },
  {
   "cell_type": "markdown",
   "metadata": {},
   "source": [
    "# 3) Import your data\n",
    "\n",
    "In the space below, import your data. If your data span multiple files, read them all in. If applicable, merge or append them as needed."
   ]
  },
  {
   "cell_type": "code",
   "execution_count": 1,
   "metadata": {
    "tags": [
     "outputPrepend"
    ]
   },
   "outputs": [
    {
     "output_type": "stream",
     "name": "stdout",
     "text": "Search successful.\n"
    }
   ],
   "source": [
    "#importing needed packages\n",
    "import pandas as pd\n",
    "import numpy as np \n",
    "from Bio import Entrez\n",
    "\n",
    "#searching PubMed for \"genomics\" and downloading dictionary of data including number of publications, accession IDs, and relevant MeSH term \n",
    "Entrez.email = \"eileen.cahill@nih.gov\"\n",
    "handle = Entrez.esearch(db=\"pubmed\", retmax=100, term=\"genom*\", idtype=\"acc\")\n",
    "record = Entrez.read(handle)\n",
    "handle.close()\n",
    "\n",
    "#optional print because data size is large\n",
    "#print(record)\n",
    "\n",
    "if record['Count'] == '0':\n",
    "    print(\"\\nYour search did not return any publications. Try another search.\\n\")\n",
    "    print(\"Error list says: \" + str(record['ErrorList']) + \"\\n\")\n",
    "    print(\"Warning list says: \" + str(record['WarningList']))\n",
    "else:\n",
    "    print(\"Search successful.\")"
   ]
  },
  {
   "cell_type": "code",
   "execution_count": 2,
   "metadata": {
    "tags": [
     "outputPrepend"
    ]
   },
   "outputs": [
    {
     "output_type": "stream",
     "name": "stdout",
     "text": "<class 'Bio.Entrez.Parser.DictionaryElement'>\n"
    }
   ],
   "source": [
    "#simply showing data type\n",
    "print(type(record))\n"
   ]
  },
  {
   "cell_type": "code",
   "execution_count": 3,
   "metadata": {
    "tags": [
     "outputPrepend"
    ]
   },
   "outputs": [
    {
     "output_type": "stream",
     "name": "stdout",
     "text": "<class 'list'>\n"
    }
   ],
   "source": [
    "#converting all data from type Bio.Entrez.Parser.DictionaryElement to list\n",
    "list = []\n",
    "listrecords = []\n",
    "\n",
    "for key, value in record.items():\n",
    "    list = [key, value]\n",
    "    listrecords.append(list)\n",
    "\n",
    "#optional: examine list of records (large)\n",
    "#print(listrecords)\n",
    "\n",
    "print(type(listrecords))\n",
    "#print(listrecords)"
   ]
  },
  {
   "cell_type": "code",
   "execution_count": 4,
   "metadata": {
    "tags": [
     "outputPrepend"
    ]
   },
   "outputs": [],
   "source": [
    "#creating iterable list of IDs\n",
    "id_list_acquire = listrecords[3]\n",
    "#print(id_list_acquire)\n",
    "id_list = []\n",
    "id_list_int = []\n",
    "\n",
    "for id in id_list_acquire[1]:\n",
    "    id_list.append(id)\n",
    "#print(id_list)"
   ]
  },
  {
   "cell_type": "code",
   "execution_count": 5,
   "metadata": {},
   "outputs": [],
   "source": [
    "#search PubMed for title information using the PMIDs that resulted from the keyword search\n",
    "list_titles = []\n",
    "list_pmids = []\n",
    "\n",
    "for item in id_list:\n",
    "    handle2 = Entrez.esummary(db=\"pubmed\", id=item, retmode=\"xml\")\n",
    "    records2 = Entrez.parse(handle2)\n",
    "\n",
    "    for record in records2:\n",
    "        #each record is a Python dictionary or list.\n",
    "        list_titles.append(record['Title'])\n",
    "\n",
    "handle2.close()\n",
    "\n",
    "#print(list_titles)"
   ]
  },
  {
   "cell_type": "code",
   "execution_count": 6,
   "metadata": {},
   "outputs": [
    {
     "output_type": "stream",
     "name": "stdout",
     "text": "0\n0   [Transkranielle Gamma-Wechselstromstimulation ...\n1   Patients with high-risk DLBCL benefit from dos...\n2   De novo transcriptome sequence of Senna tora p...\n3   Evaluating the impact of trauma and PTSD on ep...\n4   Isolation of SARS-CoV-2-related coronavirus fr...\n..                                                ...\n95  VL30 retrotransposition is associated with ind...\n96  Effect of VX‑765 on the transcriptome profile ...\n97  Comprehensive analysis of aberrantly expressed...\n98  Comprehensive analysis of long non‑coding RNA ...\n99  A novel heterozygous mutation in the HMBS gene...\n\n[100 rows x 1 columns]\n"
    },
    {
     "output_type": "execute_result",
     "data": {
      "text/plain": "(100, 1)"
     },
     "metadata": {},
     "execution_count": 6
    }
   ],
   "source": [
    "#showing the dataframe and shape\n",
    "df = pd.DataFrame(list_titles)\n",
    "print(df)\n",
    "df.shape"
   ]
  },
  {
   "cell_type": "code",
   "execution_count": 9,
   "metadata": {},
   "outputs": [
    {
     "output_type": "stream",
     "name": "stdout",
     "text": "No empty fields detected.\n"
    }
   ],
   "source": [
    "#create one mass of text, replace special characters, and create all lowercase text\n",
    "text_glob = \"\"\n",
    "\n",
    "for x in list_titles:\n",
    "    text_glob += x\n",
    "\n",
    "if \"NaN\" in text_glob == True:\n",
    "    print(\"An empty field was found\")\n",
    "else:\n",
    "    print(\"No empty fields detected.\")\n",
    "\n",
    "text_glob = text_glob.replace(\".\", \" \")\n",
    "text_glob = text_glob.replace(\",\", \" \")\n",
    "text_glob = text_glob.replace(\":\", \" \")\n",
    "text_glob = text_glob.replace(\";\", \" \")\n",
    "text_glob = text_glob.replace(\"(\", \" \")\n",
    "text_glob = text_glob.replace(\")\", \" \")\n",
    "text_glob = text_glob.replace(\"?\", \" \")\n",
    "text_glob = text_glob.replace(\"&\", \" \")\n",
    "text_glob = text_glob.replace(\"'\", \" \")\n",
    "text_glob = text_glob.replace(\"<\", \" \")\n",
    "text_glob = text_glob.replace(\">\", \" \")\n",
    "text_glob = text_glob.replace(\"/i\", \" \")\n",
    "text_glob = text_glob.replace(\"[\", \" \")\n",
    "text_glob = text_glob.replace(\"]\", \" \")\n",
    "\n",
    "text_lower = text_glob.lower()\n",
    "\n",
    "#print(text_lower)"
   ]
  },
  {
   "cell_type": "code",
   "execution_count": 10,
   "metadata": {
    "tags": [
     "outputPrepend"
    ]
   },
   "outputs": [
    {
     "output_type": "stream",
     "name": "stdout",
     "text": "[('genomic', 11), ('cancer', 11), ('rna', 8), ('cell', 8), ('analysis', 7), ('gene', 6), ('human', 6), ('protein', 6), ('long', 5), ('delivery', 5), ('variant', 5), ('genetic', 5), ('genome', 5), ('using', 5), ('novel', 5)]\n<class 'list'>\n"
    }
   ],
   "source": [
    "#Tokenization and lemmatization steps <-- Text Preprocessing\n",
    "from nltk.tokenize import word_tokenize\n",
    "from nltk import FreqDist\n",
    "from nltk.corpus import stopwords\n",
    "from nltk.stem import WordNetLemmatizer\n",
    "\n",
    "#Create word tokens and count frequencies\n",
    "tokens = word_tokenize(text_lower)\n",
    "#print(tokens)\n",
    "\n",
    "#removing stopwords and showing most frequent non-stopword words\n",
    "stops = set(stopwords.words('english'))\n",
    "stopwords = [x for x in tokens if x not in stops]\n",
    "#print(stopwords)\n",
    "\n",
    "#lemmatize words\n",
    "lemmatizer = WordNetLemmatizer() \n",
    " \n",
    "lemmatized_output = ' '.join([lemmatizer.lemmatize(word) for word in stopwords])\n",
    "#print(lemmatized_output)\n",
    "\n",
    "new_text_glob = word_tokenize(lemmatized_output)\n",
    "#print(new_text_glob)\n",
    "\n",
    "#printing most frequently used words\n",
    "freq_words = FreqDist(new_text_glob)\n",
    "most_freq_words = freq_words.most_common(15)\n",
    "print(most_freq_words)\n",
    "print(type(most_freq_words))"
   ]
  },
  {
   "cell_type": "code",
   "execution_count": 12,
   "metadata": {},
   "outputs": [
    {
     "output_type": "stream",
     "name": "stdout",
     "text": "['analysis', 'cancer', 'cell', 'delivery', 'gene', 'genetic', 'genome', 'genomic', 'human', 'long', 'novel', 'protein', 'rna', 'using', 'variant']\n    analysis  cancer  cell  delivery  gene  genetic  genome  genomic  human  \\\n0          0       0     0         0     0        0       0        1      0   \n1          0       1     0         0     0        0       0        0      0   \n2          0       0     0         0     0        0       0        0      0   \n3          0       0     1         0     0        0       0        0      0   \n4          1       0     0         0     0        0       0        0      0   \n5          0       0     0         0     1        0       0        0      0   \n6          0       0     0         0     0        0       0        0      1   \n7          0       0     0         0     0        0       0        0      0   \n8          0       0     0         0     0        0       0        0      0   \n9          0       0     0         1     0        0       0        0      0   \n10         0       0     0         0     0        0       0        0      0   \n11         0       0     0         0     0        1       0        0      0   \n12         0       0     0         0     0        0       1        0      0   \n13         0       0     0         0     0        0       0        0      0   \n14         0       0     0         0     0        0       0        0      0   \n\n    long  novel  protein  rna  using  variant  \n0      0      0        0    0      0        0  \n1      0      0        0    0      0        0  \n2      0      0        0    1      0        0  \n3      0      0        0    0      0        0  \n4      0      0        0    0      0        0  \n5      0      0        0    0      0        0  \n6      0      0        0    0      0        0  \n7      0      0        1    0      0        0  \n8      1      0        0    0      0        0  \n9      0      0        0    0      0        0  \n10     0      0        0    0      0        1  \n11     0      0        0    0      0        0  \n12     0      0        0    0      0        0  \n13     0      0        0    0      1        0  \n14     0      1        0    0      0        0  \n"
    }
   ],
   "source": [
    "#training a model, bag-of-words\n",
    "\n",
    "from sklearn.feature_extraction.text import CountVectorizer\n",
    "\n",
    "freq = []\n",
    "\n",
    "for x, y in most_freq_words:\n",
    "    freq.append(x)\n",
    "\n",
    "vectorizer1 = CountVectorizer()\n",
    "vectors = vectorizer1.fit_transform(freq)\n",
    "\n",
    "print(vectorizer1.get_feature_names())\n",
    "#print(vectors.toarray())\n",
    "\n",
    "freq = pd.DataFrame(data = vectors.toarray(), columns = vectorizer1.get_feature_names())\n",
    "\n",
    "print(freq)\n"
   ]
  },
  {
   "cell_type": "code",
   "execution_count": 13,
   "metadata": {},
   "outputs": [
    {
     "output_type": "stream",
     "name": "stdout",
     "text": "Search successful.\n"
    }
   ],
   "source": [
    "#now user performs a search which downloads a dictionary of data including number of publications, accession IDs, and relevant MeSH term \n",
    "Entrez.email = \"eileen.cahill@nih.gov\"\n",
    "handle2 = Entrez.esearch(db=\"pubmed\", retmax=100, term=\"genomic data\", idtype=\"acc\")\n",
    "record2 = Entrez.read(handle2)\n",
    "handle2.close()\n",
    "\n",
    "if record2['Count'] == '0':\n",
    "    print(\"\\nYour search did not return any publications. Try another search.\\n\")\n",
    "    print(\"Error list says: \" + str(record['ErrorList']) + \"\\n\")\n",
    "    print(\"Warning list says: \" + str(record['WarningList']))\n",
    "else:\n",
    "    print(\"Search successful.\")"
   ]
  },
  {
   "cell_type": "code",
   "execution_count": 19,
   "metadata": {},
   "outputs": [
    {
     "output_type": "stream",
     "name": "stdout",
     "text": "['32380464', '32380242', '32380232', '32380203', '32380173', '32380006', '32379987', '32379866', '32379818', '32379805', '32379750', '32379494', '32379363', '32379360', '32379359', '32379347', '32379325', '32379315', '32379294', '32379020', '32378780', '32378719', '32378667', '32378381', '32377875', '32377739', '32377703', '32377572', '32377451', '32377449', '32377448', '32377365', '32377357', '32377353', '32377272', '32376980', '32376847', '32376789', '32376702', '32376654', '32376411', '32376136', '32376116', '32376044', '32375991', '32375986', '32375979', '32375946', '32375941', '32375935', '32375934', '32375933', '32375897', '32375827', '32375704', '32375690', '32375678', '32375645', '32375632', '32375599', '32375411', '32375395', '32375380', '32375339', '32375335', '32375210', '32375177', '32375154', '32375120', '32375029', '32374873', '32374870', '32374863', '32374823', '32374820', '32374793', '32374757', '32374727', '32374726', '32374631', '32374503', '32374423', '32374345', '32374294', '32374287', '32374252', '32374251', '32374079', '32374001', '32373753', '32373711', '32373647', '32373583', '32373535', '32373528', '32373524', '32373482', '32373288', '32373287', '32373220']\n"
    }
   ],
   "source": [
    "list2 = []\n",
    "listrecords2 = []\n",
    "\n",
    "for key, value in record2.items():\n",
    "    list2 = [key, value]\n",
    "    listrecords2.append(list2)\n",
    "\n",
    "#print(type(listrecords))\n",
    "#print(listrecords2)\n",
    "\n",
    "#creating iterable list of IDs\n",
    "id_list_acquire2 = listrecords2[3]\n",
    "#print(id_list_acquire)\n",
    "id_list2 = []\n",
    "\n",
    "for id in id_list_acquire2[1]:\n",
    "    id_list2.append(id)\n",
    "print(id_list2)\n"
   ]
  },
  {
   "cell_type": "code",
   "execution_count": 18,
   "metadata": {},
   "outputs": [
    {
     "output_type": "stream",
     "name": "stdout",
     "text": "0\n0   Durable Complete Response With Immune Checkpoi...\n1   Genomic analysis of one Multidrug-resistant Kl...\n2   miRDetect: A combinatorial approach for automa...\n3   Towards the quantum-enabled technologies for d...\n4   Recommendations for Clinical Warfarin Sensitiv...\n..                                                ...\n95  New Insights Into the Complex Mutational Lands...\n96  Optimization of Genotype by Sequencing data fo...\n97  Comparative effects of oncogenic mutations G12...\n98  MaREA4Galaxy: Metabolic reaction enrichment an...\n99  Integrative metagenomic and metabolomic analys...\n\n[100 rows x 1 columns]\n"
    },
    {
     "output_type": "execute_result",
     "data": {
      "text/plain": "(100, 1)"
     },
     "metadata": {},
     "execution_count": 18
    }
   ],
   "source": [
    "#search PubMed for title information using the PMIDs that resulted from the keyword search\n",
    "list_titles2 = []\n",
    "list_pmids2 = []\n",
    "\n",
    "for item in id_list2:\n",
    "    handle4 = Entrez.esummary(db=\"pubmed\", id=item, retmode=\"xml\")\n",
    "    records4 = Entrez.parse(handle4)\n",
    "\n",
    "    for record in records4:\n",
    "        #each record is a Python dictionary or list.\n",
    "        list_titles2.append(record['Title'])\n",
    "\n",
    "    handle4.close()\n",
    "\n",
    "df2 = pd.DataFrame(list_titles2)\n",
    "print(df2)\n",
    "df2.shape"
   ]
  },
  {
   "cell_type": "code",
   "execution_count": 16,
   "metadata": {},
   "outputs": [
    {
     "output_type": "stream",
     "name": "stdout",
     "text": "No empty fields detected.\n"
    }
   ],
   "source": [
    "#create one mass of text, replace special characters, and create all lowercase text\n",
    "text_glob = \"\"\n",
    "\n",
    "for x in list_titles2:\n",
    "    text_glob += x\n",
    "\n",
    "if \"NaN\" in text_glob == True:\n",
    "    print(\"An empty field was found\")\n",
    "else:\n",
    "    print(\"No empty fields detected.\")\n",
    "\n",
    "text_glob = text_glob.replace(\".\", \" \")\n",
    "text_glob = text_glob.replace(\",\", \" \")\n",
    "text_glob = text_glob.replace(\":\", \" \")\n",
    "text_glob = text_glob.replace(\";\", \" \")\n",
    "text_glob = text_glob.replace(\"(\", \" \")\n",
    "text_glob = text_glob.replace(\")\", \" \")\n",
    "text_glob = text_glob.replace(\"?\", \" \")\n",
    "text_glob = text_glob.replace(\"&\", \" \")\n",
    "text_glob = text_glob.replace(\"'\", \" \")\n",
    "text_glob = text_glob.replace(\"<\", \" \")\n",
    "text_glob = text_glob.replace(\">\", \" \")\n",
    "text_glob = text_glob.replace(\"/i\", \" \")\n",
    "\n",
    "text_lower2 = text_glob.lower()"
   ]
  },
  {
   "cell_type": "code",
   "execution_count": 117,
   "metadata": {},
   "outputs": [
    {
     "output_type": "stream",
     "name": "stdout",
     "text": "[('analysis', 16), ('cancer', 14), ('risk', 11), ('cell', 10), ('nov', 10), ('data', 9), ('disease', 9), ('patient', 9), ('study', 8), ('gene', 8), ('genomic', 7), ('novel', 7), ('sequencing', 7), ('model', 7), ('sp', 7)]\n<class 'list'>\n"
    }
   ],
   "source": [
    "#Tokenization and lemmatization steps <-- Text Preprocessing\n",
    "from nltk.tokenize import word_tokenize\n",
    "from nltk import FreqDist\n",
    "from nltk.corpus import stopwords\n",
    "from nltk.stem import WordNetLemmatizer\n",
    "\n",
    "#Create word tokens and count frequencies\n",
    "tokens = word_tokenize(text_lower2)\n",
    "#print(tokens)\n",
    "\n",
    "#removing stopwords and showing most frequent non-stopword words\n",
    "stops = set(stopwords.words('english'))\n",
    "stopwords = [x for x in tokens if x not in stops]\n",
    "#print(stopwords)\n",
    "\n",
    "#lemmatize words\n",
    "lemmatizer = WordNetLemmatizer() \n",
    " \n",
    "lemmatized_output = ' '.join([lemmatizer.lemmatize(word) for word in stopwords])\n",
    "#print(lemmatized_output)\n",
    "\n",
    "new_text_glob = word_tokenize(lemmatized_output)\n",
    "#print(new_text_glob)\n",
    "\n",
    "#printing most frequently used words\n",
    "freq_words = FreqDist(new_text_glob)\n",
    "most_freq_words2 = freq_words.most_common(15)\n",
    "print(most_freq_words2)\n",
    "print(type(most_freq_words2))"
   ]
  },
  {
   "cell_type": "code",
   "execution_count": 118,
   "metadata": {},
   "outputs": [
    {
     "output_type": "stream",
     "name": "stdout",
     "text": "['analysis', 'cancer', 'cell', 'data', 'disease', 'gene', 'genomic', 'model', 'nov', 'novel', 'patient', 'risk', 'sequencing', 'sp', 'study']\n    analysis  cancer  cell  data  disease  gene  genomic  model  nov  novel  \\\n0          1       0     0     0        0     0        0      0    0      0   \n1          0       1     0     0        0     0        0      0    0      0   \n2          0       0     0     0        0     0        0      0    0      0   \n3          0       0     1     0        0     0        0      0    0      0   \n4          0       0     0     0        0     0        0      0    1      0   \n5          0       0     0     1        0     0        0      0    0      0   \n6          0       0     0     0        1     0        0      0    0      0   \n7          0       0     0     0        0     0        0      0    0      0   \n8          0       0     0     0        0     0        0      0    0      0   \n9          0       0     0     0        0     1        0      0    0      0   \n10         0       0     0     0        0     0        1      0    0      0   \n11         0       0     0     0        0     0        0      0    0      1   \n12         0       0     0     0        0     0        0      0    0      0   \n13         0       0     0     0        0     0        0      1    0      0   \n14         0       0     0     0        0     0        0      0    0      0   \n\n    patient  risk  sequencing  sp  study  \n0         0     0           0   0      0  \n1         0     0           0   0      0  \n2         0     1           0   0      0  \n3         0     0           0   0      0  \n4         0     0           0   0      0  \n5         0     0           0   0      0  \n6         0     0           0   0      0  \n7         1     0           0   0      0  \n8         0     0           0   0      1  \n9         0     0           0   0      0  \n10        0     0           0   0      0  \n11        0     0           0   0      0  \n12        0     0           1   0      0  \n13        0     0           0   0      0  \n14        0     0           0   1      0  \n"
    }
   ],
   "source": [
    "#training a model, bag-of-words\n",
    "\n",
    "from sklearn.feature_extraction.text import CountVectorizer\n",
    "\n",
    "freq2 = []\n",
    "\n",
    "for x, y in most_freq_words2:\n",
    "    freq2.append(x)\n",
    "\n",
    "vectorizer2 = CountVectorizer()\n",
    "vectors = vectorizer2.fit_transform(freq2)\n",
    "\n",
    "print(vectorizer2.get_feature_names())\n",
    "#print(vectors.toarray())\n",
    "\n",
    "freq2 = pd.DataFrame(data = vectors.toarray(), columns = vectorizer2.get_feature_names())\n",
    "\n",
    "print(freq2)"
   ]
  },
  {
   "cell_type": "code",
   "execution_count": 119,
   "metadata": {},
   "outputs": [
    {
     "output_type": "stream",
     "name": "stdout",
     "text": "[[0. 0. 0. 0. 0. 0. 0. 0. 0. 0. 0. 0. 0. 1. 0.]\n [0. 1. 0. 0. 0. 0. 0. 0. 0. 0. 0. 0. 0. 0. 0.]\n [0. 0. 0. 0. 0. 0. 0. 0. 0. 0. 0. 0. 1. 0. 0.]\n [0. 0. 0. 1. 0. 0. 0. 0. 0. 0. 0. 0. 0. 0. 0.]\n [1. 0. 0. 0. 0. 0. 0. 0. 0. 0. 0. 0. 0. 0. 0.]\n [0. 0. 0. 0. 0. 0. 1. 0. 0. 0. 0. 0. 0. 0. 0.]\n [0. 0. 0. 0. 1. 0. 0. 0. 0. 0. 0. 0. 0. 0. 0.]\n [0. 0. 1. 0. 0. 0. 0. 0. 0. 0. 0. 0. 0. 0. 0.]\n [0. 0. 0. 0. 0. 0. 0. 0. 0. 0. 0. 1. 0. 0. 0.]\n [0. 0. 0. 0. 0. 1. 0. 0. 0. 0. 0. 0. 0. 0. 0.]\n [0. 0. 0. 0. 0. 0. 0. 0. 1. 0. 0. 0. 0. 0. 0.]\n [0. 0. 0. 0. 0. 0. 0. 0. 0. 1. 0. 0. 0. 0. 0.]\n [0. 0. 0. 0. 0. 0. 0. 0. 0. 0. 1. 0. 0. 0. 0.]\n [0. 0. 0. 0. 0. 0. 0. 0. 0. 0. 0. 0. 0. 0. 1.]\n [0. 0. 0. 0. 0. 0. 0. 1. 0. 0. 0. 0. 0. 0. 0.]]\n"
    }
   ],
   "source": [
    "from sklearn.metrics.pairwise import cosine_similarity\n",
    "\n",
    "print(cosine_similarity(freq, freq2))\n",
    "print(vectorizer1.get_feature_names())\n",
    "print(vectorizer2.get_feature_names())\n"
   ]
  },
  {
   "cell_type": "code",
   "execution_count": 120,
   "metadata": {
    "tags": [
     "outputPrepend"
    ]
   },
   "outputs": [
    {
     "output_type": "stream",
     "name": "stderr",
     "text": "[nltk_data] Downloading package averaged_perceptron_tagger to\n[nltk_data]     /Users/eileencahill/nltk_data...\n[nltk_data]   Package averaged_perceptron_tagger is already up-to-\n[nltk_data]       date!\n[nltk_data] Downloading package maxent_ne_chunker to\n[nltk_data]     /Users/eileencahill/nltk_data...\n[nltk_data]   Package maxent_ne_chunker is already up-to-date!\n[nltk_data] Downloading package words to\n[nltk_data]     /Users/eileencahill/nltk_data...\n[nltk_data]   Package words is already up-to-date!\n[('NN', 579), ('JJ', 296), ('NNS', 37), ('VBG', 31), ('VBD', 26), ('VBP', 20), ('RB', 16), ('VBN', 16), ('CD', 11), ('IN', 11), ('VBZ', 6), ('FW', 5), ('JJS', 3), ('VB', 3), ('NNP', 2), ('JJR', 1), ('RBS', 1), ('RBR', 1)]\n"
    },
    {
     "output_type": "display_data",
     "data": {
      "text/plain": "<Figure size 432x288 with 1 Axes>",
      "image/svg+xml": "<?xml version=\"1.0\" encoding=\"utf-8\" standalone=\"no\"?>\n<!DOCTYPE svg PUBLIC \"-//W3C//DTD SVG 1.1//EN\"\n  \"http://www.w3.org/Graphics/SVG/1.1/DTD/svg11.dtd\">\n<!-- Created with matplotlib (https://matplotlib.org/) -->\n<svg height=\"275.064026pt\" version=\"1.1\" viewBox=\"0 0 388.965625 275.064026\" width=\"388.965625pt\" xmlns=\"http://www.w3.org/2000/svg\" xmlns:xlink=\"http://www.w3.org/1999/xlink\">\n <defs>\n  <style type=\"text/css\">\n*{stroke-linecap:butt;stroke-linejoin:round;}\n  </style>\n </defs>\n <g id=\"figure_1\">\n  <g id=\"patch_1\">\n   <path d=\"M 0 275.064026 \nL 388.965625 275.064026 \nL 388.965625 0 \nL 0 0 \nz\n\" style=\"fill:none;\"/>\n  </g>\n  <g id=\"axes_1\">\n   <g id=\"patch_2\">\n    <path d=\"M 46.965625 225.737463 \nL 381.765625 225.737463 \nL 381.765625 8.297463 \nL 46.965625 8.297463 \nz\n\" style=\"fill:#ffffff;\"/>\n   </g>\n   <g id=\"matplotlib.axis_1\">\n    <g id=\"xtick_1\">\n     <g id=\"line2d_1\">\n      <path clip-path=\"url(#p45f8d903e1)\" d=\"M 62.183807 225.737463 \nL 62.183807 8.297463 \n\" style=\"fill:none;stroke:#c0c0c0;stroke-linecap:square;stroke-width:0.8;\"/>\n     </g>\n     <g id=\"line2d_2\">\n      <defs>\n       <path d=\"M 0 0 \nL 0 3.5 \n\" id=\"md5c38e49d3\" style=\"stroke:#000000;stroke-width:0.8;\"/>\n      </defs>\n      <g>\n       <use style=\"stroke:#000000;stroke-width:0.8;\" x=\"62.183807\" xlink:href=\"#md5c38e49d3\" y=\"225.737463\"/>\n      </g>\n     </g>\n     <g id=\"text_1\">\n      <!-- NN -->\n      <defs>\n       <path d=\"M 9.8125 72.90625 \nL 23.09375 72.90625 \nL 55.421875 11.921875 \nL 55.421875 72.90625 \nL 64.984375 72.90625 \nL 64.984375 0 \nL 51.703125 0 \nL 19.390625 60.984375 \nL 19.390625 0 \nL 9.8125 0 \nz\n\" id=\"DejaVuSans-78\"/>\n      </defs>\n      <g transform=\"translate(64.943182 247.699963)rotate(-90)scale(0.1 -0.1)\">\n       <use xlink:href=\"#DejaVuSans-78\"/>\n       <use x=\"74.804688\" xlink:href=\"#DejaVuSans-78\"/>\n      </g>\n     </g>\n    </g>\n    <g id=\"xtick_2\">\n     <g id=\"line2d_3\">\n      <path clip-path=\"url(#p45f8d903e1)\" d=\"M 80.08755 225.737463 \nL 80.08755 8.297463 \n\" style=\"fill:none;stroke:#c0c0c0;stroke-linecap:square;stroke-width:0.8;\"/>\n     </g>\n     <g id=\"line2d_4\">\n      <g>\n       <use style=\"stroke:#000000;stroke-width:0.8;\" x=\"80.08755\" xlink:href=\"#md5c38e49d3\" y=\"225.737463\"/>\n      </g>\n     </g>\n     <g id=\"text_2\">\n      <!-- JJ -->\n      <defs>\n       <path d=\"M 9.8125 72.90625 \nL 19.671875 72.90625 \nL 19.671875 5.078125 \nQ 19.671875 -8.109375 14.671875 -14.0625 \nQ 9.671875 -20.015625 -1.421875 -20.015625 \nL -5.171875 -20.015625 \nL -5.171875 -11.71875 \nL -2.09375 -11.71875 \nQ 4.4375 -11.71875 7.125 -8.046875 \nQ 9.8125 -4.390625 9.8125 5.078125 \nz\n\" id=\"DejaVuSans-74\"/>\n      </defs>\n      <g transform=\"translate(82.846925 238.637463)rotate(-90)scale(0.1 -0.1)\">\n       <use xlink:href=\"#DejaVuSans-74\"/>\n       <use x=\"29.492188\" xlink:href=\"#DejaVuSans-74\"/>\n      </g>\n     </g>\n    </g>\n    <g id=\"xtick_3\">\n     <g id=\"line2d_5\">\n      <path clip-path=\"url(#p45f8d903e1)\" d=\"M 97.991293 225.737463 \nL 97.991293 8.297463 \n\" style=\"fill:none;stroke:#c0c0c0;stroke-linecap:square;stroke-width:0.8;\"/>\n     </g>\n     <g id=\"line2d_6\">\n      <g>\n       <use style=\"stroke:#000000;stroke-width:0.8;\" x=\"97.991293\" xlink:href=\"#md5c38e49d3\" y=\"225.737463\"/>\n      </g>\n     </g>\n     <g id=\"text_3\">\n      <!-- NNS -->\n      <defs>\n       <path d=\"M 53.515625 70.515625 \nL 53.515625 60.890625 \nQ 47.90625 63.578125 42.921875 64.890625 \nQ 37.9375 66.21875 33.296875 66.21875 \nQ 25.25 66.21875 20.875 63.09375 \nQ 16.5 59.96875 16.5 54.203125 \nQ 16.5 49.359375 19.40625 46.890625 \nQ 22.3125 44.4375 30.421875 42.921875 \nL 36.375 41.703125 \nQ 47.40625 39.59375 52.65625 34.296875 \nQ 57.90625 29 57.90625 20.125 \nQ 57.90625 9.515625 50.796875 4.046875 \nQ 43.703125 -1.421875 29.984375 -1.421875 \nQ 24.8125 -1.421875 18.96875 -0.25 \nQ 13.140625 0.921875 6.890625 3.21875 \nL 6.890625 13.375 \nQ 12.890625 10.015625 18.65625 8.296875 \nQ 24.421875 6.59375 29.984375 6.59375 \nQ 38.421875 6.59375 43.015625 9.90625 \nQ 47.609375 13.234375 47.609375 19.390625 \nQ 47.609375 24.75 44.3125 27.78125 \nQ 41.015625 30.8125 33.5 32.328125 \nL 27.484375 33.5 \nQ 16.453125 35.6875 11.515625 40.375 \nQ 6.59375 45.0625 6.59375 53.421875 \nQ 6.59375 63.09375 13.40625 68.65625 \nQ 20.21875 74.21875 32.171875 74.21875 \nQ 37.3125 74.21875 42.625 73.28125 \nQ 47.953125 72.359375 53.515625 70.515625 \nz\n\" id=\"DejaVuSans-83\"/>\n      </defs>\n      <g transform=\"translate(100.750668 254.048401)rotate(-90)scale(0.1 -0.1)\">\n       <use xlink:href=\"#DejaVuSans-78\"/>\n       <use x=\"74.804688\" xlink:href=\"#DejaVuSans-78\"/>\n       <use x=\"149.609375\" xlink:href=\"#DejaVuSans-83\"/>\n      </g>\n     </g>\n    </g>\n    <g id=\"xtick_4\">\n     <g id=\"line2d_7\">\n      <path clip-path=\"url(#p45f8d903e1)\" d=\"M 115.895037 225.737463 \nL 115.895037 8.297463 \n\" style=\"fill:none;stroke:#c0c0c0;stroke-linecap:square;stroke-width:0.8;\"/>\n     </g>\n     <g id=\"line2d_8\">\n      <g>\n       <use style=\"stroke:#000000;stroke-width:0.8;\" x=\"115.895037\" xlink:href=\"#md5c38e49d3\" y=\"225.737463\"/>\n      </g>\n     </g>\n     <g id=\"text_4\">\n      <!-- VBG -->\n      <defs>\n       <path d=\"M 28.609375 0 \nL 0.78125 72.90625 \nL 11.078125 72.90625 \nL 34.1875 11.53125 \nL 57.328125 72.90625 \nL 67.578125 72.90625 \nL 39.796875 0 \nz\n\" id=\"DejaVuSans-86\"/>\n       <path d=\"M 19.671875 34.8125 \nL 19.671875 8.109375 \nL 35.5 8.109375 \nQ 43.453125 8.109375 47.28125 11.40625 \nQ 51.125 14.703125 51.125 21.484375 \nQ 51.125 28.328125 47.28125 31.5625 \nQ 43.453125 34.8125 35.5 34.8125 \nz\nM 19.671875 64.796875 \nL 19.671875 42.828125 \nL 34.28125 42.828125 \nQ 41.5 42.828125 45.03125 45.53125 \nQ 48.578125 48.25 48.578125 53.8125 \nQ 48.578125 59.328125 45.03125 62.0625 \nQ 41.5 64.796875 34.28125 64.796875 \nz\nM 9.8125 72.90625 \nL 35.015625 72.90625 \nQ 46.296875 72.90625 52.390625 68.21875 \nQ 58.5 63.53125 58.5 54.890625 \nQ 58.5 48.1875 55.375 44.234375 \nQ 52.25 40.28125 46.1875 39.3125 \nQ 53.46875 37.75 57.5 32.78125 \nQ 61.53125 27.828125 61.53125 20.40625 \nQ 61.53125 10.640625 54.890625 5.3125 \nQ 48.25 0 35.984375 0 \nL 9.8125 0 \nz\n\" id=\"DejaVuSans-66\"/>\n       <path d=\"M 59.515625 10.40625 \nL 59.515625 29.984375 \nL 43.40625 29.984375 \nL 43.40625 38.09375 \nL 69.28125 38.09375 \nL 69.28125 6.78125 \nQ 63.578125 2.734375 56.6875 0.65625 \nQ 49.8125 -1.421875 42 -1.421875 \nQ 24.90625 -1.421875 15.25 8.5625 \nQ 5.609375 18.5625 5.609375 36.375 \nQ 5.609375 54.25 15.25 64.234375 \nQ 24.90625 74.21875 42 74.21875 \nQ 49.125 74.21875 55.546875 72.453125 \nQ 61.96875 70.703125 67.390625 67.28125 \nL 67.390625 56.78125 \nQ 61.921875 61.421875 55.765625 63.765625 \nQ 49.609375 66.109375 42.828125 66.109375 \nQ 29.4375 66.109375 22.71875 58.640625 \nQ 16.015625 51.171875 16.015625 36.375 \nQ 16.015625 21.625 22.71875 14.15625 \nQ 29.4375 6.6875 42.828125 6.6875 \nQ 48.046875 6.6875 52.140625 7.59375 \nQ 56.25 8.5 59.515625 10.40625 \nz\n\" id=\"DejaVuSans-71\"/>\n      </defs>\n      <g transform=\"translate(118.654412 254.185901)rotate(-90)scale(0.1 -0.1)\">\n       <use xlink:href=\"#DejaVuSans-86\"/>\n       <use x=\"68.408203\" xlink:href=\"#DejaVuSans-66\"/>\n       <use x=\"136.996094\" xlink:href=\"#DejaVuSans-71\"/>\n      </g>\n     </g>\n    </g>\n    <g id=\"xtick_5\">\n     <g id=\"line2d_9\">\n      <path clip-path=\"url(#p45f8d903e1)\" d=\"M 133.79878 225.737463 \nL 133.79878 8.297463 \n\" style=\"fill:none;stroke:#c0c0c0;stroke-linecap:square;stroke-width:0.8;\"/>\n     </g>\n     <g id=\"line2d_10\">\n      <g>\n       <use style=\"stroke:#000000;stroke-width:0.8;\" x=\"133.79878\" xlink:href=\"#md5c38e49d3\" y=\"225.737463\"/>\n      </g>\n     </g>\n     <g id=\"text_5\">\n      <!-- VBD -->\n      <defs>\n       <path d=\"M 19.671875 64.796875 \nL 19.671875 8.109375 \nL 31.59375 8.109375 \nQ 46.6875 8.109375 53.6875 14.9375 \nQ 60.6875 21.78125 60.6875 36.53125 \nQ 60.6875 51.171875 53.6875 57.984375 \nQ 46.6875 64.796875 31.59375 64.796875 \nz\nM 9.8125 72.90625 \nL 30.078125 72.90625 \nQ 51.265625 72.90625 61.171875 64.09375 \nQ 71.09375 55.28125 71.09375 36.53125 \nQ 71.09375 17.671875 61.125 8.828125 \nQ 51.171875 0 30.078125 0 \nL 9.8125 0 \nz\n\" id=\"DejaVuSans-68\"/>\n      </defs>\n      <g transform=\"translate(136.558155 254.139026)rotate(-90)scale(0.1 -0.1)\">\n       <use xlink:href=\"#DejaVuSans-86\"/>\n       <use x=\"68.408203\" xlink:href=\"#DejaVuSans-66\"/>\n       <use x=\"137.011719\" xlink:href=\"#DejaVuSans-68\"/>\n      </g>\n     </g>\n    </g>\n    <g id=\"xtick_6\">\n     <g id=\"line2d_11\">\n      <path clip-path=\"url(#p45f8d903e1)\" d=\"M 151.702523 225.737463 \nL 151.702523 8.297463 \n\" style=\"fill:none;stroke:#c0c0c0;stroke-linecap:square;stroke-width:0.8;\"/>\n     </g>\n     <g id=\"line2d_12\">\n      <g>\n       <use style=\"stroke:#000000;stroke-width:0.8;\" x=\"151.702523\" xlink:href=\"#md5c38e49d3\" y=\"225.737463\"/>\n      </g>\n     </g>\n     <g id=\"text_6\">\n      <!-- VBP -->\n      <defs>\n       <path d=\"M 19.671875 64.796875 \nL 19.671875 37.40625 \nL 32.078125 37.40625 \nQ 38.96875 37.40625 42.71875 40.96875 \nQ 46.484375 44.53125 46.484375 51.125 \nQ 46.484375 57.671875 42.71875 61.234375 \nQ 38.96875 64.796875 32.078125 64.796875 \nz\nM 9.8125 72.90625 \nL 32.078125 72.90625 \nQ 44.34375 72.90625 50.609375 67.359375 \nQ 56.890625 61.8125 56.890625 51.125 \nQ 56.890625 40.328125 50.609375 34.8125 \nQ 44.34375 29.296875 32.078125 29.296875 \nL 19.671875 29.296875 \nL 19.671875 0 \nL 9.8125 0 \nz\n\" id=\"DejaVuSans-80\"/>\n      </defs>\n      <g transform=\"translate(154.461898 252.468713)rotate(-90)scale(0.1 -0.1)\">\n       <use xlink:href=\"#DejaVuSans-86\"/>\n       <use x=\"68.408203\" xlink:href=\"#DejaVuSans-66\"/>\n       <use x=\"137.011719\" xlink:href=\"#DejaVuSans-80\"/>\n      </g>\n     </g>\n    </g>\n    <g id=\"xtick_7\">\n     <g id=\"line2d_13\">\n      <path clip-path=\"url(#p45f8d903e1)\" d=\"M 169.606267 225.737463 \nL 169.606267 8.297463 \n\" style=\"fill:none;stroke:#c0c0c0;stroke-linecap:square;stroke-width:0.8;\"/>\n     </g>\n     <g id=\"line2d_14\">\n      <g>\n       <use style=\"stroke:#000000;stroke-width:0.8;\" x=\"169.606267\" xlink:href=\"#md5c38e49d3\" y=\"225.737463\"/>\n      </g>\n     </g>\n     <g id=\"text_7\">\n      <!-- RB -->\n      <defs>\n       <path d=\"M 44.390625 34.1875 \nQ 47.5625 33.109375 50.5625 29.59375 \nQ 53.5625 26.078125 56.59375 19.921875 \nL 66.609375 0 \nL 56 0 \nL 46.6875 18.703125 \nQ 43.0625 26.03125 39.671875 28.421875 \nQ 36.28125 30.8125 30.421875 30.8125 \nL 19.671875 30.8125 \nL 19.671875 0 \nL 9.8125 0 \nL 9.8125 72.90625 \nL 32.078125 72.90625 \nQ 44.578125 72.90625 50.734375 67.671875 \nQ 56.890625 62.453125 56.890625 51.90625 \nQ 56.890625 45.015625 53.6875 40.46875 \nQ 50.484375 35.9375 44.390625 34.1875 \nz\nM 19.671875 64.796875 \nL 19.671875 38.921875 \nL 32.078125 38.921875 \nQ 39.203125 38.921875 42.84375 42.21875 \nQ 46.484375 45.515625 46.484375 51.90625 \nQ 46.484375 58.296875 42.84375 61.546875 \nQ 39.203125 64.796875 32.078125 64.796875 \nz\n\" id=\"DejaVuSans-82\"/>\n      </defs>\n      <g transform=\"translate(172.365642 246.546838)rotate(-90)scale(0.1 -0.1)\">\n       <use xlink:href=\"#DejaVuSans-82\"/>\n       <use x=\"69.482422\" xlink:href=\"#DejaVuSans-66\"/>\n      </g>\n     </g>\n    </g>\n    <g id=\"xtick_8\">\n     <g id=\"line2d_15\">\n      <path clip-path=\"url(#p45f8d903e1)\" d=\"M 187.51001 225.737463 \nL 187.51001 8.297463 \n\" style=\"fill:none;stroke:#c0c0c0;stroke-linecap:square;stroke-width:0.8;\"/>\n     </g>\n     <g id=\"line2d_16\">\n      <g>\n       <use style=\"stroke:#000000;stroke-width:0.8;\" x=\"187.51001\" xlink:href=\"#md5c38e49d3\" y=\"225.737463\"/>\n      </g>\n     </g>\n     <g id=\"text_8\">\n      <!-- VBN -->\n      <g transform=\"translate(190.269385 253.920276)rotate(-90)scale(0.1 -0.1)\">\n       <use xlink:href=\"#DejaVuSans-86\"/>\n       <use x=\"68.408203\" xlink:href=\"#DejaVuSans-66\"/>\n       <use x=\"137.011719\" xlink:href=\"#DejaVuSans-78\"/>\n      </g>\n     </g>\n    </g>\n    <g id=\"xtick_9\">\n     <g id=\"line2d_17\">\n      <path clip-path=\"url(#p45f8d903e1)\" d=\"M 205.413753 225.737463 \nL 205.413753 8.297463 \n\" style=\"fill:none;stroke:#c0c0c0;stroke-linecap:square;stroke-width:0.8;\"/>\n     </g>\n     <g id=\"line2d_18\">\n      <g>\n       <use style=\"stroke:#000000;stroke-width:0.8;\" x=\"205.413753\" xlink:href=\"#md5c38e49d3\" y=\"225.737463\"/>\n      </g>\n     </g>\n     <g id=\"text_9\">\n      <!-- CD -->\n      <defs>\n       <path d=\"M 64.40625 67.28125 \nL 64.40625 56.890625 \nQ 59.421875 61.53125 53.78125 63.8125 \nQ 48.140625 66.109375 41.796875 66.109375 \nQ 29.296875 66.109375 22.65625 58.46875 \nQ 16.015625 50.828125 16.015625 36.375 \nQ 16.015625 21.96875 22.65625 14.328125 \nQ 29.296875 6.6875 41.796875 6.6875 \nQ 48.140625 6.6875 53.78125 8.984375 \nQ 59.421875 11.28125 64.40625 15.921875 \nL 64.40625 5.609375 \nQ 59.234375 2.09375 53.4375 0.328125 \nQ 47.65625 -1.421875 41.21875 -1.421875 \nQ 24.65625 -1.421875 15.125 8.703125 \nQ 5.609375 18.84375 5.609375 36.375 \nQ 5.609375 53.953125 15.125 64.078125 \nQ 24.65625 74.21875 41.21875 74.21875 \nQ 47.75 74.21875 53.53125 72.484375 \nQ 59.328125 70.75 64.40625 67.28125 \nz\n\" id=\"DejaVuSans-67\"/>\n      </defs>\n      <g transform=\"translate(208.173128 247.420276)rotate(-90)scale(0.1 -0.1)\">\n       <use xlink:href=\"#DejaVuSans-67\"/>\n       <use x=\"69.824219\" xlink:href=\"#DejaVuSans-68\"/>\n      </g>\n     </g>\n    </g>\n    <g id=\"xtick_10\">\n     <g id=\"line2d_19\">\n      <path clip-path=\"url(#p45f8d903e1)\" d=\"M 223.317497 225.737463 \nL 223.317497 8.297463 \n\" style=\"fill:none;stroke:#c0c0c0;stroke-linecap:square;stroke-width:0.8;\"/>\n     </g>\n     <g id=\"line2d_20\">\n      <g>\n       <use style=\"stroke:#000000;stroke-width:0.8;\" x=\"223.317497\" xlink:href=\"#md5c38e49d3\" y=\"225.737463\"/>\n      </g>\n     </g>\n     <g id=\"text_10\">\n      <!-- IN -->\n      <defs>\n       <path d=\"M 9.8125 72.90625 \nL 19.671875 72.90625 \nL 19.671875 0 \nL 9.8125 0 \nz\n\" id=\"DejaVuSans-73\"/>\n      </defs>\n      <g transform=\"translate(226.076872 243.168713)rotate(-90)scale(0.1 -0.1)\">\n       <use xlink:href=\"#DejaVuSans-73\"/>\n       <use x=\"29.492188\" xlink:href=\"#DejaVuSans-78\"/>\n      </g>\n     </g>\n    </g>\n    <g id=\"xtick_11\">\n     <g id=\"line2d_21\">\n      <path clip-path=\"url(#p45f8d903e1)\" d=\"M 241.22124 225.737463 \nL 241.22124 8.297463 \n\" style=\"fill:none;stroke:#c0c0c0;stroke-linecap:square;stroke-width:0.8;\"/>\n     </g>\n     <g id=\"line2d_22\">\n      <g>\n       <use style=\"stroke:#000000;stroke-width:0.8;\" x=\"241.22124\" xlink:href=\"#md5c38e49d3\" y=\"225.737463\"/>\n      </g>\n     </g>\n     <g id=\"text_11\">\n      <!-- VBZ -->\n      <defs>\n       <path d=\"M 5.609375 72.90625 \nL 62.890625 72.90625 \nL 62.890625 65.375 \nL 16.796875 8.296875 \nL 64.015625 8.296875 \nL 64.015625 0 \nL 4.5 0 \nL 4.5 7.515625 \nL 50.59375 64.59375 \nL 5.609375 64.59375 \nz\n\" id=\"DejaVuSans-90\"/>\n      </defs>\n      <g transform=\"translate(243.980615 253.289026)rotate(-90)scale(0.1 -0.1)\">\n       <use xlink:href=\"#DejaVuSans-86\"/>\n       <use x=\"68.408203\" xlink:href=\"#DejaVuSans-66\"/>\n       <use x=\"137.011719\" xlink:href=\"#DejaVuSans-90\"/>\n      </g>\n     </g>\n    </g>\n    <g id=\"xtick_12\">\n     <g id=\"line2d_23\">\n      <path clip-path=\"url(#p45f8d903e1)\" d=\"M 259.124983 225.737463 \nL 259.124983 8.297463 \n\" style=\"fill:none;stroke:#c0c0c0;stroke-linecap:square;stroke-width:0.8;\"/>\n     </g>\n     <g id=\"line2d_24\">\n      <g>\n       <use style=\"stroke:#000000;stroke-width:0.8;\" x=\"259.124983\" xlink:href=\"#md5c38e49d3\" y=\"225.737463\"/>\n      </g>\n     </g>\n     <g id=\"text_12\">\n      <!-- FW -->\n      <defs>\n       <path d=\"M 9.8125 72.90625 \nL 51.703125 72.90625 \nL 51.703125 64.59375 \nL 19.671875 64.59375 \nL 19.671875 43.109375 \nL 48.578125 43.109375 \nL 48.578125 34.8125 \nL 19.671875 34.8125 \nL 19.671875 0 \nL 9.8125 0 \nz\n\" id=\"DejaVuSans-70\"/>\n       <path d=\"M 3.328125 72.90625 \nL 13.28125 72.90625 \nL 28.609375 11.28125 \nL 43.890625 72.90625 \nL 54.984375 72.90625 \nL 70.3125 11.28125 \nL 85.59375 72.90625 \nL 95.609375 72.90625 \nL 77.296875 0 \nL 64.890625 0 \nL 49.515625 63.28125 \nL 33.984375 0 \nL 21.578125 0 \nz\n\" id=\"DejaVuSans-87\"/>\n      </defs>\n      <g transform=\"translate(261.884358 248.376526)rotate(-90)scale(0.1 -0.1)\">\n       <use xlink:href=\"#DejaVuSans-70\"/>\n       <use x=\"57.519531\" xlink:href=\"#DejaVuSans-87\"/>\n      </g>\n     </g>\n    </g>\n    <g id=\"xtick_13\">\n     <g id=\"line2d_25\">\n      <path clip-path=\"url(#p45f8d903e1)\" d=\"M 277.028727 225.737463 \nL 277.028727 8.297463 \n\" style=\"fill:none;stroke:#c0c0c0;stroke-linecap:square;stroke-width:0.8;\"/>\n     </g>\n     <g id=\"line2d_26\">\n      <g>\n       <use style=\"stroke:#000000;stroke-width:0.8;\" x=\"277.028727\" xlink:href=\"#md5c38e49d3\" y=\"225.737463\"/>\n      </g>\n     </g>\n     <g id=\"text_13\">\n      <!-- JJS -->\n      <g transform=\"translate(279.788102 244.985901)rotate(-90)scale(0.1 -0.1)\">\n       <use xlink:href=\"#DejaVuSans-74\"/>\n       <use x=\"29.492188\" xlink:href=\"#DejaVuSans-74\"/>\n       <use x=\"58.984375\" xlink:href=\"#DejaVuSans-83\"/>\n      </g>\n     </g>\n    </g>\n    <g id=\"xtick_14\">\n     <g id=\"line2d_27\">\n      <path clip-path=\"url(#p45f8d903e1)\" d=\"M 294.93247 225.737463 \nL 294.93247 8.297463 \n\" style=\"fill:none;stroke:#c0c0c0;stroke-linecap:square;stroke-width:0.8;\"/>\n     </g>\n     <g id=\"line2d_28\">\n      <g>\n       <use style=\"stroke:#000000;stroke-width:0.8;\" x=\"294.93247\" xlink:href=\"#md5c38e49d3\" y=\"225.737463\"/>\n      </g>\n     </g>\n     <g id=\"text_14\">\n      <!-- VB -->\n      <g transform=\"translate(297.691845 246.439026)rotate(-90)scale(0.1 -0.1)\">\n       <use xlink:href=\"#DejaVuSans-86\"/>\n       <use x=\"68.408203\" xlink:href=\"#DejaVuSans-66\"/>\n      </g>\n     </g>\n    </g>\n    <g id=\"xtick_15\">\n     <g id=\"line2d_29\">\n      <path clip-path=\"url(#p45f8d903e1)\" d=\"M 312.836213 225.737463 \nL 312.836213 8.297463 \n\" style=\"fill:none;stroke:#c0c0c0;stroke-linecap:square;stroke-width:0.8;\"/>\n     </g>\n     <g id=\"line2d_30\">\n      <g>\n       <use style=\"stroke:#000000;stroke-width:0.8;\" x=\"312.836213\" xlink:href=\"#md5c38e49d3\" y=\"225.737463\"/>\n      </g>\n     </g>\n     <g id=\"text_15\">\n      <!-- NNP -->\n      <g transform=\"translate(315.595588 253.729651)rotate(-90)scale(0.1 -0.1)\">\n       <use xlink:href=\"#DejaVuSans-78\"/>\n       <use x=\"74.804688\" xlink:href=\"#DejaVuSans-78\"/>\n       <use x=\"149.609375\" xlink:href=\"#DejaVuSans-80\"/>\n      </g>\n     </g>\n    </g>\n    <g id=\"xtick_16\">\n     <g id=\"line2d_31\">\n      <path clip-path=\"url(#p45f8d903e1)\" d=\"M 330.739957 225.737463 \nL 330.739957 8.297463 \n\" style=\"fill:none;stroke:#c0c0c0;stroke-linecap:square;stroke-width:0.8;\"/>\n     </g>\n     <g id=\"line2d_32\">\n      <g>\n       <use style=\"stroke:#000000;stroke-width:0.8;\" x=\"330.739957\" xlink:href=\"#md5c38e49d3\" y=\"225.737463\"/>\n      </g>\n     </g>\n     <g id=\"text_16\">\n      <!-- JJR -->\n      <g transform=\"translate(333.499332 245.585901)rotate(-90)scale(0.1 -0.1)\">\n       <use xlink:href=\"#DejaVuSans-74\"/>\n       <use x=\"29.492188\" xlink:href=\"#DejaVuSans-74\"/>\n       <use x=\"58.984375\" xlink:href=\"#DejaVuSans-82\"/>\n      </g>\n     </g>\n    </g>\n    <g id=\"xtick_17\">\n     <g id=\"line2d_33\">\n      <path clip-path=\"url(#p45f8d903e1)\" d=\"M 348.6437 225.737463 \nL 348.6437 8.297463 \n\" style=\"fill:none;stroke:#c0c0c0;stroke-linecap:square;stroke-width:0.8;\"/>\n     </g>\n     <g id=\"line2d_34\">\n      <g>\n       <use style=\"stroke:#000000;stroke-width:0.8;\" x=\"348.6437\" xlink:href=\"#md5c38e49d3\" y=\"225.737463\"/>\n      </g>\n     </g>\n     <g id=\"text_17\">\n      <!-- RBS -->\n      <g transform=\"translate(351.403075 252.893713)rotate(-90)scale(0.1 -0.1)\">\n       <use xlink:href=\"#DejaVuSans-82\"/>\n       <use x=\"69.482422\" xlink:href=\"#DejaVuSans-66\"/>\n       <use x=\"138.070312\" xlink:href=\"#DejaVuSans-83\"/>\n      </g>\n     </g>\n    </g>\n    <g id=\"xtick_18\">\n     <g id=\"line2d_35\">\n      <path clip-path=\"url(#p45f8d903e1)\" d=\"M 366.547443 225.737463 \nL 366.547443 8.297463 \n\" style=\"fill:none;stroke:#c0c0c0;stroke-linecap:square;stroke-width:0.8;\"/>\n     </g>\n     <g id=\"line2d_36\">\n      <g>\n       <use style=\"stroke:#000000;stroke-width:0.8;\" x=\"366.547443\" xlink:href=\"#md5c38e49d3\" y=\"225.737463\"/>\n      </g>\n     </g>\n     <g id=\"text_18\">\n      <!-- RBR -->\n      <g transform=\"translate(369.306818 253.495276)rotate(-90)scale(0.1 -0.1)\">\n       <use xlink:href=\"#DejaVuSans-82\"/>\n       <use x=\"69.482422\" xlink:href=\"#DejaVuSans-66\"/>\n       <use x=\"138.085938\" xlink:href=\"#DejaVuSans-82\"/>\n      </g>\n     </g>\n    </g>\n    <g id=\"text_19\">\n     <!-- Samples -->\n     <defs>\n      <path d=\"M 34.28125 27.484375 \nQ 23.390625 27.484375 19.1875 25 \nQ 14.984375 22.515625 14.984375 16.5 \nQ 14.984375 11.71875 18.140625 8.90625 \nQ 21.296875 6.109375 26.703125 6.109375 \nQ 34.1875 6.109375 38.703125 11.40625 \nQ 43.21875 16.703125 43.21875 25.484375 \nL 43.21875 27.484375 \nz\nM 52.203125 31.203125 \nL 52.203125 0 \nL 43.21875 0 \nL 43.21875 8.296875 \nQ 40.140625 3.328125 35.546875 0.953125 \nQ 30.953125 -1.421875 24.3125 -1.421875 \nQ 15.921875 -1.421875 10.953125 3.296875 \nQ 6 8.015625 6 15.921875 \nQ 6 25.140625 12.171875 29.828125 \nQ 18.359375 34.515625 30.609375 34.515625 \nL 43.21875 34.515625 \nL 43.21875 35.40625 \nQ 43.21875 41.609375 39.140625 45 \nQ 35.0625 48.390625 27.6875 48.390625 \nQ 23 48.390625 18.546875 47.265625 \nQ 14.109375 46.140625 10.015625 43.890625 \nL 10.015625 52.203125 \nQ 14.9375 54.109375 19.578125 55.046875 \nQ 24.21875 56 28.609375 56 \nQ 40.484375 56 46.34375 49.84375 \nQ 52.203125 43.703125 52.203125 31.203125 \nz\n\" id=\"DejaVuSans-97\"/>\n      <path d=\"M 52 44.1875 \nQ 55.375 50.25 60.0625 53.125 \nQ 64.75 56 71.09375 56 \nQ 79.640625 56 84.28125 50.015625 \nQ 88.921875 44.046875 88.921875 33.015625 \nL 88.921875 0 \nL 79.890625 0 \nL 79.890625 32.71875 \nQ 79.890625 40.578125 77.09375 44.375 \nQ 74.3125 48.1875 68.609375 48.1875 \nQ 61.625 48.1875 57.5625 43.546875 \nQ 53.515625 38.921875 53.515625 30.90625 \nL 53.515625 0 \nL 44.484375 0 \nL 44.484375 32.71875 \nQ 44.484375 40.625 41.703125 44.40625 \nQ 38.921875 48.1875 33.109375 48.1875 \nQ 26.21875 48.1875 22.15625 43.53125 \nQ 18.109375 38.875 18.109375 30.90625 \nL 18.109375 0 \nL 9.078125 0 \nL 9.078125 54.6875 \nL 18.109375 54.6875 \nL 18.109375 46.1875 \nQ 21.1875 51.21875 25.484375 53.609375 \nQ 29.78125 56 35.6875 56 \nQ 41.65625 56 45.828125 52.96875 \nQ 50 49.953125 52 44.1875 \nz\n\" id=\"DejaVuSans-109\"/>\n      <path d=\"M 18.109375 8.203125 \nL 18.109375 -20.796875 \nL 9.078125 -20.796875 \nL 9.078125 54.6875 \nL 18.109375 54.6875 \nL 18.109375 46.390625 \nQ 20.953125 51.265625 25.265625 53.625 \nQ 29.59375 56 35.59375 56 \nQ 45.5625 56 51.78125 48.09375 \nQ 58.015625 40.1875 58.015625 27.296875 \nQ 58.015625 14.40625 51.78125 6.484375 \nQ 45.5625 -1.421875 35.59375 -1.421875 \nQ 29.59375 -1.421875 25.265625 0.953125 \nQ 20.953125 3.328125 18.109375 8.203125 \nz\nM 48.6875 27.296875 \nQ 48.6875 37.203125 44.609375 42.84375 \nQ 40.53125 48.484375 33.40625 48.484375 \nQ 26.265625 48.484375 22.1875 42.84375 \nQ 18.109375 37.203125 18.109375 27.296875 \nQ 18.109375 17.390625 22.1875 11.75 \nQ 26.265625 6.109375 33.40625 6.109375 \nQ 40.53125 6.109375 44.609375 11.75 \nQ 48.6875 17.390625 48.6875 27.296875 \nz\n\" id=\"DejaVuSans-112\"/>\n      <path d=\"M 9.421875 75.984375 \nL 18.40625 75.984375 \nL 18.40625 0 \nL 9.421875 0 \nz\n\" id=\"DejaVuSans-108\"/>\n      <path d=\"M 56.203125 29.59375 \nL 56.203125 25.203125 \nL 14.890625 25.203125 \nQ 15.484375 15.921875 20.484375 11.0625 \nQ 25.484375 6.203125 34.421875 6.203125 \nQ 39.59375 6.203125 44.453125 7.46875 \nQ 49.3125 8.734375 54.109375 11.28125 \nL 54.109375 2.78125 \nQ 49.265625 0.734375 44.1875 -0.34375 \nQ 39.109375 -1.421875 33.890625 -1.421875 \nQ 20.796875 -1.421875 13.15625 6.1875 \nQ 5.515625 13.8125 5.515625 26.8125 \nQ 5.515625 40.234375 12.765625 48.109375 \nQ 20.015625 56 32.328125 56 \nQ 43.359375 56 49.78125 48.890625 \nQ 56.203125 41.796875 56.203125 29.59375 \nz\nM 47.21875 32.234375 \nQ 47.125 39.59375 43.09375 43.984375 \nQ 39.0625 48.390625 32.421875 48.390625 \nQ 24.90625 48.390625 20.390625 44.140625 \nQ 15.875 39.890625 15.1875 32.171875 \nz\n\" id=\"DejaVuSans-101\"/>\n      <path d=\"M 44.28125 53.078125 \nL 44.28125 44.578125 \nQ 40.484375 46.53125 36.375 47.5 \nQ 32.28125 48.484375 27.875 48.484375 \nQ 21.1875 48.484375 17.84375 46.4375 \nQ 14.5 44.390625 14.5 40.28125 \nQ 14.5 37.15625 16.890625 35.375 \nQ 19.28125 33.59375 26.515625 31.984375 \nL 29.59375 31.296875 \nQ 39.15625 29.25 43.1875 25.515625 \nQ 47.21875 21.78125 47.21875 15.09375 \nQ 47.21875 7.46875 41.1875 3.015625 \nQ 35.15625 -1.421875 24.609375 -1.421875 \nQ 20.21875 -1.421875 15.453125 -0.5625 \nQ 10.6875 0.296875 5.421875 2 \nL 5.421875 11.28125 \nQ 10.40625 8.6875 15.234375 7.390625 \nQ 20.0625 6.109375 24.8125 6.109375 \nQ 31.15625 6.109375 34.5625 8.28125 \nQ 37.984375 10.453125 37.984375 14.40625 \nQ 37.984375 18.0625 35.515625 20.015625 \nQ 33.0625 21.96875 24.703125 23.78125 \nL 21.578125 24.515625 \nQ 13.234375 26.265625 9.515625 29.90625 \nQ 5.8125 33.546875 5.8125 39.890625 \nQ 5.8125 47.609375 11.28125 51.796875 \nQ 16.75 56 26.8125 56 \nQ 31.78125 56 36.171875 55.265625 \nQ 40.578125 54.546875 44.28125 53.078125 \nz\n\" id=\"DejaVuSans-115\"/>\n     </defs>\n     <g transform=\"translate(193.0125 265.784338)scale(0.1 -0.1)\">\n      <use xlink:href=\"#DejaVuSans-83\"/>\n      <use x=\"63.476562\" xlink:href=\"#DejaVuSans-97\"/>\n      <use x=\"124.755859\" xlink:href=\"#DejaVuSans-109\"/>\n      <use x=\"222.167969\" xlink:href=\"#DejaVuSans-112\"/>\n      <use x=\"285.644531\" xlink:href=\"#DejaVuSans-108\"/>\n      <use x=\"313.427734\" xlink:href=\"#DejaVuSans-101\"/>\n      <use x=\"374.951172\" xlink:href=\"#DejaVuSans-115\"/>\n     </g>\n    </g>\n   </g>\n   <g id=\"matplotlib.axis_2\">\n    <g id=\"ytick_1\">\n     <g id=\"line2d_37\">\n      <path clip-path=\"url(#p45f8d903e1)\" d=\"M 46.965625 216.195821 \nL 381.765625 216.195821 \n\" style=\"fill:none;stroke:#c0c0c0;stroke-linecap:square;stroke-width:0.8;\"/>\n     </g>\n     <g id=\"line2d_38\">\n      <defs>\n       <path d=\"M 0 0 \nL -3.5 0 \n\" id=\"m8b2c64eecd\" style=\"stroke:#000000;stroke-width:0.8;\"/>\n      </defs>\n      <g>\n       <use style=\"stroke:#000000;stroke-width:0.8;\" x=\"46.965625\" xlink:href=\"#m8b2c64eecd\" y=\"216.195821\"/>\n      </g>\n     </g>\n     <g id=\"text_20\">\n      <!-- 0 -->\n      <defs>\n       <path d=\"M 31.78125 66.40625 \nQ 24.171875 66.40625 20.328125 58.90625 \nQ 16.5 51.421875 16.5 36.375 \nQ 16.5 21.390625 20.328125 13.890625 \nQ 24.171875 6.390625 31.78125 6.390625 \nQ 39.453125 6.390625 43.28125 13.890625 \nQ 47.125 21.390625 47.125 36.375 \nQ 47.125 51.421875 43.28125 58.90625 \nQ 39.453125 66.40625 31.78125 66.40625 \nz\nM 31.78125 74.21875 \nQ 44.046875 74.21875 50.515625 64.515625 \nQ 56.984375 54.828125 56.984375 36.375 \nQ 56.984375 17.96875 50.515625 8.265625 \nQ 44.046875 -1.421875 31.78125 -1.421875 \nQ 19.53125 -1.421875 13.0625 8.265625 \nQ 6.59375 17.96875 6.59375 36.375 \nQ 6.59375 54.828125 13.0625 64.515625 \nQ 19.53125 74.21875 31.78125 74.21875 \nz\n\" id=\"DejaVuSans-48\"/>\n      </defs>\n      <g transform=\"translate(33.603125 219.99504)scale(0.1 -0.1)\">\n       <use xlink:href=\"#DejaVuSans-48\"/>\n      </g>\n     </g>\n    </g>\n    <g id=\"ytick_2\">\n     <g id=\"line2d_39\">\n      <path clip-path=\"url(#p45f8d903e1)\" d=\"M 46.965625 181.996388 \nL 381.765625 181.996388 \n\" style=\"fill:none;stroke:#c0c0c0;stroke-linecap:square;stroke-width:0.8;\"/>\n     </g>\n     <g id=\"line2d_40\">\n      <g>\n       <use style=\"stroke:#000000;stroke-width:0.8;\" x=\"46.965625\" xlink:href=\"#m8b2c64eecd\" y=\"181.996388\"/>\n      </g>\n     </g>\n     <g id=\"text_21\">\n      <!-- 100 -->\n      <defs>\n       <path d=\"M 12.40625 8.296875 \nL 28.515625 8.296875 \nL 28.515625 63.921875 \nL 10.984375 60.40625 \nL 10.984375 69.390625 \nL 28.421875 72.90625 \nL 38.28125 72.90625 \nL 38.28125 8.296875 \nL 54.390625 8.296875 \nL 54.390625 0 \nL 12.40625 0 \nz\n\" id=\"DejaVuSans-49\"/>\n      </defs>\n      <g transform=\"translate(20.878125 185.795606)scale(0.1 -0.1)\">\n       <use xlink:href=\"#DejaVuSans-49\"/>\n       <use x=\"63.623047\" xlink:href=\"#DejaVuSans-48\"/>\n       <use x=\"127.246094\" xlink:href=\"#DejaVuSans-48\"/>\n      </g>\n     </g>\n    </g>\n    <g id=\"ytick_3\">\n     <g id=\"line2d_41\">\n      <path clip-path=\"url(#p45f8d903e1)\" d=\"M 46.965625 147.796954 \nL 381.765625 147.796954 \n\" style=\"fill:none;stroke:#c0c0c0;stroke-linecap:square;stroke-width:0.8;\"/>\n     </g>\n     <g id=\"line2d_42\">\n      <g>\n       <use style=\"stroke:#000000;stroke-width:0.8;\" x=\"46.965625\" xlink:href=\"#m8b2c64eecd\" y=\"147.796954\"/>\n      </g>\n     </g>\n     <g id=\"text_22\">\n      <!-- 200 -->\n      <defs>\n       <path d=\"M 19.1875 8.296875 \nL 53.609375 8.296875 \nL 53.609375 0 \nL 7.328125 0 \nL 7.328125 8.296875 \nQ 12.9375 14.109375 22.625 23.890625 \nQ 32.328125 33.6875 34.8125 36.53125 \nQ 39.546875 41.84375 41.421875 45.53125 \nQ 43.3125 49.21875 43.3125 52.78125 \nQ 43.3125 58.59375 39.234375 62.25 \nQ 35.15625 65.921875 28.609375 65.921875 \nQ 23.96875 65.921875 18.8125 64.3125 \nQ 13.671875 62.703125 7.8125 59.421875 \nL 7.8125 69.390625 \nQ 13.765625 71.78125 18.9375 73 \nQ 24.125 74.21875 28.421875 74.21875 \nQ 39.75 74.21875 46.484375 68.546875 \nQ 53.21875 62.890625 53.21875 53.421875 \nQ 53.21875 48.921875 51.53125 44.890625 \nQ 49.859375 40.875 45.40625 35.40625 \nQ 44.1875 33.984375 37.640625 27.21875 \nQ 31.109375 20.453125 19.1875 8.296875 \nz\n\" id=\"DejaVuSans-50\"/>\n      </defs>\n      <g transform=\"translate(20.878125 151.596173)scale(0.1 -0.1)\">\n       <use xlink:href=\"#DejaVuSans-50\"/>\n       <use x=\"63.623047\" xlink:href=\"#DejaVuSans-48\"/>\n       <use x=\"127.246094\" xlink:href=\"#DejaVuSans-48\"/>\n      </g>\n     </g>\n    </g>\n    <g id=\"ytick_4\">\n     <g id=\"line2d_43\">\n      <path clip-path=\"url(#p45f8d903e1)\" d=\"M 46.965625 113.59752 \nL 381.765625 113.59752 \n\" style=\"fill:none;stroke:#c0c0c0;stroke-linecap:square;stroke-width:0.8;\"/>\n     </g>\n     <g id=\"line2d_44\">\n      <g>\n       <use style=\"stroke:#000000;stroke-width:0.8;\" x=\"46.965625\" xlink:href=\"#m8b2c64eecd\" y=\"113.59752\"/>\n      </g>\n     </g>\n     <g id=\"text_23\">\n      <!-- 300 -->\n      <defs>\n       <path d=\"M 40.578125 39.3125 \nQ 47.65625 37.796875 51.625 33 \nQ 55.609375 28.21875 55.609375 21.1875 \nQ 55.609375 10.40625 48.1875 4.484375 \nQ 40.765625 -1.421875 27.09375 -1.421875 \nQ 22.515625 -1.421875 17.65625 -0.515625 \nQ 12.796875 0.390625 7.625 2.203125 \nL 7.625 11.71875 \nQ 11.71875 9.328125 16.59375 8.109375 \nQ 21.484375 6.890625 26.8125 6.890625 \nQ 36.078125 6.890625 40.9375 10.546875 \nQ 45.796875 14.203125 45.796875 21.1875 \nQ 45.796875 27.640625 41.28125 31.265625 \nQ 36.765625 34.90625 28.71875 34.90625 \nL 20.21875 34.90625 \nL 20.21875 43.015625 \nL 29.109375 43.015625 \nQ 36.375 43.015625 40.234375 45.921875 \nQ 44.09375 48.828125 44.09375 54.296875 \nQ 44.09375 59.90625 40.109375 62.90625 \nQ 36.140625 65.921875 28.71875 65.921875 \nQ 24.65625 65.921875 20.015625 65.03125 \nQ 15.375 64.15625 9.8125 62.3125 \nL 9.8125 71.09375 \nQ 15.4375 72.65625 20.34375 73.4375 \nQ 25.25 74.21875 29.59375 74.21875 \nQ 40.828125 74.21875 47.359375 69.109375 \nQ 53.90625 64.015625 53.90625 55.328125 \nQ 53.90625 49.265625 50.4375 45.09375 \nQ 46.96875 40.921875 40.578125 39.3125 \nz\n\" id=\"DejaVuSans-51\"/>\n      </defs>\n      <g transform=\"translate(20.878125 117.396739)scale(0.1 -0.1)\">\n       <use xlink:href=\"#DejaVuSans-51\"/>\n       <use x=\"63.623047\" xlink:href=\"#DejaVuSans-48\"/>\n       <use x=\"127.246094\" xlink:href=\"#DejaVuSans-48\"/>\n      </g>\n     </g>\n    </g>\n    <g id=\"ytick_5\">\n     <g id=\"line2d_45\">\n      <path clip-path=\"url(#p45f8d903e1)\" d=\"M 46.965625 79.398086 \nL 381.765625 79.398086 \n\" style=\"fill:none;stroke:#c0c0c0;stroke-linecap:square;stroke-width:0.8;\"/>\n     </g>\n     <g id=\"line2d_46\">\n      <g>\n       <use style=\"stroke:#000000;stroke-width:0.8;\" x=\"46.965625\" xlink:href=\"#m8b2c64eecd\" y=\"79.398086\"/>\n      </g>\n     </g>\n     <g id=\"text_24\">\n      <!-- 400 -->\n      <defs>\n       <path d=\"M 37.796875 64.3125 \nL 12.890625 25.390625 \nL 37.796875 25.390625 \nz\nM 35.203125 72.90625 \nL 47.609375 72.90625 \nL 47.609375 25.390625 \nL 58.015625 25.390625 \nL 58.015625 17.1875 \nL 47.609375 17.1875 \nL 47.609375 0 \nL 37.796875 0 \nL 37.796875 17.1875 \nL 4.890625 17.1875 \nL 4.890625 26.703125 \nz\n\" id=\"DejaVuSans-52\"/>\n      </defs>\n      <g transform=\"translate(20.878125 83.197305)scale(0.1 -0.1)\">\n       <use xlink:href=\"#DejaVuSans-52\"/>\n       <use x=\"63.623047\" xlink:href=\"#DejaVuSans-48\"/>\n       <use x=\"127.246094\" xlink:href=\"#DejaVuSans-48\"/>\n      </g>\n     </g>\n    </g>\n    <g id=\"ytick_6\">\n     <g id=\"line2d_47\">\n      <path clip-path=\"url(#p45f8d903e1)\" d=\"M 46.965625 45.198653 \nL 381.765625 45.198653 \n\" style=\"fill:none;stroke:#c0c0c0;stroke-linecap:square;stroke-width:0.8;\"/>\n     </g>\n     <g id=\"line2d_48\">\n      <g>\n       <use style=\"stroke:#000000;stroke-width:0.8;\" x=\"46.965625\" xlink:href=\"#m8b2c64eecd\" y=\"45.198653\"/>\n      </g>\n     </g>\n     <g id=\"text_25\">\n      <!-- 500 -->\n      <defs>\n       <path d=\"M 10.796875 72.90625 \nL 49.515625 72.90625 \nL 49.515625 64.59375 \nL 19.828125 64.59375 \nL 19.828125 46.734375 \nQ 21.96875 47.46875 24.109375 47.828125 \nQ 26.265625 48.1875 28.421875 48.1875 \nQ 40.625 48.1875 47.75 41.5 \nQ 54.890625 34.8125 54.890625 23.390625 \nQ 54.890625 11.625 47.5625 5.09375 \nQ 40.234375 -1.421875 26.90625 -1.421875 \nQ 22.3125 -1.421875 17.546875 -0.640625 \nQ 12.796875 0.140625 7.71875 1.703125 \nL 7.71875 11.625 \nQ 12.109375 9.234375 16.796875 8.0625 \nQ 21.484375 6.890625 26.703125 6.890625 \nQ 35.15625 6.890625 40.078125 11.328125 \nQ 45.015625 15.765625 45.015625 23.390625 \nQ 45.015625 31 40.078125 35.4375 \nQ 35.15625 39.890625 26.703125 39.890625 \nQ 22.75 39.890625 18.8125 39.015625 \nQ 14.890625 38.140625 10.796875 36.28125 \nz\n\" id=\"DejaVuSans-53\"/>\n      </defs>\n      <g transform=\"translate(20.878125 48.997871)scale(0.1 -0.1)\">\n       <use xlink:href=\"#DejaVuSans-53\"/>\n       <use x=\"63.623047\" xlink:href=\"#DejaVuSans-48\"/>\n       <use x=\"127.246094\" xlink:href=\"#DejaVuSans-48\"/>\n      </g>\n     </g>\n    </g>\n    <g id=\"ytick_7\">\n     <g id=\"line2d_49\">\n      <path clip-path=\"url(#p45f8d903e1)\" d=\"M 46.965625 10.999219 \nL 381.765625 10.999219 \n\" style=\"fill:none;stroke:#c0c0c0;stroke-linecap:square;stroke-width:0.8;\"/>\n     </g>\n     <g id=\"line2d_50\">\n      <g>\n       <use style=\"stroke:#000000;stroke-width:0.8;\" x=\"46.965625\" xlink:href=\"#m8b2c64eecd\" y=\"10.999219\"/>\n      </g>\n     </g>\n     <g id=\"text_26\">\n      <!-- 600 -->\n      <defs>\n       <path d=\"M 33.015625 40.375 \nQ 26.375 40.375 22.484375 35.828125 \nQ 18.609375 31.296875 18.609375 23.390625 \nQ 18.609375 15.53125 22.484375 10.953125 \nQ 26.375 6.390625 33.015625 6.390625 \nQ 39.65625 6.390625 43.53125 10.953125 \nQ 47.40625 15.53125 47.40625 23.390625 \nQ 47.40625 31.296875 43.53125 35.828125 \nQ 39.65625 40.375 33.015625 40.375 \nz\nM 52.59375 71.296875 \nL 52.59375 62.3125 \nQ 48.875 64.0625 45.09375 64.984375 \nQ 41.3125 65.921875 37.59375 65.921875 \nQ 27.828125 65.921875 22.671875 59.328125 \nQ 17.53125 52.734375 16.796875 39.40625 \nQ 19.671875 43.65625 24.015625 45.921875 \nQ 28.375 48.1875 33.59375 48.1875 \nQ 44.578125 48.1875 50.953125 41.515625 \nQ 57.328125 34.859375 57.328125 23.390625 \nQ 57.328125 12.15625 50.6875 5.359375 \nQ 44.046875 -1.421875 33.015625 -1.421875 \nQ 20.359375 -1.421875 13.671875 8.265625 \nQ 6.984375 17.96875 6.984375 36.375 \nQ 6.984375 53.65625 15.1875 63.9375 \nQ 23.390625 74.21875 37.203125 74.21875 \nQ 40.921875 74.21875 44.703125 73.484375 \nQ 48.484375 72.75 52.59375 71.296875 \nz\n\" id=\"DejaVuSans-54\"/>\n      </defs>\n      <g transform=\"translate(20.878125 14.798437)scale(0.1 -0.1)\">\n       <use xlink:href=\"#DejaVuSans-54\"/>\n       <use x=\"63.623047\" xlink:href=\"#DejaVuSans-48\"/>\n       <use x=\"127.246094\" xlink:href=\"#DejaVuSans-48\"/>\n      </g>\n     </g>\n    </g>\n    <g id=\"text_27\">\n     <!-- Counts -->\n     <defs>\n      <path d=\"M 30.609375 48.390625 \nQ 23.390625 48.390625 19.1875 42.75 \nQ 14.984375 37.109375 14.984375 27.296875 \nQ 14.984375 17.484375 19.15625 11.84375 \nQ 23.34375 6.203125 30.609375 6.203125 \nQ 37.796875 6.203125 41.984375 11.859375 \nQ 46.1875 17.53125 46.1875 27.296875 \nQ 46.1875 37.015625 41.984375 42.703125 \nQ 37.796875 48.390625 30.609375 48.390625 \nz\nM 30.609375 56 \nQ 42.328125 56 49.015625 48.375 \nQ 55.71875 40.765625 55.71875 27.296875 \nQ 55.71875 13.875 49.015625 6.21875 \nQ 42.328125 -1.421875 30.609375 -1.421875 \nQ 18.84375 -1.421875 12.171875 6.21875 \nQ 5.515625 13.875 5.515625 27.296875 \nQ 5.515625 40.765625 12.171875 48.375 \nQ 18.84375 56 30.609375 56 \nz\n\" id=\"DejaVuSans-111\"/>\n      <path d=\"M 8.5 21.578125 \nL 8.5 54.6875 \nL 17.484375 54.6875 \nL 17.484375 21.921875 \nQ 17.484375 14.15625 20.5 10.265625 \nQ 23.53125 6.390625 29.59375 6.390625 \nQ 36.859375 6.390625 41.078125 11.03125 \nQ 45.3125 15.671875 45.3125 23.6875 \nL 45.3125 54.6875 \nL 54.296875 54.6875 \nL 54.296875 0 \nL 45.3125 0 \nL 45.3125 8.40625 \nQ 42.046875 3.421875 37.71875 1 \nQ 33.40625 -1.421875 27.6875 -1.421875 \nQ 18.265625 -1.421875 13.375 4.4375 \nQ 8.5 10.296875 8.5 21.578125 \nz\nM 31.109375 56 \nz\n\" id=\"DejaVuSans-117\"/>\n      <path d=\"M 54.890625 33.015625 \nL 54.890625 0 \nL 45.90625 0 \nL 45.90625 32.71875 \nQ 45.90625 40.484375 42.875 44.328125 \nQ 39.84375 48.1875 33.796875 48.1875 \nQ 26.515625 48.1875 22.3125 43.546875 \nQ 18.109375 38.921875 18.109375 30.90625 \nL 18.109375 0 \nL 9.078125 0 \nL 9.078125 54.6875 \nL 18.109375 54.6875 \nL 18.109375 46.1875 \nQ 21.34375 51.125 25.703125 53.5625 \nQ 30.078125 56 35.796875 56 \nQ 45.21875 56 50.046875 50.171875 \nQ 54.890625 44.34375 54.890625 33.015625 \nz\n\" id=\"DejaVuSans-110\"/>\n      <path d=\"M 18.3125 70.21875 \nL 18.3125 54.6875 \nL 36.8125 54.6875 \nL 36.8125 47.703125 \nL 18.3125 47.703125 \nL 18.3125 18.015625 \nQ 18.3125 11.328125 20.140625 9.421875 \nQ 21.96875 7.515625 27.59375 7.515625 \nL 36.8125 7.515625 \nL 36.8125 0 \nL 27.59375 0 \nQ 17.1875 0 13.234375 3.875 \nQ 9.28125 7.765625 9.28125 18.015625 \nL 9.28125 47.703125 \nL 2.6875 47.703125 \nL 2.6875 54.6875 \nL 9.28125 54.6875 \nL 9.28125 70.21875 \nz\n\" id=\"DejaVuSans-116\"/>\n     </defs>\n     <g transform=\"translate(14.798438 134.470588)rotate(-90)scale(0.1 -0.1)\">\n      <use xlink:href=\"#DejaVuSans-67\"/>\n      <use x=\"69.824219\" xlink:href=\"#DejaVuSans-111\"/>\n      <use x=\"131.005859\" xlink:href=\"#DejaVuSans-117\"/>\n      <use x=\"194.384766\" xlink:href=\"#DejaVuSans-110\"/>\n      <use x=\"257.763672\" xlink:href=\"#DejaVuSans-116\"/>\n      <use x=\"296.972656\" xlink:href=\"#DejaVuSans-115\"/>\n     </g>\n    </g>\n   </g>\n   <g id=\"line2d_51\">\n    <path clip-path=\"url(#p45f8d903e1)\" d=\"M 62.183807 18.1811 \nL 80.08755 114.965497 \nL 97.991293 203.542031 \nL 115.895037 205.593997 \nL 133.79878 207.303969 \nL 151.702523 209.355935 \nL 169.606267 210.723912 \nL 187.51001 210.723912 \nL 205.413753 212.433884 \nL 223.317497 212.433884 \nL 241.22124 214.143855 \nL 259.124983 214.48585 \nL 277.028727 215.169838 \nL 294.93247 215.169838 \nL 312.836213 215.511833 \nL 330.739957 215.853827 \nL 348.6437 215.853827 \nL 366.547443 215.853827 \n\" style=\"fill:none;stroke:#1f77b4;stroke-linecap:square;stroke-width:2;\"/>\n   </g>\n   <g id=\"patch_3\">\n    <path d=\"M 46.965625 225.737463 \nL 46.965625 8.297463 \n\" style=\"fill:none;stroke:#000000;stroke-linecap:square;stroke-linejoin:miter;stroke-width:0.8;\"/>\n   </g>\n   <g id=\"patch_4\">\n    <path d=\"M 381.765625 225.737463 \nL 381.765625 8.297463 \n\" style=\"fill:none;stroke:#000000;stroke-linecap:square;stroke-linejoin:miter;stroke-width:0.8;\"/>\n   </g>\n   <g id=\"patch_5\">\n    <path d=\"M 46.965625 225.737463 \nL 381.765625 225.737463 \n\" style=\"fill:none;stroke:#000000;stroke-linecap:square;stroke-linejoin:miter;stroke-width:0.8;\"/>\n   </g>\n   <g id=\"patch_6\">\n    <path d=\"M 46.965625 8.297463 \nL 381.765625 8.297463 \n\" style=\"fill:none;stroke:#000000;stroke-linecap:square;stroke-linejoin:miter;stroke-width:0.8;\"/>\n   </g>\n  </g>\n </g>\n <defs>\n  <clipPath id=\"p45f8d903e1\">\n   <rect height=\"217.44\" width=\"334.8\" x=\"46.965625\" y=\"8.297463\"/>\n  </clipPath>\n </defs>\n</svg>\n",
      "image/png": "[encoded data removed]"
     },
     "metadata": {
      "needs_background": "light"
     }
    }
   ],
   "source": [
    "#Named Entity Recognition\n",
    "from nltk import pos_tag\n",
    "from nltk import ne_chunk\n",
    "import matplotlib.pyplot as plt\n",
    "import nltk\n",
    "nltk.download('averaged_perceptron_tagger')\n",
    "nltk.download('maxent_ne_chunker')\n",
    "nltk.download('words')\n",
    "\n",
    "tags = pos_tag(new_text_glob)\n",
    "chunk = ne_chunk(tags)\n",
    "\n",
    "#print(chunk)\n",
    "\n",
    "tags_freq = FreqDist(tag for (word, tag) in chunk)\n",
    "print(tags_freq.most_common())\n",
    "tags_freq.plot()\n",
    "plt.show()"
   ]
  },
  {
   "cell_type": "code",
   "execution_count": 11,
   "metadata": {
    "tags": [
     "outputPrepend"
    ]
   },
   "outputs": [
    {
     "output_type": "stream",
     "name": "stdout",
     "text": "(S\n  liraglutide/JJ\n  ameliorates/VBZ\n  lipotoxicity-induced/JJ\n  oxidative/JJ\n  stress/NN\n  activating/VBG\n  nrf2/JJ\n  (NP pathway/NN hepg2/NN)\n  cell/NN\n  mitochondrial/JJ\n  (NP dna/NN segregation/NN)\n  (NP replication/NN restrict/NN)\n  transmission/NN\n  detrimental/JJ\n  (NP mutation/NN onset/NN)\n  hippocampal/JJ\n  (NP network/NN aberration/NN)\n  (NP memory/NN deficit/NN)\n  (NP p301s/NN tau/NN)\n  mouse/NN\n  associated/VBN\n  early/JJ\n  (NP gene/NN signature/NN)\n  nasa/FW\n  (NP twin/NN study/NN)\n  effect/NN\n  one/CD\n  (NP year/NN space/NN)\n  long-chain/NN\n  fatty/JJ\n  acid/NN\n  desaturases/VBZ\n  elongases/VBZ\n  primary/JJ\n  hyperparathyroidism/NN\n  first/JJ\n  (NP manifestation/NN men/NNS)\n  2a/CD\n  international/JJ\n  (NP multicenter/NN study/NN)\n  suppression/NN\n  inflammasome/JJ\n  (NP activation/NN irf8/NN)\n  (NP irf4/NN cdc/NN)\n  critical/JJ\n  cell/NN\n  priming/VBG\n  (NP senataxin/NN ortholog/NN)\n  sen1/JJ\n  (NP limit/NN dna/NN)\n  rna/VBP\n  hybrid/JJ\n  (NP accumulation/NN dna/NN)\n  double-strand/JJ\n  (NP break/NN control/NN)\n  end/JJ\n  (NP resection/NN repair/NN)\n  (NP fidelity/NN variation/NN)\n  human/JJ\n  neural/JJ\n  (NP stem/NN cell/NN)\n  generating/VBG\n  organizer/JJ\n  (NP state/NN vitro/NN)\n  committing/VBG\n  cortical/JJ\n  excitatory/NN\n  inhibitory/JJ\n  neuronal/JJ\n  (NP fate/NN interstitial/NN)\n  cell/NN\n  remodeling/VBG\n  promotes/NNS\n  aberrant/JJ\n  adipogenesis/NN\n  dystrophic/JJ\n  muscle/NN\n  fine/JJ\n  chromatin-driven/JJ\n  (NP mechanism/NN transcription/NN)\n  (NP interference/NN antisense/NN)\n  noncoding/VBG\n  (NP transcription/NN loss/NN)\n  sup/NN\n  1/CD\n  (NP /sup/NN acp/NN)\n  sup/VBD\n  3/CD\n  (NP /sup/NNP ψ/NNP)\n  ribosomal/JJ\n  (NP rna/NN modification/NN)\n  major/JJ\n  (NP feature/NN cancer/NN)\n  genome-wide/JJ\n  survey/NN\n  ribosome/JJ\n  (NP collision/NN challenge/NN)\n  establishing/VBG\n  (NP pure/NN lung/NN)\n  (NP cancer/NN organoids/NNS)\n  limit/VBP\n  utility/NN\n  personalized/VBN\n  medicine/JJ\n  quantitative/JJ\n  framework/NN\n  evaluating/VBG\n  (NP single-cell/JJ data/NNS)\n  (NP structure/NN preservation/NN)\n  (NP dimensionality/NN reduction/NN)\n  technique/NN\n  representative/JJ\n  sequencing/NN\n  unbiased/JJ\n  sampling/NN\n  solid/JJ\n  (NP tumor/NN tissue/NN)\n  (NP gene/NN regulation/NN)\n  equilibrium/NN\n  müllerian/JJ\n  mimicry/NN\n  quantitative/JJ\n  trait/NN\n  despite/IN\n  contrasting/VBG\n  level/JJ\n  genomic/JJ\n  (NP divergence/NN selection/NN)\n  genetic/JJ\n  basis/NN\n  animal/JJ\n  behavioural/JJ\n  diversity/NN\n  natural/JJ\n  population/NN\n  mutational/JJ\n  dynamic/JJ\n  immune/JJ\n  evasion/NN\n  diffuse/IN\n  large/JJ\n  b-cell/JJ\n  lymphoma/NN\n  explored/VBD\n  relapse-enriched/JJ\n  patient/JJ\n  series/NN\n  human/JJ\n  telomeric/JJ\n  (NP nucleosome/NN display/NN)\n  distinct/JJ\n  structural/JJ\n  dynamic/JJ\n  (NP property/NN eif4g/NN)\n  intrinsic/JJ\n  g-quadruplex/JJ\n  (NP binding/NN activity/NN)\n  required/VBN\n  tirna/JJ\n  function/NN\n  ampliconic/JJ\n  gene/NN\n  great/JJ\n  ape/JJ\n  chromosome/NN\n  rapid/JJ\n  (NP evolution/NN copy/NN)\n  (NP number/NN conservation/NN)\n  (NP expression/NN level/NN)\n  development/NN\n  single-stranded/JJ\n  dna-binding/JJ\n  protein/NN\n  fluorescent/JJ\n  (NP fusion/NN toolbox/NN)\n  mieaa/VBD\n  2/CD\n  0/CD\n  integrating/VBG\n  multi-species/NNS\n  microrna/JJ\n  enrichment/JJ\n  analysis/NN\n  workflow/VB\n  (NP management/NN system/NN)\n  comparative/JJ\n  (NP metabolome/NN transcriptome/NN)\n  analysis/NN\n  susceptible/JJ\n  (NP asparagus/NN officinalis/NN)\n  resistant/JJ\n  wild/JJ\n  kiusianus/NN\n  revealed/VBD\n  insight/JJ\n  stem/NN\n  blight/VBD\n  disease/JJ\n  (NP resistance/NN crispr-cas12a/NN)\n  (NP system/NN fission/NN)\n  yeast/NN\n  multiplex/JJ\n  genomic/JJ\n  editing/VBG\n  crispr/JJ\n  interference/NN\n  quest/JJS\n  orthologs/NNS\n  (NP benchmark/NN service/NN)\n  (NP consensus/NN call/NN)\n  2020/CD\n  evolutionary/JJ\n  (NP selection/NN pestivirus/NN)\n  variant/NN\n  altered/VBD\n  microrna/JJ\n  (NP dependency/NN omics/NNS)\n  discovery/JJ\n  (NP rest/NN interface/NN)\n  (NP plant/NN animal/NN)\n  chromatin/NN\n  3d/CD\n  organization/NN\n  similar/JJ\n  structure/NN\n  different/JJ\n  (NP function/NN indirect/NN)\n  prediction/NN\n  large/JJ\n  number/NN\n  genotyped/VBD\n  animal/JJ\n  using/VBG\n  algorithm/JJ\n  proven/JJ\n  young1/JJR\n  covid-2019/NN\n  associated/VBN\n  overexpressed/JJ\n  (NP prevotella/NN protein/NN)\n  mediated/VBD\n  host-pathogen/JJ\n  (NP interaction/NN role/NN)\n  coronavirus/NN\n  outbreak/VBP\n  thyroid/JJ\n  (NP function/NN affect/NN)\n  risk/NN\n  stroke/VBD\n  via/IN\n  atrial/JJ\n  fibrillation/NN\n  mendelian/JJ\n  (NP randomization/NN study/NN)\n  scientific/JJ\n  workflow/NN\n  (NP manager/NN metabolomics/NNS)\n  overview/VBP\n  proximity/NN\n  (NP biotinylation/NN reveals/NNS)\n  (NP novel/RB)\n  secreted/VBD\n  dense/JJ\n  (NP granule/NN protein/NN)\n  (NP toxoplasma/NN gondii/NN)\n  bradyzoites/VBZ\n  (NP presence/NN hpv/NN)\n  (NP overexpression/NN p16ink4a/NN)\n  protein/NN\n  ebv/JJ\n  infection/NN\n  penile/IN\n  cancer-a/JJ\n  (NP series/NN case/NN)\n  brazil/JJ\n  amazon/NN\n  comprehensive/JJ\n  analysis/NN\n  (NP translationally/RB)\n  controlled/VBD\n  (NP tumor/NN protein/NN)\n  tctp/NN\n  provides/VBZ\n  insight/JJ\n  lineage-specific/JJ\n  evolution/NN\n  functional/JJ\n  divergence/NN\n  genomic/JJ\n  landscape/NN\n  metastatic/JJ\n  (NP breast/NN cancer/NN)\n  insight/VBD\n  11/CD\n  000/CD\n  tumor/NN\n  transcriptome/JJ\n  parasitic/JJ\n  (NP flatworm/NN schistosoma/NN)\n  mansoni/RBS\n  intra-mammalian/JJ\n  (NP development/NN phylogeny/NN)\n  (NP taxonomy/NN powdery/NN)\n  (NP mildew/NN viburnum/NN)\n  specie/NN\n  personalized/VBN\n  network/NN\n  modeling/VBG\n  pan-cancer/JJ\n  (NP patient/NN cell/NN)\n  line/NN\n  interactome/JJ\n  molecular/JJ\n  (NP epidemiology/NN phylodynamics/NNS)\n  goose/VBP\n  hemorrhagic/JJ\n  polyomavirus/NN\n  balancing/VBG\n  (NP selection/NN pattern/NN)\n  (NP recognition/NN receptor/NN)\n  (NP signalling/VBG pathway/RB)\n  associated/VBN\n  (NP gene/NN function/NN)\n  pleiotropy/FW\n  wild/JJ\n  (NP rodent/NN construct/NN)\n  (NP validity/NN sensitivity/NN)\n  specificity/NN\n  uscd/JJ\n  performance-based/JJ\n  skill/NN\n  assessment/VBD\n  2/CD\n  mixed/JJ\n  portuguese/JJ\n  sample/JJ\n  sars-cov-2/JJ\n  (NP spike/NN glycoprotein/NN)\n  structural/JJ\n  diversity/NN\n  phylogeny/VBP\n  potential/JJ\n  (NP animal/NN host/NN)\n  identification/NN\n  (NP treatment/NN regimen/NNS)\n  administration/NN\n  anti-vascular/JJ\n  endothelial/JJ\n  (NP growth/NN factor/NN)\n  agent/NN\n  neovascular/JJ\n  age-related/JJ\n  macular/JJ\n  (NP degeneration/NN metabolic/NN)\n  (NP engineering/NN strategy/NN)\n  (NP butanol/NN production/NN)\n  escherichia/FW\n  coli/JJ\n  (NP identification/NN susceptibility/NN)\n  locus/VBP\n  spontaneous/JJ\n  coronary/JJ\n  (NP artery/NN dissection/NN)\n  (NP bivariate/NN trait/NN)\n  (NP association/NN analysis/NN)\n  using/VBG\n  generalized/VBN\n  estimating/VBG\n  equation/NN\n  (NP family/NN data/NNS)\n  comparison/NN\n  optimization-modelling/JJ\n  (NP method/NN metabolite/NN)\n  production/NN\n  escherichia/FW\n  (NP coli/NN histone/NN)\n  (NP modification/NN reader/NN)\n  zcwpw1/NN\n  link/VBP\n  histone/CD\n  methylation/NN\n  prdm9-induced/JJ\n  double/JJ\n  (NP strand/NN break/NN)\n  (NP repair/NN modestobacter/NN)\n  (NP altitudinis/NN sp/NN)\n  nov/NN\n  novel/JJ\n  actinobacterium/NN\n  isolated/VBD\n  atacama/JJ\n  desert/JJ\n  soil/NN\n  genomic/JJ\n  (NP profiling/NN escherichia/NN)\n  coli/NN\n  isolates/VBZ\n  bacteraemia/JJ\n  patient/JJ\n  3-year/JJ\n  cohort/NN\n  (NP study/NN isolates/NNS)\n  collected/VBD\n  sydney/NN\n  teaching/VBG\n  (NP hospital/NN comparison/NN)\n  (NP virulence/NN gene/NN)\n  antimicrobial/JJ\n  (NP resistance/NN profile/NN)\n  genetic/JJ\n  diversity/NN\n  avian/JJ\n  pathogenic/JJ\n  (NP escherichia/NN coli/NN)\n  apec/NN\n  isolates/VBZ\n  broiler/IN\n  (NP broiler/NN breeder/NN)\n  thailand/NN\n  (NP australia/RB)\n  biological/JJ\n  characteristic/JJ\n  whole-genome/JJ\n  (NP analysis/NN enterococcus/NN)\n  faecalis/JJ\n  (NP phage/NN pef771/NN)\n  lncrnas/VBZ\n  classifier/RBR\n  (NP accurately/RB)\n  predict/JJ\n  recurrence/NN\n  thymic/JJ\n  epithelial/JJ\n  tumor/NN\n  clinical/JJ\n  (NP display/NN diagnostics/NNS)\n  genetic/JJ\n  (NP implication/NN novel/NN)\n  coronavirus/NN\n  covid-19/JJ\n  epidemic/JJ\n  viral/JJ\n  epidemiologic/JJ\n  clinical/JJ\n  characteristic/JJ\n  (NP potential/NN therapy/NN)\n  option/NN\n  covid-19/JJ\n  (NP review/NN association/NN)\n  c-myc/JJ\n  k-ras/JJ\n  (NP gene/NN polymorphism/NN)\n  non-hodgkin/JJ\n  (NP lymphoma/NN cleft/NN)\n  lip/palate/VBP\n  educational/JJ\n  (NP attainment/NN cause/NN)\n  (NP consequence/NN correlation/NN)\n  mendelian-randomization/NN\n  (NP study/NN within-species/NNS)\n  variation/NN\n  omv/IN\n  (NP cargo/NN protein/NN)\n  (NP myxococcus/NN xanthus/NNP)\n  omv/VBZ\n  pan-proteome/JJ\n  achieving/VBG\n  congruence/NN\n  among/IN\n  (NP reference/NN laboratory/NN)\n  absolute/JJ\n  (NP abundance/NN measurement/NN)\n  analytes/VBZ\n  rare/JJ\n  (NP disease/NN psychosine/NN)\n  (NP diagnosis/NN prognosis/NN)\n  (NP krabbe/NN disease/NN)\n  comparative/JJ\n  performance/NN\n  pooled/VBD\n  cohort/JJ\n  (NP equation/NN framingham/NN)\n  risk/NN\n  score/VBP\n  cardiovascular/JJ\n  (NP disease/NN risk/NN)\n  (NP classification/NN slum/NN)\n  setting/VBG\n  (NP nairobi/JJ kenya/NNS)\n  (NP importance/NN tissue/NN)\n  selection/NN\n  genetic/JJ\n  testing/VBG\n  detection/NN\n  terminal/JJ\n  18q/CD\n  (NP deletion/NN stem/NN)\n  (NP cell/NN transplantation/NN)\n  ipsc-derived/JJ\n  (NP intestinal/JJ organoids/NNS)\n  cystic/JJ\n  (NP fibrosis/NN patient/NN)\n  acquire/VB\n  (NP cftr/NN activity/NN)\n  upon/IN\n  talen-mediated/JJ\n  repair/NN\n  p/JJ\n  (NP f508del/NN mutation/NN)\n  high/JJ\n  (NP carriage/NN rate/NN)\n  multidrug-resistant/JJ\n  (NP gram-negative/JJ bacteria/NNS)\n  neonatal/JJ\n  intensive/JJ\n  (NP care/NN unit/NN)\n  (NP ghana/NN development/NN)\n  digital/JJ\n  rt-pcr/JJ\n  (NP method/NN absolute/NN)\n  (NP quantification/NN bluetongue/NN)\n  (NP virus/NN field/NN)\n  sample/JJ\n  developing/VBG\n  multi-layer/JJ\n  (NP deep/NN learning/NN)\n  based/VBN\n  predictive/JJ\n  model/NN\n  identify/VB\n  dna/JJ\n  n4-methylcytosine/JJ\n  (NP modification/NN overexpression/NN)\n  global/JJ\n  regulator/NN\n  pbrlaea/JJ\n  (NP lead/NN discovery/NN)\n  new/JJ\n  polyketide/NN\n  fungus/JJ\n  (NP penicillium/NN brocae/NN)\n  hdn-12-143/JJ\n  clinical/JJ\n  genetic/JJ\n  heterogeneity/NN\n  six/CD\n  tunisian/JJ\n  (NP family/NN horizontal/NN)\n  (NP gaze/NN palsy/NN)\n  progressive/JJ\n  (NP scoliosis/NN retrospective/NN)\n  study/NN\n  13/CD\n  (NP case/NN investigation/NN)\n  effect/NN\n  transfected/VBD\n  defective/JJ\n  (NP ebola/NN virus/NN)\n  (NP genome/NN ebola/NN)\n  replication/NN\n  functional/JJ\n  identification/NN\n  structural/JJ\n  analysis/NN\n  new/JJ\n  (NP lipoate/NN protein/NN)\n  ligase/NN\n  mycoplasma/JJ\n  hyopneumoniae/JJ\n  gcn2-like/JJ\n  kinase/NN\n  modulates/VBZ\n  stress/JJ\n  (NP granule/NN formation/NN)\n  nutritional/JJ\n  (NP stress/NN trypanosoma/NN)\n  (NP cruzi/NN novel/NN)\n  scoring/VBG\n  (NP system/NN risk/NN)\n  assessment/VBP\n  elderly/JJ\n  patient/NN\n  (NP cytogenetically/RB)\n  normal/JJ\n  acute/JJ\n  (NP myeloid/NN leukemia/NN)\n  based/VBN\n  expression/NN\n  three/CD\n  (NP aqp1/NN dna/NN)\n  methylation-associated/JJ\n  gene/NN\n  comprehensive/JJ\n  genomic/JJ\n  profiling/NN\n  rare/JJ\n  (NP tumor/NN route/NN)\n  targeted/VBD\n  therapy/JJ\n  new/JJ\n  insight/NN\n  complex/JJ\n  mutational/JJ\n  landscape/NN\n  sézary/JJ\n  syndrome/JJ\n  clinical/JJ\n  biological/JJ\n  significance/NN\n  methyltransferase-related/JJ\n  (NP signature/NN diffuse/NN)\n  (NP glioma/NN sirt4/NN)\n  multifaceted/VBD\n  enzyme/JJ\n  crossroad/NN\n  mitochondrial/JJ\n  (NP metabolism/NN cancer/NN)\n  (NP optimization/NN genotype/NN)\n  sequencing/VBG\n  data/NNS\n  phylogenetic/JJ\n  purpose/JJ\n  zebrafish/JJ\n  integrative/JJ\n  (NP vertebrate/NN model/NN)\n  identify/VB\n  mirna/JJ\n  mechanism/NN\n  regulating/VBG\n  toxicity/NN\n  epigenetic/JJ\n  mechanism/NN\n  neurodevelopmental/JJ\n  (NP theory/NN depression/NN)\n  effect/NN\n  nano-copper/JJ\n  (NP maize/NN yield/NN)\n  inflammatory/JJ\n  (NP response/NN mouse/NN)\n  comparative/JJ\n  effect/NN\n  oncogenic/JJ\n  (NP mutation/NN g12c/NN)\n  (NP g12v/NN g13d/NN)\n  q61h/JJ\n  local/JJ\n  conformation/NN\n  dynamic/JJ\n  k-ras/JJ\n  marea4galaxy/NN\n  metabolic/JJ\n  (NP reaction/NN enrichment/NN)\n  (NP analysis/NN visualization/NN)\n  (NP rna-seq/NN data/NNS)\n  within/IN\n  galaxy/JJ\n  mir-182-3p/myadm/JJ\n  contribute/NN\n  pulmonary/JJ\n  (NP artery/NN hypertension/NN)\n  vascular/JJ\n  remodeling/VBG\n  via/IN\n  klf4/p21-dependent/JJ\n  (NP mechanism/NN review/NN)\n  emerging/VBG\n  physical/JJ\n  (NP transfection/NN method/NN)\n  crispr/cas9-mediated/JJ\n  gene/NN\n  editing/VBG\n  integrative/JJ\n  metagenomic/JJ\n  metabolomic/JJ\n  (NP analysis/NN reveal/NN)\n  severity-specific/JJ\n  (NP signature/NN gut/NN)\n  microbiota/NN\n  chronic/JJ\n  (NP kidney/NN disease/NN)\n  heritable/JJ\n  modifier/JJR\n  (NP tumor/NN microenvironment/NN)\n  (NP influence/NN nanoparticle/NN)\n  uptake/JJ\n  (NP distribution/NN response/NN)\n  photothermal/JJ\n  (NP therapy/NN editorial/NN)\n  precise/JJ\n  genome/NN\n  editing/VBG\n  technique/JJ\n  (NP application/NN development/NN)\n  early/JJ\n  (NP prediction/NN model/NN)\n  subarachnoid/JJ\n  hemorrhage/NN\n  genetic/JJ\n  signaling/VBG\n  (NP pathway/NN analysis/NN)\n  de/IN\n  novo/FW\n  (NP assembly/RB)\n  genome-wide/JJ\n  (NP snp/NN discovery/NN)\n  (NP rohu/NN carp/NN)\n  labeo/NN\n  rohita/JJ\n  role/NN\n  genetic/JJ\n  (NP variation/NN bmi/NN)\n  (NP body/NN composition/NN)\n  fat/JJ\n  distribution/NN\n  mental/JJ\n  (NP trait/NN disorder/NN)\n  look-up/JJ\n  mendelian/JJ\n  (NP randomization/NN study/NN)\n  calcium-sensing/JJ\n  (NP receptor/NN gene/NN)\n  polymorphism/NN\n  casrv1/VBP\n  casrv2/JJ\n  physical/JJ\n  activity/NN\n  (NP level/NN men/NNS)\n  lower/JJR\n  (NP silesia/NN poland/NN)\n  integrated/VBN\n  landscape/JJ\n  biological/JJ\n  (NP candidate/NN causal/NN)\n  gene/NN\n  coronary/JJ\n  (NP artery/NN disease/NN)\n  preliminary/JJ\n  study/NN\n  investigate/JJ\n  genetic/JJ\n  (NP background/NN longevity/NN)\n  based/VBN\n  whole-genome/JJ\n  (NP sequence/NN data/NNS)\n  two/CD\n  methuselah/JJ\n  dog/NN\n  genome-wide/JJ\n  analysis/NN\n  methylation-driven/JJ\n  (NP gene/NN identification/NN)\n  eight-gene/JJ\n  (NP panel/NN prognosis/NN)\n  (NP prediction/NN breast/NN)\n  cancer/NN\n  identifying/VBG\n  shared/VBN\n  (NP risk/NN gene/NN)\n  asthma/JJ\n  (NP hay/NN fever/NN)\n  eczema/VBZ\n  multi-trait/JJ\n  multiomic/JJ\n  (NP association/NN analysis/NN)\n  genomic/JJ\n  (NP breeding/NN program/NN)\n  realize/NN\n  larger/JJR\n  benefit/JJ\n  (NP cooperation/NN presence/NN)\n  (NP genotype/NN ×/NNP)\n  (NP environment/NN interaction/NN)\n  conventional/JJ\n  (NP breeding/NN program/NN)\n  drug/NN\n  targeting/VBG\n  genomic/JJ\n  instability/NN\n  multiple/JJ\n  myeloma/NN\n  whole/JJ\n  genome/JJ\n  (NP scan/JJ reveals/NNS)\n  molecular/JJ\n  (NP signature/NN divergence/NN)\n  selection/NN\n  related/VBN\n  important/JJ\n  (NP trait/NN durum/NN)\n  (NP wheat/NN germplasm/NN))\n"
    }
   ],
   "source": [
    "#Establishing rules for chunking\n",
    "from nltk.chunk import *\n",
    "from nltk.chunk.util import *\n",
    "from nltk.chunk.regexp import *\n",
    "\n",
    "rules = r'''\n",
    "NP: {<JJ><NN.>}\n",
    "    {<VB.>*<RB>}\n",
    "    {<NN><NN.>+}\n",
    "    {<VP><NN.>+}\n",
    "    {<NN.><RB>+}\n",
    "    {<NNP>+}\n",
    "    {<NN><NN>}\n",
    "    '''\n",
    "chunkparse = RegexpParser(rules)\n",
    "result = chunkparse.parse(tags)\n",
    "print(result)\n",
    "result.draw()\n",
    "#print(tags)\n",
    "#nouns = noun for noun in result if tags == \"NN\""
   ]
  },
  {
   "cell_type": "markdown",
   "metadata": {},
   "source": [
    "## 7) Give me a problem statement.\n",
    "Below, write a problem statement. Keep in mind that your task is to tease out relationships in your data and eventually build a predictive model. Your problem statement can be vague, but you should have a goal in mind. Your problem statement should be between one sentence and one paragraph."
   ]
  },
  {
   "cell_type": "code",
   "execution_count": 26,
   "metadata": {},
   "outputs": [
    {
     "output_type": "stream",
     "name": "stdout",
     "text": "analysis  cancer  cell  data  disease  dna  gene  genetic  genomic  \\\n0        1.0     0.0   0.0   0.0      0.0  0.0   0.0      0.0      0.0   \n1        0.0     1.0   0.0   0.0      0.0  0.0   0.0      0.0      0.0   \n2        0.0     0.0   1.0   0.0      0.0  0.0   0.0      0.0      0.0   \n3        0.0     0.0   0.0   1.0      0.0  0.0   0.0      0.0      0.0   \n4        0.0     0.0   0.0   0.0      1.0  0.0   0.0      0.0      0.0   \n5        0.0     0.0   0.0   0.0      0.0  1.0   0.0      0.0      0.0   \n6        0.0     0.0   0.0   0.0      0.0  0.0   1.0      0.0      0.0   \n7        0.0     0.0   0.0   0.0      0.0  0.0   0.0      1.0      0.0   \n8        0.0     0.0   0.0   0.0      0.0  0.0   0.0      0.0      1.0   \n9        0.0     0.0   0.0   0.0      0.0  0.0   0.0      0.0      0.0   \n10       0.0     0.0   0.0   0.0      0.0  0.0   0.0      0.0      0.0   \n11       0.0     0.0   0.0   0.0      0.0  0.0   0.0      0.0      0.0   \n12       0.0     0.0   0.0   0.0      0.0  0.0   0.0      0.0      0.0   \n13       0.0     0.0   0.0   0.0      0.0  0.0   0.0      0.0      0.0   \n14       0.0     0.0   0.0   0.0      0.0  0.0   0.0      0.0      0.0   \n\n    patient  protein  risk  selection  study  tumor  \n0       0.0      0.0   0.0        0.0    0.0    0.0  \n1       0.0      0.0   0.0        0.0    0.0    0.0  \n2       0.0      0.0   0.0        0.0    0.0    0.0  \n3       0.0      0.0   0.0        0.0    0.0    0.0  \n4       0.0      0.0   0.0        0.0    0.0    0.0  \n5       0.0      0.0   0.0        0.0    0.0    0.0  \n6       0.0      0.0   0.0        0.0    0.0    0.0  \n7       0.0      0.0   0.0        0.0    0.0    0.0  \n8       0.0      0.0   0.0        0.0    0.0    0.0  \n9       1.0      0.0   0.0        0.0    0.0    0.0  \n10      0.0      1.0   0.0        0.0    0.0    0.0  \n11      0.0      0.0   1.0        0.0    0.0    0.0  \n12      0.0      0.0   0.0        1.0    0.0    0.0  \n13      0.0      0.0   0.0        0.0    1.0    0.0  \n14      0.0      0.0   0.0        0.0    0.0    1.0  \n"
    }
   ],
   "source": [
    "from sklearn.feature_extraction.text import TfidfVectorizer\n",
    "\n",
    "tfidf_vectorizer = TfidfVectorizer()\n",
    "tfidf_vectors = tfidf_vectorizer.fit_transform(freq)\n",
    "\n",
    "tfidfs = pd.DataFrame(data=tfidf_vectors.toarray(), columns=tfidf_vectorizer.get_feature_names())\n",
    "\n",
    "print(tfidfs)"
   ]
  },
  {
   "cell_type": "code",
   "execution_count": 15,
   "metadata": {},
   "outputs": [],
   "source": [
    "#It will be helpful for NIH administrators to know which aspects of a certain scientific area are most common in publications and which are least common. For example if we know that \"human\" is the most common term in a PubMed search of \"genomics\" publications, then we can learn that there is a strong human emphasis in genomic research."
   ]
  },
  {
   "cell_type": "markdown",
   "metadata": {},
   "source": [
    "## 8) What is your _y_-variable?\n",
    "For final project, you will need to perform a statistical model. This means you will have to accurately predict some y-variable for some combination of x-variables. From your problem statement in part 7, what is that y-variable?"
   ]
  },
  {
   "cell_type": "code",
   "execution_count": 16,
   "metadata": {},
   "outputs": [],
   "source": [
    "#How many times a word is used in publication abstract/titles."
   ]
  }
 ],
 "metadata": {
  "kernelspec": {
   "display_name": "Python 3.7.4 64-bit ('base': conda)",
   "language": "python",
   "name": "python37464bitbasecondad7e997a9f21d4c48a1361726b45a74df"
  },
  "language_info": {
   "codemirror_mode": {
    "name": "ipython",
    "version": 3
   },
   "file_extension": ".py",
   "mimetype": "text/x-python",
   "name": "python",
   "nbconvert_exporter": "python",
   "pygments_lexer": "ipython3",
   "version": "3.7.4-final"
  }
 },
 "nbformat": 4,
 "nbformat_minor": 4
}