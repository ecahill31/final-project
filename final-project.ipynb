{
 "cells": [
  {
   "cell_type": "markdown",
   "metadata": {},
   "source": [
    "# Final Project Template "
   ]
  },
  {
   "cell_type": "markdown",
   "metadata": {},
   "source": [
    "## 1) Get your data\n",
    "You may use any data set(s) you like, so long as they meet these criteria:\n",
    "\n",
    "* Your data must be publically available for free.\n",
    "* Your data should be interesting to _you_. You want your final project to be something you're proud of.\n",
    "* Your data should be \"big enough\":\n",
    "    - It should have at least 1,000 rows.\n",
    "    - It should have enough of columns to be interesting.\n",
    "    - If you have questions, contact a member of the instructional team."
   ]
  },
  {
   "cell_type": "markdown",
   "metadata": {},
   "source": [
    "## 2) Provide a link to your data\n",
    "Your data is required to be free and open to anyone.\n",
    "As such, you should have a URL which anyone can use to download your data:"
   ]
  },
  {
   "cell_type": "code",
   "execution_count": 1,
   "metadata": {},
   "outputs": [],
   "source": [
    "# https://www.ncbi.nlm.nih.gov/pubmed/"
   ]
  },
  {
   "cell_type": "markdown",
   "metadata": {},
   "source": [
    "# 3) Import your data\n",
    "\n",
    "In the space below, import your data. If your data span multiple files, read them all in. If applicable, merge or append them as needed."
   ]
  },
  {
   "cell_type": "code",
   "execution_count": 2,
   "metadata": {},
   "outputs": [],
   "source": [
    "#importing needed packages\n",
    "import pandas as pd\n",
    "import numpy as np \n",
    "from Bio import Entrez\n",
    "\n",
    "#searching PubMed for \"genomics\" and downloading dictionary of data including number of publications, accession IDs, and relevant MeSH term \n",
    "Entrez.email = \"eileen.cahill@nih.gov\"\n",
    "handle = Entrez.esearch(db=\"pubmed\", retmax=11, term=\"genomics\", idtype=\"acc\")\n",
    "record = Entrez.read(handle)\n",
    "handle.close()"
   ]
  },
  {
   "cell_type": "code",
   "execution_count": 3,
   "metadata": {
    "tags": [
     "outputPrepend"
    ]
   },
   "outputs": [
    {
     "output_type": "stream",
     "name": "stdout",
     "text": "<class 'Bio.Entrez.Parser.DictionaryElement'>\n<class '_io.TextIOWrapper'>\n{'Count': '246457', 'RetMax': '11', 'RetStart': '0', 'IdList': ['32365385', '32365362', '32365353', '32365209', '32365196', '32365118', '32365064', '32364878', '32364825', '32364535', '32364420'], 'TranslationSet': [{'From': 'genomics', 'To': '\"genomics\"[MeSH Terms] OR \"genomics\"[All Fields]'}], 'TranslationStack': [{'Term': '\"genomics\"[MeSH Terms]', 'Field': 'MeSH Terms', 'Count': '110045', 'Explode': 'Y'}, {'Term': '\"genomics\"[All Fields]', 'Field': 'All Fields', 'Count': '186868', 'Explode': 'N'}, 'OR', 'GROUP'], 'QueryTranslation': '\"genomics\"[MeSH Terms] OR \"genomics\"[All Fields]'}\n['32365385', '32365362', '32365353', '32365209', '32365196', '32365118', '32365064', '32364878', '32364825', '32364535', '32364420']\n<class 'Bio.Entrez.Parser.ListElement'>\n"
    }
   ],
   "source": [
    "#looking at data and types\n",
    "print(type(record))\n",
    "print(type(handle))\n",
    "print(record)\n",
    "print(record['IdList'])\n",
    "print(type(record['IdList']))"
   ]
  },
  {
   "cell_type": "code",
   "execution_count": 4,
   "metadata": {},
   "outputs": [
    {
     "output_type": "stream",
     "name": "stdout",
     "text": "[['Count', '246457'], ['RetMax', '11'], ['RetStart', '0'], ['IdList', ['32365385', '32365362', '32365353', '32365209', '32365196', '32365118', '32365064', '32364878', '32364825', '32364535', '32364420']], ['TranslationSet', [{'From': 'genomics', 'To': '\"genomics\"[MeSH Terms] OR \"genomics\"[All Fields]'}]], ['TranslationStack', [{'Term': '\"genomics\"[MeSH Terms]', 'Field': 'MeSH Terms', 'Count': '110045', 'Explode': 'Y'}, {'Term': '\"genomics\"[All Fields]', 'Field': 'All Fields', 'Count': '186868', 'Explode': 'N'}, 'OR', 'GROUP']], ['QueryTranslation', '\"genomics\"[MeSH Terms] OR \"genomics\"[All Fields]']]\n<class 'list'>\n"
    }
   ],
   "source": [
    "#converting type from Bio.Entrez.Parser.DictionaryElement to list\n",
    "list = []\n",
    "listrecords = []\n",
    "\n",
    "for key, value in record.items():\n",
    "    list = [key, value]\n",
    "    listrecords.append(list)\n",
    "print(listrecords)\n",
    "print(type(listrecords))"
   ]
  },
  {
   "cell_type": "code",
   "execution_count": 5,
   "metadata": {
    "tags": [
     "outputPrepend"
    ]
   },
   "outputs": [
    {
     "output_type": "stream",
     "name": "stdout",
     "text": "['IdList', ['32365385', '32365362', '32365353', '32365209', '32365196', '32365118', '32365064', '32364878', '32364825', '32364535', '32364420']]\n['32365385', '32365362', '32365353', '32365209', '32365196', '32365118', '32365064', '32364878', '32364825', '32364535', '32364420']\n[32364420, 32364420, 32364420, 32364420, 32364420, 32364420, 32364420, 32364420, 32364420, 32364420, 32364420]\n"
    }
   ],
   "source": [
    "#creating iterable list of IDs of both string and int type\n",
    "id_list_acquire = listrecords[3]\n",
    "print(id_list_acquire)\n",
    "id_list = []\n",
    "id_list_int = []\n",
    "\n",
    "for id in id_list_acquire[1]:\n",
    "    id_list.append(id)\n",
    "print(id_list)\n",
    "\n",
    "for id2 in id_list_acquire[1]:\n",
    "    id_list_int.append(int(id))\n",
    "print(id_list_int)"
   ]
  },
  {
   "cell_type": "code",
   "execution_count": 6,
   "metadata": {},
   "outputs": [
    {
     "output_type": "stream",
     "name": "stdout",
     "text": "['Four-Dimensional Introital Ultrasound in Assessing Perioperative Pelvic Floor Muscle Functions of Women with Cystoceles.', 'Interleukin-31 promotes pathogenic mechanisms underlying skin and lung fibrosis in scleroderma.', 'Rapid reconstruction of SARS-CoV-2 using a synthetic genomics platform.', 'mstree: a multispecies coalescent approach for estimating ancestral population size and divergence time during speciation with gene flow.', 'Abnormalities in Sodium Current and Calcium Homeostasis as Drivers of Arrhythmogenesis in Hypertrophic Cardiomyopathy.', 'Analysis of meiotic segregation by triple-color fish on both total and motile sperm fractions in a t(1p;18) river buffalo bull.', 'A new neuropeptide insect parathyroid hormone iPTH in the red flour beetle Tribolium castaneum.', 'Overexpression of <i>NEIL3</i> associated with altered genome and poor survival in selected types of human cancer.', '<i>Ustilaginoidea virens</i>: Insights into an Emerging Rice Pathogen.', 'Genomic and epigenomic EBF1 alterations modulate TERT expression in gastric cancer.', 'Genome sequence data of the soybean pathogen Stagonosporopsis vannaccii: a resource for studies on Didymellaceae evolution.']\n"
    }
   ],
   "source": [
    "list_titles = []\n",
    "\n",
    "for item in id_list:\n",
    "    handle2 = Entrez.esummary(db=\"pubmed\", id=item, retmode=\"xml\")\n",
    "    records2 = Entrez.parse(handle2)\n",
    "\n",
    "    for record in records2:\n",
    "            #each record is a Python dictionary or list.\n",
    "        list_titles.append(record['Title'])\n",
    "\n",
    "handle2.close()\n",
    "\n",
    "print(list_titles)"
   ]
  },
  {
   "cell_type": "markdown",
   "metadata": {},
   "source": [
    "## 5) Show me the shape of your data"
   ]
  },
  {
   "cell_type": "code",
   "execution_count": 7,
   "metadata": {},
   "outputs": [
    {
     "output_type": "stream",
     "name": "stdout",
     "text": "0                                                  1\n0             Count                                             246457\n1            RetMax                                                 11\n2          RetStart                                                  0\n3            IdList  [32365385, 32365362, 32365353, 32365209, 32365...\n4    TranslationSet  [{'From': 'genomics', 'To': '\"genomics\"[MeSH T...\n5  TranslationStack  [{'Term': '\"genomics\"[MeSH Terms]', 'Field': '...\n6  QueryTranslation   \"genomics\"[MeSH Terms] OR \"genomics\"[All Fields]\n                                                    0\n0   Four-Dimensional Introital Ultrasound in Asses...\n1   Interleukin-31 promotes pathogenic mechanisms ...\n2   Rapid reconstruction of SARS-CoV-2 using a syn...\n3   mstree: a multispecies coalescent approach for...\n4   Abnormalities in Sodium Current and Calcium Ho...\n5   Analysis of meiotic segregation by triple-colo...\n6   A new neuropeptide insect parathyroid hormone ...\n7   Overexpression of <i>NEIL3</i> associated with...\n8   <i>Ustilaginoidea virens</i>: Insights into an...\n9   Genomic and epigenomic EBF1 alterations modula...\n10  Genome sequence data of the soybean pathogen S...\n"
    },
    {
     "output_type": "execute_result",
     "data": {
      "text/plain": "(11, 1)"
     },
     "metadata": {},
     "execution_count": 7
    }
   ],
   "source": [
    "#showing the dataframe and shape\n",
    "df = pd.DataFrame(listrecords)\n",
    "print(df)\n",
    "df.shape\n",
    "\n",
    "df = pd.DataFrame(list_titles)\n",
    "print(df)\n",
    "df.shape"
   ]
  },
  {
   "cell_type": "code",
   "execution_count": 8,
   "metadata": {},
   "outputs": [
    {
     "output_type": "stream",
     "name": "stdout",
     "text": "four-dimensional introital ultrasound in assessing perioperative pelvic floor muscle functions of women with cystoceles interleukin-31 promotes pathogenic mechanisms underlying skin and lung fibrosis in scleroderma rapid reconstruction of sars-cov-2 using a synthetic genomics platform mstree: a multispecies coalescent approach for estimating ancestral population size and divergence time during speciation with gene flow abnormalities in sodium current and calcium homeostasis as drivers of arrhythmogenesis in hypertrophic cardiomyopathy analysis of meiotic segregation by triple-color fish on both total and motile sperm fractions in a t(1p;18) river buffalo bull a new neuropeptide insect parathyroid hormone ipth in the red flour beetle tribolium castaneum overexpression of <i>neil3</i> associated with altered genome and poor survival in selected types of human cancer <i>ustilaginoidea virens</i>: insights into an emerging rice pathogen genomic and epigenomic ebf1 alterations modulate tert expression in gastric cancer genome sequence data of the soybean pathogen stagonosporopsis vannaccii: a resource for studies on didymellaceae evolution \n"
    }
   ],
   "source": [
    "text_glob = \"\"\n",
    "\n",
    "for x in list_titles:\n",
    "    text_glob += x\n",
    "\n",
    "text_glob = text_glob.replace(\".\", \" \")\n",
    "text_lower = text_glob.lower()\n",
    "print(text_lower)"
   ]
  },
  {
   "cell_type": "code",
   "execution_count": 21,
   "metadata": {},
   "outputs": [
    {
     "output_type": "stream",
     "name": "stdout",
     "text": "['four-dimensional', 'introital', 'ultrasound', 'assessing', 'perioperative', 'pelvic', 'floor', 'muscle', 'functions', 'women', 'cystoceles', 'interleukin-31', 'promotes', 'pathogenic', 'mechanisms', 'underlying', 'skin', 'lung', 'fibrosis', 'scleroderma', 'rapid', 'reconstruction', 'sars-cov-2', 'using', 'synthetic', 'genomics', 'platform', 'mstree', ':', 'multispecies', 'coalescent', 'approach', 'estimating', 'ancestral', 'population', 'size', 'divergence', 'time', 'speciation', 'gene', 'flow', 'abnormalities', 'sodium', 'current', 'calcium', 'homeostasis', 'drivers', 'arrhythmogenesis', 'hypertrophic', 'cardiomyopathy', 'analysis', 'meiotic', 'segregation', 'triple-color', 'fish', 'total', 'motile', 'sperm', 'fractions', '(', '1p', ';', '18', ')', 'river', 'buffalo', 'bull', 'new', 'neuropeptide', 'insect', 'parathyroid', 'hormone', 'ipth', 'red', 'flour', 'beetle', 'tribolium', 'castaneum', 'overexpression', '<', '>', 'neil3', '/i', 'associated', 'altered', 'genome', 'poor', 'survival', 'selected', 'types', 'human', 'cancer', 'ustilaginoidea', 'virens', 'insights', 'emerging', 'rice', 'pathogen', 'genomic', 'epigenomic', 'ebf1', 'alterations', 'modulate', 'tert', 'expression', 'gastric', 'sequence', 'data', 'soybean', 'stagonosporopsis', 'vannaccii', 'resource', 'studies', 'didymellaceae', 'evolution']\nfour-dimensional 1\nintroital 1\nultrasound 1\nassessing 1\nperioperative 1\npelvic 1\nfloor 1\nmuscle 1\nfunctions 1\nwomen 1\ncystoceles 1\ninterleukin-31 1\npromotes 1\npathogenic 1\nmechanisms 1\nunderlying 1\nskin 1\nlung 1\nfibrosis 1\nscleroderma 1\nrapid 1\nreconstruction 1\nsars-cov-2 1\nusing 1\nsynthetic 1\ngenomics 1\nplatform 1\nmstree 1\n: 1\nmultispecies 1\ncoalescent 1\napproach 1\nestimating 1\nancestral 1\npopulation 1\nsize 1\ndivergence 1\ntime 1\nspeciation 1\ngene 1\nflow 1\nabnormalities 1\nsodium 1\ncurrent 1\ncalcium 1\nhomeostasis 1\ndrivers 1\narrhythmogenesis 1\nhypertrophic 1\ncardiomyopathy 1\nanalysis 1\nmeiotic 1\nsegregation 1\ntriple-color 1\nfish 1\ntotal 1\nmotile 1\nsperm 1\nfractions 1\n( 1\n1p 1\n; 1\n18 1\n) 1\nriver 1\nbuffalo 1\nbull 1\nnew 1\nneuropeptide 1\ninsect 1\nparathyroid 1\nhormone 1\nipth 1\nred 1\nflour 1\nbeetle 1\ntribolium 1\ncastaneum 1\noverexpression 1\n< 1\n> 1\nneil3 1\n/i 1\nassociated 1\naltered 1\ngenome 1\npoor 1\nsurvival 1\nselected 1\ntypes 1\nhuman 1\ncancer 1\nustilaginoidea 1\nvirens 1\ninsights 1\nemerging 1\nrice 1\npathogen 1\ngenomic 1\nepigenomic 1\nebf1 1\nalterations 1\nmodulate 1\ntert 1\nexpression 1\ngastric 1\nsequence 1\ndata 1\nsoybean 1\nstagonosporopsis 1\nvannaccii 1\nresource 1\nstudies 1\ndidymellaceae 1\nevolution 1\n[('four-dimensional', 1), ('introital', 1), ('ultrasound', 1), ('assessing', 1), ('perioperative', 1), ('pelvic', 1), ('floor', 1), ('muscle', 1), ('functions', 1), ('women', 1)]\n"
    }
   ],
   "source": [
    "from nltk.tokenize import word_tokenize\n",
    "from nltk import FreqDist\n",
    "from nltk.corpus import stopwords\n",
    "#from nltk.stem import PorterStemmer\n",
    "\n",
    "#Create word tokens and count frequencies\n",
    "tokens = word_tokenize(text_lower)\n",
    "#print(tokens)\n",
    "\n",
    "#removing stopwords and showing most frequent non-stopword words\n",
    "stops = set(stopwords.words('english'))\n",
    "stopwords = [x for x in freq_words if x not in stops]\n",
    "print(stopwords)\n",
    "\n",
    "freq_words = FreqDist(stopwords)\n",
    "for word in freq_words:\n",
    "    print(word, freq_words[word])\n",
    "\n",
    "most_freq_words = freq_words.most_common(10)\n",
    "print(most_freq_words)"
   ]
  },
  {
   "cell_type": "markdown",
   "metadata": {},
   "source": [
    "## 7) Give me a problem statement.\n",
    "Below, write a problem statement. Keep in mind that your task is to tease out relationships in your data and eventually build a predictive model. Your problem statement can be vague, but you should have a goal in mind. Your problem statement should be between one sentence and one paragraph."
   ]
  },
  {
   "cell_type": "code",
   "execution_count": 10,
   "metadata": {},
   "outputs": [],
   "source": [
    "#It will be helpful for NIH administrators to know which aspects of a certain scientific area are most common in publications and which are least common. For example if we know that \"human\" is the most common term in a PubMed search of \"genomics\" publications, then we can learn that there is a strong human emphasis in genomic research."
   ]
  },
  {
   "cell_type": "markdown",
   "metadata": {},
   "source": [
    "## 8) What is your _y_-variable?\n",
    "For final project, you will need to perform a statistical model. This means you will have to accurately predict some y-variable for some combination of x-variables. From your problem statement in part 7, what is that y-variable?"
   ]
  },
  {
   "cell_type": "code",
   "execution_count": 11,
   "metadata": {},
   "outputs": [],
   "source": [
    "#How many times a word is used in publication abstract/titles."
   ]
  }
 ],
 "metadata": {
  "kernelspec": {
   "display_name": "Python 3.7.4 64-bit ('base': conda)",
   "language": "python",
   "name": "python37464bitbasecondad7e997a9f21d4c48a1361726b45a74df"
  },
  "language_info": {
   "codemirror_mode": {
    "name": "ipython",
    "version": 3
   },
   "file_extension": ".py",
   "mimetype": "text/x-python",
   "name": "python",
   "nbconvert_exporter": "python",
   "pygments_lexer": "ipython3",
   "version": "3.7.4-final"
  }
 },
 "nbformat": 4,
 "nbformat_minor": 4
}