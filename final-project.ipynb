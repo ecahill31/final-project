{
 "cells": [
  {
   "cell_type": "markdown",
   "metadata": {},
   "source": [
    "# Final Project Template "
   ]
  },
  {
   "cell_type": "markdown",
   "metadata": {},
   "source": [
    "## 1) Get your data\n",
    "You may use any data set(s) you like, so long as they meet these criteria:\n",
    "\n",
    "* Your data must be publically available for free.\n",
    "* Your data should be interesting to _you_. You want your final project to be something you're proud of.\n",
    "* Your data should be \"big enough\":\n",
    "    - It should have at least 1,000 rows.\n",
    "    - It should have enough of columns to be interesting.\n",
    "    - If you have questions, contact a member of the instructional team."
   ]
  },
  {
   "cell_type": "markdown",
   "metadata": {},
   "source": [
    "## 2) Provide a link to your data\n",
    "Your data is required to be free and open to anyone.\n",
    "As such, you should have a URL which anyone can use to download your data:"
   ]
  },
  {
   "cell_type": "code",
   "execution_count": 1,
   "metadata": {},
   "outputs": [],
   "source": [
    "# https://www.ncbi.nlm.nih.gov/pubmed/"
   ]
  },
  {
   "cell_type": "markdown",
   "metadata": {},
   "source": [
    "# 3) Import your data\n",
    "\n",
    "In the space below, import your data. If your data span multiple files, read them all in. If applicable, merge or append them as needed."
   ]
  },
  {
   "cell_type": "code",
   "execution_count": 2,
   "metadata": {
    "tags": [
     "outputPrepend"
    ]
   },
   "outputs": [
    {
     "output_type": "stream",
     "name": "stdout",
     "text": "l Fields]', 'Field': 'All Fields', 'Count': '1', 'Explode': 'N'}, 'OR', {'Term': 'genomiprojektin[All Fields]', 'Field': 'All Fields', 'Count': '1', 'Explode': 'N'}, 'OR', {'Term': 'genomique[All Fields]', 'Field': 'All Fields', 'Count': '4304', 'Explode': 'N'}, 'OR', {'Term': \"genomique'[All Fields]\", 'Field': 'All Fields', 'Count': '1', 'Explode': 'N'}, 'OR', {'Term': 'genomiqueet[All Fields]', 'Field': 'All Fields', 'Count': '1', 'Explode': 'N'}, 'OR', {'Term': 'genomiqueevry[All Fields]', 'Field': 'All Fields', 'Count': '2', 'Explode': 'N'}, 'OR', {'Term': 'genomiquefonctionnelle[All Fields]', 'Field': 'All Fields', 'Count': '1', 'Explode': 'N'}, 'OR', {'Term': 'genomiques[All Fields]', 'Field': 'All Fields', 'Count': '169', 'Explode': 'N'}, 'OR', {'Term': 'genomiquespublishing[All Fields]', 'Field': 'All Fields', 'Count': '1', 'Explode': 'N'}, 'OR', {'Term': 'genomircs[All Fields]', 'Field': 'All Fields', 'Count': '1', 'Explode': 'N'}, 'OR', {'Term': 'genomis[All Fields]', 'Field': 'All Fields', 'Count': '3', 'Explode': 'N'}, 'OR', {'Term': 'genomische[All Fields]', 'Field': 'All Fields', 'Count': '27', 'Explode': 'N'}, 'OR', {'Term': 'genomischen[All Fields]', 'Field': 'All Fields', 'Count': '9', 'Explode': 'N'}, 'OR', {'Term': 'genomischer[All Fields]', 'Field': 'All Fields', 'Count': '8', 'Explode': 'N'}, 'OR', {'Term': 'genomisekvenssin[All Fields]', 'Field': 'All Fields', 'Count': '1', 'Explode': 'N'}, 'OR', {'Term': 'genomiser[All Fields]', 'Field': 'All Fields', 'Count': '1', 'Explode': 'N'}, 'OR', {'Term': 'genomisk[All Fields]', 'Field': 'All Fields', 'Count': '9', 'Explode': 'N'}, 'OR', {'Term': 'genomiska[All Fields]', 'Field': 'All Fields', 'Count': '1', 'Explode': 'N'}, 'OR', {'Term': 'genomisotopic[All Fields]', 'Field': 'All Fields', 'Count': '1', 'Explode': 'N'}, 'OR', {'Term': 'genomist[All Fields]', 'Field': 'All Fields', 'Count': '1', 'Explode': 'N'}, 'OR', {'Term': 'genomists[All Fields]', 'Field': 'All Fields', 'Count': '3', 'Explode': 'N'}, 'OR', {'Term': 'genomit[All Fields]', 'Field': 'All Fields', 'Count': '6', 'Explode': 'N'}, 'OR', {'Term': 'genomite[All Fields]', 'Field': 'All Fields', 'Count': '1', 'Explode': 'N'}, 'OR', {'Term': 'genomitiedon[All Fields]', 'Field': 'All Fields', 'Count': '1', 'Explode': 'N'}, 'OR', {'Term': 'genomitutkimus[All Fields]', 'Field': 'All Fields', 'Count': '1', 'Explode': 'N'}, 'OR', {'Term': 'genomix[All Fields]', 'Field': 'All Fields', 'Count': '148', 'Explode': 'N'}, 'OR', {'Term': 'genomix4life[All Fields]', 'Field': 'All Fields', 'Count': '34', 'Explode': 'N'}, 'OR', {'Term': 'genomixcarl[All Fields]', 'Field': 'All Fields', 'Count': '1', 'Explode': 'N'}, 'OR', {'Term': 'genomixlab[All Fields]', 'Field': 'All Fields', 'Count': '2', 'Explode': 'N'}, 'OR', {'Term': 'genomize[All Fields]', 'Field': 'All Fields', 'Count': '3', 'Explode': 'N'}, 'OR', {'Term': 'genomizer[All Fields]', 'Field': 'All Fields', 'Count': '1', 'Explode': 'N'}, 'OR', 'GROUP'], 'QueryTranslation': \"genom[All Fields] OR genom'ic[All Fields] OR genom009[All Fields] OR genoma[All Fields] OR genoma'[All Fields] OR genoma3[All Fields] OR genomac[All Fields] OR genomaces[All Fields] OR genomad[All Fields] OR genomaesalute[All Fields] OR genomagnetic[All Fields] OR genomaize[All Fields] OR genomakh[All Fields] OR genomal[All Fields] OR genomalc[All Fields] OR genomam[All Fields] OR genomami[All Fields] OR genomanalyse[All Fields] OR genomanalysen[All Fields] OR genomanalytik[All Fields] OR genomanalytische[All Fields] OR genomancer[All Fields] OR genomancy[All Fields] OR genomangen[All Fields] OR genomania[All Fields] OR genomanteil[All Fields] OR genomanteile[All Fields] OR genomap[All Fields] OR genomapping[All Fields] OR genomar[All Fields] OR genomarbetad[All Fields] OR genomark[All Fields] OR genomarkers[All Fields] OR genomas[All Fields] OR genomashimizu[All Fields] OR genomass[All Fields] OR genomassoziierte[All Fields] OR genomatched[All Fields] OR genomatic[All Fields] OR genomatica[All Fields] OR genomation[All Fields] OR genomatix[All Fields] OR genomatix'[All Fields] OR genomatixusa[All Fields] OR genomatrix[All Fields] OR genomavegetal[All Fields] OR genomax[All Fields] OR genombasierte[All Fields] OR genombasierten[All Fields] OR genombasierter[All Fields] OR genombeitrage[All Fields] OR genombench[All Fields] OR genombiologie[All Fields] OR genombiologigruppa[All Fields] OR genomblodning[All Fields] OR genomblodningen[All Fields] OR genomblodningskapaciteten[All Fields] OR genomblodningsrubbningar[All Fields] OR genombrott[All Fields] OR genombrotten[All Fields] OR genombrottet[All Fields] OR genombrottssmarta[All Fields] OR genombrottsstadier[All Fields] OR genomc[All Fields] OR genomcan[All Fields] OR genomcially[All Fields] OR genomcis[All Fields] OR genomcs[All Fields] OR genomdata[All Fields] OR genomdaten[All Fields] OR genomdriva[All Fields] OR genome[All Fields] OR genome'[All Fields] OR genome''[All Fields] OR genome's[All Fields] OR genome01[All Fields] OR genome1[All Fields] OR genome10k[All Fields] OR genome1214[All Fields] OR genome2[All Fields] OR genome2d[All Fields] OR genome3d[All Fields] OR genome3d's[All Fields] OR genome5000trade[All Fields] OR genomea[All Fields] OR genomeaffecting[All Fields] OR genomealignmenttools[All Fields] OR genomeanalysis[All Fields] OR genomeanalysistk[All Fields] OR genomeanalyzer[All Fields] OR genomeand[All Fields] OR genomeapplied[All Fields] OR genomearchitecture[All Fields] OR genomeartist[All Fields] OR genomeasia[All Fields] OR genomeasia100k[All Fields] OR genomeast[All Fields] OR genomeatlantic[All Fields] OR genomeatlas[All Fields] OR genomeatlases[All Fields] OR genomebased[All Fields] OR genomebasedmodel[All Fields] OR genomebc[All Fields] OR genomebio[All Fields] OR genomebioinfo[All Fields] OR genomebiology[All Fields] OR genomebisulfite[All Fields] OR genomeblast[All Fields] OR genomebrowse[All Fields] OR genomebrowser[All Fields] OR genomebrowsing[All Fields] OR genomebuild[All Fields] OR genomec[All Fields] OR genomecalligrapher[All Fields] OR genomecampus[All Fields] OR genomecare[All Fields] OR genomecat[All Fields] OR genomecats[All Fields] OR genomecenter[All Fields] OR genomeceutical[All Fields] OR genomeceuticals[All Fields] OR genomeceuticals'[All Fields] OR genomechanix[All Fields] OR genomecharacterization[All Fields] OR genomecluster[All Fields] OR genomecomb[All Fields] OR genomecomp[All Fields] OR genomecomparator[All Fields] OR genomecompasstrade[All Fields] OR genomeconnect[All Fields] OR genomecons[All Fields] OR genomecopies[All Fields] OR genomecorp[All Fields] OR genomecraft[All Fields] OR genomecrispr[All Fields] OR genomecurator[All Fields] OR genomecurly[All Fields] OR genomed[All Fields] OR genomed'[All Fields] OR genomed3plot[All Fields] OR genomedata[All Fields] OR genomedb[All Fields] OR genomedca[All Fields] OR genomedcenter[All Fields] OR genomedenmark[All Fields] OR genomedetective[All Fields] OR genomedia[All Fields] OR genomediagram[All Fields] OR genomedica[All Fields] OR genomedical[All Fields] OR genomedicines[All Fields] OR genomedics[All Fields] OR genomedisco[All Fields] OR genomedisco's[All Fields] OR genomedistance[All Fields] OR genomeditierung[All Fields] OR genomedmolecular[All Fields] OR genomedx[All Fields] OR genomedynamics[All Fields] OR genomeeast[All Fields] OR genomeediting[All Fields] OR genomeequivalents[All Fields] OR genomefingerprinter[All Fields] OR genomeflow[All Fields] OR genomefun[All Fields] OR genomegamap[All Fields] OR genomegamap's[All Fields] OR genomegeek[All Fields] OR genomegems[All Fields] OR genomegenome[All Fields] OR genomegitar[All Fields] OR genomego[All Fields] OR genomegraphr[All Fields] OR genomegraphs[All Fields] OR genomehalving[All Fields] OR genomeheart[All Fields] OR genomehiptrade[All Fields] OR genomehistory[All Fields] OR genomehubs[All Fields] OR genomeic[All Fields] OR genomeics[All Fields] OR genomeindia[All Fields] OR genomeinformatics[All Fields] OR genomeinspector[All Fields] OR genomeinterpretation[All Fields] OR genomejack[All Fields] OR genomekey[All Fields] OR genomel[All Fields] OR genomelab[All Fields] OR genomelabtm[All Fields] OR genomelabtrade[All Fields] OR genomeland[All Fields] OR genomelandscaper[All Fields] OR genomelaser[All Fields] OR genomelaw[All Fields] OR genomelb[All Fields] OR genomelength[All Fields] OR genomelenth[All Fields] OR genomeless[All Fields] OR genomeliang[All Fields] OR genomelike[All Fields] OR genomelpredict[All Fields] OR genomem[All Fields] OR genomemalaysia[All Fields] OR genomemap[All Fields] OR genomemapper[All Fields] OR genomemaps[All Fields] OR genomemark[All Fields] OR genomemark'[All Fields] OR genomemasker[All Fields] OR genomematcher[All Fields] OR genomematrix[All Fields] OR genomematrix'[All Fields] OR genomembrane[All Fields] OR genomemedical[All Fields] OR genomemedicine[All Fields] OR genomemetm's[All Fields] OR genomemining[All Fields] OR genomemixer[All Fields] OR genomen[All Fields] OR genomenclature[All Fields] OR genomene[All Fields] OR genomenegative[All Fields] OR genomenet[All Fields] OR genomenetwork[All Fields] OR genomenext[All Fields] OR genomenexus[All Fields] OR genomenon[All Fields] OR genomeon[All Fields] OR genomeorganizing[All Fields] OR genomepartitioner[All Fields] OR genomepd[All Fields] OR genomepeek[All Fields] OR genomepilot[All Fields] OR genomepipe[All Fields] OR genomepixelizer[All Fields] OR genomeplex[All Fields] OR genomeplextrade[All Fields] OR genomeplot[All Fields] OR genomepop[All Fields] OR genomepride[All Fields] OR genomeprimer[All Fields] OR genomeprj[All Fields] OR genomeprojector[All Fields] OR genomeprojectsolutions[All Fields] OR genomeproperties[All Fields] OR genomept[All Fields] OR genomeqc[All Fields] OR genomequebec[All Fields] OR genomequest[All Fields] OR genomer[All Fields] OR genomera[All Fields] OR genomeratrade[All Fields] OR genomeres2009[All Fields] OR genomeresearch[All Fields] OR genomering[All Fields] OR genomerna[All Fields] OR genomernai[All Fields] OR genomerunner[All Fields] OR genomerxus[All Fields] OR genomes[All Fields] OR genomes'[All Fields] OR genomes's[All Fields] OR genomes1[All Fields] OR genomes2drugs[All Fields] OR genomes2people[All Fields] OR genomesburr[All Fields] OR genomescale[All Fields] OR genomescan[All Fields] OR genomescans[All Fields] OR genomescape[All Fields] OR genomescapes[All Fields] OR genomescience[All Fields] OR genomesciences[All Fields] OR genomescope[All Fields] OR genomescope's[All Fields] OR genomescope2[All Fields] OR genomescout[All Fields] OR genomesense[All Fields] OR genomeseq[All Fields] OR genomesequence[All Fields] OR genomesequencing[All Fields] OR genomesforlife[All Fields] OR genomesh[All Fields] OR genomesim[All Fields] OR genomesimla[All Fields] OR genomesingapore[All Fields] OR genomesis[All Fields] OR genomesize[All Fields] OR genomeskeggpathway[All Fields] OR genomesnapshot[All Fields] OR genomesolutions[All Fields] OR genomesonline[All Fields] OR genomespace[All Fields] OR genomespecies[All Fields] OR genomespecific[All Fields] OR genomespread[All Fields] OR genomesrs[All Fields] OR genomestrip[All Fields] OR genomestudio[All Fields] OR genomestudiotrade[All Fields] OR genomeswe[All Fields] OR genomesync[All Fields] OR genomet[All Fields] OR genometa[All Fields] OR genometabolic[All Fields] OR genometastasis[All Fields] OR genometester[All Fields] OR genometester4[All Fields] OR genomethate[All Fields] OR genomethics[All Fields] OR genometix[All Fields] OR genometools[All Fields] OR genometra[All Fields] OR genometrafac[All Fields] OR genometrakr[All Fields] OR genometrakrcp[All Fields] OR genometri[All Fields] OR genometric[All Fields] OR genometricorr[All Fields] OR genometrics[All Fields] OR genometries[All Fields] OR genometrix[All Fields] OR genometry[All Fields] OR genomets[All Fields] OR genometype[All Fields] OR genometype'[All Fields] OR genometypes[All Fields] OR genomeup[All Fields] OR genomeuplot[All Fields] OR genomeutwin[All Fields] OR genomevariation[All Fields] OR genomeview[All Fields] OR genomevip[All Fields] OR genomevip's[All Fields] OR genomevista[All Fields] OR genomeviz[All Fields] OR genomevolution[All Fields] OR genomevx[All Fields] OR genomewalker[All Fields] OR genomewalkertrade[All Fields] OR genomewalking[All Fields] OR genomewarp[All Fields] OR genomeweb[All Fields] OR genomewide[All Fields] OR genomewidepdb[All Fields] OR genomewidesnp[All Fields] OR genomewiki[All Fields] OR genomewise[All Fields] OR genomex[All Fields] OR genomexe[All Fields] OR genomexenvironmentxmanagement[All Fields] OR genomeyongin[All Fields] OR genomezip[All Fields] OR genomezipper[All Fields] OR genomezippers[All Fields] OR genomfingerprints[All Fields] OR genomfoerd[All Fields] OR genomfora[All Fields] OR genomforande[All Fields] OR genomforandet[All Fields] OR genomforas[All Fields] OR genomforbar[All Fields] OR genomford[All Fields] OR genomforde[All Fields] OR genomforetag[All Fields] OR genomfors[All Fields] OR genomforschung[All Fields] OR genomforschungsnetz[All Fields] OR genomforschungsnetzwerk[All Fields] OR genomforskning[All Fields] OR genomforskningen[All Fields] OR genomforts[All Fields] OR genomga[All Fields] OR genomgaang[All Fields] OR genomgaende[All Fields] OR genomgang[All Fields] OR genomgangar[All Fields] OR genomgangen[All Fields] OR genomgar[All Fields] OR genomgatt[All Fields] OR genomgripande[All Fields] OR genomhibridizacios[All Fields] OR genomhibridizalas[All Fields] OR genomhybridisierung[All Fields] OR genomhygienisk[All Fields] OR genomi[All Fields] OR genomi'c[All Fields] OR genomia[All Fields] OR genomiac[All Fields] OR genomiac2[All Fields] OR genomial[All Fields] OR genomialis[All Fields] OR genomic[All Fields] OR genomic'[All Fields] OR genomic''[All Fields] OR genomica[All Fields] OR genomicacsic[All Fields] OR genomicahealth[All Fields] OR genomical[All Fields] OR genomically[All Fields] OR genomically'[All Fields] OR genomicaly[All Fields] OR genomicamedellin[All Fields] OR genomicamente[All Fields] OR genomicamexico[All Fields] OR genomicand[All Fields] OR genomicare[All Fields] OR genomicas[All Fields] OR genomicasalmones[All Fields] OR genomicaverage[All Fields] OR genomicay[All Fields] OR genomicbased[All Fields] OR genomiccharacterization[All Fields] OR genomiccopies[All Fields] OR genomicdna[All Fields] OR genomicdna2[All Fields] OR genomice[All Fields] OR genomicencyclopedia[All Fields] OR genomicenterprise[All Fields] OR genomicepidemiology[All Fields] OR genomicepidemiology'[All Fields] OR genomices[All Fields] OR genomicfeatures[All Fields] OR genomicfx[All Fields] OR genomicgraphcoords[All Fields] OR genomiche[All Fields] OR genomichealth[All Fields] OR genomichealthcarestrategies[All Fields] OR genomichybridization[All Fields] OR genomicin[All Fields] OR genomicinformatics[All Fields] OR genomicinteractions[All Fields] OR genomicise[All Fields] OR genomicist[All Fields] OR genomicist's[All Fields] OR genomicists[All Fields] OR genomicization[All Fields] OR genomicization'[All Fields] OR genomicka[All Fields] OR genomickeho[All Fields] OR genomickych[All Fields] OR genomicly[All Fields] OR genomicmappingdata[All Fields] OR genomicmedicine[All Fields] OR genomicmedicinealliance[All Fields] OR genomicmicrodeletion[All Fields] OR genomico[All Fields] OR genomicobject[All Fields] OR genomicos[All Fields] OR genomicpariscentre[All Fields] OR genomicparsec[All Fields] OR genomicpeptidefinder[All Fields] OR genomicper[All Fields] OR genomicprediction[All Fields] OR genomicprep[All Fields] OR genomicranges[All Fields] OR genomicresearch[All Fields] OR genomicresources[All Fields] OR genomics[All Fields] OR genomics'[All Fields] OR genomics's[All Fields] OR genomics,[All Fields] OR genomics1[All Fields] OR genomics1,2,3,4[All Fields] OR genomics10[All Fields] OR genomics14[All Fields] OR genomics2[All Fields] OR genomics200911172226changtcwentzeleakentoatransactivation[All Fields] OR genomics20131246572324217822shilzhangsfengkmicrorna[All Fields] OR genomics4[All Fields] OR genomicsadelaide[All Fields] OR genomicsadviser[All Fields] OR genomicsanalysescouldcontribute[All Fields] OR genomicsand[All Fields] OR genomicsashworth[All Fields] OR genomicsassisted[All Fields] OR genomicsatellite[All Fields] OR genomicsbarcelona[All Fields] OR genomicsbeijing[All Fields] OR genomicscale[All Fields] OR genomicscape[All Fields] OR genomicscentral[All Fields] OR genomicscentre[All Fields] OR genomicscollaborative[All Fields] OR genomicscorelab[All Fields] OR genomicscores[All Fields] OR genomicscorporation[All Fields] OR genomicscruk[All Fields] OR genomicsdata[All Fields] OR genomicsdb[All Fields] OR genomicsdepartment[All Fields] OR genomicsdouble[All Fields] OR genomicsedepartment[All Fields] OR genomicsegments[All Fields] OR genomicsengland[All Fields] OR genomicsfondation[All Fields] OR genomicsforlife[All Fields] OR genomicsgarvan[All Fields] OR genomicsgraduate[All Fields] OR genomicsinc[All Fields] OR genomicsinova[All Fields] OR genomicsinstitute[All Fields] OR genomicsiter[All Fields] OR genomicslab[All Fields] OR genomicslife[All Fields] OR genomicsmayo[All Fields] OR genomicsmichigan[All Fields] OR genomicsmku[All Fields] OR genomicsolutions[All Fields] OR genomicsone[All Fields] OR genomicsoutions[All Fields] OR genomicsplc[All Fields] OR genomicsportals[All Fields] OR genomicsprinceton[All Fields] OR genomicsproducts[All Fields] OR genomicsproteomics[All Fields] OR genomicsroyal[All Fields] OR genomicsrpackage[All Fields] OR genomicssan[All Fields] OR genomicsshanghai[All Fields] OR genomicsstorrsconnecticut[All Fields] OR genomicssungkyunkwan[All Fields] OR genomicstianjin[All Fields] OR genomicsto[All Fields] OR genomicstrade[All Fields] OR genomicsuniversity[All Fields] OR genomicsv[All Fields] OR genomicsvm[All Fields] OR genomicswageningen[All Fields] OR genomictales[All Fields] OR genomictools[All Fields] OR genomictree[All Fields] OR genomicus[All Fields] OR genomicusplants[All Fields] OR genomicvariations[All Fields] OR genomicvision[All Fields] OR genomicworks[All Fields] OR genomicznej[All Fields] OR genomidea[All Fields] OR genomie[All Fields] OR genomie's[All Fields] OR genomien[All Fields] OR genomification[All Fields] OR genomiginin[All Fields] OR genomii[All Fields] OR genomiikka[All Fields] OR genomiin[All Fields] OR genomik[All Fields] OR genomika[All Fields] OR genomikai[All Fields] OR genomike[All Fields] OR genomikeskus[All Fields] OR genomiki[All Fields] OR genomikleri[All Fields] OR genomikoi[All Fields] OR genomiku[All Fields] OR genomikus[All Fields] OR genomiky[All Fields] OR genomilaaketieteeseen[All Fields] OR genomind[All Fields] OR genomine[All Fields] OR genominer[All Fields] OR genominformatik[All Fields] OR genoming[All Fields] OR genominic[All Fields] OR genomio[All Fields] OR genomiphi[All Fields] OR genomiphitrade[All Fields] OR genomiprojekti[All Fields] OR genomiprojektin[All Fields] OR genomique[All Fields] OR genomique'[All Fields] OR genomiqueet[All Fields] OR genomiqueevry[All Fields] OR genomiquefonctionnelle[All Fields] OR genomiques[All Fields] OR genomiquespublishing[All Fields] OR genomircs[All Fields] OR genomis[All Fields] OR genomische[All Fields] OR genomischen[All Fields] OR genomischer[All Fields] OR genomisekvenssin[All Fields] OR genomiser[All Fields] OR genomisk[All Fields] OR genomiska[All Fields] OR genomisotopic[All Fields] OR genomist[All Fields] OR genomists[All Fields] OR genomit[All Fields] OR genomite[All Fields] OR genomitiedon[All Fields] OR genomitutkimus[All Fields] OR genomix[All Fields] OR genomix4life[All Fields] OR genomixcarl[All Fields] OR genomixlab[All Fields] OR genomize[All Fields] OR genomizer[All Fields]\", 'WarningList': {'OutputMessage': [\"Wildcard search for 'genom*' used only the first 600 variations. Lengthen the root word to search for all endings.\"], 'QuotedPhraseNotFound': [], 'PhraseIgnored': []}}\nSearch successful.\n"
    }
   ],
   "source": [
    "#importing needed packages\n",
    "import pandas as pd\n",
    "import numpy as np \n",
    "from Bio import Entrez\n",
    "\n",
    "#searching PubMed for \"genomics\" and downloading dictionary of data including number of publications, accession IDs, and relevant MeSH term \n",
    "Entrez.email = \"eileen.cahill@nih.gov\"\n",
    "handle = Entrez.esearch(db=\"pubmed\", retmax=100, term=\"genom*\", idtype=\"acc\")\n",
    "record = Entrez.read(handle)\n",
    "handle.close()\n",
    "\n",
    "\n",
    "print(record)\n",
    "if record['Count'] == '0':\n",
    "    print(\"\\nYour search did not return any publications. Try another search.\\n\")\n",
    "    print(\"Error list says: \" + str(record['ErrorList']) + \"\\n\")\n",
    "    print(\"Warning list says: \" + str(record['WarningList']))\n",
    "else:\n",
    "    print(\"Search successful.\")"
   ]
  },
  {
   "cell_type": "code",
   "execution_count": 3,
   "metadata": {
    "tags": [
     "outputPrepend"
    ]
   },
   "outputs": [
    {
     "output_type": "stream",
     "name": "stdout",
     "text": "<class 'Bio.Entrez.Parser.DictionaryElement'>\n<class '_io.TextIOWrapper'>\n"
    }
   ],
   "source": [
    "#looking at data and types\n",
    "print(type(record))\n",
    "print(type(handle))\n",
    "#print(record)\n",
    "#print(record['IdList'])\n"
   ]
  },
  {
   "cell_type": "code",
   "execution_count": 4,
   "metadata": {
    "tags": [
     "outputPrepend"
    ]
   },
   "outputs": [
    {
     "output_type": "stream",
     "name": "stdout",
     "text": " Fields]', 'Field': 'All Fields', 'Count': '1', 'Explode': 'N'}, 'OR', {'Term': 'genomiprojektin[All Fields]', 'Field': 'All Fields', 'Count': '1', 'Explode': 'N'}, 'OR', {'Term': 'genomique[All Fields]', 'Field': 'All Fields', 'Count': '4304', 'Explode': 'N'}, 'OR', {'Term': \"genomique'[All Fields]\", 'Field': 'All Fields', 'Count': '1', 'Explode': 'N'}, 'OR', {'Term': 'genomiqueet[All Fields]', 'Field': 'All Fields', 'Count': '1', 'Explode': 'N'}, 'OR', {'Term': 'genomiqueevry[All Fields]', 'Field': 'All Fields', 'Count': '2', 'Explode': 'N'}, 'OR', {'Term': 'genomiquefonctionnelle[All Fields]', 'Field': 'All Fields', 'Count': '1', 'Explode': 'N'}, 'OR', {'Term': 'genomiques[All Fields]', 'Field': 'All Fields', 'Count': '169', 'Explode': 'N'}, 'OR', {'Term': 'genomiquespublishing[All Fields]', 'Field': 'All Fields', 'Count': '1', 'Explode': 'N'}, 'OR', {'Term': 'genomircs[All Fields]', 'Field': 'All Fields', 'Count': '1', 'Explode': 'N'}, 'OR', {'Term': 'genomis[All Fields]', 'Field': 'All Fields', 'Count': '3', 'Explode': 'N'}, 'OR', {'Term': 'genomische[All Fields]', 'Field': 'All Fields', 'Count': '27', 'Explode': 'N'}, 'OR', {'Term': 'genomischen[All Fields]', 'Field': 'All Fields', 'Count': '9', 'Explode': 'N'}, 'OR', {'Term': 'genomischer[All Fields]', 'Field': 'All Fields', 'Count': '8', 'Explode': 'N'}, 'OR', {'Term': 'genomisekvenssin[All Fields]', 'Field': 'All Fields', 'Count': '1', 'Explode': 'N'}, 'OR', {'Term': 'genomiser[All Fields]', 'Field': 'All Fields', 'Count': '1', 'Explode': 'N'}, 'OR', {'Term': 'genomisk[All Fields]', 'Field': 'All Fields', 'Count': '9', 'Explode': 'N'}, 'OR', {'Term': 'genomiska[All Fields]', 'Field': 'All Fields', 'Count': '1', 'Explode': 'N'}, 'OR', {'Term': 'genomisotopic[All Fields]', 'Field': 'All Fields', 'Count': '1', 'Explode': 'N'}, 'OR', {'Term': 'genomist[All Fields]', 'Field': 'All Fields', 'Count': '1', 'Explode': 'N'}, 'OR', {'Term': 'genomists[All Fields]', 'Field': 'All Fields', 'Count': '3', 'Explode': 'N'}, 'OR', {'Term': 'genomit[All Fields]', 'Field': 'All Fields', 'Count': '6', 'Explode': 'N'}, 'OR', {'Term': 'genomite[All Fields]', 'Field': 'All Fields', 'Count': '1', 'Explode': 'N'}, 'OR', {'Term': 'genomitiedon[All Fields]', 'Field': 'All Fields', 'Count': '1', 'Explode': 'N'}, 'OR', {'Term': 'genomitutkimus[All Fields]', 'Field': 'All Fields', 'Count': '1', 'Explode': 'N'}, 'OR', {'Term': 'genomix[All Fields]', 'Field': 'All Fields', 'Count': '148', 'Explode': 'N'}, 'OR', {'Term': 'genomix4life[All Fields]', 'Field': 'All Fields', 'Count': '34', 'Explode': 'N'}, 'OR', {'Term': 'genomixcarl[All Fields]', 'Field': 'All Fields', 'Count': '1', 'Explode': 'N'}, 'OR', {'Term': 'genomixlab[All Fields]', 'Field': 'All Fields', 'Count': '2', 'Explode': 'N'}, 'OR', {'Term': 'genomize[All Fields]', 'Field': 'All Fields', 'Count': '3', 'Explode': 'N'}, 'OR', {'Term': 'genomizer[All Fields]', 'Field': 'All Fields', 'Count': '1', 'Explode': 'N'}, 'OR', 'GROUP']], ['QueryTranslation', \"genom[All Fields] OR genom'ic[All Fields] OR genom009[All Fields] OR genoma[All Fields] OR genoma'[All Fields] OR genoma3[All Fields] OR genomac[All Fields] OR genomaces[All Fields] OR genomad[All Fields] OR genomaesalute[All Fields] OR genomagnetic[All Fields] OR genomaize[All Fields] OR genomakh[All Fields] OR genomal[All Fields] OR genomalc[All Fields] OR genomam[All Fields] OR genomami[All Fields] OR genomanalyse[All Fields] OR genomanalysen[All Fields] OR genomanalytik[All Fields] OR genomanalytische[All Fields] OR genomancer[All Fields] OR genomancy[All Fields] OR genomangen[All Fields] OR genomania[All Fields] OR genomanteil[All Fields] OR genomanteile[All Fields] OR genomap[All Fields] OR genomapping[All Fields] OR genomar[All Fields] OR genomarbetad[All Fields] OR genomark[All Fields] OR genomarkers[All Fields] OR genomas[All Fields] OR genomashimizu[All Fields] OR genomass[All Fields] OR genomassoziierte[All Fields] OR genomatched[All Fields] OR genomatic[All Fields] OR genomatica[All Fields] OR genomation[All Fields] OR genomatix[All Fields] OR genomatix'[All Fields] OR genomatixusa[All Fields] OR genomatrix[All Fields] OR genomavegetal[All Fields] OR genomax[All Fields] OR genombasierte[All Fields] OR genombasierten[All Fields] OR genombasierter[All Fields] OR genombeitrage[All Fields] OR genombench[All Fields] OR genombiologie[All Fields] OR genombiologigruppa[All Fields] OR genomblodning[All Fields] OR genomblodningen[All Fields] OR genomblodningskapaciteten[All Fields] OR genomblodningsrubbningar[All Fields] OR genombrott[All Fields] OR genombrotten[All Fields] OR genombrottet[All Fields] OR genombrottssmarta[All Fields] OR genombrottsstadier[All Fields] OR genomc[All Fields] OR genomcan[All Fields] OR genomcially[All Fields] OR genomcis[All Fields] OR genomcs[All Fields] OR genomdata[All Fields] OR genomdaten[All Fields] OR genomdriva[All Fields] OR genome[All Fields] OR genome'[All Fields] OR genome''[All Fields] OR genome's[All Fields] OR genome01[All Fields] OR genome1[All Fields] OR genome10k[All Fields] OR genome1214[All Fields] OR genome2[All Fields] OR genome2d[All Fields] OR genome3d[All Fields] OR genome3d's[All Fields] OR genome5000trade[All Fields] OR genomea[All Fields] OR genomeaffecting[All Fields] OR genomealignmenttools[All Fields] OR genomeanalysis[All Fields] OR genomeanalysistk[All Fields] OR genomeanalyzer[All Fields] OR genomeand[All Fields] OR genomeapplied[All Fields] OR genomearchitecture[All Fields] OR genomeartist[All Fields] OR genomeasia[All Fields] OR genomeasia100k[All Fields] OR genomeast[All Fields] OR genomeatlantic[All Fields] OR genomeatlas[All Fields] OR genomeatlases[All Fields] OR genomebased[All Fields] OR genomebasedmodel[All Fields] OR genomebc[All Fields] OR genomebio[All Fields] OR genomebioinfo[All Fields] OR genomebiology[All Fields] OR genomebisulfite[All Fields] OR genomeblast[All Fields] OR genomebrowse[All Fields] OR genomebrowser[All Fields] OR genomebrowsing[All Fields] OR genomebuild[All Fields] OR genomec[All Fields] OR genomecalligrapher[All Fields] OR genomecampus[All Fields] OR genomecare[All Fields] OR genomecat[All Fields] OR genomecats[All Fields] OR genomecenter[All Fields] OR genomeceutical[All Fields] OR genomeceuticals[All Fields] OR genomeceuticals'[All Fields] OR genomechanix[All Fields] OR genomecharacterization[All Fields] OR genomecluster[All Fields] OR genomecomb[All Fields] OR genomecomp[All Fields] OR genomecomparator[All Fields] OR genomecompasstrade[All Fields] OR genomeconnect[All Fields] OR genomecons[All Fields] OR genomecopies[All Fields] OR genomecorp[All Fields] OR genomecraft[All Fields] OR genomecrispr[All Fields] OR genomecurator[All Fields] OR genomecurly[All Fields] OR genomed[All Fields] OR genomed'[All Fields] OR genomed3plot[All Fields] OR genomedata[All Fields] OR genomedb[All Fields] OR genomedca[All Fields] OR genomedcenter[All Fields] OR genomedenmark[All Fields] OR genomedetective[All Fields] OR genomedia[All Fields] OR genomediagram[All Fields] OR genomedica[All Fields] OR genomedical[All Fields] OR genomedicines[All Fields] OR genomedics[All Fields] OR genomedisco[All Fields] OR genomedisco's[All Fields] OR genomedistance[All Fields] OR genomeditierung[All Fields] OR genomedmolecular[All Fields] OR genomedx[All Fields] OR genomedynamics[All Fields] OR genomeeast[All Fields] OR genomeediting[All Fields] OR genomeequivalents[All Fields] OR genomefingerprinter[All Fields] OR genomeflow[All Fields] OR genomefun[All Fields] OR genomegamap[All Fields] OR genomegamap's[All Fields] OR genomegeek[All Fields] OR genomegems[All Fields] OR genomegenome[All Fields] OR genomegitar[All Fields] OR genomego[All Fields] OR genomegraphr[All Fields] OR genomegraphs[All Fields] OR genomehalving[All Fields] OR genomeheart[All Fields] OR genomehiptrade[All Fields] OR genomehistory[All Fields] OR genomehubs[All Fields] OR genomeic[All Fields] OR genomeics[All Fields] OR genomeindia[All Fields] OR genomeinformatics[All Fields] OR genomeinspector[All Fields] OR genomeinterpretation[All Fields] OR genomejack[All Fields] OR genomekey[All Fields] OR genomel[All Fields] OR genomelab[All Fields] OR genomelabtm[All Fields] OR genomelabtrade[All Fields] OR genomeland[All Fields] OR genomelandscaper[All Fields] OR genomelaser[All Fields] OR genomelaw[All Fields] OR genomelb[All Fields] OR genomelength[All Fields] OR genomelenth[All Fields] OR genomeless[All Fields] OR genomeliang[All Fields] OR genomelike[All Fields] OR genomelpredict[All Fields] OR genomem[All Fields] OR genomemalaysia[All Fields] OR genomemap[All Fields] OR genomemapper[All Fields] OR genomemaps[All Fields] OR genomemark[All Fields] OR genomemark'[All Fields] OR genomemasker[All Fields] OR genomematcher[All Fields] OR genomematrix[All Fields] OR genomematrix'[All Fields] OR genomembrane[All Fields] OR genomemedical[All Fields] OR genomemedicine[All Fields] OR genomemetm's[All Fields] OR genomemining[All Fields] OR genomemixer[All Fields] OR genomen[All Fields] OR genomenclature[All Fields] OR genomene[All Fields] OR genomenegative[All Fields] OR genomenet[All Fields] OR genomenetwork[All Fields] OR genomenext[All Fields] OR genomenexus[All Fields] OR genomenon[All Fields] OR genomeon[All Fields] OR genomeorganizing[All Fields] OR genomepartitioner[All Fields] OR genomepd[All Fields] OR genomepeek[All Fields] OR genomepilot[All Fields] OR genomepipe[All Fields] OR genomepixelizer[All Fields] OR genomeplex[All Fields] OR genomeplextrade[All Fields] OR genomeplot[All Fields] OR genomepop[All Fields] OR genomepride[All Fields] OR genomeprimer[All Fields] OR genomeprj[All Fields] OR genomeprojector[All Fields] OR genomeprojectsolutions[All Fields] OR genomeproperties[All Fields] OR genomept[All Fields] OR genomeqc[All Fields] OR genomequebec[All Fields] OR genomequest[All Fields] OR genomer[All Fields] OR genomera[All Fields] OR genomeratrade[All Fields] OR genomeres2009[All Fields] OR genomeresearch[All Fields] OR genomering[All Fields] OR genomerna[All Fields] OR genomernai[All Fields] OR genomerunner[All Fields] OR genomerxus[All Fields] OR genomes[All Fields] OR genomes'[All Fields] OR genomes's[All Fields] OR genomes1[All Fields] OR genomes2drugs[All Fields] OR genomes2people[All Fields] OR genomesburr[All Fields] OR genomescale[All Fields] OR genomescan[All Fields] OR genomescans[All Fields] OR genomescape[All Fields] OR genomescapes[All Fields] OR genomescience[All Fields] OR genomesciences[All Fields] OR genomescope[All Fields] OR genomescope's[All Fields] OR genomescope2[All Fields] OR genomescout[All Fields] OR genomesense[All Fields] OR genomeseq[All Fields] OR genomesequence[All Fields] OR genomesequencing[All Fields] OR genomesforlife[All Fields] OR genomesh[All Fields] OR genomesim[All Fields] OR genomesimla[All Fields] OR genomesingapore[All Fields] OR genomesis[All Fields] OR genomesize[All Fields] OR genomeskeggpathway[All Fields] OR genomesnapshot[All Fields] OR genomesolutions[All Fields] OR genomesonline[All Fields] OR genomespace[All Fields] OR genomespecies[All Fields] OR genomespecific[All Fields] OR genomespread[All Fields] OR genomesrs[All Fields] OR genomestrip[All Fields] OR genomestudio[All Fields] OR genomestudiotrade[All Fields] OR genomeswe[All Fields] OR genomesync[All Fields] OR genomet[All Fields] OR genometa[All Fields] OR genometabolic[All Fields] OR genometastasis[All Fields] OR genometester[All Fields] OR genometester4[All Fields] OR genomethate[All Fields] OR genomethics[All Fields] OR genometix[All Fields] OR genometools[All Fields] OR genometra[All Fields] OR genometrafac[All Fields] OR genometrakr[All Fields] OR genometrakrcp[All Fields] OR genometri[All Fields] OR genometric[All Fields] OR genometricorr[All Fields] OR genometrics[All Fields] OR genometries[All Fields] OR genometrix[All Fields] OR genometry[All Fields] OR genomets[All Fields] OR genometype[All Fields] OR genometype'[All Fields] OR genometypes[All Fields] OR genomeup[All Fields] OR genomeuplot[All Fields] OR genomeutwin[All Fields] OR genomevariation[All Fields] OR genomeview[All Fields] OR genomevip[All Fields] OR genomevip's[All Fields] OR genomevista[All Fields] OR genomeviz[All Fields] OR genomevolution[All Fields] OR genomevx[All Fields] OR genomewalker[All Fields] OR genomewalkertrade[All Fields] OR genomewalking[All Fields] OR genomewarp[All Fields] OR genomeweb[All Fields] OR genomewide[All Fields] OR genomewidepdb[All Fields] OR genomewidesnp[All Fields] OR genomewiki[All Fields] OR genomewise[All Fields] OR genomex[All Fields] OR genomexe[All Fields] OR genomexenvironmentxmanagement[All Fields] OR genomeyongin[All Fields] OR genomezip[All Fields] OR genomezipper[All Fields] OR genomezippers[All Fields] OR genomfingerprints[All Fields] OR genomfoerd[All Fields] OR genomfora[All Fields] OR genomforande[All Fields] OR genomforandet[All Fields] OR genomforas[All Fields] OR genomforbar[All Fields] OR genomford[All Fields] OR genomforde[All Fields] OR genomforetag[All Fields] OR genomfors[All Fields] OR genomforschung[All Fields] OR genomforschungsnetz[All Fields] OR genomforschungsnetzwerk[All Fields] OR genomforskning[All Fields] OR genomforskningen[All Fields] OR genomforts[All Fields] OR genomga[All Fields] OR genomgaang[All Fields] OR genomgaende[All Fields] OR genomgang[All Fields] OR genomgangar[All Fields] OR genomgangen[All Fields] OR genomgar[All Fields] OR genomgatt[All Fields] OR genomgripande[All Fields] OR genomhibridizacios[All Fields] OR genomhibridizalas[All Fields] OR genomhybridisierung[All Fields] OR genomhygienisk[All Fields] OR genomi[All Fields] OR genomi'c[All Fields] OR genomia[All Fields] OR genomiac[All Fields] OR genomiac2[All Fields] OR genomial[All Fields] OR genomialis[All Fields] OR genomic[All Fields] OR genomic'[All Fields] OR genomic''[All Fields] OR genomica[All Fields] OR genomicacsic[All Fields] OR genomicahealth[All Fields] OR genomical[All Fields] OR genomically[All Fields] OR genomically'[All Fields] OR genomicaly[All Fields] OR genomicamedellin[All Fields] OR genomicamente[All Fields] OR genomicamexico[All Fields] OR genomicand[All Fields] OR genomicare[All Fields] OR genomicas[All Fields] OR genomicasalmones[All Fields] OR genomicaverage[All Fields] OR genomicay[All Fields] OR genomicbased[All Fields] OR genomiccharacterization[All Fields] OR genomiccopies[All Fields] OR genomicdna[All Fields] OR genomicdna2[All Fields] OR genomice[All Fields] OR genomicencyclopedia[All Fields] OR genomicenterprise[All Fields] OR genomicepidemiology[All Fields] OR genomicepidemiology'[All Fields] OR genomices[All Fields] OR genomicfeatures[All Fields] OR genomicfx[All Fields] OR genomicgraphcoords[All Fields] OR genomiche[All Fields] OR genomichealth[All Fields] OR genomichealthcarestrategies[All Fields] OR genomichybridization[All Fields] OR genomicin[All Fields] OR genomicinformatics[All Fields] OR genomicinteractions[All Fields] OR genomicise[All Fields] OR genomicist[All Fields] OR genomicist's[All Fields] OR genomicists[All Fields] OR genomicization[All Fields] OR genomicization'[All Fields] OR genomicka[All Fields] OR genomickeho[All Fields] OR genomickych[All Fields] OR genomicly[All Fields] OR genomicmappingdata[All Fields] OR genomicmedicine[All Fields] OR genomicmedicinealliance[All Fields] OR genomicmicrodeletion[All Fields] OR genomico[All Fields] OR genomicobject[All Fields] OR genomicos[All Fields] OR genomicpariscentre[All Fields] OR genomicparsec[All Fields] OR genomicpeptidefinder[All Fields] OR genomicper[All Fields] OR genomicprediction[All Fields] OR genomicprep[All Fields] OR genomicranges[All Fields] OR genomicresearch[All Fields] OR genomicresources[All Fields] OR genomics[All Fields] OR genomics'[All Fields] OR genomics's[All Fields] OR genomics,[All Fields] OR genomics1[All Fields] OR genomics1,2,3,4[All Fields] OR genomics10[All Fields] OR genomics14[All Fields] OR genomics2[All Fields] OR genomics200911172226changtcwentzeleakentoatransactivation[All Fields] OR genomics20131246572324217822shilzhangsfengkmicrorna[All Fields] OR genomics4[All Fields] OR genomicsadelaide[All Fields] OR genomicsadviser[All Fields] OR genomicsanalysescouldcontribute[All Fields] OR genomicsand[All Fields] OR genomicsashworth[All Fields] OR genomicsassisted[All Fields] OR genomicsatellite[All Fields] OR genomicsbarcelona[All Fields] OR genomicsbeijing[All Fields] OR genomicscale[All Fields] OR genomicscape[All Fields] OR genomicscentral[All Fields] OR genomicscentre[All Fields] OR genomicscollaborative[All Fields] OR genomicscorelab[All Fields] OR genomicscores[All Fields] OR genomicscorporation[All Fields] OR genomicscruk[All Fields] OR genomicsdata[All Fields] OR genomicsdb[All Fields] OR genomicsdepartment[All Fields] OR genomicsdouble[All Fields] OR genomicsedepartment[All Fields] OR genomicsegments[All Fields] OR genomicsengland[All Fields] OR genomicsfondation[All Fields] OR genomicsforlife[All Fields] OR genomicsgarvan[All Fields] OR genomicsgraduate[All Fields] OR genomicsinc[All Fields] OR genomicsinova[All Fields] OR genomicsinstitute[All Fields] OR genomicsiter[All Fields] OR genomicslab[All Fields] OR genomicslife[All Fields] OR genomicsmayo[All Fields] OR genomicsmichigan[All Fields] OR genomicsmku[All Fields] OR genomicsolutions[All Fields] OR genomicsone[All Fields] OR genomicsoutions[All Fields] OR genomicsplc[All Fields] OR genomicsportals[All Fields] OR genomicsprinceton[All Fields] OR genomicsproducts[All Fields] OR genomicsproteomics[All Fields] OR genomicsroyal[All Fields] OR genomicsrpackage[All Fields] OR genomicssan[All Fields] OR genomicsshanghai[All Fields] OR genomicsstorrsconnecticut[All Fields] OR genomicssungkyunkwan[All Fields] OR genomicstianjin[All Fields] OR genomicsto[All Fields] OR genomicstrade[All Fields] OR genomicsuniversity[All Fields] OR genomicsv[All Fields] OR genomicsvm[All Fields] OR genomicswageningen[All Fields] OR genomictales[All Fields] OR genomictools[All Fields] OR genomictree[All Fields] OR genomicus[All Fields] OR genomicusplants[All Fields] OR genomicvariations[All Fields] OR genomicvision[All Fields] OR genomicworks[All Fields] OR genomicznej[All Fields] OR genomidea[All Fields] OR genomie[All Fields] OR genomie's[All Fields] OR genomien[All Fields] OR genomification[All Fields] OR genomiginin[All Fields] OR genomii[All Fields] OR genomiikka[All Fields] OR genomiin[All Fields] OR genomik[All Fields] OR genomika[All Fields] OR genomikai[All Fields] OR genomike[All Fields] OR genomikeskus[All Fields] OR genomiki[All Fields] OR genomikleri[All Fields] OR genomikoi[All Fields] OR genomiku[All Fields] OR genomikus[All Fields] OR genomiky[All Fields] OR genomilaaketieteeseen[All Fields] OR genomind[All Fields] OR genomine[All Fields] OR genominer[All Fields] OR genominformatik[All Fields] OR genoming[All Fields] OR genominic[All Fields] OR genomio[All Fields] OR genomiphi[All Fields] OR genomiphitrade[All Fields] OR genomiprojekti[All Fields] OR genomiprojektin[All Fields] OR genomique[All Fields] OR genomique'[All Fields] OR genomiqueet[All Fields] OR genomiqueevry[All Fields] OR genomiquefonctionnelle[All Fields] OR genomiques[All Fields] OR genomiquespublishing[All Fields] OR genomircs[All Fields] OR genomis[All Fields] OR genomische[All Fields] OR genomischen[All Fields] OR genomischer[All Fields] OR genomisekvenssin[All Fields] OR genomiser[All Fields] OR genomisk[All Fields] OR genomiska[All Fields] OR genomisotopic[All Fields] OR genomist[All Fields] OR genomists[All Fields] OR genomit[All Fields] OR genomite[All Fields] OR genomitiedon[All Fields] OR genomitutkimus[All Fields] OR genomix[All Fields] OR genomix4life[All Fields] OR genomixcarl[All Fields] OR genomixlab[All Fields] OR genomize[All Fields] OR genomizer[All Fields]\"], ['WarningList', {'OutputMessage': [\"Wildcard search for 'genom*' used only the first 600 variations. Lengthen the root word to search for all endings.\"], 'QuotedPhraseNotFound': [], 'PhraseIgnored': []}]]\n<class 'list'>\n"
    }
   ],
   "source": [
    "#converting type from Bio.Entrez.Parser.DictionaryElement to list\n",
    "list = []\n",
    "listrecords = []\n",
    "\n",
    "for key, value in record.items():\n",
    "    list = [key, value]\n",
    "    listrecords.append(list)\n",
    "print(listrecords)\n",
    "print(type(listrecords))"
   ]
  },
  {
   "cell_type": "code",
   "execution_count": 5,
   "metadata": {
    "tags": [
     "outputPrepend"
    ]
   },
   "outputs": [
    {
     "output_type": "stream",
     "name": "stdout",
     "text": "['IdList', ['32369867', '32369848', '32369831', '32369821', '32369817', '32369810', '32369809', '32369805', '32369735', '32369734', '32369668', '32369633', '32369600', '32369593', '32369588', '32369585', '32369572', '32369566', '32369565', '32369554', '32369553', '32369552', '32369522', '32369498', '32369496', '32369493', '32369486', '32369481', '32369457', '32369456', '32369452', '32369445', '32369358', '32369273', '32369165', '32369034', '32369020', '32369019', '32369005', '32369004', '32369003', '32369001', '32369000', '32368999', '32368997', '32368983', '32368982', '32368974', '32368927', '32368866', '32368861', '32368792', '32368734', '32368696', '32368685', '32368569', '32368540', '32368513', '32368431', '32368353', '32368352', '32368345', '32368326', '32368312', '32368310', '32368301', '32368296', '32368197', '32368194', '32368185', '32368168', '32368150', '32368149', '32368108', '32368105', '32368102', '32368101', '32368095', '32367807', '32367804', '32367802', '32367801', '32367751', '32367730', '32367721', '32367681', '32367653', '32367649', '32367648', '32367627', '32367588', '32367578', '32367572', '32367544', '32367515', '32367511', '32367443', '32367366', '32367364', '32367315']]\n['32369867', '32369848', '32369831', '32369821', '32369817', '32369810', '32369809', '32369805', '32369735', '32369734', '32369668', '32369633', '32369600', '32369593', '32369588', '32369585', '32369572', '32369566', '32369565', '32369554', '32369553', '32369552', '32369522', '32369498', '32369496', '32369493', '32369486', '32369481', '32369457', '32369456', '32369452', '32369445', '32369358', '32369273', '32369165', '32369034', '32369020', '32369019', '32369005', '32369004', '32369003', '32369001', '32369000', '32368999', '32368997', '32368983', '32368982', '32368974', '32368927', '32368866', '32368861', '32368792', '32368734', '32368696', '32368685', '32368569', '32368540', '32368513', '32368431', '32368353', '32368352', '32368345', '32368326', '32368312', '32368310', '32368301', '32368296', '32368197', '32368194', '32368185', '32368168', '32368150', '32368149', '32368108', '32368105', '32368102', '32368101', '32368095', '32367807', '32367804', '32367802', '32367801', '32367751', '32367730', '32367721', '32367681', '32367653', '32367649', '32367648', '32367627', '32367588', '32367578', '32367572', '32367544', '32367515', '32367511', '32367443', '32367366', '32367364', '32367315']\n"
    }
   ],
   "source": [
    "#creating iterable list of IDs of both string and int type\n",
    "id_list_acquire = listrecords[3]\n",
    "print(id_list_acquire)\n",
    "id_list = []\n",
    "id_list_int = []\n",
    "\n",
    "for id in id_list_acquire[1]:\n",
    "    id_list.append(id)\n",
    "print(id_list)"
   ]
  },
  {
   "cell_type": "code",
   "execution_count": 6,
   "metadata": {},
   "outputs": [],
   "source": [
    "list_titles = []\n",
    "list_pmids = []\n",
    "\n",
    "for item in id_list:\n",
    "    handle2 = Entrez.esummary(db=\"pubmed\", id=item, retmode=\"xml\")\n",
    "    records2 = Entrez.parse(handle2)\n",
    "\n",
    "    for record in records2:\n",
    "        #each record is a Python dictionary or list.\n",
    "        list_titles.append(record['Title'])\n",
    "\n",
    "handle2.close()\n",
    "\n",
    "#print(list_titles)"
   ]
  },
  {
   "cell_type": "code",
   "execution_count": 7,
   "metadata": {},
   "outputs": [
    {
     "output_type": "stream",
     "name": "stdout",
     "text": "0                                                  1\n0             Count                                             799431\n1            RetMax                                                100\n2          RetStart                                                  0\n3            IdList  [32369867, 32369848, 32369831, 32369821, 32369...\n4    TranslationSet                                                 []\n5  TranslationStack  [{'Term': 'genom[All Fields]', 'Field': 'All F...\n6  QueryTranslation  genom[All Fields] OR genom'ic[All Fields] OR g...\n7       WarningList  {'OutputMessage': ['Wildcard search for 'genom...\n                                                    0\n0   5' splice site GC&gt;GT and GT&gt;GC variants ...\n1   Platelet Integrin αIIbβ3 Activation is Associa...\n2   Increased urinary exosomal SYT17 levels in chr...\n3   Mutational Profiling of Driver Tumor Suppresso...\n4   What Will It Take to Build an Expert Group of ...\n..                                                ...\n95  CAM guard cell anion channel activity follows ...\n96  Fine-tuning the regulation of Cas9 expression ...\n97  Development and Validation of Real-Time RT-LAM...\n98  Zika Virus Amplification Using Strand Displace...\n99  Heat stress inducible cytoplasmic isoform of C...\n\n[100 rows x 1 columns]\n"
    },
    {
     "output_type": "execute_result",
     "data": {
      "text/plain": "(100, 1)"
     },
     "metadata": {},
     "execution_count": 7
    }
   ],
   "source": [
    "#showing the dataframe and shape\n",
    "df = pd.DataFrame(listrecords)\n",
    "print(df)\n",
    "df.shape\n",
    "\n",
    "df = pd.DataFrame(list_titles)\n",
    "print(df)\n",
    "df.shape"
   ]
  },
  {
   "cell_type": "code",
   "execution_count": 8,
   "metadata": {},
   "outputs": [
    {
     "output_type": "stream",
     "name": "stdout",
     "text": "5  splice site gc gt gt and gt gt gc variants differ markedly in terms of their functionality and pathogenicity platelet integrin αiibβ3 activation is associated with 25-hydroxyvitamin d concentrations in healthy adults increased urinary exosomal syt17 levels in chronic active antibody-mediated rejection after kidney transplantation via the il-6 amplifier mutational profiling of driver tumor suppressor and oncogenic genes in brazilian malignant pleural mesotheliomas what will it take to build an expert group of nutrigenomic practitioners nonmosaic trisomy 19p13 3p13 2 resulting from a rare unbalanced t y 19  q12 p13 2  translocation in a patient with pachygyria and polymicrogyria introducing the bird chromosome database  an overview of cytogenetic studies in birds cytogenetic and molecular characterization of three mimetic species of the genus alagoasa bechyné 1955  coleoptera  alticinae  from the neotropical region nad sup + /sup  controls circadian reprogramming through per2 nuclear translocation to counter aging cryo-em structure of the fork protection complex bound to cmg at a replication fork functional characterization of pheromone receptor candidates in codling moth cydia pomonella  lepidoptera  tortricidae  novel phenotype of 6p25 deletion syndrome presenting juvenile parkinsonism and brain calcification effect of ammonia fiber expansion-treated wheat straw and a recombinant fibrolytic enzyme on rumen microbiota and fermentation parameters  total tract digestibility  and performance of lambs gene regulatory networks controlled by flowering locus c that confer variation in seasonal flowering and life history the tale of caspases-homologs and their evolutionary outlook  deciphering programmed cell death in cyanobacteria human prehistoric demography revealed by the polymorphic pattern of cpg transitions epidermal growth factor receptor-dependent dna repair promotes murine and human hematopoietic regeneration landscape of genomic imprinting and its functions in the mouse mammary gland activation of perk-atf4-chop pathway as a novel therapeutic approach for efficient elimination of htlv-1-infected cells hic-hiker  a probabilistic model to determine contig orientation in chromosome-length scaffolds with hi-c towards the routine use of in silico screenings for drug discovery using metabolic modelling bayesian structural equation modeling in multiple omics data with application to circadian genes allelic variations of the wx locus in cultivated rice and their use in the development of hybrid rice in china airway dendritic cell maturation in children exposed to air pollution identification and characterization of a novel extracellular polyhydroxyalkanoate depolymerase in the complete genome sequence of undibacterium sp  kw1 and ym2 strains accounting for long-range correlations in genome-wide simulations of large cohorts combining genetic and demographic monitoring better informs conservation of an endangered urban snake genome-wide assessment of population structure and genetic diversity of chinese lou onion using specific length amplified fragment  slaf  sequencing complement factor h-deficient mice develop spontaneous hepatic tumors tryptophan catabolism reflects disease activity in human tuberculosis long-range cis-regulatory elements controlling gdf6 expression are essential for cochlear development impaired angiogenesis and extracellular matrix metabolism in autosomal-dominant hyper-ige syndrome targeting alk2  an open science approach to developing therapeutics for the treatment of diffuse intrinsic pontine glioma consecutive medical exome analysis at a tertiary center  diagnostic and health-economic outcomes antibiotic resistomes discovered in the gut microbiomes of korean swine and cattle a user-friendly  web-based integrative tool  esurv  for survival analysis  development and validation study the antibiotic bedaquiline activates host macrophage innate immune resistance to bacterial infection controlling gene activation by enhancers through a drug-inducible topological insulator  i gimesia chilikensis    sp  nov   a haloalkali-tolerant planctomycete isolated from chilika lagoon and emended description of the genus  i gimesia     i pusillimonas maritima    sp  nov   isolated from surface seawater  i oleiliquidispirillum nitrogeniifigens    gen  nov   sp  nov   a new member of the family  i rhodospirillaceae    isolated from oil reservoir water reclassification of genus  i izhakiella    into the family  i erwiniaceae    based on phylogenetic and genomic analyses characterization of  i peptacetobacter hominis    gen  nov   sp  nov   isolated from human faeces  and proposal for the reclassification of  i clostridium hiranonis    within the genus  i peptacetobacter     i corynebacterium silvaticum    sp  nov   a unique group of nttb corynebacteria in wild boar and roe deer  i luteimonas gilva    sp  nov   isolated from farmland soil impact of interleukin 28b and icam-1 genetic polymorphisms on response to direct antiviral treatment among hcv infected patients p-nonylphenol impairment of osteogenic differentiation of mesenchymal stem cells was found to be due to oxidative stress and down regulation of runx2 and bmp the role of glyoxalase in glycation and carbonyl stress induced metabolic disorders quantification of adeno-associated virus with safe nucleic acid dyes genetic contributions to the etiology of anorexia nervosa  new perspectives in molecular diagnosis and treatment the proteasome activator pa200 regulates expression of genes involved in cell survival upon selective mitochondrial inhibition in neuroblastoma cells potential therapeutic targets and promising drugs for combating sars-cov-2 reduction of foot-and-mouth disease virus transmission in cattle vaccinated one or two weeks before challenge using a commercial polyvalent vaccine systems analysis implicates wave2 complex in the pathogenesis of developmental left-sided obstructive heart defects  i fok   i vitamin d receptor gene polymorphism and serum 25-hydroxyvitamin d in patients with cardiovascular risk the molecular biology of intracellular events during coronavirus infection cycle novel frameshift mutation in the  i sacs    gene causing spastic ataxia of charlevoix-saguenay in a consanguineous family from the arabian peninsula  a case report and review of literature complete genome sequence of a boxwood endophyte  i burkholderia    sp  ssg with broad biotechnological application potential analysis of differentially expressed genes and pathways associated with male sterility lines in watermelon via bulked segregant rna-seq structure of a filamentous virus uncovers familial ties within the archaeal virosphere novel genome sequences of cell-fusing agent virus allow comparison of virus phylogeny with the genetic structure of  i aedes aegypti    populations epidemic of venereal treponematosis in wild monkeys  a paradigm for syphilis origin expression and significance of mir-654-5p and mir-376b-3p in patients with colon cancer development and validation of next generation sequencing based 35-gene hereditary cancer panel a panel of four-lncrna signature as a potential biomarker for predicting survival in clear cell renal cell carcinoma top2a promotes tumorigenesis of high-grade serous ovarian cancer by regulating the tgf-β/smad pathway the prediction of survival in hepatocellular carcinoma based on a four long non-coding rnas expression signature bayesian network analysis of plasma microrna sequencing data in patients with venous thrombosis pharmacological cancer treatment and venous thromboembolism risk establishment and characterization of stable red  far-red  fr  and near infra-red  nir  transfected canine prostate cancer cell lines patients with nsclcs harboring internal inversions or deletion rearrangements of the  i alk    gene have durable responses to alk kinase inhibitors brca mutations in pancreas cancer  spectrum  current management  challenges and future prospects mir-489-3p inhibits prostate cancer progression by targeting dlx1 reversal of  i mcr-1   -mediated colistin resistance in  i escherichia coli    by crispr-cas9 system discovery of a novel hypervirulent  i acinetobacter baumannii    strain in a case of community-acquired pneumonia how crispr-cas system could be used to combat antimicrobial resistance an ndm-1-producing  i acinetobacter towneri    isolate from hospital sewage in china mir-934 as a prognostic marker facilitates cell proliferation and migration of pancreatic tumor by targeting prox1 dynamics of the buckling transition in double-stranded dna and rna quantification of the pace of biological aging in humans through a blood test  the dunedinpoam dna methylation algorithm  i caenorhabditis elegans    processes sensory information to choose between freeloading and self-defense strategies synergistic and antagonistic drug interactions in the treatment of systemic fungal infections a family of fuchs endothelial corneal dystrophy and anterior polar cataract with an analysis of whole exome sequencing alcohol consumption and cardiovascular disease  a mendelian randomization study improving gene annotation of peanut genome by integrated proteogenomics workflow translational gene regulation in plants  a green new deal the pirna response to bmnpv infection in the silkworm fat body and midgut high-throughput phenotyping accelerates the dissection of the dynamic genetic architecture of plant growth and yield improvement in rapeseed sars-cov-2 variants  relevance for symptom granularity  epidemiology  immunity  herd  vaccines   virus origin and containment ethnic differences in adiposity and diabetes risk - insights from genetic studies evolution of transgenic l infantum expressing mllo-bax-smac in the infected macrophages apoptosis in vitro and in vivo genetic variants of the peroxisome proliferator-activated receptor  ppar  signaling pathway genes and risk of pancreatic cancer genotype-phenotype associations in breast pathology  achievements of the past quarter century compound heterozygous rpe65 mutations associated with an early onset autosomal recessive retinitis pigmentosa medicago truncatula ferroportin2 mediates iron import into nodule symbiosomes cam guard cell anion channel activity follows transcript abundance and is suppressed by apoplastic malate fine-tuning the regulation of cas9 expression levels for efficient crispr-cas9 mediated recombination in streptomyces development and validation of real-time rt-lamp assays for the specific detection of zika virus zika virus amplification using strand displacement isothermal method and sequencing using nanopore technology heat stress inducible cytoplasmic isoform of clpb1 from z  nummularia exhibits enhanced thermotolerance in transgenic tobacco \n"
    }
   ],
   "source": [
    "text_glob = \"\"\n",
    "\n",
    "for x in list_titles:\n",
    "    text_glob += x\n",
    "\n",
    "text_glob = text_glob.replace(\".\", \" \")\n",
    "text_glob = text_glob.replace(\",\", \" \")\n",
    "text_glob = text_glob.replace(\":\", \" \")\n",
    "text_glob = text_glob.replace(\";\", \" \")\n",
    "text_glob = text_glob.replace(\"(\", \" \")\n",
    "text_glob = text_glob.replace(\")\", \" \")\n",
    "text_glob = text_glob.replace(\"?\", \" \")\n",
    "text_glob = text_glob.replace(\"&\", \" \")\n",
    "text_glob = text_glob.replace(\"'\", \" \")\n",
    "text_glob = text_glob.replace(\"<\", \" \")\n",
    "text_glob = text_glob.replace(\">\", \" \")\n",
    "text_glob = text_glob.replace(\"/i\", \" \")\n",
    "\n",
    "text_lower = text_glob.lower()\n",
    "print(text_lower)"
   ]
  },
  {
   "cell_type": "code",
   "execution_count": 9,
   "metadata": {
    "tags": [
     "outputPrepend"
    ]
   },
   "outputs": [
    {
     "output_type": "stream",
     "name": "stdout",
     "text": "[('gene', 12), ('cell', 11), ('sp', 8), ('genetic', 8), ('nov', 8), ('virus', 8), ('cancer', 8), ('analysis', 7), ('patient', 6), ('novel', 6), ('characterization', 5), ('human', 5), ('using', 5), ('development', 5), ('sequencing', 5)]\n"
    }
   ],
   "source": [
    "#tokenization\n",
    "from nltk.tokenize import word_tokenize\n",
    "from nltk import FreqDist\n",
    "from nltk.corpus import stopwords\n",
    "from nltk.stem import WordNetLemmatizer\n",
    "\n",
    "#Create word tokens and count frequencies\n",
    "tokens = word_tokenize(text_lower)\n",
    "#print(tokens)\n",
    "\n",
    "#removing stopwords and showing most frequent non-stopword words\n",
    "stops = set(stopwords.words('english'))\n",
    "stopwords = [x for x in tokens if x not in stops]\n",
    "#print(stopwords)\n",
    "\n",
    "#lemmatize words\n",
    "lemmatizer = WordNetLemmatizer() \n",
    " \n",
    "lemmatized_output = ' '.join([lemmatizer.lemmatize(w) for w in stopwords])\n",
    "#print(lemmatized_output)\n",
    "\n",
    "new_text_glob = word_tokenize(lemmatized_output)\n",
    "#print(newoutput)\n",
    "\n",
    "#printing most frequently used words\n",
    "freq_words = FreqDist(new_text_glob)\n",
    "most_freq_words = freq_words.most_common(15)\n",
    "print(most_freq_words)"
   ]
  },
  {
   "cell_type": "code",
   "execution_count": 15,
   "metadata": {
    "tags": [
     "outputPrepend"
    ]
   },
   "outputs": [
    {
     "output_type": "stream",
     "name": "stderr",
     "text": "[nltk_data] Downloading package averaged_perceptron_tagger to\n[nltk_data]     /Users/eileencahill/nltk_data...\n[nltk_data]   Package averaged_perceptron_tagger is already up-to-\n[nltk_data]       date!\n[nltk_data] Downloading package maxent_ne_chunker to\n[nltk_data]     /Users/eileencahill/nltk_data...\n[nltk_data]   Package maxent_ne_chunker is already up-to-date!\n[nltk_data] Downloading package words to\n[nltk_data]     /Users/eileencahill/nltk_data...\n[nltk_data]   Package words is already up-to-date!\n"
    }
   ],
   "source": [
    "#Named Entity Recognition\n",
    "from nltk import pos_tag\n",
    "from nltk import ne_chunk\n",
    "\n",
    "import nltk\n",
    "nltk.download('averaged_perceptron_tagger')\n",
    "nltk.download('maxent_ne_chunker')\n",
    "nltk.download('words')\n",
    "tags = pos_tag(new_text_glob)\n",
    "\n",
    "chunk = ne_chunk(tags)\n",
    "\n",
    "#print(chunk)"
   ]
  },
  {
   "cell_type": "code",
   "execution_count": 17,
   "metadata": {},
   "outputs": [
    {
     "output_type": "error",
     "ename": "ValueError",
     "evalue": "Illegal chunk pattern: {<VBP>*<RB>]",
     "traceback": [
      "\u001b[0;31m---------------------------------------------------------------------------\u001b[0m",
      "\u001b[0;31mValueError\u001b[0m                                Traceback (most recent call last)",
      "\u001b[0;32m/Applications/anaconda3/lib/python3.7/site-packages/nltk/chunk/regexp.py\u001b[0m in \u001b[0;36mfromstring\u001b[0;34m(s)\u001b[0m\n\u001b[1;32m    396\u001b[0m             \u001b[0;32melse\u001b[0m\u001b[0;34m:\u001b[0m\u001b[0;34m\u001b[0m\u001b[0;34m\u001b[0m\u001b[0m\n\u001b[0;32m--> 397\u001b[0;31m                 \u001b[0;32mraise\u001b[0m \u001b[0mValueError\u001b[0m\u001b[0;34m(\u001b[0m\u001b[0;34m'Illegal chunk pattern: %s'\u001b[0m \u001b[0;34m%\u001b[0m \u001b[0mrule\u001b[0m\u001b[0;34m)\u001b[0m\u001b[0;34m\u001b[0m\u001b[0;34m\u001b[0m\u001b[0m\n\u001b[0m\u001b[1;32m    398\u001b[0m         \u001b[0;32mexcept\u001b[0m \u001b[0;34m(\u001b[0m\u001b[0mValueError\u001b[0m\u001b[0;34m,\u001b[0m \u001b[0mre\u001b[0m\u001b[0;34m.\u001b[0m\u001b[0merror\u001b[0m\u001b[0;34m)\u001b[0m\u001b[0;34m:\u001b[0m\u001b[0;34m\u001b[0m\u001b[0;34m\u001b[0m\u001b[0m\n",
      "\u001b[0;31mValueError\u001b[0m: Illegal chunk pattern: {<VBP>*<RB>]",
      "\nDuring handling of the above exception, another exception occurred:\n",
      "\u001b[0;31mValueError\u001b[0m                                Traceback (most recent call last)",
      "\u001b[0;32m<ipython-input-17-7dcac47abbb4>\u001b[0m in \u001b[0;36m<module>\u001b[0;34m\u001b[0m\n\u001b[1;32m      9\u001b[0m     \u001b[0mVB\u001b[0m\u001b[0;34m:\u001b[0m \u001b[0;34m{\u001b[0m\u001b[0;34m<\u001b[0m\u001b[0mVBP\u001b[0m\u001b[0;34m>\u001b[0m\u001b[0;34m*\u001b[0m\u001b[0;34m<\u001b[0m\u001b[0mRB\u001b[0m\u001b[0;34m>\u001b[0m\u001b[0;34m]\u001b[0m\u001b[0;34m\u001b[0m\u001b[0;34m\u001b[0m\u001b[0m\n\u001b[1;32m     10\u001b[0m     '''\n\u001b[0;32m---> 11\u001b[0;31m \u001b[0mchunkparser\u001b[0m \u001b[0;34m=\u001b[0m \u001b[0mRegexpParser\u001b[0m\u001b[0;34m(\u001b[0m\u001b[0mrules\u001b[0m\u001b[0;34m)\u001b[0m\u001b[0;34m\u001b[0m\u001b[0;34m\u001b[0m\u001b[0m\n\u001b[0m\u001b[1;32m     12\u001b[0m \u001b[0mresult\u001b[0m \u001b[0;34m=\u001b[0m \u001b[0mchunkparser\u001b[0m\u001b[0;34m.\u001b[0m\u001b[0mparse\u001b[0m\u001b[0;34m(\u001b[0m\u001b[0mtags\u001b[0m\u001b[0;34m)\u001b[0m\u001b[0;34m\u001b[0m\u001b[0;34m\u001b[0m\u001b[0m\n\u001b[1;32m     13\u001b[0m \u001b[0mprint\u001b[0m\u001b[0;34m(\u001b[0m\u001b[0mresult\u001b[0m\u001b[0;34m)\u001b[0m\u001b[0;34m\u001b[0m\u001b[0;34m\u001b[0m\u001b[0m\n",
      "\u001b[0;32m/Applications/anaconda3/lib/python3.7/site-packages/nltk/chunk/regexp.py\u001b[0m in \u001b[0;36m__init__\u001b[0;34m(self, grammar, root_label, loop, trace)\u001b[0m\n\u001b[1;32m   1212\u001b[0m \u001b[0;34m\u001b[0m\u001b[0m\n\u001b[1;32m   1213\u001b[0m         \u001b[0;32mif\u001b[0m \u001b[0misinstance\u001b[0m\u001b[0;34m(\u001b[0m\u001b[0mgrammar\u001b[0m\u001b[0;34m,\u001b[0m \u001b[0mstring_types\u001b[0m\u001b[0;34m)\u001b[0m\u001b[0;34m:\u001b[0m\u001b[0;34m\u001b[0m\u001b[0;34m\u001b[0m\u001b[0m\n\u001b[0;32m-> 1214\u001b[0;31m             \u001b[0mself\u001b[0m\u001b[0;34m.\u001b[0m\u001b[0m_read_grammar\u001b[0m\u001b[0;34m(\u001b[0m\u001b[0mgrammar\u001b[0m\u001b[0;34m,\u001b[0m \u001b[0mroot_label\u001b[0m\u001b[0;34m,\u001b[0m \u001b[0mtrace\u001b[0m\u001b[0;34m)\u001b[0m\u001b[0;34m\u001b[0m\u001b[0;34m\u001b[0m\u001b[0m\n\u001b[0m\u001b[1;32m   1215\u001b[0m         \u001b[0;32melse\u001b[0m\u001b[0;34m:\u001b[0m\u001b[0;34m\u001b[0m\u001b[0;34m\u001b[0m\u001b[0m\n\u001b[1;32m   1216\u001b[0m             \u001b[0;31m# Make sur the grammar looks like it has the right type:\u001b[0m\u001b[0;34m\u001b[0m\u001b[0;34m\u001b[0m\u001b[0;34m\u001b[0m\u001b[0m\n",
      "\u001b[0;32m/Applications/anaconda3/lib/python3.7/site-packages/nltk/chunk/regexp.py\u001b[0m in \u001b[0;36m_read_grammar\u001b[0;34m(self, grammar, root_label, trace)\u001b[0m\n\u001b[1;32m   1252\u001b[0m \u001b[0;34m\u001b[0m\u001b[0m\n\u001b[1;32m   1253\u001b[0m             \u001b[0;31m# Add the rule\u001b[0m\u001b[0;34m\u001b[0m\u001b[0;34m\u001b[0m\u001b[0;34m\u001b[0m\u001b[0m\n\u001b[0;32m-> 1254\u001b[0;31m             \u001b[0mrules\u001b[0m\u001b[0;34m.\u001b[0m\u001b[0mappend\u001b[0m\u001b[0;34m(\u001b[0m\u001b[0mRegexpChunkRule\u001b[0m\u001b[0;34m.\u001b[0m\u001b[0mfromstring\u001b[0m\u001b[0;34m(\u001b[0m\u001b[0mline\u001b[0m\u001b[0;34m)\u001b[0m\u001b[0;34m)\u001b[0m\u001b[0;34m\u001b[0m\u001b[0;34m\u001b[0m\u001b[0m\n\u001b[0m\u001b[1;32m   1255\u001b[0m \u001b[0;34m\u001b[0m\u001b[0m\n\u001b[1;32m   1256\u001b[0m         \u001b[0;31m# Record the final stage\u001b[0m\u001b[0;34m\u001b[0m\u001b[0;34m\u001b[0m\u001b[0;34m\u001b[0m\u001b[0m\n",
      "\u001b[0;32m/Applications/anaconda3/lib/python3.7/site-packages/nltk/chunk/regexp.py\u001b[0m in \u001b[0;36mfromstring\u001b[0;34m(s)\u001b[0m\n\u001b[1;32m    397\u001b[0m                 \u001b[0;32mraise\u001b[0m \u001b[0mValueError\u001b[0m\u001b[0;34m(\u001b[0m\u001b[0;34m'Illegal chunk pattern: %s'\u001b[0m \u001b[0;34m%\u001b[0m \u001b[0mrule\u001b[0m\u001b[0;34m)\u001b[0m\u001b[0;34m\u001b[0m\u001b[0;34m\u001b[0m\u001b[0m\n\u001b[1;32m    398\u001b[0m         \u001b[0;32mexcept\u001b[0m \u001b[0;34m(\u001b[0m\u001b[0mValueError\u001b[0m\u001b[0;34m,\u001b[0m \u001b[0mre\u001b[0m\u001b[0;34m.\u001b[0m\u001b[0merror\u001b[0m\u001b[0;34m)\u001b[0m\u001b[0;34m:\u001b[0m\u001b[0;34m\u001b[0m\u001b[0;34m\u001b[0m\u001b[0m\n\u001b[0;32m--> 399\u001b[0;31m             \u001b[0;32mraise\u001b[0m \u001b[0mValueError\u001b[0m\u001b[0;34m(\u001b[0m\u001b[0;34m'Illegal chunk pattern: %s'\u001b[0m \u001b[0;34m%\u001b[0m \u001b[0mrule\u001b[0m\u001b[0;34m)\u001b[0m\u001b[0;34m\u001b[0m\u001b[0;34m\u001b[0m\u001b[0m\n\u001b[0m\u001b[1;32m    400\u001b[0m \u001b[0;34m\u001b[0m\u001b[0m\n\u001b[1;32m    401\u001b[0m \u001b[0;34m\u001b[0m\u001b[0m\n",
      "\u001b[0;31mValueError\u001b[0m: Illegal chunk pattern: {<VBP>*<RB>]"
     ]
    }
   ],
   "source": [
    "#Establishing rules for chunking\n",
    "from nltk.chunk import *\n",
    "from nltk.chunk.util import *\n",
    "from nltk.chunk.regexp import *\n",
    "\n",
    "\n",
    "rules = '''\n",
    "    NP: {<DT>?<JJ>*<NN>}\n",
    "    VB: {<VBP>*<RB>]\n",
    "    '''\n",
    "chunkparser = RegexpParser(rules)\n",
    "result = chunkparser.parse(tags)\n",
    "print(result)\n"
   ]
  },
  {
   "cell_type": "code",
   "execution_count": 16,
   "metadata": {},
   "outputs": [
    {
     "output_type": "error",
     "ename": "NameError",
     "evalue": "name 'RegexpParser' is not defined",
     "traceback": [
      "\u001b[0;31m---------------------------------------------------------------------------\u001b[0m",
      "\u001b[0;31mNameError\u001b[0m                                 Traceback (most recent call last)",
      "\u001b[0;32m<ipython-input-16-1376bb725a45>\u001b[0m in \u001b[0;36m<module>\u001b[0;34m\u001b[0m\n\u001b[1;32m      3\u001b[0m \u001b[0mrule3\u001b[0m \u001b[0;34m=\u001b[0m \u001b[0;34m\"VP: {<VP>+<NN>}\"\u001b[0m\u001b[0;34m\u001b[0m\u001b[0;34m\u001b[0m\u001b[0m\n\u001b[1;32m      4\u001b[0m \u001b[0;34m\u001b[0m\u001b[0m\n\u001b[0;32m----> 5\u001b[0;31m \u001b[0mchunkparse1\u001b[0m \u001b[0;34m=\u001b[0m \u001b[0mRegexpParser\u001b[0m\u001b[0;34m(\u001b[0m\u001b[0mrule1\u001b[0m\u001b[0;34m)\u001b[0m\u001b[0;34m\u001b[0m\u001b[0;34m\u001b[0m\u001b[0m\n\u001b[0m\u001b[1;32m      6\u001b[0m \u001b[0mresult1\u001b[0m \u001b[0;34m=\u001b[0m \u001b[0mchunkparse1\u001b[0m\u001b[0;34m.\u001b[0m\u001b[0mparse\u001b[0m\u001b[0;34m(\u001b[0m\u001b[0mtags\u001b[0m\u001b[0;34m)\u001b[0m\u001b[0;34m\u001b[0m\u001b[0;34m\u001b[0m\u001b[0m\n\u001b[1;32m      7\u001b[0m \u001b[0mchunkparse2\u001b[0m \u001b[0;34m=\u001b[0m \u001b[0mRegexpParser\u001b[0m\u001b[0;34m(\u001b[0m\u001b[0mrule2\u001b[0m\u001b[0;34m)\u001b[0m\u001b[0;34m\u001b[0m\u001b[0;34m\u001b[0m\u001b[0m\n",
      "\u001b[0;31mNameError\u001b[0m: name 'RegexpParser' is not defined"
     ]
    }
   ],
   "source": [
    "rule1 = \"NP: {<DT>?<JJ>*<NN>*<NNS>}\"\n",
    "rule2 = \"VB: {<VBP>*<RB>}\"\n",
    "rule3 = \"VP: {<VP>+<NN>}\"\n",
    "\n",
    "chunkparse1 = RegexpParser(rule1)\n",
    "result1 = chunkparse1.parse(tags)\n",
    "chunkparse2 = RegexpParser(rule2)\n",
    "result2 = chunkparse2.parse(result1)\n",
    "chunkparse3 = RegexpParser(rule3)\n",
    "result3 = chunkparse3.parse(result2)\n",
    "print(result3)"
   ]
  },
  {
   "cell_type": "code",
   "execution_count": 34,
   "metadata": {},
   "outputs": [
    {
     "output_type": "error",
     "ename": "SyntaxError",
     "evalue": "invalid syntax (<ipython-input-34-b0772fdf9997>, line 1)",
     "traceback": [
      "\u001b[0;36m  File \u001b[0;32m\"<ipython-input-34-b0772fdf9997>\"\u001b[0;36m, line \u001b[0;32m1\u001b[0m\n\u001b[0;31m    reg = NP: \"{<DT>|<JJ>*<NN>}”\u001b[0m\n\u001b[0m            ^\u001b[0m\n\u001b[0;31mSyntaxError\u001b[0m\u001b[0;31m:\u001b[0m invalid syntax\n"
     ]
    }
   ],
   "source": [
    "reg = NP: \"{<DT>|<JJ>*<NN>}” \n",
    "a = nltk.RegexpParser(reg)\n",
    "result = a.parse(tags)\n",
    "print(result)"
   ]
  },
  {
   "cell_type": "markdown",
   "metadata": {},
   "source": [
    "## 7) Give me a problem statement.\n",
    "Below, write a problem statement. Keep in mind that your task is to tease out relationships in your data and eventually build a predictive model. Your problem statement can be vague, but you should have a goal in mind. Your problem statement should be between one sentence and one paragraph."
   ]
  },
  {
   "cell_type": "code",
   "execution_count": 12,
   "metadata": {},
   "outputs": [],
   "source": [
    "#It will be helpful for NIH administrators to know which aspects of a certain scientific area are most common in publications and which are least common. For example if we know that \"human\" is the most common term in a PubMed search of \"genomics\" publications, then we can learn that there is a strong human emphasis in genomic research."
   ]
  },
  {
   "cell_type": "markdown",
   "metadata": {},
   "source": [
    "## 8) What is your _y_-variable?\n",
    "For final project, you will need to perform a statistical model. This means you will have to accurately predict some y-variable for some combination of x-variables. From your problem statement in part 7, what is that y-variable?"
   ]
  },
  {
   "cell_type": "code",
   "execution_count": 13,
   "metadata": {},
   "outputs": [],
   "source": [
    "#How many times a word is used in publication abstract/titles."
   ]
  }
 ],
 "metadata": {
  "kernelspec": {
   "display_name": "Python 3.7.4 64-bit ('base': conda)",
   "language": "python",
   "name": "python37464bitbasecondad7e997a9f21d4c48a1361726b45a74df"
  },
  "language_info": {
   "codemirror_mode": {
    "name": "ipython",
    "version": 3
   },
   "file_extension": ".py",
   "mimetype": "text/x-python",
   "name": "python",
   "nbconvert_exporter": "python",
   "pygments_lexer": "ipython3",
   "version": "3.7.4-final"
  }
 },
 "nbformat": 4,
 "nbformat_minor": 4
}