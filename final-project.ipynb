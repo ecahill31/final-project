{
 "cells": [
  {
   "cell_type": "markdown",
   "metadata": {},
   "source": [
    "# Final Project Template "
   ]
  },
  {
   "cell_type": "markdown",
   "metadata": {},
   "source": [
    "## 1) Get your data\n",
    "You may use any data set(s) you like, so long as they meet these criteria:\n",
    "\n",
    "* Your data must be publically available for free.\n",
    "* Your data should be interesting to _you_. You want your final project to be something you're proud of.\n",
    "* Your data should be \"big enough\":\n",
    "    - It should have at least 1,000 rows.\n",
    "    - It should have enough of columns to be interesting.\n",
    "    - If you have questions, contact a member of the instructional team."
   ]
  },
  {
   "cell_type": "markdown",
   "metadata": {},
   "source": [
    "## 2) Provide a link to your data\n",
    "Your data is required to be free and open to anyone.\n",
    "As such, you should have a URL which anyone can use to download your data:"
   ]
  },
  {
   "cell_type": "code",
   "execution_count": 59,
   "metadata": {},
   "outputs": [],
   "source": [
    "# https://www.ncbi.nlm.nih.gov/pubmed/"
   ]
  },
  {
   "cell_type": "markdown",
   "metadata": {},
   "source": [
    "# 3) Import your data\n",
    "\n",
    "In the space below, import your data. If your data span multiple files, read them all in. If applicable, merge or append them as needed."
   ]
  },
  {
   "cell_type": "code",
   "execution_count": 60,
   "metadata": {},
   "outputs": [],
   "source": [
    "#importing needed packages\n",
    "import pandas as pd\n",
    "import numpy as np \n",
    "from Bio import Entrez\n",
    "\n",
    "#searching PubMed for \"genomics\" and downloading dictionary of data including number of publications, accession IDs, and relevant MeSH term \n",
    "Entrez.email = \"eileen.cahill@nih.gov\"\n",
    "handle = Entrez.esearch(db=\"pubmed\", retmax=11, term=\"genomics\", idtype=\"acc\")\n",
    "record = Entrez.read(handle)\n",
    "handle.close()"
   ]
  },
  {
   "cell_type": "code",
   "execution_count": 61,
   "metadata": {
    "tags": [
     "outputPrepend"
    ]
   },
   "outputs": [
    {
     "output_type": "stream",
     "name": "stdout",
     "text": "<class 'Bio.Entrez.Parser.DictionaryElement'>\n<class '_io.TextIOWrapper'>\n{'Count': '246457', 'RetMax': '11', 'RetStart': '0', 'IdList': ['32365385', '32365362', '32365353', '32365209', '32365196', '32365118', '32365064', '32364878', '32364825', '32364535', '32364420'], 'TranslationSet': [{'From': 'genomics', 'To': '\"genomics\"[MeSH Terms] OR \"genomics\"[All Fields]'}], 'TranslationStack': [{'Term': '\"genomics\"[MeSH Terms]', 'Field': 'MeSH Terms', 'Count': '110045', 'Explode': 'Y'}, {'Term': '\"genomics\"[All Fields]', 'Field': 'All Fields', 'Count': '186868', 'Explode': 'N'}, 'OR', 'GROUP'], 'QueryTranslation': '\"genomics\"[MeSH Terms] OR \"genomics\"[All Fields]'}\n['32365385', '32365362', '32365353', '32365209', '32365196', '32365118', '32365064', '32364878', '32364825', '32364535', '32364420']\n<class 'Bio.Entrez.Parser.ListElement'>\n"
    }
   ],
   "source": [
    "#looking at data and types\n",
    "print(type(record))\n",
    "print(type(handle))\n",
    "print(record)\n",
    "print(record['IdList'])\n",
    "print(type(record['IdList']))"
   ]
  },
  {
   "cell_type": "code",
   "execution_count": 62,
   "metadata": {},
   "outputs": [
    {
     "output_type": "stream",
     "name": "stdout",
     "text": "[['Count', '246457'], ['RetMax', '11'], ['RetStart', '0'], ['IdList', ['32365385', '32365362', '32365353', '32365209', '32365196', '32365118', '32365064', '32364878', '32364825', '32364535', '32364420']], ['TranslationSet', [{'From': 'genomics', 'To': '\"genomics\"[MeSH Terms] OR \"genomics\"[All Fields]'}]], ['TranslationStack', [{'Term': '\"genomics\"[MeSH Terms]', 'Field': 'MeSH Terms', 'Count': '110045', 'Explode': 'Y'}, {'Term': '\"genomics\"[All Fields]', 'Field': 'All Fields', 'Count': '186868', 'Explode': 'N'}, 'OR', 'GROUP']], ['QueryTranslation', '\"genomics\"[MeSH Terms] OR \"genomics\"[All Fields]']]\n<class 'list'>\n"
    }
   ],
   "source": [
    "#converting type from Bio.Entrez.Parser.DictionaryElement to list\n",
    "list = []\n",
    "listrecords = []\n",
    "\n",
    "for key, value in record.items():\n",
    "    list = [key, value]\n",
    "    listrecords.append(list)\n",
    "print(listrecords)\n",
    "print(type(listrecords))"
   ]
  },
  {
   "cell_type": "code",
   "execution_count": 63,
   "metadata": {
    "tags": [
     "outputPrepend"
    ]
   },
   "outputs": [
    {
     "output_type": "stream",
     "name": "stdout",
     "text": "['IdList', ['32365385', '32365362', '32365353', '32365209', '32365196', '32365118', '32365064', '32364878', '32364825', '32364535', '32364420']]\n['32365385', '32365362', '32365353', '32365209', '32365196', '32365118', '32365064', '32364878', '32364825', '32364535', '32364420']\n[32364420, 32364420, 32364420, 32364420, 32364420, 32364420, 32364420, 32364420, 32364420, 32364420, 32364420]\n"
    }
   ],
   "source": [
    "#creating iterable list of IDs of both string and int type\n",
    "id_list_acquire = listrecords[3]\n",
    "print(id_list_acquire)\n",
    "id_list = []\n",
    "id_list_int = []\n",
    "\n",
    "for id in id_list_acquire[1]:\n",
    "    id_list.append(id)\n",
    "print(id_list)\n",
    "\n",
    "for id2 in id_list_acquire[1]:\n",
    "    id_list_int.append(int(id))\n",
    "print(id_list_int)"
   ]
  },
  {
   "cell_type": "code",
   "execution_count": 64,
   "metadata": {},
   "outputs": [
    {
     "output_type": "stream",
     "name": "stdout",
     "text": "['Four-Dimensional Introital Ultrasound in Assessing Perioperative Pelvic Floor Muscle Functions of Women with Cystoceles.', 'Interleukin-31 promotes pathogenic mechanisms underlying skin and lung fibrosis in scleroderma.', 'Rapid reconstruction of SARS-CoV-2 using a synthetic genomics platform.', 'mstree: a multispecies coalescent approach for estimating ancestral population size and divergence time during speciation with gene flow.', 'Abnormalities in Sodium Current and Calcium Homeostasis as Drivers of Arrhythmogenesis in Hypertrophic Cardiomyopathy.', 'Analysis of meiotic segregation by triple-color fish on both total and motile sperm fractions in a t(1p;18) river buffalo bull.', 'A new neuropeptide insect parathyroid hormone iPTH in the red flour beetle Tribolium castaneum.', 'Overexpression of <i>NEIL3</i> associated with altered genome and poor survival in selected types of human cancer.', '<i>Ustilaginoidea virens</i>: Insights into an Emerging Rice Pathogen.', 'Genomic and epigenomic EBF1 alterations modulate TERT expression in gastric cancer.', 'Genome sequence data of the soybean pathogen Stagonosporopsis vannaccii: a resource for studies on Didymellaceae evolution.']\n"
    }
   ],
   "source": [
    "list_titles = []\n",
    "\n",
    "for item in id_list:\n",
    "    handle2 = Entrez.esummary(db=\"pubmed\", id=item, retmode=\"xml\")\n",
    "    records2 = Entrez.parse(handle2)\n",
    "\n",
    "    for record in records2:\n",
    "            #each record is a Python dictionary or list.\n",
    "        list_titles.append(record['Title'])\n",
    "\n",
    "handle2.close()\n",
    "\n",
    "print(list_titles)"
   ]
  },
  {
   "cell_type": "markdown",
   "metadata": {},
   "source": [
    "## 5) Show me the shape of your data"
   ]
  },
  {
   "cell_type": "code",
   "execution_count": 65,
   "metadata": {},
   "outputs": [
    {
     "output_type": "stream",
     "name": "stdout",
     "text": "0                                                  1\n0             Count                                             246457\n1            RetMax                                                 11\n2          RetStart                                                  0\n3            IdList  [32365385, 32365362, 32365353, 32365209, 32365...\n4    TranslationSet  [{'From': 'genomics', 'To': '\"genomics\"[MeSH T...\n5  TranslationStack  [{'Term': '\"genomics\"[MeSH Terms]', 'Field': '...\n6  QueryTranslation   \"genomics\"[MeSH Terms] OR \"genomics\"[All Fields]\n                                                    0\n0   Four-Dimensional Introital Ultrasound in Asses...\n1   Interleukin-31 promotes pathogenic mechanisms ...\n2   Rapid reconstruction of SARS-CoV-2 using a syn...\n3   mstree: a multispecies coalescent approach for...\n4   Abnormalities in Sodium Current and Calcium Ho...\n5   Analysis of meiotic segregation by triple-colo...\n6   A new neuropeptide insect parathyroid hormone ...\n7   Overexpression of <i>NEIL3</i> associated with...\n8   <i>Ustilaginoidea virens</i>: Insights into an...\n9   Genomic and epigenomic EBF1 alterations modula...\n10  Genome sequence data of the soybean pathogen S...\n"
    },
    {
     "output_type": "execute_result",
     "data": {
      "text/plain": "(11, 1)"
     },
     "metadata": {},
     "execution_count": 65
    }
   ],
   "source": [
    "#showing the dataframe and shape\n",
    "df = pd.DataFrame(listrecords)\n",
    "print(df)\n",
    "df.shape\n",
    "\n",
    "df = pd.DataFrame(list_titles)\n",
    "print(df)\n",
    "df.shape"
   ]
  },
  {
   "cell_type": "code",
   "execution_count": 100,
   "metadata": {},
   "outputs": [
    {
     "output_type": "stream",
     "name": "stdout",
     "text": "four-dimensional introital ultrasound in assessing perioperative pelvic floor muscle functions of women with cystoceles interleukin-31 promotes pathogenic mechanisms underlying skin and lung fibrosis in scleroderma rapid reconstruction of sars-cov-2 using a synthetic genomics platform mstree: a multispecies coalescent approach for estimating ancestral population size and divergence time during speciation with gene flow abnormalities in sodium current and calcium homeostasis as drivers of arrhythmogenesis in hypertrophic cardiomyopathy analysis of meiotic segregation by triple-color fish on both total and motile sperm fractions in a t(1p;18) river buffalo bull a new neuropeptide insect parathyroid hormone ipth in the red flour beetle tribolium castaneum overexpression of <i>neil3</i> associated with altered genome and poor survival in selected types of human cancer <i>ustilaginoidea virens</i>: insights into an emerging rice pathogen genomic and epigenomic ebf1 alterations modulate tert expression in gastric cancer genome sequence data of the soybean pathogen stagonosporopsis vannaccii: a resource for studies on didymellaceae evolution \n"
    }
   ],
   "source": [
    "text_glob = \"\"\n",
    "\n",
    "for x in list_titles:\n",
    "    text_glob += x\n",
    "\n",
    "text_glob = text_glob.replace(\".\", \" \")\n",
    "text_lower = text_glob.lower()\n",
    "print(text_lower)"
   ]
  },
  {
   "cell_type": "code",
   "execution_count": 101,
   "metadata": {},
   "outputs": [
    {
     "output_type": "error",
     "ename": "SyntaxError",
     "evalue": "invalid syntax (<ipython-input-101-75891a018f6c>, line 1)",
     "traceback": [
      "\u001b[0;36m  File \u001b[0;32m\"<ipython-input-101-75891a018f6c>\"\u001b[0;36m, line \u001b[0;32m1\u001b[0m\n\u001b[0;31m    mport nltk\u001b[0m\n\u001b[0m             ^\u001b[0m\n\u001b[0;31mSyntaxError\u001b[0m\u001b[0;31m:\u001b[0m invalid syntax\n"
     ]
    }
   ],
   "source": [
    "mport nltk\n",
    "from nltk.tokenize import wor_tokenize\n",
    "from nltk import FreqDist\n",
    "frm nltk.corpus import stopwords\n",
    "#from nltk.stem import PorterStemmer\n",
    "\n",
    "#Create word tokens and count frequencies\n",
    "lowr_text_glob = text_glob.lowelower word_tokenize(lower_text_glob)\n",
    "freq_ords = FreqDist(tokens)\n",
    "#for word in tokens:\n",
    "#    freq_words[word] += 1\n",
    "\n",
    "print(tokens[20])\n",
    "print(freq_words.keys)\n",
    "\n",
    "#removing stopwords and showing most frequent non-stopword words\n",
    "#stops = set(stopwords.words('english'))\n",
    "#stopwords = [x for x in distinct_words if x not in stops]\n",
    "#most_freq_distinct = stopwords.most_common(10)"
   ]
  },
  {
   "cell_type": "markdown",
   "metadata": {},
   "source": [
    "## 7) Give me a problem statement.\n",
    "Below, write a problem statement. Keep in mind that your task is to tease out relationships in your data and eventually build a predictive model. Your problem statement can be vague, but you should have a goal in mind. Your problem statement should be between one sentence and one paragraph."
   ]
  },
  {
   "cell_type": "code",
   "execution_count": 67,
   "metadata": {},
   "outputs": [],
   "source": [
    "#It will be helpful for NIH administrators to know which aspects of a certain scientific area are most common in publications and which are least common. For example if we know that \"human\" is the most common term in a PubMed search of \"genomics\" publications, then we can learn that there is a strong human emphasis in genomic research."
   ]
  },
  {
   "cell_type": "markdown",
   "metadata": {},
   "source": [
    "## 8) What is your _y_-variable?\n",
    "For final project, you will need to perform a statistical model. This means you will have to accurately predict some y-variable for some combination of x-variables. From your problem statement in part 7, what is that y-variable?"
   ]
  },
  {
   "cell_type": "code",
   "execution_count": 68,
   "metadata": {},
   "outputs": [],
   "source": [
    "#How many times a word is used in publication abstract/titles."
   ]
  }
 ],
 "metadata": {
  "kernelspec": {
   "display_name": "Python 3.7.4 64-bit ('base': conda)",
   "language": "python",
   "name": "python37464bitbasecondad7e997a9f21d4c48a1361726b45a74df"
  },
  "language_info": {
   "codemirror_mode": {
    "name": "ipython",
    "version": 3
   },
   "file_extension": ".py",
   "mimetype": "text/x-python",
   "name": "python",
   "nbconvert_exporter": "python",
   "pygments_lexer": "ipython3",
   "version": "3.7.4-final"
  }
 },
 "nbformat": 4,
 "nbformat_minor": 4
}