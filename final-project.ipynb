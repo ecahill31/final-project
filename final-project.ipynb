{
 "cells": [
  {
   "cell_type": "markdown",
   "metadata": {},
   "source": [
    "# Final Project Template "
   ]
  },
  {
   "cell_type": "markdown",
   "metadata": {},
   "source": [
    "## 1) Get your data\n",
    "You may use any data set(s) you like, so long as they meet these criteria:\n",
    "\n",
    "* Your data must be publically available for free.\n",
    "* Your data should be interesting to _you_. You want your final project to be something you're proud of.\n",
    "* Your data should be \"big enough\":\n",
    "    - It should have at least 1,000 rows.\n",
    "    - It should have enough of columns to be interesting.\n",
    "    - If you have questions, contact a member of the instructional team."
   ]
  },
  {
   "cell_type": "markdown",
   "metadata": {},
   "source": [
    "## 2) Provide a link to your data\n",
    "Your data is required to be free and open to anyone.\n",
    "As such, you should have a URL which anyone can use to download your data:"
   ]
  },
  {
   "cell_type": "code",
   "execution_count": 590,
   "metadata": {},
   "outputs": [],
   "source": [
    "# https://www.ncbi.nlm.nih.gov/pubmed/?term=the+encyclopedia+of+DNA+elements"
   ]
  },
  {
   "cell_type": "markdown",
   "metadata": {},
   "source": [
    "# 3) Import your data\n",
    "\n",
    "In the space below, import your data. If your data span multiple files, read them all in. If applicable, merge or append them as needed."
   ]
  },
  {
   "cell_type": "code",
   "execution_count": 591,
   "metadata": {},
   "outputs": [],
   "source": [
    "import pandas as pd\n",
    "import numpy as np \n",
    "import csv\n",
    "\n",
    "from Bio import Entrez\n",
    "Entrez.email = \"eileen.cahill@nih.gov\"\n",
    "handle = Entrez.esearch(db=\"pubmed\", retmax=100, term=\"genomics\", idtype=\"acc\")\n",
    "record = Entrez.read(handle)\n",
    "handle.close()"
   ]
  },
  {
   "cell_type": "code",
   "execution_count": 592,
   "metadata": {},
   "outputs": [
    {
     "output_type": "stream",
     "name": "stdout",
     "text": "<class 'Bio.Entrez.Parser.DictionaryElement'>\n<class '_io.TextIOWrapper'>\n1\n{'Count': '246378', 'RetMax': '100', 'RetStart': '0', 'IdList': ['32359160', '32359158', '32359157', '32359152', '32359146', '32359007', '32358926', '32358872', '32358784', '32358770', '32358743', '32358605', '32358589', '32358529', '32358503', '32357955', '32357898', '32357861', '32357859', '32357836', '32357832', '32357518', '32357425', '32357373', '32357172', '32357153', '32356861', '32356383', '32356375', '32356309', '32356189', '32355762', '32355734', '32355611', '32355594', '32355559', '32355537', '32355288', '32355211', '32355162', '32355159', '32354994', '32354986', '32354985', '32354967', '32354947', '32354896', '32354366', '32354351', '32354324', '32354297', '32354124', '32354024', '32353943', '32353872', '32353747', '32353626', '32353625', '32353525', '32353479', '32353478', '32353477', '32353476', '32353475', '32353474', '32353450', '32353447', '32353178', '32353123', '32353112', '32353023', '32353016', '32352857', '32352843', '32352579', '32352380', '32352041', '32352035', '32351982', '32351981', '32351969', '32351968', '32351925', '32351798', '32351783', '32351572', '32351544', '32351543', '32351507', '32351501', '32351458', '32351390', '32351369', '32351309', '32351302', '32351301', '32351036', '32350990', '32350852', '32350783'], 'TranslationSet': [{'From': 'genomics', 'To': '\"genomics\"[MeSH Terms] OR \"genomics\"[All Fields]'}], 'TranslationStack': [{'Term': '\"genomics\"[MeSH Terms]', 'Field': 'MeSH Terms', 'Count': '110045', 'Explode': 'Y'}, {'Term': '\"genomics\"[All Fields]', 'Field': 'All Fields', 'Count': '186789', 'Explode': 'N'}, 'OR', 'GROUP'], 'QueryTranslation': '\"genomics\"[MeSH Terms] OR \"genomics\"[All Fields]'}\n"
    }
   ],
   "source": [
    "print(type(record))\n",
    "print(type(handle))\n",
    "print(len(listofrecords))\n",
    "print(record)\n",
    "#print(record['IdList'])\n"
   ]
  },
  {
   "cell_type": "code",
   "execution_count": 593,
   "metadata": {},
   "outputs": [
    {
     "output_type": "stream",
     "name": "stdout",
     "text": "[['Count', '246378'], ['RetMax', '100'], ['RetStart', '0'], ['IdList', ['32359160', '32359158', '32359157', '32359152', '32359146', '32359007', '32358926', '32358872', '32358784', '32358770', '32358743', '32358605', '32358589', '32358529', '32358503', '32357955', '32357898', '32357861', '32357859', '32357836', '32357832', '32357518', '32357425', '32357373', '32357172', '32357153', '32356861', '32356383', '32356375', '32356309', '32356189', '32355762', '32355734', '32355611', '32355594', '32355559', '32355537', '32355288', '32355211', '32355162', '32355159', '32354994', '32354986', '32354985', '32354967', '32354947', '32354896', '32354366', '32354351', '32354324', '32354297', '32354124', '32354024', '32353943', '32353872', '32353747', '32353626', '32353625', '32353525', '32353479', '32353478', '32353477', '32353476', '32353475', '32353474', '32353450', '32353447', '32353178', '32353123', '32353112', '32353023', '32353016', '32352857', '32352843', '32352579', '32352380', '32352041', '32352035', '32351982', '32351981', '32351969', '32351968', '32351925', '32351798', '32351783', '32351572', '32351544', '32351543', '32351507', '32351501', '32351458', '32351390', '32351369', '32351309', '32351302', '32351301', '32351036', '32350990', '32350852', '32350783']], ['TranslationSet', [{'From': 'genomics', 'To': '\"genomics\"[MeSH Terms] OR \"genomics\"[All Fields]'}]], ['TranslationStack', [{'Term': '\"genomics\"[MeSH Terms]', 'Field': 'MeSH Terms', 'Count': '110045', 'Explode': 'Y'}, {'Term': '\"genomics\"[All Fields]', 'Field': 'All Fields', 'Count': '186789', 'Explode': 'N'}, 'OR', 'GROUP']], ['QueryTranslation', '\"genomics\"[MeSH Terms] OR \"genomics\"[All Fields]']]\n"
    }
   ],
   "source": [
    "list = []\n",
    "listrecords = []\n",
    "\n",
    "for key, value in record.items():\n",
    "    list = [key, value]\n",
    "    listrecords.append(list)\n",
    "print(listrecords)\n"
   ]
  },
  {
   "cell_type": "code",
   "execution_count": null,
   "metadata": {},
   "outputs": [],
   "source": []
  },
  {
   "cell_type": "code",
   "execution_count": 594,
   "metadata": {},
   "outputs": [
    {
     "output_type": "stream",
     "name": "stdout",
     "text": "['IdList', ['32359160', '32359158', '32359157', '32359152', '32359146', '32359007', '32358926', '32358872', '32358784', '32358770', '32358743', '32358605', '32358589', '32358529', '32358503', '32357955', '32357898', '32357861', '32357859', '32357836', '32357832', '32357518', '32357425', '32357373', '32357172', '32357153', '32356861', '32356383', '32356375', '32356309', '32356189', '32355762', '32355734', '32355611', '32355594', '32355559', '32355537', '32355288', '32355211', '32355162', '32355159', '32354994', '32354986', '32354985', '32354967', '32354947', '32354896', '32354366', '32354351', '32354324', '32354297', '32354124', '32354024', '32353943', '32353872', '32353747', '32353626', '32353625', '32353525', '32353479', '32353478', '32353477', '32353476', '32353475', '32353474', '32353450', '32353447', '32353178', '32353123', '32353112', '32353023', '32353016', '32352857', '32352843', '32352579', '32352380', '32352041', '32352035', '32351982', '32351981', '32351969', '32351968', '32351925', '32351798', '32351783', '32351572', '32351544', '32351543', '32351507', '32351501', '32351458', '32351390', '32351369', '32351309', '32351302', '32351301', '32351036', '32350990', '32350852', '32350783']]\n"
    }
   ],
   "source": [
    "id_list_acquire = listrecords[3]\n",
    "print(id_list_acquire)\n",
    "id_list = []\n",
    "id_list_int = []\n",
    "\n",
    "for id in id_list_acquire[1]:\n",
    "    #id_list.append(int(id))\n",
    "    id_list.append(id)\n",
    "    #print(id)\n",
    "\n",
    "for id in id_list_acquire[1]:\n",
    "    id_list_int.append(int(id))\n",
    "    #print(id)"
   ]
  },
  {
   "cell_type": "code",
   "execution_count": 595,
   "metadata": {},
   "outputs": [
    {
     "output_type": "error",
     "ename": "KeyError",
     "evalue": "'PdbDescr'",
     "traceback": [
      "\u001b[0;31m---------------------------------------------------------------------------\u001b[0m",
      "\u001b[0;31mKeyError\u001b[0m                                  Traceback (most recent call last)",
      "\u001b[0;32m<ipython-input-595-a514cc7cf358>\u001b[0m in \u001b[0;36m<module>\u001b[0;34m\u001b[0m\n\u001b[1;32m      3\u001b[0m     \u001b[0mrecord2\u001b[0m \u001b[0;34m=\u001b[0m \u001b[0mEntrez\u001b[0m\u001b[0;34m.\u001b[0m\u001b[0mread\u001b[0m\u001b[0;34m(\u001b[0m\u001b[0msummary\u001b[0m\u001b[0;34m)\u001b[0m\u001b[0;34m\u001b[0m\u001b[0;34m\u001b[0m\u001b[0m\n\u001b[1;32m      4\u001b[0m \u001b[0mhandle\u001b[0m\u001b[0;34m.\u001b[0m\u001b[0mclose\u001b[0m\u001b[0;34m(\u001b[0m\u001b[0;34m)\u001b[0m\u001b[0;34m\u001b[0m\u001b[0;34m\u001b[0m\u001b[0m\n\u001b[0;32m----> 5\u001b[0;31m \u001b[0mprint\u001b[0m\u001b[0;34m(\u001b[0m\u001b[0mrecord2\u001b[0m\u001b[0;34m[\u001b[0m\u001b[0;36m0\u001b[0m\u001b[0;34m]\u001b[0m\u001b[0;34m[\u001b[0m\u001b[0;34m\"PdbDescr\"\u001b[0m\u001b[0;34m]\u001b[0m\u001b[0;34m)\u001b[0m\u001b[0;34m\u001b[0m\u001b[0;34m\u001b[0m\u001b[0m\n\u001b[0m",
      "\u001b[0;31mKeyError\u001b[0m: 'PdbDescr'"
     ]
    }
   ],
   "source": [
    "#for pubmedid in id_list_int:\n",
    "    #summary = Entrez.esummary(db = 'pubmed', id = pubmedid)\n",
    "    #record2 = Entrez.read(summary)\n",
    "#handle.close()"
   ]
  },
  {
   "cell_type": "code",
   "execution_count": 569,
   "metadata": {},
   "outputs": [
    {
     "output_type": "stream",
     "name": "stdout",
     "text": "32359160\nhttps://www.ncbi.nlm.nih.gov/pubmed/32359160\n32359158\nhttps://www.ncbi.nlm.nih.gov/pubmed/32359158\n32359157\nhttps://www.ncbi.nlm.nih.gov/pubmed/32359157\n32359152\nhttps://www.ncbi.nlm.nih.gov/pubmed/32359152\n32359146\nhttps://www.ncbi.nlm.nih.gov/pubmed/32359146\n"
    },
    {
     "output_type": "error",
     "ename": "TypeError",
     "evalue": "descriptor 'get' requires a 'dict' object but received a 'str'",
     "traceback": [
      "\u001b[0;31m---------------------------------------------------------------------------\u001b[0m",
      "\u001b[0;31mTypeError\u001b[0m                                 Traceback (most recent call last)",
      "\u001b[0;32m<ipython-input-569-f35d507a746c>\u001b[0m in \u001b[0;36m<module>\u001b[0;34m\u001b[0m\n\u001b[1;32m      7\u001b[0m     \u001b[0murl\u001b[0m \u001b[0;34m=\u001b[0m \u001b[0;34m\"https://www.ncbi.nlm.nih.gov/pubmed/\"\u001b[0m \u001b[0;34m+\u001b[0m \u001b[0mx\u001b[0m\u001b[0;34m\u001b[0m\u001b[0;34m\u001b[0m\u001b[0m\n\u001b[1;32m      8\u001b[0m     \u001b[0mlookup\u001b[0m \u001b[0;34m=\u001b[0m \u001b[0mPML\u001b[0m\u001b[0;34m(\u001b[0m\u001b[0murl\u001b[0m\u001b[0;34m,\u001b[0m \u001b[0memail\u001b[0m\u001b[0;34m)\u001b[0m\u001b[0;34m\u001b[0m\u001b[0;34m\u001b[0m\u001b[0m\n\u001b[0;32m----> 9\u001b[0;31m     \u001b[0mpublication\u001b[0m \u001b[0;34m=\u001b[0m \u001b[0mPublication\u001b[0m\u001b[0;34m(\u001b[0m\u001b[0mlookup\u001b[0m\u001b[0;34m)\u001b[0m\u001b[0;34m\u001b[0m\u001b[0;34m\u001b[0m\u001b[0m\n\u001b[0m\u001b[1;32m     10\u001b[0m     \u001b[0;31m#print(publication.abstract)\u001b[0m\u001b[0;34m\u001b[0m\u001b[0;34m\u001b[0m\u001b[0;34m\u001b[0m\u001b[0m\n\u001b[1;32m     11\u001b[0m     \u001b[0mprint\u001b[0m\u001b[0;34m(\u001b[0m\u001b[0mx\u001b[0m\u001b[0;34m)\u001b[0m\u001b[0;34m\u001b[0m\u001b[0;34m\u001b[0m\u001b[0m\n",
      "\u001b[0;32m/Applications/anaconda3/lib/python3.7/site-packages/pubmed_lookup/pubmed_lookup.py\u001b[0m in \u001b[0;36m__init__\u001b[0;34m(self, pubmed_record, resolve_doi)\u001b[0m\n\u001b[1;32m     49\u001b[0m         \u001b[0mxml_dict\u001b[0m \u001b[0;34m=\u001b[0m \u001b[0mself\u001b[0m\u001b[0;34m.\u001b[0m\u001b[0mget_pubmed_xml\u001b[0m\u001b[0;34m(\u001b[0m\u001b[0;34m)\u001b[0m\u001b[0;34m\u001b[0m\u001b[0;34m\u001b[0m\u001b[0m\n\u001b[1;32m     50\u001b[0m         \u001b[0mself\u001b[0m\u001b[0;34m.\u001b[0m\u001b[0mset_abstract\u001b[0m\u001b[0;34m(\u001b[0m\u001b[0mxml_dict\u001b[0m\u001b[0;34m)\u001b[0m\u001b[0;34m\u001b[0m\u001b[0;34m\u001b[0m\u001b[0m\n\u001b[0;32m---> 51\u001b[0;31m         \u001b[0mself\u001b[0m\u001b[0;34m.\u001b[0m\u001b[0mset_pub_year_month_day\u001b[0m\u001b[0;34m(\u001b[0m\u001b[0mxml_dict\u001b[0m\u001b[0;34m)\u001b[0m\u001b[0;34m\u001b[0m\u001b[0;34m\u001b[0m\u001b[0m\n\u001b[0m\u001b[1;32m     52\u001b[0m \u001b[0;34m\u001b[0m\u001b[0m\n\u001b[1;32m     53\u001b[0m     \u001b[0;32mdef\u001b[0m \u001b[0mauthors_et_al\u001b[0m\u001b[0;34m(\u001b[0m\u001b[0mself\u001b[0m\u001b[0;34m,\u001b[0m \u001b[0mmax_authors\u001b[0m\u001b[0;34m=\u001b[0m\u001b[0;36m5\u001b[0m\u001b[0;34m)\u001b[0m\u001b[0;34m:\u001b[0m\u001b[0;34m\u001b[0m\u001b[0;34m\u001b[0m\u001b[0m\n",
      "\u001b[0;32m/Applications/anaconda3/lib/python3.7/site-packages/pubmed_lookup/pubmed_lookup.py\u001b[0m in \u001b[0;36mset_pub_year_month_day\u001b[0;34m(self, xml_dict)\u001b[0m\n\u001b[1;32m    206\u001b[0m         key_path = ['PubmedArticleSet', 'PubmedArticle', 'MedlineCitation',\n\u001b[1;32m    207\u001b[0m                     'Article', 'Journal', 'JournalIssue', 'PubDate']\n\u001b[0;32m--> 208\u001b[0;31m         \u001b[0mpubdate_xml\u001b[0m \u001b[0;34m=\u001b[0m \u001b[0mreduce\u001b[0m\u001b[0;34m(\u001b[0m\u001b[0mdict\u001b[0m\u001b[0;34m.\u001b[0m\u001b[0mget\u001b[0m\u001b[0;34m,\u001b[0m \u001b[0mkey_path\u001b[0m\u001b[0;34m,\u001b[0m \u001b[0mxml_dict\u001b[0m\u001b[0;34m)\u001b[0m\u001b[0;34m\u001b[0m\u001b[0;34m\u001b[0m\u001b[0m\n\u001b[0m\u001b[1;32m    209\u001b[0m \u001b[0;34m\u001b[0m\u001b[0m\n\u001b[1;32m    210\u001b[0m         \u001b[0;32mif\u001b[0m \u001b[0misinstance\u001b[0m\u001b[0;34m(\u001b[0m\u001b[0mpubdate_xml\u001b[0m\u001b[0;34m,\u001b[0m \u001b[0mdict\u001b[0m\u001b[0;34m)\u001b[0m\u001b[0;34m:\u001b[0m\u001b[0;34m\u001b[0m\u001b[0;34m\u001b[0m\u001b[0m\n",
      "\u001b[0;31mTypeError\u001b[0m: descriptor 'get' requires a 'dict' object but received a 'str'"
     ]
    }
   ],
   "source": [
    "from pubmed_lookup import PubMedLookup as PML\n",
    "from pubmed_lookup import Publication\n",
    "\n",
    "email = 'eileen.cahill@nih.gov'\n",
    "\n",
    "for x in id_list:\n",
    "    url = \"https://www.ncbi.nlm.nih.gov/pubmed/\" + x\n",
    "    lookup = PML(url, email)\n",
    "    publication = Publication(lookup)\n",
    "    #print(publication.abstract)\n",
    "   # print(publication.url)\n"
   ]
  },
  {
   "cell_type": "code",
   "execution_count": 570,
   "metadata": {},
   "outputs": [],
   "source": [
    "#df = pd.DataFrame(record)\n",
    "#df.head()"
   ]
  },
  {
   "cell_type": "markdown",
   "metadata": {},
   "source": [
    "## 5) Show me the shape of your data"
   ]
  },
  {
   "cell_type": "code",
   "execution_count": 571,
   "metadata": {},
   "outputs": [],
   "source": [
    "#df.shape()"
   ]
  },
  {
   "cell_type": "markdown",
   "metadata": {},
   "source": [
    "## 6) Show me the proportion of missing observations for each column of your data"
   ]
  },
  {
   "cell_type": "code",
   "execution_count": 571,
   "metadata": {},
   "outputs": [],
   "source": [
    "\n"
   ]
  },
  {
   "cell_type": "code",
   "execution_count": null,
   "metadata": {},
   "outputs": [],
   "source": []
  },
  {
   "cell_type": "markdown",
   "metadata": {},
   "source": [
    "## 7) Give me a problem statement.\n",
    "Below, write a problem statement. Keep in mind that your task is to tease out relationships in your data and eventually build a predictive model. Your problem statement can be vague, but you should have a goal in mind. Your problem statement should be between one sentence and one paragraph."
   ]
  },
  {
   "cell_type": "code",
   "execution_count": 572,
   "metadata": {},
   "outputs": [
    {
     "output_type": "error",
     "ename": "SyntaxError",
     "evalue": "invalid syntax (<ipython-input-572-7306c8c9af96>, line 1)",
     "traceback": [
      "\u001b[0;36m  File \u001b[0;32m\"<ipython-input-572-7306c8c9af96>\"\u001b[0;36m, line \u001b[0;32m1\u001b[0m\n\u001b[0;31m    def preprocess_text(text)\u001b[0m\n\u001b[0m                             ^\u001b[0m\n\u001b[0;31mSyntaxError\u001b[0m\u001b[0;31m:\u001b[0m invalid syntax\n"
     ]
    }
   ],
   "source": [
    "def preprocess_text(text)\n",
    "    text = text.lower()\n",
    "    processed_tokens = []\n",
    "    for token in word_tokenize(text)\n",
    "        if token not in punctuation and token not in stopword_list:\n",
    "          processed_tokens.append(token)\n",
    "        return processed_tokens  "
   ]
  },
  {
   "cell_type": "markdown",
   "metadata": {},
   "source": [
    "## 8) What is your _y_-variable?\n",
    "For final project, you will need to perform a statistical model. This means you will have to accurately predict some y-variable for some combination of x-variables. From your problem statement in part 7, what is that y-variable?"
   ]
  },
  {
   "cell_type": "code",
   "execution_count": 573,
   "metadata": {},
   "outputs": [],
   "source": [
    "#VS code version"
   ]
  }
 ],
 "metadata": {
  "kernelspec": {
   "display_name": "Python 3.7.4 64-bit ('base': conda)",
   "language": "python",
   "name": "python37464bitbasecondad7e997a9f21d4c48a1361726b45a74df"
  },
  "language_info": {
   "codemirror_mode": {
    "name": "ipython",
    "version": 3
   },
   "file_extension": ".py",
   "mimetype": "text/x-python",
   "name": "python",
   "nbconvert_exporter": "python",
   "pygments_lexer": "ipython3",
   "version": "3.7.4-final"
  }
 },
 "nbformat": 4,
 "nbformat_minor": 4
}