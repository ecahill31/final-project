{
 "cells": [
  {
   "cell_type": "markdown",
   "metadata": {},
   "source": [
    "# Final Project Template "
   ]
  },
  {
   "cell_type": "code",
   "execution_count": null,
   "metadata": {},
   "outputs": [],
   "source": []
  },
  {
   "cell_type": "markdown",
   "metadata": {},
   "source": [
    "## 1) Get your data\n",
    "You may use any data set(s) you like, so long as they meet these criteria:\n",
    "\n",
    "* Your data must be publically available for free.\n",
    "* Your data should be interesting to _you_. You want your final project to be something you're proud of.\n",
    "* Your data should be \"big enough\":\n",
    "    - It should have at least 1,000 rows.\n",
    "    - It should have enough of columns to be interesting.\n",
    "    - If you have questions, contact a member of the instructional team."
   ]
  },
  {
   "cell_type": "markdown",
   "metadata": {},
   "source": [
    "## 2) Provide a link to your data\n",
    "Your data is required to be free and open to anyone.\n",
    "As such, you should have a URL which anyone can use to download your data:"
   ]
  },
  {
   "cell_type": "code",
   "execution_count": 474,
   "metadata": {},
   "outputs": [],
   "source": [
    "# https://www.ncbi.nlm.nih.gov/pubmed/?term=the+encyclopedia+of+DNA+elements"
   ]
  },
  {
   "cell_type": "markdown",
   "metadata": {},
   "source": [
    "# 3) Import your data\n",
    "\n",
    "In the space below, import your data. If your data span multiple files, read them all in. If applicable, merge or append them as needed."
   ]
  },
  {
   "cell_type": "code",
   "execution_count": 477,
   "metadata": {},
   "outputs": [],
   "source": [
    "import pandas as pd\n",
    "import numpy as np \n",
    "import csv\n",
    "\n",
    "from Bio import Entrez\n",
    "Entrez.email = \"eileen.cahill@nih.gov\"\n",
    "handle = Entrez.esearch(db=\"pubmed\", retmax=100, term=\"genomics\", idtype=\"acc\")\n",
    "record = Entrez.read(handle)\n",
    "handle.close()"
   ]
  },
  {
   "cell_type": "code",
   "execution_count": 480,
   "metadata": {},
   "outputs": [
    {
     "output_type": "stream",
     "name": "stdout",
     "text": "<class 'Bio.Entrez.Parser.DictionaryElement'>\n<class '_io.TextIOWrapper'>\n1\n{'Count': '246378', 'RetMax': '100', 'RetStart': '0', 'IdList': ['32359160', '32359158', '32359157', '32359152', '32359146', '32359007', '32358926', '32358872', '32358784', '32358770', '32358743', '32358605', '32358589', '32358529', '32358503', '32357955', '32357898', '32357861', '32357859', '32357836', '32357832', '32357518', '32357425', '32357373', '32357172', '32357153', '32356861', '32356383', '32356375', '32356309', '32356189', '32355762', '32355734', '32355611', '32355594', '32355559', '32355537', '32355288', '32355211', '32355162', '32355159', '32354994', '32354986', '32354985', '32354967', '32354947', '32354896', '32354366', '32354351', '32354324', '32354297', '32354124', '32354024', '32353943', '32353872', '32353747', '32353626', '32353625', '32353525', '32353479', '32353478', '32353477', '32353476', '32353475', '32353474', '32353450', '32353447', '32353178', '32353123', '32353112', '32353023', '32353016', '32352857', '32352843', '32352579', '32352380', '32352041', '32352035', '32351982', '32351981', '32351969', '32351968', '32351925', '32351798', '32351783', '32351572', '32351544', '32351543', '32351507', '32351501', '32351458', '32351390', '32351369', '32351309', '32351302', '32351301', '32351036', '32350990', '32350852', '32350783'], 'TranslationSet': [{'From': 'genomics', 'To': '\"genomics\"[MeSH Terms] OR \"genomics\"[All Fields]'}], 'TranslationStack': [{'Term': '\"genomics\"[MeSH Terms]', 'Field': 'MeSH Terms', 'Count': '110045', 'Explode': 'Y'}, {'Term': '\"genomics\"[All Fields]', 'Field': 'All Fields', 'Count': '186789', 'Explode': 'N'}, 'OR', 'GROUP'], 'QueryTranslation': '\"genomics\"[MeSH Terms] OR \"genomics\"[All Fields]'}\n"
    }
   ],
   "source": [
    "print(type(record))\n",
    "print(type(handle))\n",
    "print(len(listofrecords))\n",
    "print(record)\n",
    "#print(record['IdList'])\n"
   ]
  },
  {
   "cell_type": "code",
   "execution_count": 482,
   "metadata": {},
   "outputs": [
    {
     "output_type": "stream",
     "name": "stdout",
     "text": "[['Count', '246378'], ['RetMax', '100'], ['RetStart', '0'], ['IdList', ['32359160', '32359158', '32359157', '32359152', '32359146', '32359007', '32358926', '32358872', '32358784', '32358770', '32358743', '32358605', '32358589', '32358529', '32358503', '32357955', '32357898', '32357861', '32357859', '32357836', '32357832', '32357518', '32357425', '32357373', '32357172', '32357153', '32356861', '32356383', '32356375', '32356309', '32356189', '32355762', '32355734', '32355611', '32355594', '32355559', '32355537', '32355288', '32355211', '32355162', '32355159', '32354994', '32354986', '32354985', '32354967', '32354947', '32354896', '32354366', '32354351', '32354324', '32354297', '32354124', '32354024', '32353943', '32353872', '32353747', '32353626', '32353625', '32353525', '32353479', '32353478', '32353477', '32353476', '32353475', '32353474', '32353450', '32353447', '32353178', '32353123', '32353112', '32353023', '32353016', '32352857', '32352843', '32352579', '32352380', '32352041', '32352035', '32351982', '32351981', '32351969', '32351968', '32351925', '32351798', '32351783', '32351572', '32351544', '32351543', '32351507', '32351501', '32351458', '32351390', '32351369', '32351309', '32351302', '32351301', '32351036', '32350990', '32350852', '32350783']], ['TranslationSet', [{'From': 'genomics', 'To': '\"genomics\"[MeSH Terms] OR \"genomics\"[All Fields]'}]], ['TranslationStack', [{'Term': '\"genomics\"[MeSH Terms]', 'Field': 'MeSH Terms', 'Count': '110045', 'Explode': 'Y'}, {'Term': '\"genomics\"[All Fields]', 'Field': 'All Fields', 'Count': '186789', 'Explode': 'N'}, 'OR', 'GROUP']], ['QueryTranslation', '\"genomics\"[MeSH Terms] OR \"genomics\"[All Fields]']]\n"
    }
   ],
   "source": [
    "list = []\n",
    "listrecords = []\n",
    "\n",
    "for key, value in record.items():\n",
    "    list = [key, value]\n",
    "    listrecords.append(list)\n",
    "print(listrecords)\n"
   ]
  },
  {
   "cell_type": "code",
   "execution_count": null,
   "metadata": {},
   "outputs": [],
   "source": [
    "id_list_acquire = listrecords[3]\n",
    "#print(id_list_acquire)\n",
    "id_list = []\n",
    "\n",
    "for id in id_list_acquire[1]:\n",
    "    id_list.append(int(id))\n",
    "    #print(id)\n",
    "print(id_list)"
   ]
  },
  {
   "cell_type": "code",
   "execution_count": 486,
   "metadata": {},
   "outputs": [
    {
     "output_type": "stream",
     "name": "stdout",
     "text": "Biodegradation of the phenylurea herbicide linuron appears a specialization within a specific clade of the Variovorax genus. The linuron catabolic ability is likely acquired by horizontal gene transfer but the mechanisms involved are not known. The full genome sequences of six linuron degrading Variovorax strains isolated from geographically distant locations were analyzed to acquire insight into the mechanisms of genetic adaptation towards linuron metabolism. Whole genome sequence analysis confirmed the phylogenetic position of the linuron degraders in a separate clade within Variovorax and indicated that they unlikely originate from a common ancestral linuron degrader. The linuron degraders differentiated from Variovorax strains that do not degrade linuron by the presence of multiple plasmids of 20 to 839 kb, including plasmids of unknown plasmid groups. The linuron catabolic gene clusters showed (i) high conservation and synteny and (ii) strain-dependent distribution among the different plasmids. Most of them were bordered by IS1071 elements forming composite transposon structures, often in a multimeric array configuration, appointing IS1071 as a key element in the recruitment of linuron catabolic genes in Variovorax. Most of the strains carried at least one (catabolic) broad host range plasmid that might have been a second instrument for catabolic gene acquisition. We conclude that clade 1 Variovorax strains, despite their different geographical origin, made use of a limited genetic repertoire regarding both catabolic functions and vehicles to acquire linuron biodegradation.\nWe evaluated the joint associations between a new 313-variant PRS (PRS313) and questionnaire-based breast cancer risk factors for women of European ancestry, using 72,284 cases and 80,354 controls from the Breast Cancer Association Consortium. Interactions were evaluated using standard logistic regression, and a newly developed case-only method, for breast cancer risk overall and by estrogen receptor status. After accounting for multiple testing, we did not find evidence that per-standard deviation PRS313 odds ratio differed across strata defined by individual risk factors. Goodness-of-fit tests did not reject the assumption of a multiplicative model between PRS313 and each risk factor. Variation in projected absolute lifetime risk of breast cancer associated with classical risk factors was greater for women with higher genetic risk (PRS313 and family history), and on average 17.5% higher in the highest vs lowest deciles of genetic risk. These findings have implications for risk prevention for women at increased risk of breast cancer.\nMolecular phylogenies have yielded strong support for many parts of the amphibian Tree of Life, but poor support for the resolution of deeper nodes, including relationships among families and orders. To clarify these relationships, we provide a phylogenomic perspective on amphibian relationships by developing a taxon-specific Anchored Hybrid Enrichment protocol targeting hundreds of conserved exons which are effective across the class. After obtaining data from 220 loci for 286 species (representing 94% of the families and 44% of the genera), we estimate a phylogeny for extant amphibians and identify gene tree-species tree conflict across the deepest branches of the amphibian phylogeny. We perform locus-by-locus genealogical interrogation of alternative topological hypotheses for amphibian monophyly, focusing on interordinal relationships. We find that phylogenetic signal deep in the amphibian phylogeny varies greatly across loci in a manner that is consistent with incomplete lineage sorting in the ancestral lineage of extant amphibians. Our results overwhelmingly support amphibian monophyly and a sister relationship between frogs and salamanders, consistent with the Batrachia hypothesis. Species tree analyses converge on a small set of topological hypotheses for the relationships among extant amphibian families. These results clarify several contentious portions of the amphibian Tree of Life, which in conjunction with a set of vetted fossil calibrations, support a surprisingly younger timescale for crown and ordinal amphibian diversification than previously reported. More broadly, our study provides insight into the sources, magnitudes, and heterogeneity of support across loci in phylogenomic data sets.\nEcology of insects is as wide as their diversity, which reflects their high capacity of adaptation in most of the environments of our planet. Aphids, with over 4,000 species, have developed a series of adaptations including a high phenotypic plasticity and the ability to feed on the phloem-sap of plants, which is enriched in sugars derived from photosynthesis. Recent analyses of aphid genomes have indicated a high level of shared ancestral gene duplications that might represent a basis for genetic innovation and broad adaptations. In addition, there is a large number of recent, species-specific gene duplications whose role in adaptation remains poorly understood. Here, we tested whether duplicates specific to the pea aphid Acyrthosiphon pisum are related to genomic innovation by combining comparative genomics, transcriptomics, and chromatin accessibility analyses. Consistent with large levels of neofunctionalization, we found that most of the recent pairs of gene duplicates evolved asymmetrically, showing divergent patterns of positive selection and gene expression. Genes under selection involved a plethora of biological functions, suggesting that neofunctionalization and tissue specificity, among other evolutionary mechanisms, have orchestrated the evolution of recent paralogs in the pea aphid and may have facilitated host-symbiont cooperation. Our comprehensive phylogenomics analysis allowed us to tackle the history of duplicated genes to pave the road towards understanding the role of gene duplication in ecological adaptation.\nThe abundance, diversity, and genomic distribution of repetitive elements is highly variable among species. These patterns are thought to be driven in part by reproductive mode and the interaction of selection and recombination, and recombination rates typically vary by chromosomal position. In the nematode C. elegans, repetitive elements are enriched at chromosome arms and depleted on centers, and this mirrors the chromosomal distributions of other genomic features such as recombination rate. How conserved is this genomic landscape of repeats, and what evolutionary forces maintain it? To address this, we compared the genomic organization of repetitive elements across five Caenorhabditis species with chromosome-level assemblies. As previously reported, repeat content is enriched on chromosome arms in most Caenorhabditis species, and no obvious patterns of repeat content associated with reproductive mode were observed. However, the fig-associated Caenorhabditis inopinata has experienced repetitive element expansion and reveals no association of global repeat density with chromosome position. Patterns of repeat superfamily-specific distributions reveal this global pattern is driven largely by a few repeat superfamilies that in C. inopinata have expanded in number and have weak associations with chromosome position. Additionally, 15% of predicted protein-coding genes in C. inopinata align to transposon-related proteins. When these are excluded, C. inopinata has no enrichment of genes in chromosome centers, in contrast to its close relatives who all have such clusters. Forward evolutionary simulations reveal that chromosomal heterogeneity in recombination rate alone can generate structured repetitive genomic landscapes when insertions are weakly deleterious, whereas chromosomal heterogeneity in the fitness effects of transposon insertion can promote such landscapes across a variety of evolutionary scenarios. Thus, patterns of gene density along chromosomes likely contribute to global repetitive landscapes in this group, although other historical or genomic factors are needed to explain the idiosyncrasy of genomic organization of various transposable element taxa within C. inopinata. Taken together, these results highlight the power of comparative genomics and evolutionary simulations in testing hypotheses regarding the causes of genome organization.\nThe fall armyworm (Spodoptera frugiperda) is a lepidopteran insect pest that causes huge economic losses. This notorious insect pest has rapidly spread over the world in the past few years. However, the mechanisms of rapid dispersal are not well understood. Here, we report a chromosome-level assembled genome of the fall armyworm, named the ZJ-version, using PacBio and Hi-C technology. The sequenced individual was a female collected from the Zhejiang province of China and had high heterozygosity. The assembled genome size of ZJ-version was 486 Mb, containing 361 contigs with an N50 of 1.13 Mb. Hi-C scaffolding further assembled the genome into 31 chromosomes and a portion of W chromosome, representing 97.4 % of all contigs and resulted in a chromosome-level genome with scaffold N50 of 16.3 Mb. The sex chromosomes were identified by genome re-sequencing of a single male pupa and a single female pupa. About 28% of the genome was annotated as repeat sequences, and 22,623 protein-coding genes were identified. Comparative genomics revealed the expansion of the detoxification-associated gene families, chemoreception-associated gene families, nutrition metabolism and transport system gene families in the fall armyworm. Transcriptomic and phylogenetic analyses focused on these gene families revealed the potential roles of the genes in polyphagia and invasion of fall armyworm. The high-quality of the fall armyworm genome provides an important genomic resource for further explorations of the mechanisms of polyphagia and insecticide resistance, as well as for pest management of fall armyworm.\n"
    },
    {
     "output_type": "error",
     "ename": "TypeError",
     "evalue": "descriptor 'get' requires a 'dict' object but received a 'str'",
     "traceback": [
      "\u001b[0;31m---------------------------------------------------------------------------\u001b[0m",
      "\u001b[0;31mTypeError\u001b[0m                                 Traceback (most recent call last)",
      "\u001b[0;32m<ipython-input-486-1fc99a97f406>\u001b[0m in \u001b[0;36m<module>\u001b[0;34m\u001b[0m\n\u001b[1;32m      6\u001b[0m \u001b[0;32mfor\u001b[0m \u001b[0murl\u001b[0m \u001b[0;32min\u001b[0m \u001b[0mid_list\u001b[0m\u001b[0;34m:\u001b[0m\u001b[0;34m\u001b[0m\u001b[0;34m\u001b[0m\u001b[0m\n\u001b[1;32m      7\u001b[0m     \u001b[0mlookup\u001b[0m \u001b[0;34m=\u001b[0m \u001b[0mPML\u001b[0m\u001b[0;34m(\u001b[0m\u001b[0murl\u001b[0m\u001b[0;34m,\u001b[0m \u001b[0memail\u001b[0m\u001b[0;34m)\u001b[0m\u001b[0;34m\u001b[0m\u001b[0;34m\u001b[0m\u001b[0m\n\u001b[0;32m----> 8\u001b[0;31m     \u001b[0mpublication\u001b[0m \u001b[0;34m=\u001b[0m \u001b[0mPublication\u001b[0m\u001b[0;34m(\u001b[0m\u001b[0mlookup\u001b[0m\u001b[0;34m)\u001b[0m\u001b[0;34m\u001b[0m\u001b[0;34m\u001b[0m\u001b[0m\n\u001b[0m\u001b[1;32m      9\u001b[0m     \u001b[0mprint\u001b[0m\u001b[0;34m(\u001b[0m\u001b[0mpublication\u001b[0m\u001b[0;34m.\u001b[0m\u001b[0mabstract\u001b[0m\u001b[0;34m)\u001b[0m\u001b[0;34m\u001b[0m\u001b[0;34m\u001b[0m\u001b[0m\n",
      "\u001b[0;32m/Applications/anaconda3/lib/python3.7/site-packages/pubmed_lookup/pubmed_lookup.py\u001b[0m in \u001b[0;36m__init__\u001b[0;34m(self, pubmed_record, resolve_doi)\u001b[0m\n\u001b[1;32m     49\u001b[0m         \u001b[0mxml_dict\u001b[0m \u001b[0;34m=\u001b[0m \u001b[0mself\u001b[0m\u001b[0;34m.\u001b[0m\u001b[0mget_pubmed_xml\u001b[0m\u001b[0;34m(\u001b[0m\u001b[0;34m)\u001b[0m\u001b[0;34m\u001b[0m\u001b[0;34m\u001b[0m\u001b[0m\n\u001b[1;32m     50\u001b[0m         \u001b[0mself\u001b[0m\u001b[0;34m.\u001b[0m\u001b[0mset_abstract\u001b[0m\u001b[0;34m(\u001b[0m\u001b[0mxml_dict\u001b[0m\u001b[0;34m)\u001b[0m\u001b[0;34m\u001b[0m\u001b[0;34m\u001b[0m\u001b[0m\n\u001b[0;32m---> 51\u001b[0;31m         \u001b[0mself\u001b[0m\u001b[0;34m.\u001b[0m\u001b[0mset_pub_year_month_day\u001b[0m\u001b[0;34m(\u001b[0m\u001b[0mxml_dict\u001b[0m\u001b[0;34m)\u001b[0m\u001b[0;34m\u001b[0m\u001b[0;34m\u001b[0m\u001b[0m\n\u001b[0m\u001b[1;32m     52\u001b[0m \u001b[0;34m\u001b[0m\u001b[0m\n\u001b[1;32m     53\u001b[0m     \u001b[0;32mdef\u001b[0m \u001b[0mauthors_et_al\u001b[0m\u001b[0;34m(\u001b[0m\u001b[0mself\u001b[0m\u001b[0;34m,\u001b[0m \u001b[0mmax_authors\u001b[0m\u001b[0;34m=\u001b[0m\u001b[0;36m5\u001b[0m\u001b[0;34m)\u001b[0m\u001b[0;34m:\u001b[0m\u001b[0;34m\u001b[0m\u001b[0;34m\u001b[0m\u001b[0m\n",
      "\u001b[0;32m/Applications/anaconda3/lib/python3.7/site-packages/pubmed_lookup/pubmed_lookup.py\u001b[0m in \u001b[0;36mset_pub_year_month_day\u001b[0;34m(self, xml_dict)\u001b[0m\n\u001b[1;32m    206\u001b[0m         key_path = ['PubmedArticleSet', 'PubmedArticle', 'MedlineCitation',\n\u001b[1;32m    207\u001b[0m                     'Article', 'Journal', 'JournalIssue', 'PubDate']\n\u001b[0;32m--> 208\u001b[0;31m         \u001b[0mpubdate_xml\u001b[0m \u001b[0;34m=\u001b[0m \u001b[0mreduce\u001b[0m\u001b[0;34m(\u001b[0m\u001b[0mdict\u001b[0m\u001b[0;34m.\u001b[0m\u001b[0mget\u001b[0m\u001b[0;34m,\u001b[0m \u001b[0mkey_path\u001b[0m\u001b[0;34m,\u001b[0m \u001b[0mxml_dict\u001b[0m\u001b[0;34m)\u001b[0m\u001b[0;34m\u001b[0m\u001b[0;34m\u001b[0m\u001b[0m\n\u001b[0m\u001b[1;32m    209\u001b[0m \u001b[0;34m\u001b[0m\u001b[0m\n\u001b[1;32m    210\u001b[0m         \u001b[0;32mif\u001b[0m \u001b[0misinstance\u001b[0m\u001b[0;34m(\u001b[0m\u001b[0mpubdate_xml\u001b[0m\u001b[0;34m,\u001b[0m \u001b[0mdict\u001b[0m\u001b[0;34m)\u001b[0m\u001b[0;34m:\u001b[0m\u001b[0;34m\u001b[0m\u001b[0;34m\u001b[0m\u001b[0m\n",
      "\u001b[0;31mTypeError\u001b[0m: descriptor 'get' requires a 'dict' object but received a 'str'"
     ]
    }
   ],
   "source": [
    "from pubmed_lookup import PubMedLookup as PML\n",
    "from pubmed_lookup import Publication\n",
    "\n",
    "email = 'eileen.cahill@nih.gov'\n",
    "\n",
    "for url in id_list:\n",
    "    lookup = PML(url, email)\n",
    "    publication = Publication(lookup)\n",
    "    print(publication.abstract)\n"
   ]
  },
  {
   "cell_type": "markdown",
   "metadata": {},
   "source": [
    "## 4) Show me the head of your data."
   ]
  },
  {
   "cell_type": "code",
   "execution_count": 488,
   "metadata": {},
   "outputs": [],
   "source": [
    "#df = pd.DataFrame(record)\n",
    "#df.head()"
   ]
  },
  {
   "cell_type": "markdown",
   "metadata": {},
   "source": [
    "## 5) Show me the shape of your data"
   ]
  },
  {
   "cell_type": "code",
   "execution_count": 489,
   "metadata": {},
   "outputs": [],
   "source": [
    "#df.shape()"
   ]
  },
  {
   "cell_type": "markdown",
   "metadata": {},
   "source": [
    "## 6) Show me the proportion of missing observations for each column of your data"
   ]
  },
  {
   "cell_type": "code",
   "execution_count": 489,
   "metadata": {},
   "outputs": [],
   "source": [
    "\n"
   ]
  },
  {
   "cell_type": "code",
   "execution_count": null,
   "metadata": {},
   "outputs": [],
   "source": []
  },
  {
   "cell_type": "markdown",
   "metadata": {},
   "source": [
    "## 7) Give me a problem statement.\n",
    "Below, write a problem statement. Keep in mind that your task is to tease out relationships in your data and eventually build a predictive model. Your problem statement can be vague, but you should have a goal in mind. Your problem statement should be between one sentence and one paragraph."
   ]
  },
  {
   "cell_type": "code",
   "execution_count": 490,
   "metadata": {},
   "outputs": [
    {
     "output_type": "error",
     "ename": "SyntaxError",
     "evalue": "invalid syntax (<ipython-input-490-7306c8c9af96>, line 1)",
     "traceback": [
      "\u001b[0;36m  File \u001b[0;32m\"<ipython-input-490-7306c8c9af96>\"\u001b[0;36m, line \u001b[0;32m1\u001b[0m\n\u001b[0;31m    def preprocess_text(text)\u001b[0m\n\u001b[0m                             ^\u001b[0m\n\u001b[0;31mSyntaxError\u001b[0m\u001b[0;31m:\u001b[0m invalid syntax\n"
     ]
    }
   ],
   "source": [
    "def preprocess_text(text)\n",
    "    text = text.lower()\n",
    "    processed_tokens = []\n",
    "    for token in word_tokenize(text)\n",
    "        if token not in punctuation and token not in stopword_list:\n",
    "          processed_tokens.append(token)\n",
    "        return processed_tokens  "
   ]
  },
  {
   "cell_type": "markdown",
   "metadata": {},
   "source": [
    "## 8) What is your _y_-variable?\n",
    "For final project, you will need to perform a statistical model. This means you will have to accurately predict some y-variable for some combination of x-variables. From your problem statement in part 7, what is that y-variable?"
   ]
  },
  {
   "cell_type": "code",
   "execution_count": 491,
   "metadata": {},
   "outputs": [],
   "source": [
    "#VS code version"
   ]
  }
 ],
 "metadata": {
  "kernelspec": {
   "display_name": "Python 3.7.4 64-bit ('base': conda)",
   "language": "python",
   "name": "python37464bitbasecondad7e997a9f21d4c48a1361726b45a74df"
  },
  "language_info": {
   "codemirror_mode": {
    "name": "ipython",
    "version": 3
   },
   "file_extension": ".py",
   "mimetype": "text/x-python",
   "name": "python",
   "nbconvert_exporter": "python",
   "pygments_lexer": "ipython3",
   "version": "3.7.4-final"
  }
 },
 "nbformat": 4,
 "nbformat_minor": 4
}