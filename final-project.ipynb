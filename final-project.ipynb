{
 "cells": [
  {
   "cell_type": "markdown",
   "metadata": {},
   "source": [
    "# Final Project Template "
   ]
  },
  {
   "cell_type": "markdown",
   "metadata": {},
   "source": [
    "## 1) Get your data\n",
    "You may use any data set(s) you like, so long as they meet these criteria:\n",
    "\n",
    "* Your data must be publically available for free.\n",
    "* Your data should be interesting to _you_. You want your final project to be something you're proud of.\n",
    "* Your data should be \"big enough\":\n",
    "    - It should have at least 1,000 rows.\n",
    "    - It should have enough of columns to be interesting.\n",
    "    - If you have questions, contact a member of the instructional team."
   ]
  },
  {
   "cell_type": "markdown",
   "metadata": {},
   "source": [
    "## 2) Provide a link to your data\n",
    "Your data is required to be free and open to anyone.\n",
    "As such, you should have a URL which anyone can use to download your data:"
   ]
  },
  {
   "cell_type": "code",
   "execution_count": 124,
   "metadata": {},
   "outputs": [],
   "source": [
    "# https://www.ncbi.nlm.nih.gov/pubmed/"
   ]
  },
  {
   "cell_type": "markdown",
   "metadata": {},
   "source": [
    "# 3) Import your data\n",
    "\n",
    "In the space below, import your data. If your data span multiple files, read them all in. If applicable, merge or append them as needed."
   ]
  },
  {
   "cell_type": "code",
   "execution_count": 125,
   "metadata": {},
   "outputs": [],
   "source": [
    "#importing needed packages\n",
    "import pandas as pd\n",
    "import numpy as np \n",
    "from Bio import Entrez\n",
    "\n",
    "#searching PubMed for \"genomics\" and downloading dictionary of data including number of publications, accession IDs, and relevant MeSH term \n",
    "Entrez.email = \"eileen.cahill@nih.gov\"\n",
    "handle = Entrez.esearch(db=\"pubmed\", retmax=11, term=\"genomics\", idtype=\"acc\")\n",
    "record = Entrez.read(handle)\n",
    "handle.close()"
   ]
  },
  {
   "cell_type": "code",
   "execution_count": 126,
   "metadata": {
    "tags": [
     "outputPrepend"
    ]
   },
   "outputs": [
    {
     "output_type": "stream",
     "name": "stdout",
     "text": "<class 'Bio.Entrez.Parser.DictionaryElement'>\n<class '_io.TextIOWrapper'>\n{'Count': '246416', 'RetMax': '11', 'RetStart': '0', 'IdList': ['32362049', '32362048', '32362037', '32361995', '32361911', '32361833', '32361785', '32361592', '32361136', '32361020', '32360957'], 'TranslationSet': [{'From': 'genomics', 'To': '\"genomics\"[MeSH Terms] OR \"genomics\"[All Fields]'}], 'TranslationStack': [{'Term': '\"genomics\"[MeSH Terms]', 'Field': 'MeSH Terms', 'Count': '110045', 'Explode': 'Y'}, {'Term': '\"genomics\"[All Fields]', 'Field': 'All Fields', 'Count': '186827', 'Explode': 'N'}, 'OR', 'GROUP'], 'QueryTranslation': '\"genomics\"[MeSH Terms] OR \"genomics\"[All Fields]'}\n['32362049', '32362048', '32362037', '32361995', '32361911', '32361833', '32361785', '32361592', '32361136', '32361020', '32360957']\n<class 'Bio.Entrez.Parser.ListElement'>\n"
    }
   ],
   "source": [
    "#looking at data and types\n",
    "print(type(record))\n",
    "print(type(handle))\n",
    "print(record)\n",
    "print(record['IdList'])\n",
    "print(type(record['IdList']))"
   ]
  },
  {
   "cell_type": "code",
   "execution_count": 127,
   "metadata": {},
   "outputs": [
    {
     "output_type": "stream",
     "name": "stdout",
     "text": "[['Count', '246416'], ['RetMax', '11'], ['RetStart', '0'], ['IdList', ['32362049', '32362048', '32362037', '32361995', '32361911', '32361833', '32361785', '32361592', '32361136', '32361020', '32360957']], ['TranslationSet', [{'From': 'genomics', 'To': '\"genomics\"[MeSH Terms] OR \"genomics\"[All Fields]'}]], ['TranslationStack', [{'Term': '\"genomics\"[MeSH Terms]', 'Field': 'MeSH Terms', 'Count': '110045', 'Explode': 'Y'}, {'Term': '\"genomics\"[All Fields]', 'Field': 'All Fields', 'Count': '186827', 'Explode': 'N'}, 'OR', 'GROUP']], ['QueryTranslation', '\"genomics\"[MeSH Terms] OR \"genomics\"[All Fields]']]\n<class 'list'>\n"
    }
   ],
   "source": [
    "#converting type from Bio.Entrez.Parser.DictionaryElement to list\n",
    "list = []\n",
    "listrecords = []\n",
    "\n",
    "for key, value in record.items():\n",
    "    list = [key, value]\n",
    "    listrecords.append(list)\n",
    "print(listrecords)\n",
    "print(type(listrecords))"
   ]
  },
  {
   "cell_type": "code",
   "execution_count": 128,
   "metadata": {
    "tags": [
     "outputPrepend"
    ]
   },
   "outputs": [
    {
     "output_type": "stream",
     "name": "stdout",
     "text": "['IdList', ['32362049', '32362048', '32362037', '32361995', '32361911', '32361833', '32361785', '32361592', '32361136', '32361020', '32360957']]\n['32362049', '32362048', '32362037', '32361995', '32361911', '32361833', '32361785', '32361592', '32361136', '32361020', '32360957']\n[32360957, 32360957, 32360957, 32360957, 32360957, 32360957, 32360957, 32360957, 32360957, 32360957, 32360957]\n"
    }
   ],
   "source": [
    "#creating iterable list of IDs of both string and int type\n",
    "id_list_acquire = listrecords[3]\n",
    "print(id_list_acquire)\n",
    "id_list = []\n",
    "id_list_int = []\n",
    "\n",
    "for id in id_list_acquire[1]:\n",
    "    id_list.append(id)\n",
    "print(id_list)\n",
    "\n",
    "for id2 in id_list_acquire[1]:\n",
    "    id_list_int.append(int(id))\n",
    "print(id_list_int)"
   ]
  },
  {
   "cell_type": "code",
   "execution_count": 129,
   "metadata": {},
   "outputs": [
    {
     "output_type": "stream",
     "name": "stdout",
     "text": "How many young drivers do not meet the driver licencing vision requirements?\nLee SS\n2020 May 3\nDetection of runs of homozygosity in conserved and commercial pig breeds in Poland.\nGurgul A\n2020 May 3\nStructural and chemical trapping of flavin-oxide intermediates reveals substrate-directed reaction multiplicity.\nLi TL\n2020 May 3\nGenome-wide DNA methylation patterns associated with sleep and mental health in children: a population-based study.\nCecil CAM\n2020 May 3\nSingle-cell transcriptome analysis of the novel coronavirus (SARS-CoV-2) associated gene ACE2 expression in normal and non-obstructive azoospermia (NOA) human male testes.\nQiao J\n2020 Apr 30\nCorrection to: InRange: Comparison of the Second-Generation Basal Insulin Analogues Glargine 300 U/mL and Degludec 100 U/mL in Persons with Type 1 Diabetes Using Continuous Glucose Monitoring-Study Design.\nBergenstal R\n2020 May 2\nGenetic interactions among Pto-miR319 family members and their targets influence growth and wood properties in Populus tomentosa.\nZhang D\n2020 May 2\nEncoding strategy mediates the effect of electrical stimulation over posterior parietal cortex on visual short-term memory.\nKu Y\n2020 Mar 30\nAnalysis of biosorption and biotransformation mechanism of Pseudomonas chengduensis strain MBR under Cd(II) stress from genomic perspective.\nTang W\n2020 Apr 28\nNatural ligand-receptor mediated loading of siRNA in milk derived exosomes.\nSingh D\n2020 Apr 30\nGenome scan detection of selective sweeps among biotypes of the soybean aphid, Aphis glycines, with differing virulence to resistance to A. glycines (Rag) traits in soybean, Glycine max.\nO'Neal ME\n2020 Apr 29\n"
    }
   ],
   "source": [
    "for item in id_list:\n",
    "    handle2 = Entrez.esummary(db=\"pubmed\", id=item, retmode=\"xml\")\n",
    "    records2 = Entrez.parse(handle2)\n",
    "    for record in records2:\n",
    "         # each record is a Python dictionary or list.\n",
    "        print(record['Title'])\n",
    "        print(record['LastAuthor'])\n",
    "        print(record['PubDate'])\n",
    "handle2.close()"
   ]
  },
  {
   "cell_type": "code",
   "execution_count": 130,
   "metadata": {},
   "outputs": [
    {
     "output_type": "stream",
     "name": "stdout",
     "text": "{1: 32362049, 2: 32362048, 3: 32362037, 4: 32361995, 5: 32361911, 6: 32361833, 7: 32361785, 8: 32361592, 9: 32361136, 10: 32361020, 11: 32360957}\n<class 'dict'>\n"
    }
   ],
   "source": [
    "#converting list of IDs to dictionary\n",
    "dictionary = {}\n",
    "key_list = 0\n",
    "\n",
    "for x in id_list:\n",
    "    key_list += 1\n",
    "    value_in_list = x\n",
    "    dictionary[key_list] = int(value_in_list)\n",
    "print(dictionary)\n",
    "print(type(dictionary))\n"
   ]
  },
  {
   "cell_type": "code",
   "execution_count": 131,
   "metadata": {
    "tags": [
     "outputPrepend",
     "outputPrepend",
     "outputPrepend",
     "outputPrepend",
     "outputPrepend",
     "outputPrepend",
     "outputPrepend",
     "outputPrepend",
     "outputPrepend",
     "outputPrepend",
     "outputPrepend",
     "outputPrepend",
     "outputPrepend",
     "outputPrepend",
     "outputPrepend",
     "outputPrepend",
     "outputPrepend",
     "outputPrepend",
     "outputPrepend",
     "outputPrepend",
     "outputPrepend",
     "outputPrepend",
     "outputPrepend",
     "outputPrepend",
     "outputPrepend",
     "outputPrepend",
     "outputPrepend",
     "outputPrepend",
     "outputPrepend",
     "outputPrepend",
     "outputPrepend",
     "outputPrepend",
     "outputPrepend",
     "outputPrepend",
     "outputPrepend",
     "outputPrepend",
     "outputPrepend",
     "outputPrepend",
     "outputPrepend",
     "outputPrepend",
     "outputPrepend",
     "outputPrepend",
     "outputPrepend",
     "outputPrepend",
     "outputPrepend",
     "outputPrepend",
     "outputPrepend",
     "outputPrepend",
     "outputPrepend",
     "outputPrepend",
     "outputPrepend",
     "outputPrepend",
     "outputPrepend",
     "outputPrepend",
     "outputPrepend",
     "outputPrepend",
     "outputPrepend",
     "outputPrepend",
     "outputPrepend",
     "outputPrepend",
     "outputPrepend",
     "outputPrepend",
     "outputPrepend",
     "outputPrepend",
     "outputPrepend",
     "outputPrepend",
     "outputPrepend",
     "outputPrepend",
     "outputPrepend",
     "outputPrepend",
     "outputPrepend",
     "outputPrepend",
     "outputPrepend",
     "outputPrepend",
     "outputPrepend",
     "outputPrepend",
     "outputPrepend",
     "outputPrepend",
     "outputPrepend",
     "outputPrepend",
     "outputPrepend",
     "outputPrepend",
     "outputPrepend",
     "outputPrepend",
     "outputPrepend",
     "outputPrepend",
     "outputPrepend",
     "outputPrepend",
     "outputPrepend",
     "outputPrepend"
    ]
   },
   "outputs": [],
   "source": [
    "#use pubmed_lookup to search pubmed for information on publications given by accession IDs\n",
    "from pubmed_lookup import PubMedLookup\n",
    "from pubmed_lookup import Publication\n",
    "\n",
    "email = 'eileen.cahill@nih.gov'\n",
    "\n",
    "for key, value in dictionary.items():\n",
    "    url = \"https://www.ncbi.nlm.nih.gov/pubmed/\" + str(value)\n",
    "    lookup = PubMedLookup(url, email)\n",
    "    #print(lookup)\n",
    "    #print(type(lookup))\n",
    "    #print(type(key))\n",
    "    #print(type(value))\n",
    "    #publication = Publication(lookup)\n",
    "    #CAN'T GET Publication TO WORK <- TypeError result\n",
    "    \n",
    "    #print(publication.abstract)\n"
   ]
  },
  {
   "cell_type": "markdown",
   "metadata": {},
   "source": [
    "## 5) Show me the shape of your data"
   ]
  },
  {
   "cell_type": "code",
   "execution_count": 133,
   "metadata": {},
   "outputs": [
    {
     "output_type": "stream",
     "name": "stdout",
     "text": "0                                                  1\n0             Count                                             246416\n1            RetMax                                                 11\n2          RetStart                                                  0\n3            IdList  [32362049, 32362048, 32362037, 32361995, 32361...\n4    TranslationSet  [{'From': 'genomics', 'To': '\"genomics\"[MeSH T...\n5  TranslationStack  [{'Term': '\"genomics\"[MeSH Terms]', 'Field': '...\n6  QueryTranslation   \"genomics\"[MeSH Terms] OR \"genomics\"[All Fields]\n"
    },
    {
     "output_type": "execute_result",
     "data": {
      "text/plain": "(7, 2)"
     },
     "metadata": {},
     "execution_count": 133
    }
   ],
   "source": [
    "df = pd.DataFrame(listrecords)\n",
    "print(df)\n",
    "df.shape"
   ]
  },
  {
   "cell_type": "markdown",
   "metadata": {},
   "source": [
    "## 6) Show me the proportion of missing observations for each column of your data"
   ]
  },
  {
   "cell_type": "code",
   "execution_count": 133,
   "metadata": {},
   "outputs": [],
   "source": [
    "\n"
   ]
  },
  {
   "cell_type": "markdown",
   "metadata": {},
   "source": [
    "## 7) Give me a problem statement.\n",
    "Below, write a problem statement. Keep in mind that your task is to tease out relationships in your data and eventually build a predictive model. Your problem statement can be vague, but you should have a goal in mind. Your problem statement should be between one sentence and one paragraph."
   ]
  },
  {
   "cell_type": "code",
   "execution_count": 134,
   "metadata": {},
   "outputs": [],
   "source": [
    "#\n",
    "\n"
   ]
  },
  {
   "cell_type": "markdown",
   "metadata": {},
   "source": [
    "## 8) What is your _y_-variable?\n",
    "For final project, you will need to perform a statistical model. This means you will have to accurately predict some y-variable for some combination of x-variables. From your problem statement in part 7, what is that y-variable?"
   ]
  },
  {
   "cell_type": "code",
   "execution_count": 135,
   "metadata": {},
   "outputs": [],
   "source": [
    "#"
   ]
  }
 ],
 "metadata": {
  "kernelspec": {
   "display_name": "Python 3.7.4 64-bit ('base': conda)",
   "language": "python",
   "name": "python37464bitbasecondad7e997a9f21d4c48a1361726b45a74df"
  },
  "language_info": {
   "codemirror_mode": {
    "name": "ipython",
    "version": 3
   },
   "file_extension": ".py",
   "mimetype": "text/x-python",
   "name": "python",
   "nbconvert_exporter": "python",
   "pygments_lexer": "ipython3",
   "version": "3.7.4-final"
  }
 },
 "nbformat": 4,
 "nbformat_minor": 4
}