{
 "cells": [
  {
   "cell_type": "markdown",
   "metadata": {},
   "source": [
    "# Final Project Template "
   ]
  },
  {
   "cell_type": "markdown",
   "metadata": {},
   "source": [
    "## 1) Get your data\n",
    "You may use any data set(s) you like, so long as they meet these criteria:\n",
    "\n",
    "* Your data must be publically available for free.\n",
    "* Your data should be interesting to _you_. You want your final project to be something you're proud of.\n",
    "* Your data should be \"big enough\":\n",
    "    - It should have at least 1,000 rows.\n",
    "    - It should have enough of columns to be interesting.\n",
    "    - If you have questions, contact a member of the instructional team."
   ]
  },
  {
   "cell_type": "markdown",
   "metadata": {},
   "source": [
    "## 2) Provide a link to your data\n",
    "Your data is required to be free and open to anyone.\n",
    "As such, you should have a URL which anyone can use to download your data:"
   ]
  },
  {
   "cell_type": "code",
   "execution_count": 1,
   "metadata": {},
   "outputs": [],
   "source": [
    "# https://www.ncbi.nlm.nih.gov/pubmed/"
   ]
  },
  {
   "cell_type": "markdown",
   "metadata": {},
   "source": [
    "# 3) Import your data\n",
    "\n",
    "In the space below, import your data. If your data span multiple files, read them all in. If applicable, merge or append them as needed."
   ]
  },
  {
   "cell_type": "code",
   "execution_count": 2,
   "metadata": {
    "tags": [
     "outputPrepend"
    ]
   },
   "outputs": [
    {
     "output_type": "stream",
     "name": "stdout",
     "text": "l Fields]', 'Field': 'All Fields', 'Count': '1', 'Explode': 'N'}, 'OR', {'Term': 'genomiprojektin[All Fields]', 'Field': 'All Fields', 'Count': '1', 'Explode': 'N'}, 'OR', {'Term': 'genomique[All Fields]', 'Field': 'All Fields', 'Count': '4304', 'Explode': 'N'}, 'OR', {'Term': \"genomique'[All Fields]\", 'Field': 'All Fields', 'Count': '1', 'Explode': 'N'}, 'OR', {'Term': 'genomiqueet[All Fields]', 'Field': 'All Fields', 'Count': '1', 'Explode': 'N'}, 'OR', {'Term': 'genomiqueevry[All Fields]', 'Field': 'All Fields', 'Count': '2', 'Explode': 'N'}, 'OR', {'Term': 'genomiquefonctionnelle[All Fields]', 'Field': 'All Fields', 'Count': '1', 'Explode': 'N'}, 'OR', {'Term': 'genomiques[All Fields]', 'Field': 'All Fields', 'Count': '169', 'Explode': 'N'}, 'OR', {'Term': 'genomiquespublishing[All Fields]', 'Field': 'All Fields', 'Count': '1', 'Explode': 'N'}, 'OR', {'Term': 'genomircs[All Fields]', 'Field': 'All Fields', 'Count': '1', 'Explode': 'N'}, 'OR', {'Term': 'genomis[All Fields]', 'Field': 'All Fields', 'Count': '3', 'Explode': 'N'}, 'OR', {'Term': 'genomische[All Fields]', 'Field': 'All Fields', 'Count': '27', 'Explode': 'N'}, 'OR', {'Term': 'genomischen[All Fields]', 'Field': 'All Fields', 'Count': '9', 'Explode': 'N'}, 'OR', {'Term': 'genomischer[All Fields]', 'Field': 'All Fields', 'Count': '8', 'Explode': 'N'}, 'OR', {'Term': 'genomisekvenssin[All Fields]', 'Field': 'All Fields', 'Count': '1', 'Explode': 'N'}, 'OR', {'Term': 'genomiser[All Fields]', 'Field': 'All Fields', 'Count': '1', 'Explode': 'N'}, 'OR', {'Term': 'genomisk[All Fields]', 'Field': 'All Fields', 'Count': '9', 'Explode': 'N'}, 'OR', {'Term': 'genomiska[All Fields]', 'Field': 'All Fields', 'Count': '1', 'Explode': 'N'}, 'OR', {'Term': 'genomisotopic[All Fields]', 'Field': 'All Fields', 'Count': '1', 'Explode': 'N'}, 'OR', {'Term': 'genomist[All Fields]', 'Field': 'All Fields', 'Count': '1', 'Explode': 'N'}, 'OR', {'Term': 'genomists[All Fields]', 'Field': 'All Fields', 'Count': '3', 'Explode': 'N'}, 'OR', {'Term': 'genomit[All Fields]', 'Field': 'All Fields', 'Count': '6', 'Explode': 'N'}, 'OR', {'Term': 'genomite[All Fields]', 'Field': 'All Fields', 'Count': '1', 'Explode': 'N'}, 'OR', {'Term': 'genomitiedon[All Fields]', 'Field': 'All Fields', 'Count': '1', 'Explode': 'N'}, 'OR', {'Term': 'genomitutkimus[All Fields]', 'Field': 'All Fields', 'Count': '1', 'Explode': 'N'}, 'OR', {'Term': 'genomix[All Fields]', 'Field': 'All Fields', 'Count': '148', 'Explode': 'N'}, 'OR', {'Term': 'genomix4life[All Fields]', 'Field': 'All Fields', 'Count': '34', 'Explode': 'N'}, 'OR', {'Term': 'genomixcarl[All Fields]', 'Field': 'All Fields', 'Count': '1', 'Explode': 'N'}, 'OR', {'Term': 'genomixlab[All Fields]', 'Field': 'All Fields', 'Count': '2', 'Explode': 'N'}, 'OR', {'Term': 'genomize[All Fields]', 'Field': 'All Fields', 'Count': '3', 'Explode': 'N'}, 'OR', {'Term': 'genomizer[All Fields]', 'Field': 'All Fields', 'Count': '1', 'Explode': 'N'}, 'OR', 'GROUP'], 'QueryTranslation': \"genom[All Fields] OR genom'ic[All Fields] OR genom009[All Fields] OR genoma[All Fields] OR genoma'[All Fields] OR genoma3[All Fields] OR genomac[All Fields] OR genomaces[All Fields] OR genomad[All Fields] OR genomaesalute[All Fields] OR genomagnetic[All Fields] OR genomaize[All Fields] OR genomakh[All Fields] OR genomal[All Fields] OR genomalc[All Fields] OR genomam[All Fields] OR genomami[All Fields] OR genomanalyse[All Fields] OR genomanalysen[All Fields] OR genomanalytik[All Fields] OR genomanalytische[All Fields] OR genomancer[All Fields] OR genomancy[All Fields] OR genomangen[All Fields] OR genomania[All Fields] OR genomanteil[All Fields] OR genomanteile[All Fields] OR genomap[All Fields] OR genomapping[All Fields] OR genomar[All Fields] OR genomarbetad[All Fields] OR genomark[All Fields] OR genomarkers[All Fields] OR genomas[All Fields] OR genomashimizu[All Fields] OR genomass[All Fields] OR genomassoziierte[All Fields] OR genomatched[All Fields] OR genomatic[All Fields] OR genomatica[All Fields] OR genomation[All Fields] OR genomatix[All Fields] OR genomatix'[All Fields] OR genomatixusa[All Fields] OR genomatrix[All Fields] OR genomavegetal[All Fields] OR genomax[All Fields] OR genombasierte[All Fields] OR genombasierten[All Fields] OR genombasierter[All Fields] OR genombeitrage[All Fields] OR genombench[All Fields] OR genombiologie[All Fields] OR genombiologigruppa[All Fields] OR genomblodning[All Fields] OR genomblodningen[All Fields] OR genomblodningskapaciteten[All Fields] OR genomblodningsrubbningar[All Fields] OR genombrott[All Fields] OR genombrotten[All Fields] OR genombrottet[All Fields] OR genombrottssmarta[All Fields] OR genombrottsstadier[All Fields] OR genomc[All Fields] OR genomcan[All Fields] OR genomcially[All Fields] OR genomcis[All Fields] OR genomcs[All Fields] OR genomdata[All Fields] OR genomdaten[All Fields] OR genomdriva[All Fields] OR genome[All Fields] OR genome'[All Fields] OR genome''[All Fields] OR genome's[All Fields] OR genome01[All Fields] OR genome1[All Fields] OR genome10k[All Fields] OR genome1214[All Fields] OR genome2[All Fields] OR genome2d[All Fields] OR genome3d[All Fields] OR genome3d's[All Fields] OR genome5000trade[All Fields] OR genomea[All Fields] OR genomeaffecting[All Fields] OR genomealignmenttools[All Fields] OR genomeanalysis[All Fields] OR genomeanalysistk[All Fields] OR genomeanalyzer[All Fields] OR genomeand[All Fields] OR genomeapplied[All Fields] OR genomearchitecture[All Fields] OR genomeartist[All Fields] OR genomeasia[All Fields] OR genomeasia100k[All Fields] OR genomeast[All Fields] OR genomeatlantic[All Fields] OR genomeatlas[All Fields] OR genomeatlases[All Fields] OR genomebased[All Fields] OR genomebasedmodel[All Fields] OR genomebc[All Fields] OR genomebio[All Fields] OR genomebioinfo[All Fields] OR genomebiology[All Fields] OR genomebisulfite[All Fields] OR genomeblast[All Fields] OR genomebrowse[All Fields] OR genomebrowser[All Fields] OR genomebrowsing[All Fields] OR genomebuild[All Fields] OR genomec[All Fields] OR genomecalligrapher[All Fields] OR genomecampus[All Fields] OR genomecare[All Fields] OR genomecat[All Fields] OR genomecats[All Fields] OR genomecenter[All Fields] OR genomeceutical[All Fields] OR genomeceuticals[All Fields] OR genomeceuticals'[All Fields] OR genomechanix[All Fields] OR genomecharacterization[All Fields] OR genomecluster[All Fields] OR genomecomb[All Fields] OR genomecomp[All Fields] OR genomecomparator[All Fields] OR genomecompasstrade[All Fields] OR genomeconnect[All Fields] OR genomecons[All Fields] OR genomecopies[All Fields] OR genomecorp[All Fields] OR genomecraft[All Fields] OR genomecrispr[All Fields] OR genomecurator[All Fields] OR genomecurly[All Fields] OR genomed[All Fields] OR genomed'[All Fields] OR genomed3plot[All Fields] OR genomedata[All Fields] OR genomedb[All Fields] OR genomedca[All Fields] OR genomedcenter[All Fields] OR genomedenmark[All Fields] OR genomedetective[All Fields] OR genomedia[All Fields] OR genomediagram[All Fields] OR genomedica[All Fields] OR genomedical[All Fields] OR genomedicines[All Fields] OR genomedics[All Fields] OR genomedisco[All Fields] OR genomedisco's[All Fields] OR genomedistance[All Fields] OR genomeditierung[All Fields] OR genomedmolecular[All Fields] OR genomedx[All Fields] OR genomedynamics[All Fields] OR genomeeast[All Fields] OR genomeediting[All Fields] OR genomeequivalents[All Fields] OR genomefingerprinter[All Fields] OR genomeflow[All Fields] OR genomefun[All Fields] OR genomegamap[All Fields] OR genomegamap's[All Fields] OR genomegeek[All Fields] OR genomegems[All Fields] OR genomegenome[All Fields] OR genomegitar[All Fields] OR genomego[All Fields] OR genomegraphr[All Fields] OR genomegraphs[All Fields] OR genomehalving[All Fields] OR genomeheart[All Fields] OR genomehiptrade[All Fields] OR genomehistory[All Fields] OR genomehubs[All Fields] OR genomeic[All Fields] OR genomeics[All Fields] OR genomeindia[All Fields] OR genomeinformatics[All Fields] OR genomeinspector[All Fields] OR genomeinterpretation[All Fields] OR genomejack[All Fields] OR genomekey[All Fields] OR genomel[All Fields] OR genomelab[All Fields] OR genomelabtm[All Fields] OR genomelabtrade[All Fields] OR genomeland[All Fields] OR genomelandscaper[All Fields] OR genomelaser[All Fields] OR genomelaw[All Fields] OR genomelb[All Fields] OR genomelength[All Fields] OR genomelenth[All Fields] OR genomeless[All Fields] OR genomeliang[All Fields] OR genomelike[All Fields] OR genomelpredict[All Fields] OR genomem[All Fields] OR genomemalaysia[All Fields] OR genomemap[All Fields] OR genomemapper[All Fields] OR genomemaps[All Fields] OR genomemark[All Fields] OR genomemark'[All Fields] OR genomemasker[All Fields] OR genomematcher[All Fields] OR genomematrix[All Fields] OR genomematrix'[All Fields] OR genomembrane[All Fields] OR genomemedical[All Fields] OR genomemedicine[All Fields] OR genomemetm's[All Fields] OR genomemining[All Fields] OR genomemixer[All Fields] OR genomen[All Fields] OR genomenclature[All Fields] OR genomene[All Fields] OR genomenegative[All Fields] OR genomenet[All Fields] OR genomenetwork[All Fields] OR genomenext[All Fields] OR genomenexus[All Fields] OR genomenon[All Fields] OR genomeon[All Fields] OR genomeorganizing[All Fields] OR genomepartitioner[All Fields] OR genomepd[All Fields] OR genomepeek[All Fields] OR genomepilot[All Fields] OR genomepipe[All Fields] OR genomepixelizer[All Fields] OR genomeplex[All Fields] OR genomeplextrade[All Fields] OR genomeplot[All Fields] OR genomepop[All Fields] OR genomepride[All Fields] OR genomeprimer[All Fields] OR genomeprj[All Fields] OR genomeprojector[All Fields] OR genomeprojectsolutions[All Fields] OR genomeproperties[All Fields] OR genomept[All Fields] OR genomeqc[All Fields] OR genomequebec[All Fields] OR genomequest[All Fields] OR genomer[All Fields] OR genomera[All Fields] OR genomeratrade[All Fields] OR genomeres2009[All Fields] OR genomeresearch[All Fields] OR genomering[All Fields] OR genomerna[All Fields] OR genomernai[All Fields] OR genomerunner[All Fields] OR genomerxus[All Fields] OR genomes[All Fields] OR genomes'[All Fields] OR genomes's[All Fields] OR genomes1[All Fields] OR genomes2drugs[All Fields] OR genomes2people[All Fields] OR genomesburr[All Fields] OR genomescale[All Fields] OR genomescan[All Fields] OR genomescans[All Fields] OR genomescape[All Fields] OR genomescapes[All Fields] OR genomescience[All Fields] OR genomesciences[All Fields] OR genomescope[All Fields] OR genomescope's[All Fields] OR genomescope2[All Fields] OR genomescout[All Fields] OR genomesense[All Fields] OR genomeseq[All Fields] OR genomesequence[All Fields] OR genomesequencing[All Fields] OR genomesforlife[All Fields] OR genomesh[All Fields] OR genomesim[All Fields] OR genomesimla[All Fields] OR genomesingapore[All Fields] OR genomesis[All Fields] OR genomesize[All Fields] OR genomeskeggpathway[All Fields] OR genomesnapshot[All Fields] OR genomesolutions[All Fields] OR genomesonline[All Fields] OR genomespace[All Fields] OR genomespecies[All Fields] OR genomespecific[All Fields] OR genomespread[All Fields] OR genomesrs[All Fields] OR genomestrip[All Fields] OR genomestudio[All Fields] OR genomestudiotrade[All Fields] OR genomeswe[All Fields] OR genomesync[All Fields] OR genomet[All Fields] OR genometa[All Fields] OR genometabolic[All Fields] OR genometastasis[All Fields] OR genometester[All Fields] OR genometester4[All Fields] OR genomethate[All Fields] OR genomethics[All Fields] OR genometix[All Fields] OR genometools[All Fields] OR genometra[All Fields] OR genometrafac[All Fields] OR genometrakr[All Fields] OR genometrakrcp[All Fields] OR genometri[All Fields] OR genometric[All Fields] OR genometricorr[All Fields] OR genometrics[All Fields] OR genometries[All Fields] OR genometrix[All Fields] OR genometry[All Fields] OR genomets[All Fields] OR genometype[All Fields] OR genometype'[All Fields] OR genometypes[All Fields] OR genomeup[All Fields] OR genomeuplot[All Fields] OR genomeutwin[All Fields] OR genomevariation[All Fields] OR genomeview[All Fields] OR genomevip[All Fields] OR genomevip's[All Fields] OR genomevista[All Fields] OR genomeviz[All Fields] OR genomevolution[All Fields] OR genomevx[All Fields] OR genomewalker[All Fields] OR genomewalkertrade[All Fields] OR genomewalking[All Fields] OR genomewarp[All Fields] OR genomeweb[All Fields] OR genomewide[All Fields] OR genomewidepdb[All Fields] OR genomewidesnp[All Fields] OR genomewiki[All Fields] OR genomewise[All Fields] OR genomex[All Fields] OR genomexe[All Fields] OR genomexenvironmentxmanagement[All Fields] OR genomeyongin[All Fields] OR genomezip[All Fields] OR genomezipper[All Fields] OR genomezippers[All Fields] OR genomfingerprints[All Fields] OR genomfoerd[All Fields] OR genomfora[All Fields] OR genomforande[All Fields] OR genomforandet[All Fields] OR genomforas[All Fields] OR genomforbar[All Fields] OR genomford[All Fields] OR genomforde[All Fields] OR genomforetag[All Fields] OR genomfors[All Fields] OR genomforschung[All Fields] OR genomforschungsnetz[All Fields] OR genomforschungsnetzwerk[All Fields] OR genomforskning[All Fields] OR genomforskningen[All Fields] OR genomforts[All Fields] OR genomga[All Fields] OR genomgaang[All Fields] OR genomgaende[All Fields] OR genomgang[All Fields] OR genomgangar[All Fields] OR genomgangen[All Fields] OR genomgar[All Fields] OR genomgatt[All Fields] OR genomgripande[All Fields] OR genomhibridizacios[All Fields] OR genomhibridizalas[All Fields] OR genomhybridisierung[All Fields] OR genomhygienisk[All Fields] OR genomi[All Fields] OR genomi'c[All Fields] OR genomia[All Fields] OR genomiac[All Fields] OR genomiac2[All Fields] OR genomial[All Fields] OR genomialis[All Fields] OR genomic[All Fields] OR genomic'[All Fields] OR genomic''[All Fields] OR genomica[All Fields] OR genomicacsic[All Fields] OR genomicahealth[All Fields] OR genomical[All Fields] OR genomically[All Fields] OR genomically'[All Fields] OR genomicaly[All Fields] OR genomicamedellin[All Fields] OR genomicamente[All Fields] OR genomicamexico[All Fields] OR genomicand[All Fields] OR genomicare[All Fields] OR genomicas[All Fields] OR genomicasalmones[All Fields] OR genomicaverage[All Fields] OR genomicay[All Fields] OR genomicbased[All Fields] OR genomiccharacterization[All Fields] OR genomiccopies[All Fields] OR genomicdna[All Fields] OR genomicdna2[All Fields] OR genomice[All Fields] OR genomicencyclopedia[All Fields] OR genomicenterprise[All Fields] OR genomicepidemiology[All Fields] OR genomicepidemiology'[All Fields] OR genomices[All Fields] OR genomicfeatures[All Fields] OR genomicfx[All Fields] OR genomicgraphcoords[All Fields] OR genomiche[All Fields] OR genomichealth[All Fields] OR genomichealthcarestrategies[All Fields] OR genomichybridization[All Fields] OR genomicin[All Fields] OR genomicinformatics[All Fields] OR genomicinteractions[All Fields] OR genomicise[All Fields] OR genomicist[All Fields] OR genomicist's[All Fields] OR genomicists[All Fields] OR genomicization[All Fields] OR genomicization'[All Fields] OR genomicka[All Fields] OR genomickeho[All Fields] OR genomickych[All Fields] OR genomicly[All Fields] OR genomicmappingdata[All Fields] OR genomicmedicine[All Fields] OR genomicmedicinealliance[All Fields] OR genomicmicrodeletion[All Fields] OR genomico[All Fields] OR genomicobject[All Fields] OR genomicos[All Fields] OR genomicpariscentre[All Fields] OR genomicparsec[All Fields] OR genomicpeptidefinder[All Fields] OR genomicper[All Fields] OR genomicprediction[All Fields] OR genomicprep[All Fields] OR genomicranges[All Fields] OR genomicresearch[All Fields] OR genomicresources[All Fields] OR genomics[All Fields] OR genomics'[All Fields] OR genomics's[All Fields] OR genomics,[All Fields] OR genomics1[All Fields] OR genomics1,2,3,4[All Fields] OR genomics10[All Fields] OR genomics14[All Fields] OR genomics2[All Fields] OR genomics200911172226changtcwentzeleakentoatransactivation[All Fields] OR genomics20131246572324217822shilzhangsfengkmicrorna[All Fields] OR genomics4[All Fields] OR genomicsadelaide[All Fields] OR genomicsadviser[All Fields] OR genomicsanalysescouldcontribute[All Fields] OR genomicsand[All Fields] OR genomicsashworth[All Fields] OR genomicsassisted[All Fields] OR genomicsatellite[All Fields] OR genomicsbarcelona[All Fields] OR genomicsbeijing[All Fields] OR genomicscale[All Fields] OR genomicscape[All Fields] OR genomicscentral[All Fields] OR genomicscentre[All Fields] OR genomicscollaborative[All Fields] OR genomicscorelab[All Fields] OR genomicscores[All Fields] OR genomicscorporation[All Fields] OR genomicscruk[All Fields] OR genomicsdata[All Fields] OR genomicsdb[All Fields] OR genomicsdepartment[All Fields] OR genomicsdouble[All Fields] OR genomicsedepartment[All Fields] OR genomicsegments[All Fields] OR genomicsengland[All Fields] OR genomicsfondation[All Fields] OR genomicsforlife[All Fields] OR genomicsgarvan[All Fields] OR genomicsgraduate[All Fields] OR genomicsinc[All Fields] OR genomicsinova[All Fields] OR genomicsinstitute[All Fields] OR genomicsiter[All Fields] OR genomicslab[All Fields] OR genomicslife[All Fields] OR genomicsmayo[All Fields] OR genomicsmichigan[All Fields] OR genomicsmku[All Fields] OR genomicsolutions[All Fields] OR genomicsone[All Fields] OR genomicsoutions[All Fields] OR genomicsplc[All Fields] OR genomicsportals[All Fields] OR genomicsprinceton[All Fields] OR genomicsproducts[All Fields] OR genomicsproteomics[All Fields] OR genomicsroyal[All Fields] OR genomicsrpackage[All Fields] OR genomicssan[All Fields] OR genomicsshanghai[All Fields] OR genomicsstorrsconnecticut[All Fields] OR genomicssungkyunkwan[All Fields] OR genomicstianjin[All Fields] OR genomicsto[All Fields] OR genomicstrade[All Fields] OR genomicsuniversity[All Fields] OR genomicsv[All Fields] OR genomicsvm[All Fields] OR genomicswageningen[All Fields] OR genomictales[All Fields] OR genomictools[All Fields] OR genomictree[All Fields] OR genomicus[All Fields] OR genomicusplants[All Fields] OR genomicvariations[All Fields] OR genomicvision[All Fields] OR genomicworks[All Fields] OR genomicznej[All Fields] OR genomidea[All Fields] OR genomie[All Fields] OR genomie's[All Fields] OR genomien[All Fields] OR genomification[All Fields] OR genomiginin[All Fields] OR genomii[All Fields] OR genomiikka[All Fields] OR genomiin[All Fields] OR genomik[All Fields] OR genomika[All Fields] OR genomikai[All Fields] OR genomike[All Fields] OR genomikeskus[All Fields] OR genomiki[All Fields] OR genomikleri[All Fields] OR genomikoi[All Fields] OR genomiku[All Fields] OR genomikus[All Fields] OR genomiky[All Fields] OR genomilaaketieteeseen[All Fields] OR genomind[All Fields] OR genomine[All Fields] OR genominer[All Fields] OR genominformatik[All Fields] OR genoming[All Fields] OR genominic[All Fields] OR genomio[All Fields] OR genomiphi[All Fields] OR genomiphitrade[All Fields] OR genomiprojekti[All Fields] OR genomiprojektin[All Fields] OR genomique[All Fields] OR genomique'[All Fields] OR genomiqueet[All Fields] OR genomiqueevry[All Fields] OR genomiquefonctionnelle[All Fields] OR genomiques[All Fields] OR genomiquespublishing[All Fields] OR genomircs[All Fields] OR genomis[All Fields] OR genomische[All Fields] OR genomischen[All Fields] OR genomischer[All Fields] OR genomisekvenssin[All Fields] OR genomiser[All Fields] OR genomisk[All Fields] OR genomiska[All Fields] OR genomisotopic[All Fields] OR genomist[All Fields] OR genomists[All Fields] OR genomit[All Fields] OR genomite[All Fields] OR genomitiedon[All Fields] OR genomitutkimus[All Fields] OR genomix[All Fields] OR genomix4life[All Fields] OR genomixcarl[All Fields] OR genomixlab[All Fields] OR genomize[All Fields] OR genomizer[All Fields]\", 'WarningList': {'OutputMessage': [\"Wildcard search for 'genom*' used only the first 600 variations. Lengthen the root word to search for all endings.\"], 'QuotedPhraseNotFound': [], 'PhraseIgnored': []}}\nSearch successful.\n"
    }
   ],
   "source": [
    "#importing needed packages\n",
    "import pandas as pd\n",
    "import numpy as np \n",
    "from Bio import Entrez\n",
    "\n",
    "#searching PubMed for \"genomics\" and downloading dictionary of data including number of publications, accession IDs, and relevant MeSH term \n",
    "Entrez.email = \"eileen.cahill@nih.gov\"\n",
    "handle = Entrez.esearch(db=\"pubmed\", retmax=100, term=\"genom*\", idtype=\"acc\")\n",
    "record = Entrez.read(handle)\n",
    "handle.close()\n",
    "\n",
    "\n",
    "print(record)\n",
    "if record['Count'] == '0':\n",
    "    print(\"\\nYour search did not return any publications. Try another search.\\n\")\n",
    "    print(\"Error list says: \" + str(record['ErrorList']) + \"\\n\")\n",
    "    print(\"Warning list says: \" + str(record['WarningList']))\n",
    "else:\n",
    "    print(\"Search successful.\")"
   ]
  },
  {
   "cell_type": "code",
   "execution_count": 3,
   "metadata": {
    "tags": [
     "outputPrepend"
    ]
   },
   "outputs": [
    {
     "output_type": "stream",
     "name": "stdout",
     "text": "<class 'Bio.Entrez.Parser.DictionaryElement'>\n<class '_io.TextIOWrapper'>\n"
    }
   ],
   "source": [
    "#looking at data and types\n",
    "print(type(record))\n",
    "print(type(handle))\n",
    "#print(record)\n",
    "#print(record['IdList'])\n"
   ]
  },
  {
   "cell_type": "code",
   "execution_count": 4,
   "metadata": {
    "tags": [
     "outputPrepend"
    ]
   },
   "outputs": [
    {
     "output_type": "stream",
     "name": "stdout",
     "text": " Fields]', 'Field': 'All Fields', 'Count': '1', 'Explode': 'N'}, 'OR', {'Term': 'genomiprojektin[All Fields]', 'Field': 'All Fields', 'Count': '1', 'Explode': 'N'}, 'OR', {'Term': 'genomique[All Fields]', 'Field': 'All Fields', 'Count': '4304', 'Explode': 'N'}, 'OR', {'Term': \"genomique'[All Fields]\", 'Field': 'All Fields', 'Count': '1', 'Explode': 'N'}, 'OR', {'Term': 'genomiqueet[All Fields]', 'Field': 'All Fields', 'Count': '1', 'Explode': 'N'}, 'OR', {'Term': 'genomiqueevry[All Fields]', 'Field': 'All Fields', 'Count': '2', 'Explode': 'N'}, 'OR', {'Term': 'genomiquefonctionnelle[All Fields]', 'Field': 'All Fields', 'Count': '1', 'Explode': 'N'}, 'OR', {'Term': 'genomiques[All Fields]', 'Field': 'All Fields', 'Count': '169', 'Explode': 'N'}, 'OR', {'Term': 'genomiquespublishing[All Fields]', 'Field': 'All Fields', 'Count': '1', 'Explode': 'N'}, 'OR', {'Term': 'genomircs[All Fields]', 'Field': 'All Fields', 'Count': '1', 'Explode': 'N'}, 'OR', {'Term': 'genomis[All Fields]', 'Field': 'All Fields', 'Count': '3', 'Explode': 'N'}, 'OR', {'Term': 'genomische[All Fields]', 'Field': 'All Fields', 'Count': '27', 'Explode': 'N'}, 'OR', {'Term': 'genomischen[All Fields]', 'Field': 'All Fields', 'Count': '9', 'Explode': 'N'}, 'OR', {'Term': 'genomischer[All Fields]', 'Field': 'All Fields', 'Count': '8', 'Explode': 'N'}, 'OR', {'Term': 'genomisekvenssin[All Fields]', 'Field': 'All Fields', 'Count': '1', 'Explode': 'N'}, 'OR', {'Term': 'genomiser[All Fields]', 'Field': 'All Fields', 'Count': '1', 'Explode': 'N'}, 'OR', {'Term': 'genomisk[All Fields]', 'Field': 'All Fields', 'Count': '9', 'Explode': 'N'}, 'OR', {'Term': 'genomiska[All Fields]', 'Field': 'All Fields', 'Count': '1', 'Explode': 'N'}, 'OR', {'Term': 'genomisotopic[All Fields]', 'Field': 'All Fields', 'Count': '1', 'Explode': 'N'}, 'OR', {'Term': 'genomist[All Fields]', 'Field': 'All Fields', 'Count': '1', 'Explode': 'N'}, 'OR', {'Term': 'genomists[All Fields]', 'Field': 'All Fields', 'Count': '3', 'Explode': 'N'}, 'OR', {'Term': 'genomit[All Fields]', 'Field': 'All Fields', 'Count': '6', 'Explode': 'N'}, 'OR', {'Term': 'genomite[All Fields]', 'Field': 'All Fields', 'Count': '1', 'Explode': 'N'}, 'OR', {'Term': 'genomitiedon[All Fields]', 'Field': 'All Fields', 'Count': '1', 'Explode': 'N'}, 'OR', {'Term': 'genomitutkimus[All Fields]', 'Field': 'All Fields', 'Count': '1', 'Explode': 'N'}, 'OR', {'Term': 'genomix[All Fields]', 'Field': 'All Fields', 'Count': '148', 'Explode': 'N'}, 'OR', {'Term': 'genomix4life[All Fields]', 'Field': 'All Fields', 'Count': '34', 'Explode': 'N'}, 'OR', {'Term': 'genomixcarl[All Fields]', 'Field': 'All Fields', 'Count': '1', 'Explode': 'N'}, 'OR', {'Term': 'genomixlab[All Fields]', 'Field': 'All Fields', 'Count': '2', 'Explode': 'N'}, 'OR', {'Term': 'genomize[All Fields]', 'Field': 'All Fields', 'Count': '3', 'Explode': 'N'}, 'OR', {'Term': 'genomizer[All Fields]', 'Field': 'All Fields', 'Count': '1', 'Explode': 'N'}, 'OR', 'GROUP']], ['QueryTranslation', \"genom[All Fields] OR genom'ic[All Fields] OR genom009[All Fields] OR genoma[All Fields] OR genoma'[All Fields] OR genoma3[All Fields] OR genomac[All Fields] OR genomaces[All Fields] OR genomad[All Fields] OR genomaesalute[All Fields] OR genomagnetic[All Fields] OR genomaize[All Fields] OR genomakh[All Fields] OR genomal[All Fields] OR genomalc[All Fields] OR genomam[All Fields] OR genomami[All Fields] OR genomanalyse[All Fields] OR genomanalysen[All Fields] OR genomanalytik[All Fields] OR genomanalytische[All Fields] OR genomancer[All Fields] OR genomancy[All Fields] OR genomangen[All Fields] OR genomania[All Fields] OR genomanteil[All Fields] OR genomanteile[All Fields] OR genomap[All Fields] OR genomapping[All Fields] OR genomar[All Fields] OR genomarbetad[All Fields] OR genomark[All Fields] OR genomarkers[All Fields] OR genomas[All Fields] OR genomashimizu[All Fields] OR genomass[All Fields] OR genomassoziierte[All Fields] OR genomatched[All Fields] OR genomatic[All Fields] OR genomatica[All Fields] OR genomation[All Fields] OR genomatix[All Fields] OR genomatix'[All Fields] OR genomatixusa[All Fields] OR genomatrix[All Fields] OR genomavegetal[All Fields] OR genomax[All Fields] OR genombasierte[All Fields] OR genombasierten[All Fields] OR genombasierter[All Fields] OR genombeitrage[All Fields] OR genombench[All Fields] OR genombiologie[All Fields] OR genombiologigruppa[All Fields] OR genomblodning[All Fields] OR genomblodningen[All Fields] OR genomblodningskapaciteten[All Fields] OR genomblodningsrubbningar[All Fields] OR genombrott[All Fields] OR genombrotten[All Fields] OR genombrottet[All Fields] OR genombrottssmarta[All Fields] OR genombrottsstadier[All Fields] OR genomc[All Fields] OR genomcan[All Fields] OR genomcially[All Fields] OR genomcis[All Fields] OR genomcs[All Fields] OR genomdata[All Fields] OR genomdaten[All Fields] OR genomdriva[All Fields] OR genome[All Fields] OR genome'[All Fields] OR genome''[All Fields] OR genome's[All Fields] OR genome01[All Fields] OR genome1[All Fields] OR genome10k[All Fields] OR genome1214[All Fields] OR genome2[All Fields] OR genome2d[All Fields] OR genome3d[All Fields] OR genome3d's[All Fields] OR genome5000trade[All Fields] OR genomea[All Fields] OR genomeaffecting[All Fields] OR genomealignmenttools[All Fields] OR genomeanalysis[All Fields] OR genomeanalysistk[All Fields] OR genomeanalyzer[All Fields] OR genomeand[All Fields] OR genomeapplied[All Fields] OR genomearchitecture[All Fields] OR genomeartist[All Fields] OR genomeasia[All Fields] OR genomeasia100k[All Fields] OR genomeast[All Fields] OR genomeatlantic[All Fields] OR genomeatlas[All Fields] OR genomeatlases[All Fields] OR genomebased[All Fields] OR genomebasedmodel[All Fields] OR genomebc[All Fields] OR genomebio[All Fields] OR genomebioinfo[All Fields] OR genomebiology[All Fields] OR genomebisulfite[All Fields] OR genomeblast[All Fields] OR genomebrowse[All Fields] OR genomebrowser[All Fields] OR genomebrowsing[All Fields] OR genomebuild[All Fields] OR genomec[All Fields] OR genomecalligrapher[All Fields] OR genomecampus[All Fields] OR genomecare[All Fields] OR genomecat[All Fields] OR genomecats[All Fields] OR genomecenter[All Fields] OR genomeceutical[All Fields] OR genomeceuticals[All Fields] OR genomeceuticals'[All Fields] OR genomechanix[All Fields] OR genomecharacterization[All Fields] OR genomecluster[All Fields] OR genomecomb[All Fields] OR genomecomp[All Fields] OR genomecomparator[All Fields] OR genomecompasstrade[All Fields] OR genomeconnect[All Fields] OR genomecons[All Fields] OR genomecopies[All Fields] OR genomecorp[All Fields] OR genomecraft[All Fields] OR genomecrispr[All Fields] OR genomecurator[All Fields] OR genomecurly[All Fields] OR genomed[All Fields] OR genomed'[All Fields] OR genomed3plot[All Fields] OR genomedata[All Fields] OR genomedb[All Fields] OR genomedca[All Fields] OR genomedcenter[All Fields] OR genomedenmark[All Fields] OR genomedetective[All Fields] OR genomedia[All Fields] OR genomediagram[All Fields] OR genomedica[All Fields] OR genomedical[All Fields] OR genomedicines[All Fields] OR genomedics[All Fields] OR genomedisco[All Fields] OR genomedisco's[All Fields] OR genomedistance[All Fields] OR genomeditierung[All Fields] OR genomedmolecular[All Fields] OR genomedx[All Fields] OR genomedynamics[All Fields] OR genomeeast[All Fields] OR genomeediting[All Fields] OR genomeequivalents[All Fields] OR genomefingerprinter[All Fields] OR genomeflow[All Fields] OR genomefun[All Fields] OR genomegamap[All Fields] OR genomegamap's[All Fields] OR genomegeek[All Fields] OR genomegems[All Fields] OR genomegenome[All Fields] OR genomegitar[All Fields] OR genomego[All Fields] OR genomegraphr[All Fields] OR genomegraphs[All Fields] OR genomehalving[All Fields] OR genomeheart[All Fields] OR genomehiptrade[All Fields] OR genomehistory[All Fields] OR genomehubs[All Fields] OR genomeic[All Fields] OR genomeics[All Fields] OR genomeindia[All Fields] OR genomeinformatics[All Fields] OR genomeinspector[All Fields] OR genomeinterpretation[All Fields] OR genomejack[All Fields] OR genomekey[All Fields] OR genomel[All Fields] OR genomelab[All Fields] OR genomelabtm[All Fields] OR genomelabtrade[All Fields] OR genomeland[All Fields] OR genomelandscaper[All Fields] OR genomelaser[All Fields] OR genomelaw[All Fields] OR genomelb[All Fields] OR genomelength[All Fields] OR genomelenth[All Fields] OR genomeless[All Fields] OR genomeliang[All Fields] OR genomelike[All Fields] OR genomelpredict[All Fields] OR genomem[All Fields] OR genomemalaysia[All Fields] OR genomemap[All Fields] OR genomemapper[All Fields] OR genomemaps[All Fields] OR genomemark[All Fields] OR genomemark'[All Fields] OR genomemasker[All Fields] OR genomematcher[All Fields] OR genomematrix[All Fields] OR genomematrix'[All Fields] OR genomembrane[All Fields] OR genomemedical[All Fields] OR genomemedicine[All Fields] OR genomemetm's[All Fields] OR genomemining[All Fields] OR genomemixer[All Fields] OR genomen[All Fields] OR genomenclature[All Fields] OR genomene[All Fields] OR genomenegative[All Fields] OR genomenet[All Fields] OR genomenetwork[All Fields] OR genomenext[All Fields] OR genomenexus[All Fields] OR genomenon[All Fields] OR genomeon[All Fields] OR genomeorganizing[All Fields] OR genomepartitioner[All Fields] OR genomepd[All Fields] OR genomepeek[All Fields] OR genomepilot[All Fields] OR genomepipe[All Fields] OR genomepixelizer[All Fields] OR genomeplex[All Fields] OR genomeplextrade[All Fields] OR genomeplot[All Fields] OR genomepop[All Fields] OR genomepride[All Fields] OR genomeprimer[All Fields] OR genomeprj[All Fields] OR genomeprojector[All Fields] OR genomeprojectsolutions[All Fields] OR genomeproperties[All Fields] OR genomept[All Fields] OR genomeqc[All Fields] OR genomequebec[All Fields] OR genomequest[All Fields] OR genomer[All Fields] OR genomera[All Fields] OR genomeratrade[All Fields] OR genomeres2009[All Fields] OR genomeresearch[All Fields] OR genomering[All Fields] OR genomerna[All Fields] OR genomernai[All Fields] OR genomerunner[All Fields] OR genomerxus[All Fields] OR genomes[All Fields] OR genomes'[All Fields] OR genomes's[All Fields] OR genomes1[All Fields] OR genomes2drugs[All Fields] OR genomes2people[All Fields] OR genomesburr[All Fields] OR genomescale[All Fields] OR genomescan[All Fields] OR genomescans[All Fields] OR genomescape[All Fields] OR genomescapes[All Fields] OR genomescience[All Fields] OR genomesciences[All Fields] OR genomescope[All Fields] OR genomescope's[All Fields] OR genomescope2[All Fields] OR genomescout[All Fields] OR genomesense[All Fields] OR genomeseq[All Fields] OR genomesequence[All Fields] OR genomesequencing[All Fields] OR genomesforlife[All Fields] OR genomesh[All Fields] OR genomesim[All Fields] OR genomesimla[All Fields] OR genomesingapore[All Fields] OR genomesis[All Fields] OR genomesize[All Fields] OR genomeskeggpathway[All Fields] OR genomesnapshot[All Fields] OR genomesolutions[All Fields] OR genomesonline[All Fields] OR genomespace[All Fields] OR genomespecies[All Fields] OR genomespecific[All Fields] OR genomespread[All Fields] OR genomesrs[All Fields] OR genomestrip[All Fields] OR genomestudio[All Fields] OR genomestudiotrade[All Fields] OR genomeswe[All Fields] OR genomesync[All Fields] OR genomet[All Fields] OR genometa[All Fields] OR genometabolic[All Fields] OR genometastasis[All Fields] OR genometester[All Fields] OR genometester4[All Fields] OR genomethate[All Fields] OR genomethics[All Fields] OR genometix[All Fields] OR genometools[All Fields] OR genometra[All Fields] OR genometrafac[All Fields] OR genometrakr[All Fields] OR genometrakrcp[All Fields] OR genometri[All Fields] OR genometric[All Fields] OR genometricorr[All Fields] OR genometrics[All Fields] OR genometries[All Fields] OR genometrix[All Fields] OR genometry[All Fields] OR genomets[All Fields] OR genometype[All Fields] OR genometype'[All Fields] OR genometypes[All Fields] OR genomeup[All Fields] OR genomeuplot[All Fields] OR genomeutwin[All Fields] OR genomevariation[All Fields] OR genomeview[All Fields] OR genomevip[All Fields] OR genomevip's[All Fields] OR genomevista[All Fields] OR genomeviz[All Fields] OR genomevolution[All Fields] OR genomevx[All Fields] OR genomewalker[All Fields] OR genomewalkertrade[All Fields] OR genomewalking[All Fields] OR genomewarp[All Fields] OR genomeweb[All Fields] OR genomewide[All Fields] OR genomewidepdb[All Fields] OR genomewidesnp[All Fields] OR genomewiki[All Fields] OR genomewise[All Fields] OR genomex[All Fields] OR genomexe[All Fields] OR genomexenvironmentxmanagement[All Fields] OR genomeyongin[All Fields] OR genomezip[All Fields] OR genomezipper[All Fields] OR genomezippers[All Fields] OR genomfingerprints[All Fields] OR genomfoerd[All Fields] OR genomfora[All Fields] OR genomforande[All Fields] OR genomforandet[All Fields] OR genomforas[All Fields] OR genomforbar[All Fields] OR genomford[All Fields] OR genomforde[All Fields] OR genomforetag[All Fields] OR genomfors[All Fields] OR genomforschung[All Fields] OR genomforschungsnetz[All Fields] OR genomforschungsnetzwerk[All Fields] OR genomforskning[All Fields] OR genomforskningen[All Fields] OR genomforts[All Fields] OR genomga[All Fields] OR genomgaang[All Fields] OR genomgaende[All Fields] OR genomgang[All Fields] OR genomgangar[All Fields] OR genomgangen[All Fields] OR genomgar[All Fields] OR genomgatt[All Fields] OR genomgripande[All Fields] OR genomhibridizacios[All Fields] OR genomhibridizalas[All Fields] OR genomhybridisierung[All Fields] OR genomhygienisk[All Fields] OR genomi[All Fields] OR genomi'c[All Fields] OR genomia[All Fields] OR genomiac[All Fields] OR genomiac2[All Fields] OR genomial[All Fields] OR genomialis[All Fields] OR genomic[All Fields] OR genomic'[All Fields] OR genomic''[All Fields] OR genomica[All Fields] OR genomicacsic[All Fields] OR genomicahealth[All Fields] OR genomical[All Fields] OR genomically[All Fields] OR genomically'[All Fields] OR genomicaly[All Fields] OR genomicamedellin[All Fields] OR genomicamente[All Fields] OR genomicamexico[All Fields] OR genomicand[All Fields] OR genomicare[All Fields] OR genomicas[All Fields] OR genomicasalmones[All Fields] OR genomicaverage[All Fields] OR genomicay[All Fields] OR genomicbased[All Fields] OR genomiccharacterization[All Fields] OR genomiccopies[All Fields] OR genomicdna[All Fields] OR genomicdna2[All Fields] OR genomice[All Fields] OR genomicencyclopedia[All Fields] OR genomicenterprise[All Fields] OR genomicepidemiology[All Fields] OR genomicepidemiology'[All Fields] OR genomices[All Fields] OR genomicfeatures[All Fields] OR genomicfx[All Fields] OR genomicgraphcoords[All Fields] OR genomiche[All Fields] OR genomichealth[All Fields] OR genomichealthcarestrategies[All Fields] OR genomichybridization[All Fields] OR genomicin[All Fields] OR genomicinformatics[All Fields] OR genomicinteractions[All Fields] OR genomicise[All Fields] OR genomicist[All Fields] OR genomicist's[All Fields] OR genomicists[All Fields] OR genomicization[All Fields] OR genomicization'[All Fields] OR genomicka[All Fields] OR genomickeho[All Fields] OR genomickych[All Fields] OR genomicly[All Fields] OR genomicmappingdata[All Fields] OR genomicmedicine[All Fields] OR genomicmedicinealliance[All Fields] OR genomicmicrodeletion[All Fields] OR genomico[All Fields] OR genomicobject[All Fields] OR genomicos[All Fields] OR genomicpariscentre[All Fields] OR genomicparsec[All Fields] OR genomicpeptidefinder[All Fields] OR genomicper[All Fields] OR genomicprediction[All Fields] OR genomicprep[All Fields] OR genomicranges[All Fields] OR genomicresearch[All Fields] OR genomicresources[All Fields] OR genomics[All Fields] OR genomics'[All Fields] OR genomics's[All Fields] OR genomics,[All Fields] OR genomics1[All Fields] OR genomics1,2,3,4[All Fields] OR genomics10[All Fields] OR genomics14[All Fields] OR genomics2[All Fields] OR genomics200911172226changtcwentzeleakentoatransactivation[All Fields] OR genomics20131246572324217822shilzhangsfengkmicrorna[All Fields] OR genomics4[All Fields] OR genomicsadelaide[All Fields] OR genomicsadviser[All Fields] OR genomicsanalysescouldcontribute[All Fields] OR genomicsand[All Fields] OR genomicsashworth[All Fields] OR genomicsassisted[All Fields] OR genomicsatellite[All Fields] OR genomicsbarcelona[All Fields] OR genomicsbeijing[All Fields] OR genomicscale[All Fields] OR genomicscape[All Fields] OR genomicscentral[All Fields] OR genomicscentre[All Fields] OR genomicscollaborative[All Fields] OR genomicscorelab[All Fields] OR genomicscores[All Fields] OR genomicscorporation[All Fields] OR genomicscruk[All Fields] OR genomicsdata[All Fields] OR genomicsdb[All Fields] OR genomicsdepartment[All Fields] OR genomicsdouble[All Fields] OR genomicsedepartment[All Fields] OR genomicsegments[All Fields] OR genomicsengland[All Fields] OR genomicsfondation[All Fields] OR genomicsforlife[All Fields] OR genomicsgarvan[All Fields] OR genomicsgraduate[All Fields] OR genomicsinc[All Fields] OR genomicsinova[All Fields] OR genomicsinstitute[All Fields] OR genomicsiter[All Fields] OR genomicslab[All Fields] OR genomicslife[All Fields] OR genomicsmayo[All Fields] OR genomicsmichigan[All Fields] OR genomicsmku[All Fields] OR genomicsolutions[All Fields] OR genomicsone[All Fields] OR genomicsoutions[All Fields] OR genomicsplc[All Fields] OR genomicsportals[All Fields] OR genomicsprinceton[All Fields] OR genomicsproducts[All Fields] OR genomicsproteomics[All Fields] OR genomicsroyal[All Fields] OR genomicsrpackage[All Fields] OR genomicssan[All Fields] OR genomicsshanghai[All Fields] OR genomicsstorrsconnecticut[All Fields] OR genomicssungkyunkwan[All Fields] OR genomicstianjin[All Fields] OR genomicsto[All Fields] OR genomicstrade[All Fields] OR genomicsuniversity[All Fields] OR genomicsv[All Fields] OR genomicsvm[All Fields] OR genomicswageningen[All Fields] OR genomictales[All Fields] OR genomictools[All Fields] OR genomictree[All Fields] OR genomicus[All Fields] OR genomicusplants[All Fields] OR genomicvariations[All Fields] OR genomicvision[All Fields] OR genomicworks[All Fields] OR genomicznej[All Fields] OR genomidea[All Fields] OR genomie[All Fields] OR genomie's[All Fields] OR genomien[All Fields] OR genomification[All Fields] OR genomiginin[All Fields] OR genomii[All Fields] OR genomiikka[All Fields] OR genomiin[All Fields] OR genomik[All Fields] OR genomika[All Fields] OR genomikai[All Fields] OR genomike[All Fields] OR genomikeskus[All Fields] OR genomiki[All Fields] OR genomikleri[All Fields] OR genomikoi[All Fields] OR genomiku[All Fields] OR genomikus[All Fields] OR genomiky[All Fields] OR genomilaaketieteeseen[All Fields] OR genomind[All Fields] OR genomine[All Fields] OR genominer[All Fields] OR genominformatik[All Fields] OR genoming[All Fields] OR genominic[All Fields] OR genomio[All Fields] OR genomiphi[All Fields] OR genomiphitrade[All Fields] OR genomiprojekti[All Fields] OR genomiprojektin[All Fields] OR genomique[All Fields] OR genomique'[All Fields] OR genomiqueet[All Fields] OR genomiqueevry[All Fields] OR genomiquefonctionnelle[All Fields] OR genomiques[All Fields] OR genomiquespublishing[All Fields] OR genomircs[All Fields] OR genomis[All Fields] OR genomische[All Fields] OR genomischen[All Fields] OR genomischer[All Fields] OR genomisekvenssin[All Fields] OR genomiser[All Fields] OR genomisk[All Fields] OR genomiska[All Fields] OR genomisotopic[All Fields] OR genomist[All Fields] OR genomists[All Fields] OR genomit[All Fields] OR genomite[All Fields] OR genomitiedon[All Fields] OR genomitutkimus[All Fields] OR genomix[All Fields] OR genomix4life[All Fields] OR genomixcarl[All Fields] OR genomixlab[All Fields] OR genomize[All Fields] OR genomizer[All Fields]\"], ['WarningList', {'OutputMessage': [\"Wildcard search for 'genom*' used only the first 600 variations. Lengthen the root word to search for all endings.\"], 'QuotedPhraseNotFound': [], 'PhraseIgnored': []}]]\n<class 'list'>\n"
    }
   ],
   "source": [
    "#converting type from Bio.Entrez.Parser.DictionaryElement to list\n",
    "list = []\n",
    "listrecords = []\n",
    "\n",
    "for key, value in record.items():\n",
    "    list = [key, value]\n",
    "    listrecords.append(list)\n",
    "print(listrecords)\n",
    "print(type(listrecords))"
   ]
  },
  {
   "cell_type": "code",
   "execution_count": 5,
   "metadata": {
    "tags": [
     "outputPrepend"
    ]
   },
   "outputs": [
    {
     "output_type": "stream",
     "name": "stdout",
     "text": "['IdList', ['32369867', '32369848', '32369831', '32369821', '32369817', '32369810', '32369809', '32369805', '32369735', '32369734', '32369668', '32369633', '32369600', '32369593', '32369588', '32369585', '32369572', '32369566', '32369565', '32369554', '32369553', '32369552', '32369522', '32369498', '32369496', '32369493', '32369486', '32369481', '32369457', '32369456', '32369452', '32369445', '32369358', '32369273', '32369165', '32369034', '32369020', '32369019', '32369005', '32369004', '32369003', '32369001', '32369000', '32368999', '32368997', '32368983', '32368982', '32368974', '32368927', '32368866', '32368861', '32368792', '32368734', '32368696', '32368685', '32368569', '32368540', '32368513', '32368431', '32368353', '32368352', '32368345', '32368326', '32368312', '32368310', '32368301', '32368296', '32368197', '32368194', '32368185', '32368168', '32368150', '32368149', '32368108', '32368105', '32368102', '32368101', '32368095', '32367807', '32367804', '32367802', '32367801', '32367751', '32367730', '32367721', '32367681', '32367653', '32367649', '32367648', '32367627', '32367588', '32367578', '32367572', '32367544', '32367515', '32367511', '32367443', '32367366', '32367364', '32367315']]\n['32369867', '32369848', '32369831', '32369821', '32369817', '32369810', '32369809', '32369805', '32369735', '32369734', '32369668', '32369633', '32369600', '32369593', '32369588', '32369585', '32369572', '32369566', '32369565', '32369554', '32369553', '32369552', '32369522', '32369498', '32369496', '32369493', '32369486', '32369481', '32369457', '32369456', '32369452', '32369445', '32369358', '32369273', '32369165', '32369034', '32369020', '32369019', '32369005', '32369004', '32369003', '32369001', '32369000', '32368999', '32368997', '32368983', '32368982', '32368974', '32368927', '32368866', '32368861', '32368792', '32368734', '32368696', '32368685', '32368569', '32368540', '32368513', '32368431', '32368353', '32368352', '32368345', '32368326', '32368312', '32368310', '32368301', '32368296', '32368197', '32368194', '32368185', '32368168', '32368150', '32368149', '32368108', '32368105', '32368102', '32368101', '32368095', '32367807', '32367804', '32367802', '32367801', '32367751', '32367730', '32367721', '32367681', '32367653', '32367649', '32367648', '32367627', '32367588', '32367578', '32367572', '32367544', '32367515', '32367511', '32367443', '32367366', '32367364', '32367315']\n"
    }
   ],
   "source": [
    "#creating iterable list of IDs of both string and int type\n",
    "id_list_acquire = listrecords[3]\n",
    "print(id_list_acquire)\n",
    "id_list = []\n",
    "id_list_int = []\n",
    "\n",
    "for id in id_list_acquire[1]:\n",
    "    id_list.append(id)\n",
    "print(id_list)"
   ]
  },
  {
   "cell_type": "code",
   "execution_count": 6,
   "metadata": {},
   "outputs": [],
   "source": [
    "list_titles = []\n",
    "list_pmids = []\n",
    "\n",
    "for item in id_list:\n",
    "    handle2 = Entrez.esummary(db=\"pubmed\", id=item, retmode=\"xml\")\n",
    "    records2 = Entrez.parse(handle2)\n",
    "\n",
    "    for record in records2:\n",
    "        #each record is a Python dictionary or list.\n",
    "        list_titles.append(record['Title'])\n",
    "\n",
    "handle2.close()\n",
    "\n",
    "#print(list_titles)"
   ]
  },
  {
   "cell_type": "code",
   "execution_count": 7,
   "metadata": {},
   "outputs": [
    {
     "output_type": "stream",
     "name": "stdout",
     "text": "0                                                  1\n0             Count                                             799431\n1            RetMax                                                100\n2          RetStart                                                  0\n3            IdList  [32369867, 32369848, 32369831, 32369821, 32369...\n4    TranslationSet                                                 []\n5  TranslationStack  [{'Term': 'genom[All Fields]', 'Field': 'All F...\n6  QueryTranslation  genom[All Fields] OR genom'ic[All Fields] OR g...\n7       WarningList  {'OutputMessage': ['Wildcard search for 'genom...\n                                                    0\n0   5' splice site GC&gt;GT and GT&gt;GC variants ...\n1   Platelet Integrin αIIbβ3 Activation is Associa...\n2   Increased urinary exosomal SYT17 levels in chr...\n3   Mutational Profiling of Driver Tumor Suppresso...\n4   What Will It Take to Build an Expert Group of ...\n..                                                ...\n95  CAM guard cell anion channel activity follows ...\n96  Fine-tuning the regulation of Cas9 expression ...\n97  Development and Validation of Real-Time RT-LAM...\n98  Zika Virus Amplification Using Strand Displace...\n99  Heat stress inducible cytoplasmic isoform of C...\n\n[100 rows x 1 columns]\n"
    },
    {
     "output_type": "execute_result",
     "data": {
      "text/plain": "(100, 1)"
     },
     "metadata": {},
     "execution_count": 7
    }
   ],
   "source": [
    "#showing the dataframe and shape\n",
    "df = pd.DataFrame(listrecords)\n",
    "print(df)\n",
    "df.shape\n",
    "\n",
    "df = pd.DataFrame(list_titles)\n",
    "print(df)\n",
    "df.shape"
   ]
  },
  {
   "cell_type": "code",
   "execution_count": 8,
   "metadata": {},
   "outputs": [],
   "source": [
    "text_glob = \"\"\n",
    "\n",
    "for x in list_titles:\n",
    "    text_glob += x\n",
    "\n",
    "text_glob = text_glob.replace(\".\", \" \")\n",
    "text_glob = text_glob.replace(\",\", \" \")\n",
    "text_glob = text_glob.replace(\":\", \" \")\n",
    "text_glob = text_glob.replace(\";\", \" \")\n",
    "text_glob = text_glob.replace(\"(\", \" \")\n",
    "text_glob = text_glob.replace(\")\", \" \")\n",
    "text_glob = text_glob.replace(\"?\", \" \")\n",
    "text_glob = text_glob.replace(\"&\", \" \")\n",
    "text_glob = text_glob.replace(\"'\", \" \")\n",
    "text_glob = text_glob.replace(\"<\", \" \")\n",
    "text_glob = text_glob.replace(\">\", \" \")\n",
    "text_glob = text_glob.replace(\"/i\", \" \")\n",
    "\n",
    "text_lower = text_glob.lower()\n",
    "#print(text_lower)"
   ]
  },
  {
   "cell_type": "code",
   "execution_count": 9,
   "metadata": {
    "tags": [
     "outputPrepend"
    ]
   },
   "outputs": [
    {
     "output_type": "stream",
     "name": "stdout",
     "text": "[('gene', 12), ('cell', 11), ('sp', 8), ('genetic', 8), ('nov', 8), ('virus', 8), ('cancer', 8), ('analysis', 7), ('patient', 6), ('novel', 6), ('characterization', 5), ('human', 5), ('using', 5), ('development', 5), ('sequencing', 5)]\n"
    }
   ],
   "source": [
    "#tokenization\n",
    "from nltk.tokenize import word_tokenize\n",
    "from nltk import FreqDist\n",
    "from nltk.corpus import stopwords\n",
    "from nltk.stem import WordNetLemmatizer\n",
    "\n",
    "#Create word tokens and count frequencies\n",
    "tokens = word_tokenize(text_lower)\n",
    "#print(tokens)\n",
    "\n",
    "#removing stopwords and showing most frequent non-stopword words\n",
    "stops = set(stopwords.words('english'))\n",
    "stopwords = [x for x in tokens if x not in stops]\n",
    "#print(stopwords)\n",
    "\n",
    "#lemmatize words\n",
    "lemmatizer = WordNetLemmatizer() \n",
    " \n",
    "lemmatized_output = ' '.join([lemmatizer.lemmatize(w) for w in stopwords])\n",
    "#print(lemmatized_output)\n",
    "\n",
    "new_text_glob = word_tokenize(lemmatized_output)\n",
    "#print(new_text_glob)\n",
    "\n",
    "#printing most frequently used words\n",
    "freq_words = FreqDist(new_text_glob)\n",
    "most_freq_words = freq_words.most_common(15)\n",
    "print(most_freq_words)"
   ]
  },
  {
   "cell_type": "code",
   "execution_count": 10,
   "metadata": {
    "tags": [
     "outputPrepend"
    ]
   },
   "outputs": [
    {
     "output_type": "stream",
     "name": "stderr",
     "text": "[nltk_data] Downloading package averaged_perceptron_tagger to\n[nltk_data]     /Users/eileencahill/nltk_data...\n[nltk_data]   Package averaged_perceptron_tagger is already up-to-\n[nltk_data]       date!\n[nltk_data] Downloading package maxent_ne_chunker to\n[nltk_data]     /Users/eileencahill/nltk_data...\n[nltk_data]   Package maxent_ne_chunker is already up-to-date!\n[nltk_data] Downloading package words to\n[nltk_data]     /Users/eileencahill/nltk_data...\n[nltk_data]   Package words is already up-to-date!\n"
    }
   ],
   "source": [
    "#Named Entity Recognition\n",
    "from nltk import pos_tag\n",
    "from nltk import ne_chunk\n",
    "\n",
    "import nltk\n",
    "nltk.download('averaged_perceptron_tagger')\n",
    "nltk.download('maxent_ne_chunker')\n",
    "nltk.download('words')\n",
    "\n",
    "tags = pos_tag(new_text_glob)\n",
    "chunk = ne_chunk(tags)\n",
    "\n",
    "#print(chunk)"
   ]
  },
  {
   "cell_type": "code",
   "execution_count": 92,
   "metadata": {
    "tags": [
     "outputPrepend"
    ]
   },
   "outputs": [
    {
     "output_type": "stream",
     "name": "stdout",
     "text": "(S\n  5/CD\n  (NP splice/NN site/NN)\n  (NP gc/NN gt/NN)\n  (NP gt/NN gt/NN)\n  (NP gt/NN gc/NN)\n  (NP variant/NN differ/NN)\n  (NP markedly/RB)\n  (NP term/NN functionality/NN)\n  (NP pathogenicity/NN platelet/NN)\n  (NP integrin/NN αiibβ3/NNP)\n  activation/NN\n  associated/VBN\n  25-hydroxyvitamin/JJ\n  concentration/NN\n  healthy/JJ\n  adult/NN\n  increased/VBD\n  urinary/JJ\n  exosomal/JJ\n  (NP syt17/NN level/NN)\n  chronic/JJ\n  active/JJ\n  antibody-mediated/JJ\n  (NP rejection/NN kidney/NN)\n  transplantation/NN\n  via/IN\n  il-6/JJ\n  amplifier/JJ\n  mutational/JJ\n  (NP profiling/NN driver/NN)\n  (NP tumor/NN suppressor/NN)\n  oncogenic/JJ\n  gene/NN\n  (NP brazilian/JJ malignant/JJ pleural/JJ mesothelioma/NNS)\n  take/VBP\n  build/JJ\n  (NP expert/NN group/NN)\n  nutrigenomic/JJ\n  practitioner/NN\n  nonmosaic/JJ\n  trisomy/NN\n  19p13/CD\n  3p13/CD\n  2/CD\n  resulting/VBG\n  rare/JJ\n  unbalanced/JJ\n  19/CD\n  (NP q12/NN p13/NN)\n  2/CD\n  (NP translocation/NN patient/NN)\n  (NP pachygyria/NN polymicrogyria/NN)\n  introducing/VBG\n  bird/JJ\n  (NP chromosome/NN database/NN)\n  overview/NN\n  cytogenetic/JJ\n  (NP study/NN bird/NN)\n  cytogenetic/JJ\n  molecular/JJ\n  characterization/NN\n  three/CD\n  mimetic/JJ\n  (NP specie/NN genus/NN)\n  (NP alagoasa/NN bechyné/NN)\n  1955/CD\n  coleoptera/NN\n  alticinae/JJ\n  neotropical/JJ\n  (NP region/NN nad/NN)\n  (NP sup/NN +/NNP /sup/NNP)\n  control/NN\n  circadian/JJ\n  reprogramming/VBG\n  per2/JJ\n  nuclear/JJ\n  (NP translocation/NN counter/NN)\n  aging/VBG\n  cryo-em/JJ\n  (NP structure/NN fork/NN)\n  protection/NN\n  complex/JJ\n  (NP bound/NN cmg/NN)\n  (NP replication/NN fork/NN)\n  functional/JJ\n  (NP characterization/NN pheromone/NN)\n  (NP receptor/NN candidate/NN)\n  codling/VBG\n  moth/CC\n  cydia/JJ\n  (NP pomonella/NN lepidoptera/NN)\n  tortricidae/NN\n  novel/JJ\n  phenotype/NN\n  6p25/CD\n  (NP deletion/NN syndrome/NN)\n  presenting/VBG\n  juvenile/JJ\n  (NP parkinsonism/NN brain/NN)\n  (NP calcification/NN effect/NN)\n  ammonia/IN\n  fiber/NN\n  expansion-treated/JJ\n  wheat/NN\n  straw/JJ\n  recombinant/NN\n  (NP fibrolytic/JJ enzyme/NN rumen/NNS)\n  microbiota/VBP\n  (NP fermentation/NN parameter/NN)\n  total/JJ\n  tract/JJ\n  (NP digestibility/NN performance/NN)\n  (NP lamb/NN gene/NN)\n  regulatory/JJ\n  network/NN\n  controlled/VBD\n  flowering/VBG\n  (NP locus/NN c/NNS)\n  confer/VBP\n  variation/JJ\n  seasonal/JJ\n  flowering/JJ\n  (NP life/NN history/NN)\n  tale/JJ\n  caspases-homologs/JJ\n  evolutionary/JJ\n  outlook/NN\n  deciphering/VBG\n  programmed/VBN\n  (NP cell/NN death/NN)\n  cyanobacteria/NN\n  human/JJ\n  prehistoric/JJ\n  demography/NN\n  revealed/VBD\n  polymorphic/JJ\n  (NP pattern/NN cpg/NN)\n  transition/NN\n  epidermal/JJ\n  (NP growth/NN factor/NN)\n  receptor-dependent/JJ\n  (NP dna/NN repair/NN)\n  promotes/VBZ\n  murine/JJ\n  human/JJ\n  hematopoietic/JJ\n  (NP regeneration/NN landscape/NN)\n  genomic/JJ\n  (NP imprinting/NN function/NN)\n  mouse/IN\n  mammary/JJ\n  (NP gland/NN activation/NN)\n  perk-atf4-chop/JJ\n  pathway/NN\n  novel/JJ\n  therapeutic/JJ\n  approach/NN\n  efficient/JJ\n  elimination/NN\n  htlv-1-infected/JJ\n  (NP cell/NN hic-hiker/NN)\n  probabilistic/JJ\n  (NP model/NN determine/NN)\n  contig/JJ\n  orientation/NN\n  (NP chromosome-length/JJ scaffold/JJ hi-c/JJ towards/NNS)\n  routine/JJ\n  (NP use/NN silico/NN)\n  screening/VBG\n  (NP drug/NN discovery/NN)\n  using/VBG\n  metabolic/JJ\n  modelling/VBG\n  bayesian/JJ\n  structural/JJ\n  equation/NN\n  modeling/VBG\n  (NP multiple/JJ omics/NNS)\n  (NP data/NNS)\n  application/NN\n  circadian/JJ\n  gene/NN\n  allelic/JJ\n  (NP variation/NN wx/NN)\n  locus/NN\n  cultivated/VBD\n  (NP rice/NN use/NN)\n  development/NN\n  hybrid/JJ\n  (NP rice/NN china/NN)\n  (NP airway/RB)\n  dendritic/JJ\n  (NP cell/NN maturation/NN)\n  child/NN\n  exposed/VBD\n  (NP air/NN pollution/NN)\n  (NP identification/NN characterization/NN)\n  novel/IN\n  extracellular/JJ\n  (NP polyhydroxyalkanoate/NN depolymerase/NN)\n  complete/JJ\n  (NP genome/NN sequence/NN)\n  (NP undibacterium/NN sp/NN)\n  (NP kw1/NN ym2/NN)\n  strain/NN\n  accounting/VBG\n  long-range/JJ\n  correlation/NN\n  genome-wide/JJ\n  simulation/NN\n  large/JJ\n  cohort/NN\n  combining/VBG\n  genetic/JJ\n  demographic/JJ\n  monitoring/NN\n  better/RBR\n  (NP informs/NNS)\n  conservation/NN\n  endangered/VBD\n  urban/JJ\n  snake/JJ\n  genome-wide/JJ\n  assessment/JJ\n  (NP population/NN structure/NN)\n  genetic/JJ\n  diversity/NN\n  chinese/JJ\n  lou/JJ\n  onion/NN\n  using/VBG\n  specific/JJ\n  length/NN\n  amplified/VBD\n  fragment/JJ\n  slaf/NN\n  sequencing/VBG\n  complement/JJ\n  factor/NN\n  h-deficient/JJ\n  mouse/NN\n  develop/VBZ\n  spontaneous/JJ\n  hepatic/JJ\n  tumor/NN\n  tryptophan/VBD\n  catabolism/NN\n  reflects/VBZ\n  disease/JJ\n  activity/NN\n  human/JJ\n  tuberculosis/NN\n  long-range/JJ\n  cis-regulatory/JJ\n  element/NN\n  controlling/VBG\n  gdf6/JJ\n  expression/NN\n  essential/JJ\n  (NP cochlear/NN development/NN)\n  impaired/VBD\n  angiogenesis/NN\n  extracellular/JJ\n  (NP matrix/NN metabolism/NN)\n  autosomal-dominant/JJ\n  hyper-ige/JJ\n  syndrome/NN\n  targeting/VBG\n  alk2/JJ\n  open/JJ\n  (NP science/NN approach/NN)\n  developing/VBG\n  therapeutic/JJ\n  (NP treatment/NN diffuse/NN)\n  intrinsic/JJ\n  (NP pontine/NN glioma/NN)\n  consecutive/JJ\n  medical/JJ\n  (NP exome/NN analysis/NN)\n  tertiary/JJ\n  center/NN\n  diagnostic/JJ\n  health-economic/JJ\n  outcome/NN\n  (NP antibiotic/JJ resistomes/NNS)\n  discovered/VBD\n  (NP gut/JJ microbiomes/NNS)\n  (NP korean/JJ swine/JJ cattle/NNS)\n  (NP user-friendly/RB)\n  web-based/JJ\n  integrative/JJ\n  (NP tool/NN esurv/NN)\n  survival/JJ\n  (NP analysis/NN development/NN)\n  (NP validation/NN study/NN)\n  antibiotic/JJ\n  bedaquiline/NN\n  activates/VBZ\n  host/JJ\n  (NP macrophage/NN innate/NN)\n  immune/JJ\n  resistance/NN\n  bacterial/JJ\n  infection/NN\n  controlling/VBG\n  (NP gene/NN activation/NN)\n  enhancer/IN\n  drug-inducible/JJ\n  topological/JJ\n  (NP insulator/NN gimesia/NN)\n  (NP chilikensis/NN sp/NN)\n  nov/JJ\n  haloalkali-tolerant/JJ\n  planctomycete/NN\n  isolated/VBD\n  chilika/JJ\n  lagoon/NN\n  emended/VBD\n  (NP description/NN genus/NN)\n  (NP gimesia/NN pusillimonas/NN)\n  (NP maritima/NN sp/NN)\n  (NP nov/RB)\n  isolated/VBD\n  (NP\n    surface/NN\n    seawater/NN\n    oleiliquidispirillum/NN\n    nitrogeniifigens/NNS)\n  gen/VBP\n  nov/JJ\n  sp/NN\n  nov/JJ\n  new/JJ\n  (NP member/NN family/NN)\n  rhodospirillaceae/NN\n  isolated/VBN\n  (NP oil/NN reservoir/NN)\n  (NP water/NN reclassification/NN)\n  (NP genus/NN izhakiella/NN)\n  (NP family/NN erwiniaceae/NN)\n  based/VBN\n  phylogenetic/JJ\n  genomic/JJ\n  (NP analysis/NN characterization/NN)\n  (NP peptacetobacter/NN hominis/NN)\n  gen/NN\n  nov/JJ\n  sp/NN\n  (NP nov/RB)\n  (NP isolated/JJ human/JJ faeces/NNS)\n  (NP proposal/NN reclassification/NN)\n  (NP clostridium/NN hiranonis/NN)\n  within/IN\n  (NP genus/NN peptacetobacter/NN)\n  (NP corynebacterium/NN silvaticum/NN)\n  sp/NN\n  nov/JJ\n  unique/JJ\n  group/NN\n  nttb/VBD\n  (NP corynebacteria/NNS)\n  wild/JJ\n  boar/VBP\n  (NP roe/JJ deer/NN luteimonas/NNS)\n  gilva/VBP\n  sp/JJ\n  (NP nov/RB)\n  isolated/JJ\n  (NP farmland/NN soil/NN)\n  impact/NN\n  interleukin/JJ\n  28b/CD\n  icam-1/JJ\n  genetic/JJ\n  (NP polymorphism/NN response/NN)\n  direct/JJ\n  antiviral/JJ\n  treatment/NN\n  among/IN\n  hcv/JJ\n  infected/JJ\n  patient/NN\n  p-nonylphenol/JJ\n  impairment/NN\n  osteogenic/JJ\n  differentiation/NN\n  mesenchymal/JJ\n  (NP stem/NN cell/NN)\n  found/VBD\n  due/JJ\n  oxidative/JJ\n  (NP stress/NN regulation/NN)\n  runx2/NN\n  bmp/JJ\n  (NP role/NN glyoxalase/NN)\n  (NP glycation/NN carbonyl/NN)\n  stress/NN\n  induced/VBD\n  metabolic/JJ\n  (NP disorder/NN quantification/NN)\n  adeno-associated/JJ\n  virus/NN\n  safe/JJ\n  nucleic/JJ\n  (NP acid/NN dye/NN)\n  genetic/JJ\n  (NP contribution/NN etiology/NN)\n  (NP anorexia/VBZ nervosa/RB)\n  new/JJ\n  perspective/NN\n  molecular/JJ\n  (NP diagnosis/NN treatment/NN)\n  proteasome/JJ\n  (NP activator/NN pa200/NN)\n  regulates/VBZ\n  expression/JJ\n  gene/NN\n  involved/VBN\n  (NP cell/NN survival/NN)\n  upon/IN\n  selective/JJ\n  mitochondrial/JJ\n  (NP inhibition/NN neuroblastoma/NN)\n  cell/NN\n  potential/JJ\n  therapeutic/JJ\n  target/NN\n  promising/JJ\n  drug/NN\n  combating/VBG\n  sars-cov-2/JJ\n  reduction/NN\n  (NP\n    foot-and-mouth/JJ\n    disease/NN\n    virus/NN\n    transmission/NN\n    cattle/NNS)\n  vaccinated/VBD\n  one/CD\n  two/CD\n  (NP week/NN challenge/NN)\n  using/VBG\n  commercial/JJ\n  (NP polyvalent/NN vaccine/NN)\n  (NP system/NN analysis/NN)\n  implicates/VBZ\n  wave2/VBP\n  complex/JJ\n  pathogenesis/NN\n  developmental/JJ\n  left-sided/JJ\n  obstructive/JJ\n  (NP heart/NN defect/NN)\n  (NP fok/NN vitamin/NN)\n  (NP receptor/NN gene/NN)\n  polymorphism/NN\n  serum/VBD\n  25-hydroxyvitamin/JJ\n  (NP patient/NN cardiovascular/NN)\n  risk/NN\n  molecular/JJ\n  biology/NN\n  intracellular/JJ\n  (NP event/NN coronavirus/NN)\n  (NP infection/NN cycle/NN)\n  novel/JJ\n  (NP frameshift/NN mutation/NN)\n  (NP sac/NN gene/NN)\n  causing/VBG\n  spastic/JJ\n  ataxia/JJ\n  charlevoix-saguenay/JJ\n  consanguineous/JJ\n  family/NN\n  arabian/JJ\n  (NP peninsula/NN case/NN)\n  (NP report/NN review/NN)\n  literature/NN\n  complete/JJ\n  (NP genome/NN sequence/NN)\n  (NP boxwood/NN endophyte/NN)\n  (NP burkholderia/NN sp/NN)\n  ssg/NN\n  broad/JJ\n  biotechnological/JJ\n  application/NN\n  potential/JJ\n  analysis/NN\n  (NP differentially/RB)\n  expressed/VBN\n  gene/NN\n  (NP pathway/RB)\n  associated/VBN\n  male/JJ\n  (NP sterility/NN line/NN)\n  watermelon/NN\n  via/IN\n  bulked/VBN\n  segregant/JJ\n  rna-seq/JJ\n  structure/NN\n  (NP filamentous/JJ virus/NN uncovers/NNS)\n  familial/JJ\n  tie/NN\n  within/IN\n  archaeal/NN\n  (NP virosphere/RB)\n  novel/JJ\n  genome/JJ\n  sequence/NN\n  cell-fusing/JJ\n  (NP agent/NN virus/NN)\n  allow/IN\n  (NP comparison/NN virus/NN)\n  (NP phylogeny/JJ genetic/JJ structure/NN aedes/NNS)\n  aegypti/JJ\n  population/NN\n  epidemic/JJ\n  venereal/JJ\n  treponematosis/NN\n  wild/JJ\n  monkey/JJ\n  (NP paradigm/NN syphilis/NN)\n  (NP origin/NN expression/NN)\n  significance/NN\n  mir-654-5p/JJ\n  mir-376b-3p/JJ\n  (NP patient/NN colon/NN)\n  (NP cancer/NN development/NN)\n  validation/NN\n  next/IN\n  generation/NN\n  sequencing/VBG\n  based/VBN\n  35-gene/JJ\n  hereditary/JJ\n  (NP cancer/NN panel/NN)\n  panel/NN\n  four-lncrna/JJ\n  signature/NN\n  potential/JJ\n  biomarker/NN\n  predicting/VBG\n  survival/JJ\n  clear/JJ\n  cell/NN\n  renal/JJ\n  (NP cell/NN carcinoma/NN)\n  top2a/NN\n  promotes/VBZ\n  tumorigenesis/IN\n  high-grade/JJ\n  serous/JJ\n  ovarian/JJ\n  cancer/NN\n  regulating/VBG\n  tgf-β/smad/JJ\n  (NP pathway/NN prediction/NN)\n  survival/NN\n  hepatocellular/JJ\n  carcinoma/NN\n  based/VBN\n  four/CD\n  long/JJ\n  non-coding/JJ\n  (NP rna/NN expression/NN)\n  signature/NN\n  bayesian/JJ\n  (NP network/NN analysis/NN)\n  (NP plasma/NN microrna/NN)\n  sequencing/VBG\n  (NP data/NNS)\n  patient/NN\n  venous/JJ\n  thrombosis/NN\n  pharmacological/JJ\n  (NP cancer/NN treatment/NN)\n  venous/JJ\n  (NP thromboembolism/NN risk/NN)\n  (NP establishment/NN characterization/NN)\n  stable/JJ\n  red/JJ\n  far-red/JJ\n  fr/NN\n  near/IN\n  infra-red/JJ\n  nir/NN\n  transfected/VBD\n  canine/JJ\n  (NP prostate/NN cancer/NN)\n  (NP cell/NN line/NN)\n  patient/NN\n  nsclcs/IN\n  harboring/VBG\n  internal/JJ\n  (NP inversion/NN deletion/NN)\n  (NP rearrangement/NN alk/NN)\n  gene/NN\n  (NP\n    durable/JJ\n    response/NN\n    alk/NN\n    kinase/NN\n    inhibitor/NN\n    brca/NN\n    mutation/NN\n    pancreas/NNS)\n  cancer/NN\n  spectrum/VBP\n  current/JJ\n  (NP management/NN challenge/NN)\n  (NP future/JJ prospect/JJ mir-489-3p/JJ inhibits/NNS)\n  prostate/VBP\n  (NP cancer/NN progression/NN)\n  targeting/VBG\n  dlx1/JJ\n  (NP reversal/NN mcr-1/NN)\n  -mediated/VBD\n  colistin/JJ\n  (NP resistance/NN escherichia/NN)\n  coli/VBP\n  (NP crispr-cas9/NN system/NN)\n  discovery/NN\n  novel/JJ\n  (NP hypervirulent/NN acinetobacter/NN)\n  (NP baumannii/NN strain/NN)\n  case/NN\n  community-acquired/JJ\n  (NP pneumonia/NN crispr-cas/NN)\n  system/NN\n  could/MD\n  used/VBN\n  combat/VB\n  antimicrobial/JJ\n  resistance/NN\n  ndm-1-producing/JJ\n  (NP acinetobacter/NN towneri/NN)\n  isolate/VBP\n  hospital/JJ\n  sewage/NN\n  china/VBD\n  (NP mir-934/JJ prognostic/JJ marker/NN facilitates/NNS)\n  cell/VBP\n  (NP proliferation/NN migration/NN)\n  pancreatic/JJ\n  tumor/NN\n  targeting/VBG\n  prox1/JJ\n  dynamic/JJ\n  buckling/VBG\n  transition/NN\n  double-stranded/JJ\n  (NP dna/NN rna/NN)\n  (NP quantification/NN pace/NN)\n  biological/JJ\n  aging/VBG\n  human/JJ\n  (NP blood/NN test/NN)\n  (NP dunedinpoam/NN dna/NN)\n  methylation/NN\n  algorithm/IN\n  (NP caenorhabditis/NN elegans/NNS)\n  process/JJ\n  sensory/JJ\n  (NP information/NN choose/NN)\n  freeloading/VBG\n  self-defense/JJ\n  strategy/NN\n  synergistic/JJ\n  antagonistic/JJ\n  (NP drug/NN interaction/NN)\n  treatment/NN\n  systemic/JJ\n  fungal/JJ\n  (NP infection/NN family/NN)\n  fuchs/VBZ\n  endothelial/JJ\n  (NP corneal/NN dystrophy/NN)\n  anterior/JJ\n  polar/JJ\n  (NP cataract/NN analysis/NN)\n  whole/JJ\n  exome/NN\n  sequencing/VBG\n  (NP alcohol/NN consumption/NN)\n  cardiovascular/JJ\n  disease/NN\n  mendelian/JJ\n  (NP randomization/NN study/NN)\n  improving/VBG\n  (NP gene/NN annotation/NN)\n  peanut/VBZ\n  (NP genome/JJ integrated/JJ proteogenomics/NNS)\n  workflow/VBP\n  translational/JJ\n  (NP gene/NN regulation/NN)\n  plant/NN\n  green/JJ\n  new/JJ\n  (NP deal/NN pirna/NN)\n  (NP response/NN bmnpv/NN)\n  (NP infection/NN silkworm/NN)\n  (NP fat/NN body/NN)\n  midgut/VBD\n  high-throughput/JJ\n  phenotyping/NN\n  accelerates/VBZ\n  dissection/JJ\n  dynamic/JJ\n  genetic/JJ\n  (NP architecture/NN plant/NN)\n  (NP growth/NN yield/NN)\n  improvement/NN\n  rapeseed/VBD\n  sars-cov-2/JJ\n  variant/JJ\n  (NP relevance/NN symptom/NN)\n  (NP granularity/NN epidemiology/NN)\n  immunity/NN\n  herd/VBP\n  (NP vaccine/NN virus/NN)\n  origin/VBP\n  containment/NN\n  ethnic/JJ\n  (NP difference/NN adiposity/NN)\n  diabetes/VBZ\n  risk/VBP\n  -/:\n  insight/JJ\n  genetic/JJ\n  (NP study/NN evolution/NN)\n  transgenic/JJ\n  (NP l/NN infantum/NN)\n  expressing/VBG\n  mllo-bax-smac/JJ\n  infected/JJ\n  (NP macrophage/NN apoptosis/NN)\n  vitro/NN\n  vivo/FW\n  genetic/JJ\n  variant/JJ\n  peroxisome/NN\n  proliferator-activated/JJ\n  (NP receptor/NN ppar/NN)\n  (NP signaling/VBG pathway/RB)\n  (NP gene/NN risk/NN)\n  pancreatic/JJ\n  (NP cancer/NN genotype-phenotype/NN)\n  (NP association/NN breast/NN)\n  (NP pathology/NN achievement/NN)\n  past/JJ\n  (NP quarter/NN century/NN)\n  compound/NN\n  heterozygous/JJ\n  rpe65/JJ\n  mutation/NN\n  associated/VBN\n  early/JJ\n  onset/NN\n  autosomal/JJ\n  recessive/JJ\n  (NP retinitis/NN pigmentosa/NN)\n  (NP medicago/NN truncatula/NN)\n  ferroportin2/NN\n  mediates/VBZ\n  iron/VBP\n  (NP import/NN nodule/NN symbiosomes/NNS)\n  (NP cam/VBP guard/RB)\n  (NP cell/NN anion/NN)\n  (NP channel/NN activity/NN)\n  follows/VBZ\n  (NP transcript/NN abundance/NN)\n  suppressed/VBD\n  apoplastic/JJ\n  malate/NN\n  fine-tuning/JJ\n  (NP regulation/NN cas9/NN)\n  (NP expression/NN level/NN)\n  efficient/JJ\n  crispr-cas9/JJ\n  mediated/VBN\n  (NP recombination/NN streptomyces/NNS)\n  (NP development/NN validation/NN)\n  real-time/JJ\n  rt-lamp/JJ\n  assay/NN\n  specific/JJ\n  detection/NN\n  zika/FW\n  virus/NN\n  zika/FW\n  (NP virus/NN amplification/NN)\n  using/VBG\n  strand/JJ\n  displacement/NN\n  isothermal/JJ\n  method/NN\n  (NP sequencing/VBG using/VBG nanopore/RB)\n  (NP technology/NN heat/NN)\n  stress/NN\n  inducible/JJ\n  cytoplasmic/JJ\n  (NP isoform/NN clpb1/NN)\n  z/NN\n  nummularia/JJ\n  exhibit/NN\n  enhanced/VBD\n  (NP thermotolerance/NN transgenic/NN)\n  tobacco/NN)\n"
    },
    {
     "output_type": "error",
     "ename": "KeyboardInterrupt",
     "evalue": "",
     "traceback": [
      "\u001b[0;31m---------------------------------------------------------------------------\u001b[0m",
      "\u001b[0;31mKeyboardInterrupt\u001b[0m                         Traceback (most recent call last)",
      "\u001b[0;32m<ipython-input-92-0edb10e20bb4>\u001b[0m in \u001b[0;36m<module>\u001b[0;34m\u001b[0m\n\u001b[1;32m     17\u001b[0m \u001b[0mresult\u001b[0m \u001b[0;34m=\u001b[0m \u001b[0mchunkparse\u001b[0m\u001b[0;34m.\u001b[0m\u001b[0mparse\u001b[0m\u001b[0;34m(\u001b[0m\u001b[0mtags\u001b[0m\u001b[0;34m)\u001b[0m\u001b[0;34m\u001b[0m\u001b[0;34m\u001b[0m\u001b[0m\n\u001b[1;32m     18\u001b[0m \u001b[0mprint\u001b[0m\u001b[0;34m(\u001b[0m\u001b[0mresult\u001b[0m\u001b[0;34m)\u001b[0m\u001b[0;34m\u001b[0m\u001b[0;34m\u001b[0m\u001b[0m\n\u001b[0;32m---> 19\u001b[0;31m \u001b[0mresult\u001b[0m\u001b[0;34m.\u001b[0m\u001b[0mdraw\u001b[0m\u001b[0;34m(\u001b[0m\u001b[0;34m)\u001b[0m\u001b[0;34m\u001b[0m\u001b[0;34m\u001b[0m\u001b[0m\n\u001b[0m\u001b[1;32m     20\u001b[0m \u001b[0;31m#print(tags)\u001b[0m\u001b[0;34m\u001b[0m\u001b[0;34m\u001b[0m\u001b[0;34m\u001b[0m\u001b[0m\n\u001b[1;32m     21\u001b[0m \u001b[0;31m#nouns = noun for noun in result if tags == \"NN\"\u001b[0m\u001b[0;34m\u001b[0m\u001b[0;34m\u001b[0m\u001b[0;34m\u001b[0m\u001b[0m\n",
      "\u001b[0;32m/Applications/anaconda3/lib/python3.7/site-packages/nltk/tree.py\u001b[0m in \u001b[0;36mdraw\u001b[0;34m(self)\u001b[0m\n\u001b[1;32m    752\u001b[0m         \u001b[0;32mfrom\u001b[0m \u001b[0mnltk\u001b[0m\u001b[0;34m.\u001b[0m\u001b[0mdraw\u001b[0m\u001b[0;34m.\u001b[0m\u001b[0mtree\u001b[0m \u001b[0;32mimport\u001b[0m \u001b[0mdraw_trees\u001b[0m\u001b[0;34m\u001b[0m\u001b[0;34m\u001b[0m\u001b[0m\n\u001b[1;32m    753\u001b[0m \u001b[0;34m\u001b[0m\u001b[0m\n\u001b[0;32m--> 754\u001b[0;31m         \u001b[0mdraw_trees\u001b[0m\u001b[0;34m(\u001b[0m\u001b[0mself\u001b[0m\u001b[0;34m)\u001b[0m\u001b[0;34m\u001b[0m\u001b[0;34m\u001b[0m\u001b[0m\n\u001b[0m\u001b[1;32m    755\u001b[0m \u001b[0;34m\u001b[0m\u001b[0m\n\u001b[1;32m    756\u001b[0m     \u001b[0;32mdef\u001b[0m \u001b[0mpretty_print\u001b[0m\u001b[0;34m(\u001b[0m\u001b[0mself\u001b[0m\u001b[0;34m,\u001b[0m \u001b[0msentence\u001b[0m\u001b[0;34m=\u001b[0m\u001b[0;32mNone\u001b[0m\u001b[0;34m,\u001b[0m \u001b[0mhighlight\u001b[0m\u001b[0;34m=\u001b[0m\u001b[0;34m(\u001b[0m\u001b[0;34m)\u001b[0m\u001b[0;34m,\u001b[0m \u001b[0mstream\u001b[0m\u001b[0;34m=\u001b[0m\u001b[0;32mNone\u001b[0m\u001b[0;34m,\u001b[0m \u001b[0;34m**\u001b[0m\u001b[0mkwargs\u001b[0m\u001b[0;34m)\u001b[0m\u001b[0;34m:\u001b[0m\u001b[0;34m\u001b[0m\u001b[0;34m\u001b[0m\u001b[0m\n",
      "\u001b[0;32m/Applications/anaconda3/lib/python3.7/site-packages/nltk/draw/tree.py\u001b[0m in \u001b[0;36mdraw_trees\u001b[0;34m(*trees)\u001b[0m\n\u001b[1;32m   1006\u001b[0m     \u001b[0;34m:\u001b[0m\u001b[0mrtype\u001b[0m\u001b[0;34m:\u001b[0m \u001b[0;32mNone\u001b[0m\u001b[0;34m\u001b[0m\u001b[0;34m\u001b[0m\u001b[0m\n\u001b[1;32m   1007\u001b[0m     \"\"\"\n\u001b[0;32m-> 1008\u001b[0;31m     \u001b[0mTreeView\u001b[0m\u001b[0;34m(\u001b[0m\u001b[0;34m*\u001b[0m\u001b[0mtrees\u001b[0m\u001b[0;34m)\u001b[0m\u001b[0;34m.\u001b[0m\u001b[0mmainloop\u001b[0m\u001b[0;34m(\u001b[0m\u001b[0;34m)\u001b[0m\u001b[0;34m\u001b[0m\u001b[0;34m\u001b[0m\u001b[0m\n\u001b[0m\u001b[1;32m   1009\u001b[0m     \u001b[0;32mreturn\u001b[0m\u001b[0;34m\u001b[0m\u001b[0;34m\u001b[0m\u001b[0m\n\u001b[1;32m   1010\u001b[0m \u001b[0;34m\u001b[0m\u001b[0m\n",
      "\u001b[0;32m/Applications/anaconda3/lib/python3.7/site-packages/nltk/draw/tree.py\u001b[0m in \u001b[0;36m__init__\u001b[0;34m(self, *trees)\u001b[0m\n\u001b[1;32m    885\u001b[0m                 \u001b[0mline_color\u001b[0m\u001b[0;34m=\u001b[0m\u001b[0;34m'#004040'\u001b[0m\u001b[0;34m,\u001b[0m\u001b[0;34m\u001b[0m\u001b[0;34m\u001b[0m\u001b[0m\n\u001b[1;32m    886\u001b[0m                 \u001b[0mdraggable\u001b[0m\u001b[0;34m=\u001b[0m\u001b[0;36m1\u001b[0m\u001b[0;34m,\u001b[0m\u001b[0;34m\u001b[0m\u001b[0;34m\u001b[0m\u001b[0m\n\u001b[0;32m--> 887\u001b[0;31m                 \u001b[0mleaf_font\u001b[0m\u001b[0;34m=\u001b[0m\u001b[0mhelv\u001b[0m\u001b[0;34m,\u001b[0m\u001b[0;34m\u001b[0m\u001b[0;34m\u001b[0m\u001b[0m\n\u001b[0m\u001b[1;32m    888\u001b[0m             )\n\u001b[1;32m    889\u001b[0m             \u001b[0mwidget\u001b[0m\u001b[0;34m.\u001b[0m\u001b[0mbind_click_trees\u001b[0m\u001b[0;34m(\u001b[0m\u001b[0mwidget\u001b[0m\u001b[0;34m.\u001b[0m\u001b[0mtoggle_collapsed\u001b[0m\u001b[0;34m)\u001b[0m\u001b[0;34m\u001b[0m\u001b[0;34m\u001b[0m\u001b[0m\n",
      "\u001b[0;32m/Applications/anaconda3/lib/python3.7/site-packages/nltk/draw/tree.py\u001b[0m in \u001b[0;36m__init__\u001b[0;34m(self, canvas, t, make_node, make_leaf, **attribs)\u001b[0m\n\u001b[1;32m    581\u001b[0m         \u001b[0mself\u001b[0m\u001b[0;34m.\u001b[0m\u001b[0m_add_child_widget\u001b[0m\u001b[0;34m(\u001b[0m\u001b[0mself\u001b[0m\u001b[0;34m.\u001b[0m\u001b[0m_treeseg\u001b[0m\u001b[0;34m)\u001b[0m\u001b[0;34m\u001b[0m\u001b[0;34m\u001b[0m\u001b[0m\n\u001b[1;32m    582\u001b[0m \u001b[0;34m\u001b[0m\u001b[0m\n\u001b[0;32m--> 583\u001b[0;31m         \u001b[0mCanvasWidget\u001b[0m\u001b[0;34m.\u001b[0m\u001b[0m__init__\u001b[0m\u001b[0;34m(\u001b[0m\u001b[0mself\u001b[0m\u001b[0;34m,\u001b[0m \u001b[0mcanvas\u001b[0m\u001b[0;34m,\u001b[0m \u001b[0;34m**\u001b[0m\u001b[0mattribs\u001b[0m\u001b[0;34m)\u001b[0m\u001b[0;34m\u001b[0m\u001b[0;34m\u001b[0m\u001b[0m\n\u001b[0m\u001b[1;32m    584\u001b[0m \u001b[0;34m\u001b[0m\u001b[0m\n\u001b[1;32m    585\u001b[0m     \u001b[0;32mdef\u001b[0m \u001b[0mexpanded_tree\u001b[0m\u001b[0;34m(\u001b[0m\u001b[0mself\u001b[0m\u001b[0;34m,\u001b[0m \u001b[0;34m*\u001b[0m\u001b[0mpath_to_tree\u001b[0m\u001b[0;34m)\u001b[0m\u001b[0;34m:\u001b[0m\u001b[0;34m\u001b[0m\u001b[0;34m\u001b[0m\u001b[0m\n",
      "\u001b[0;32m/Applications/anaconda3/lib/python3.7/site-packages/nltk/draw/util.py\u001b[0m in \u001b[0;36m__init__\u001b[0;34m(self, canvas, parent, **attribs)\u001b[0m\n\u001b[1;32m    221\u001b[0m \u001b[0;34m\u001b[0m\u001b[0m\n\u001b[1;32m    222\u001b[0m         \u001b[0;31m# Manage this canvas widget\u001b[0m\u001b[0;34m\u001b[0m\u001b[0;34m\u001b[0m\u001b[0;34m\u001b[0m\u001b[0m\n\u001b[0;32m--> 223\u001b[0;31m         \u001b[0mself\u001b[0m\u001b[0;34m.\u001b[0m\u001b[0m_manage\u001b[0m\u001b[0;34m(\u001b[0m\u001b[0;34m)\u001b[0m\u001b[0;34m\u001b[0m\u001b[0;34m\u001b[0m\u001b[0m\n\u001b[0m\u001b[1;32m    224\u001b[0m \u001b[0;34m\u001b[0m\u001b[0m\n\u001b[1;32m    225\u001b[0m         \u001b[0;31m# Register any new bindings\u001b[0m\u001b[0;34m\u001b[0m\u001b[0;34m\u001b[0m\u001b[0;34m\u001b[0m\u001b[0m\n",
      "\u001b[0;32m/Applications/anaconda3/lib/python3.7/site-packages/nltk/draw/tree.py\u001b[0m in \u001b[0;36m_manage\u001b[0;34m(self)\u001b[0m\n\u001b[1;32m    811\u001b[0m             \u001b[0;32mif\u001b[0m \u001b[0mtseg\u001b[0m\u001b[0;34m.\u001b[0m\u001b[0mhidden\u001b[0m\u001b[0;34m(\u001b[0m\u001b[0;34m)\u001b[0m\u001b[0;34m:\u001b[0m\u001b[0;34m\u001b[0m\u001b[0;34m\u001b[0m\u001b[0m\n\u001b[1;32m    812\u001b[0m                 \u001b[0mtseg\u001b[0m\u001b[0;34m.\u001b[0m\u001b[0mshow\u001b[0m\u001b[0;34m(\u001b[0m\u001b[0;34m)\u001b[0m\u001b[0;34m\u001b[0m\u001b[0;34m\u001b[0m\u001b[0m\n\u001b[0;32m--> 813\u001b[0;31m                 \u001b[0mtseg\u001b[0m\u001b[0;34m.\u001b[0m\u001b[0mmanage\u001b[0m\u001b[0;34m(\u001b[0m\u001b[0;34m)\u001b[0m\u001b[0;34m\u001b[0m\u001b[0;34m\u001b[0m\u001b[0m\n\u001b[0m\u001b[1;32m    814\u001b[0m                 \u001b[0mtseg\u001b[0m\u001b[0;34m.\u001b[0m\u001b[0mhide\u001b[0m\u001b[0;34m(\u001b[0m\u001b[0;34m)\u001b[0m\u001b[0;34m\u001b[0m\u001b[0;34m\u001b[0m\u001b[0m\n\u001b[1;32m    815\u001b[0m \u001b[0;34m\u001b[0m\u001b[0m\n",
      "\u001b[0;32m/Applications/anaconda3/lib/python3.7/site-packages/nltk/draw/util.py\u001b[0m in \u001b[0;36mmanage\u001b[0;34m(self)\u001b[0m\n\u001b[1;32m    411\u001b[0m         \u001b[0;32mfor\u001b[0m \u001b[0mchild\u001b[0m \u001b[0;32min\u001b[0m \u001b[0mself\u001b[0m\u001b[0;34m.\u001b[0m\u001b[0m__children\u001b[0m\u001b[0;34m:\u001b[0m\u001b[0;34m\u001b[0m\u001b[0;34m\u001b[0m\u001b[0m\n\u001b[1;32m    412\u001b[0m             \u001b[0mchild\u001b[0m\u001b[0;34m.\u001b[0m\u001b[0mmanage\u001b[0m\u001b[0;34m(\u001b[0m\u001b[0;34m)\u001b[0m\u001b[0;34m\u001b[0m\u001b[0;34m\u001b[0m\u001b[0m\n\u001b[0;32m--> 413\u001b[0;31m         \u001b[0mself\u001b[0m\u001b[0;34m.\u001b[0m\u001b[0m_manage\u001b[0m\u001b[0;34m(\u001b[0m\u001b[0;34m)\u001b[0m\u001b[0;34m\u001b[0m\u001b[0;34m\u001b[0m\u001b[0m\n\u001b[0m\u001b[1;32m    414\u001b[0m \u001b[0;34m\u001b[0m\u001b[0m\n\u001b[1;32m    415\u001b[0m     \u001b[0;32mdef\u001b[0m \u001b[0mtags\u001b[0m\u001b[0;34m(\u001b[0m\u001b[0mself\u001b[0m\u001b[0;34m)\u001b[0m\u001b[0;34m:\u001b[0m\u001b[0;34m\u001b[0m\u001b[0;34m\u001b[0m\u001b[0m\n",
      "\u001b[0;32m/Applications/anaconda3/lib/python3.7/site-packages/nltk/draw/tree.py\u001b[0m in \u001b[0;36m_manage\u001b[0;34m(self)\u001b[0m\n\u001b[1;32m    408\u001b[0m             \u001b[0mself\u001b[0m\u001b[0;34m.\u001b[0m\u001b[0m_manage_horizontal\u001b[0m\u001b[0;34m(\u001b[0m\u001b[0;34m)\u001b[0m\u001b[0;34m\u001b[0m\u001b[0;34m\u001b[0m\u001b[0m\n\u001b[1;32m    409\u001b[0m         \u001b[0;32melse\u001b[0m\u001b[0;34m:\u001b[0m\u001b[0;34m\u001b[0m\u001b[0;34m\u001b[0m\u001b[0m\n\u001b[0;32m--> 410\u001b[0;31m             \u001b[0mself\u001b[0m\u001b[0;34m.\u001b[0m\u001b[0m_manage_vertical\u001b[0m\u001b[0;34m(\u001b[0m\u001b[0;34m)\u001b[0m\u001b[0;34m\u001b[0m\u001b[0;34m\u001b[0m\u001b[0m\n\u001b[0m\u001b[1;32m    411\u001b[0m \u001b[0;34m\u001b[0m\u001b[0m\n\u001b[1;32m    412\u001b[0m         \u001b[0;31m# Update lines to subtrees.\u001b[0m\u001b[0;34m\u001b[0m\u001b[0;34m\u001b[0m\u001b[0;34m\u001b[0m\u001b[0m\n",
      "\u001b[0;32m/Applications/anaconda3/lib/python3.7/site-packages/nltk/draw/tree.py\u001b[0m in \u001b[0;36m_manage_vertical\u001b[0;34m(self)\u001b[0m\n\u001b[1;32m    397\u001b[0m         \u001b[0;31m# Center the subtrees with the node.\u001b[0m\u001b[0;34m\u001b[0m\u001b[0;34m\u001b[0m\u001b[0;34m\u001b[0m\u001b[0m\n\u001b[1;32m    398\u001b[0m         \u001b[0;32mfor\u001b[0m \u001b[0msubtree\u001b[0m \u001b[0;32min\u001b[0m \u001b[0mself\u001b[0m\u001b[0;34m.\u001b[0m\u001b[0m_subtrees\u001b[0m\u001b[0;34m:\u001b[0m\u001b[0;34m\u001b[0m\u001b[0;34m\u001b[0m\u001b[0m\n\u001b[0;32m--> 399\u001b[0;31m             \u001b[0msubtree\u001b[0m\u001b[0;34m.\u001b[0m\u001b[0mmove\u001b[0m\u001b[0;34m(\u001b[0m\u001b[0mnodex\u001b[0m \u001b[0;34m-\u001b[0m \u001b[0mcenter\u001b[0m\u001b[0;34m,\u001b[0m \u001b[0;36m0\u001b[0m\u001b[0;34m)\u001b[0m\u001b[0;34m\u001b[0m\u001b[0;34m\u001b[0m\u001b[0m\n\u001b[0m\u001b[1;32m    400\u001b[0m \u001b[0;34m\u001b[0m\u001b[0m\n\u001b[1;32m    401\u001b[0m     \u001b[0;32mdef\u001b[0m \u001b[0m_manage\u001b[0m\u001b[0;34m(\u001b[0m\u001b[0mself\u001b[0m\u001b[0;34m)\u001b[0m\u001b[0;34m:\u001b[0m\u001b[0;34m\u001b[0m\u001b[0;34m\u001b[0m\u001b[0m\n",
      "\u001b[0;32m/Applications/anaconda3/lib/python3.7/site-packages/nltk/draw/util.py\u001b[0m in \u001b[0;36mmove\u001b[0;34m(self, dx, dy)\u001b[0m\n\u001b[1;32m    315\u001b[0m             \u001b[0mself\u001b[0m\u001b[0;34m.\u001b[0m\u001b[0m__canvas\u001b[0m\u001b[0;34m.\u001b[0m\u001b[0mmove\u001b[0m\u001b[0;34m(\u001b[0m\u001b[0mtag\u001b[0m\u001b[0;34m,\u001b[0m \u001b[0mdx\u001b[0m\u001b[0;34m,\u001b[0m \u001b[0mdy\u001b[0m\u001b[0;34m)\u001b[0m\u001b[0;34m\u001b[0m\u001b[0;34m\u001b[0m\u001b[0m\n\u001b[1;32m    316\u001b[0m         \u001b[0;32mif\u001b[0m \u001b[0mself\u001b[0m\u001b[0;34m.\u001b[0m\u001b[0m__parent\u001b[0m\u001b[0;34m:\u001b[0m\u001b[0;34m\u001b[0m\u001b[0;34m\u001b[0m\u001b[0m\n\u001b[0;32m--> 317\u001b[0;31m             \u001b[0mself\u001b[0m\u001b[0;34m.\u001b[0m\u001b[0m__parent\u001b[0m\u001b[0;34m.\u001b[0m\u001b[0mupdate\u001b[0m\u001b[0;34m(\u001b[0m\u001b[0mself\u001b[0m\u001b[0;34m)\u001b[0m\u001b[0;34m\u001b[0m\u001b[0;34m\u001b[0m\u001b[0m\n\u001b[0m\u001b[1;32m    318\u001b[0m \u001b[0;34m\u001b[0m\u001b[0m\n\u001b[1;32m    319\u001b[0m     \u001b[0;32mdef\u001b[0m \u001b[0mmoveto\u001b[0m\u001b[0;34m(\u001b[0m\u001b[0mself\u001b[0m\u001b[0;34m,\u001b[0m \u001b[0mx\u001b[0m\u001b[0;34m,\u001b[0m \u001b[0my\u001b[0m\u001b[0;34m,\u001b[0m \u001b[0manchor\u001b[0m\u001b[0;34m=\u001b[0m\u001b[0;34m'NW'\u001b[0m\u001b[0;34m)\u001b[0m\u001b[0;34m:\u001b[0m\u001b[0;34m\u001b[0m\u001b[0;34m\u001b[0m\u001b[0m\n",
      "\u001b[0;32m/Applications/anaconda3/lib/python3.7/site-packages/nltk/draw/util.py\u001b[0m in \u001b[0;36mupdate\u001b[0;34m(self, child)\u001b[0m\n\u001b[1;32m    392\u001b[0m \u001b[0;34m\u001b[0m\u001b[0m\n\u001b[1;32m    393\u001b[0m         \u001b[0;31m# Update this CanvasWidget.\u001b[0m\u001b[0;34m\u001b[0m\u001b[0;34m\u001b[0m\u001b[0;34m\u001b[0m\u001b[0m\n\u001b[0;32m--> 394\u001b[0;31m         \u001b[0mself\u001b[0m\u001b[0;34m.\u001b[0m\u001b[0m_update\u001b[0m\u001b[0;34m(\u001b[0m\u001b[0mchild\u001b[0m\u001b[0;34m)\u001b[0m\u001b[0;34m\u001b[0m\u001b[0;34m\u001b[0m\u001b[0m\n\u001b[0m\u001b[1;32m    395\u001b[0m \u001b[0;34m\u001b[0m\u001b[0m\n\u001b[1;32m    396\u001b[0m         \u001b[0;31m# Propagate update request to the parent.\u001b[0m\u001b[0;34m\u001b[0m\u001b[0;34m\u001b[0m\u001b[0;34m\u001b[0m\u001b[0m\n",
      "\u001b[0;32m/Applications/anaconda3/lib/python3.7/site-packages/nltk/draw/tree.py\u001b[0m in \u001b[0;36m_update\u001b[0;34m(self, child)\u001b[0m\n\u001b[1;32m    244\u001b[0m         \u001b[0;34m(\u001b[0m\u001b[0mxmin\u001b[0m\u001b[0;34m,\u001b[0m \u001b[0mymin\u001b[0m\u001b[0;34m,\u001b[0m \u001b[0mxmax\u001b[0m\u001b[0;34m,\u001b[0m \u001b[0mymax\u001b[0m\u001b[0;34m)\u001b[0m \u001b[0;34m=\u001b[0m \u001b[0mself\u001b[0m\u001b[0;34m.\u001b[0m\u001b[0m_subtrees\u001b[0m\u001b[0;34m[\u001b[0m\u001b[0;36m0\u001b[0m\u001b[0;34m]\u001b[0m\u001b[0;34m.\u001b[0m\u001b[0mbbox\u001b[0m\u001b[0;34m(\u001b[0m\u001b[0;34m)\u001b[0m\u001b[0;34m\u001b[0m\u001b[0;34m\u001b[0m\u001b[0m\n\u001b[1;32m    245\u001b[0m         \u001b[0;32mfor\u001b[0m \u001b[0msubtree\u001b[0m \u001b[0;32min\u001b[0m \u001b[0mself\u001b[0m\u001b[0;34m.\u001b[0m\u001b[0m_subtrees\u001b[0m\u001b[0;34m[\u001b[0m\u001b[0;36m1\u001b[0m\u001b[0;34m:\u001b[0m\u001b[0;34m]\u001b[0m\u001b[0;34m:\u001b[0m\u001b[0;34m\u001b[0m\u001b[0;34m\u001b[0m\u001b[0m\n\u001b[0;32m--> 246\u001b[0;31m             \u001b[0mbbox\u001b[0m \u001b[0;34m=\u001b[0m \u001b[0msubtree\u001b[0m\u001b[0;34m.\u001b[0m\u001b[0mbbox\u001b[0m\u001b[0;34m(\u001b[0m\u001b[0;34m)\u001b[0m\u001b[0;34m\u001b[0m\u001b[0;34m\u001b[0m\u001b[0m\n\u001b[0m\u001b[1;32m    247\u001b[0m             \u001b[0mxmin\u001b[0m \u001b[0;34m=\u001b[0m \u001b[0mmin\u001b[0m\u001b[0;34m(\u001b[0m\u001b[0mxmin\u001b[0m\u001b[0;34m,\u001b[0m \u001b[0mbbox\u001b[0m\u001b[0;34m[\u001b[0m\u001b[0;36m0\u001b[0m\u001b[0;34m]\u001b[0m\u001b[0;34m)\u001b[0m\u001b[0;34m\u001b[0m\u001b[0;34m\u001b[0m\u001b[0m\n\u001b[1;32m    248\u001b[0m             \u001b[0mymin\u001b[0m \u001b[0;34m=\u001b[0m \u001b[0mmin\u001b[0m\u001b[0;34m(\u001b[0m\u001b[0mymin\u001b[0m\u001b[0;34m,\u001b[0m \u001b[0mbbox\u001b[0m\u001b[0;34m[\u001b[0m\u001b[0;36m1\u001b[0m\u001b[0;34m]\u001b[0m\u001b[0;34m)\u001b[0m\u001b[0;34m\u001b[0m\u001b[0;34m\u001b[0m\u001b[0m\n",
      "\u001b[0;32m/Applications/anaconda3/lib/python3.7/site-packages/nltk/draw/util.py\u001b[0m in \u001b[0;36mbbox\u001b[0;34m(self)\u001b[0m\n\u001b[1;32m    246\u001b[0m         \u001b[0;32mif\u001b[0m \u001b[0mlen\u001b[0m\u001b[0;34m(\u001b[0m\u001b[0mself\u001b[0m\u001b[0;34m.\u001b[0m\u001b[0mtags\u001b[0m\u001b[0;34m(\u001b[0m\u001b[0;34m)\u001b[0m\u001b[0;34m)\u001b[0m \u001b[0;34m==\u001b[0m \u001b[0;36m0\u001b[0m\u001b[0;34m:\u001b[0m\u001b[0;34m\u001b[0m\u001b[0;34m\u001b[0m\u001b[0m\n\u001b[1;32m    247\u001b[0m             \u001b[0;32mraise\u001b[0m \u001b[0mValueError\u001b[0m\u001b[0;34m(\u001b[0m\u001b[0;34m'No tags'\u001b[0m\u001b[0;34m)\u001b[0m\u001b[0;34m\u001b[0m\u001b[0;34m\u001b[0m\u001b[0m\n\u001b[0;32m--> 248\u001b[0;31m         \u001b[0;32mreturn\u001b[0m \u001b[0mself\u001b[0m\u001b[0;34m.\u001b[0m\u001b[0m__canvas\u001b[0m\u001b[0;34m.\u001b[0m\u001b[0mbbox\u001b[0m\u001b[0;34m(\u001b[0m\u001b[0;34m*\u001b[0m\u001b[0mself\u001b[0m\u001b[0;34m.\u001b[0m\u001b[0mtags\u001b[0m\u001b[0;34m(\u001b[0m\u001b[0;34m)\u001b[0m\u001b[0;34m)\u001b[0m\u001b[0;34m\u001b[0m\u001b[0;34m\u001b[0m\u001b[0m\n\u001b[0m\u001b[1;32m    249\u001b[0m \u001b[0;34m\u001b[0m\u001b[0m\n\u001b[1;32m    250\u001b[0m     \u001b[0;32mdef\u001b[0m \u001b[0mwidth\u001b[0m\u001b[0;34m(\u001b[0m\u001b[0mself\u001b[0m\u001b[0;34m)\u001b[0m\u001b[0;34m:\u001b[0m\u001b[0;34m\u001b[0m\u001b[0;34m\u001b[0m\u001b[0m\n",
      "\u001b[0;32m/Applications/anaconda3/lib/python3.7/tkinter/__init__.py\u001b[0m in \u001b[0;36mbbox\u001b[0;34m(self, *args)\u001b[0m\n\u001b[1;32m   2437\u001b[0m         which encloses all items with tags specified as arguments.\"\"\"\n\u001b[1;32m   2438\u001b[0m         return self._getints(\n\u001b[0;32m-> 2439\u001b[0;31m             self.tk.call((self._w, 'bbox') + args)) or None\n\u001b[0m\u001b[1;32m   2440\u001b[0m     \u001b[0;32mdef\u001b[0m \u001b[0mtag_unbind\u001b[0m\u001b[0;34m(\u001b[0m\u001b[0mself\u001b[0m\u001b[0;34m,\u001b[0m \u001b[0mtagOrId\u001b[0m\u001b[0;34m,\u001b[0m \u001b[0msequence\u001b[0m\u001b[0;34m,\u001b[0m \u001b[0mfuncid\u001b[0m\u001b[0;34m=\u001b[0m\u001b[0;32mNone\u001b[0m\u001b[0;34m)\u001b[0m\u001b[0;34m:\u001b[0m\u001b[0;34m\u001b[0m\u001b[0;34m\u001b[0m\u001b[0m\n\u001b[1;32m   2441\u001b[0m         \"\"\"Unbind for all items with TAGORID for event SEQUENCE  the\n",
      "\u001b[0;31mKeyboardInterrupt\u001b[0m: "
     ]
    }
   ],
   "source": [
    "#Establishing rules for chunking\n",
    "from nltk.chunk import *\n",
    "from nltk.chunk.util import *\n",
    "from nltk.chunk.regexp import *\n",
    "\n",
    "rules = r'''\n",
    "NP: {<JJ><NN.>}\n",
    "    {<VB.>*<RB>}\n",
    "    {<NN><NN.>+}\n",
    "    {<VP><NN.>+}\n",
    "    {<NN.><RB>+}\n",
    "    {<NNP>+}\n",
    "    {<NN><NN>}\n",
    "    '''\n",
    "chunkparse = RegexpParser(rules)\n",
    "result = chunkparse.parse(tags)\n",
    "print(result)\n",
    "result.draw()\n",
    "#print(tags)\n",
    "#nouns = noun for noun in result if tags == \"NN\""
   ]
  },
  {
   "cell_type": "code",
   "execution_count": 81,
   "metadata": {},
   "outputs": [
    {
     "output_type": "stream",
     "name": "stdout",
     "text": "[[0 0 0 ... 0 0 0]\n [0 0 0 ... 0 0 1]\n [0 0 0 ... 0 0 0]\n ...\n [0 0 0 ... 0 1 0]\n [0 0 0 ... 0 1 0]\n [0 0 0 ... 0 0 0]]\n    19  1955  19p13  25  28b  35  376b  3p  3p13  489  ...  wild  will  with  \\\n0    0     0      0   0    0   0     0   0     0    0  ...     0     0     0   \n1    0     0      0   1    0   0     0   0     0    0  ...     0     0     1   \n2    0     0      0   0    0   0     0   0     0    0  ...     0     0     0   \n3    0     0      0   0    0   0     0   0     0    0  ...     0     0     0   \n4    0     0      0   0    0   0     0   0     0    0  ...     0     1     0   \n..  ..   ...    ...  ..  ...  ..   ...  ..   ...  ...  ...   ...   ...   ...   \n95   0     0      0   0    0   0     0   0     0    0  ...     0     0     0   \n96   0     0      0   0    0   0     0   0     0    0  ...     0     0     0   \n97   0     0      0   0    0   0     0   0     0    0  ...     0     0     0   \n98   0     0      0   0    0   0     0   0     0    0  ...     0     0     0   \n99   0     0      0   0    0   0     0   0     0    0  ...     0     0     0   \n\n    within  workflow  wx  yield  ym2  zika  αiibβ3  \n0        0         0   0      0    0     0       0  \n1        0         0   0      0    0     0       1  \n2        0         0   0      0    0     0       0  \n3        0         0   0      0    0     0       0  \n4        0         0   0      0    0     0       0  \n..     ...       ...  ..    ...  ...   ...     ...  \n95       0         0   0      0    0     0       0  \n96       0         0   0      0    0     0       0  \n97       0         0   0      0    0     1       0  \n98       0         0   0      0    0     1       0  \n99       0         0   0      0    0     0       0  \n\n[100 rows x 862 columns]\n"
    }
   ],
   "source": [
    "#training a model, bag-of-words\n",
    "\n",
    "from sklearn.feature_extraction.text import CountVectorizer\n",
    "\n",
    "#you can do preprocessing first and then pass the processed texts to CountVectorizer\n",
    "\n",
    "vectorizer = CountVectorizer()\n",
    "vectors = vectorizer.fit_transform(list_titles)\n",
    "\n",
    "#print(vectorizer.get_feature_names())\n",
    "print(vectors.toarray())\n",
    "\n",
    "freq = pd.DataFrame(data = vectors.toarray(), columns = vectorizer.get_feature_names())\n",
    "\n",
    "print(freq)\n"
   ]
  },
  {
   "cell_type": "code",
   "execution_count": 83,
   "metadata": {},
   "outputs": [
    {
     "output_type": "stream",
     "name": "stdout",
     "text": "19  1955  19p13        25  28b   35  376b   3p  3p13  489  ...  wild  \\\n0   0.0   0.0    0.0  0.000000  0.0  0.0   0.0  0.0   0.0  0.0  ...   0.0   \n1   0.0   0.0    0.0  0.284608  0.0  0.0   0.0  0.0   0.0  0.0  ...   0.0   \n2   0.0   0.0    0.0  0.000000  0.0  0.0   0.0  0.0   0.0  0.0  ...   0.0   \n3   0.0   0.0    0.0  0.000000  0.0  0.0   0.0  0.0   0.0  0.0  ...   0.0   \n4   0.0   0.0    0.0  0.000000  0.0  0.0   0.0  0.0   0.0  0.0  ...   0.0   \n..  ...   ...    ...       ...  ...  ...   ...  ...   ...  ...  ...   ...   \n95  0.0   0.0    0.0  0.000000  0.0  0.0   0.0  0.0   0.0  0.0  ...   0.0   \n96  0.0   0.0    0.0  0.000000  0.0  0.0   0.0  0.0   0.0  0.0  ...   0.0   \n97  0.0   0.0    0.0  0.000000  0.0  0.0   0.0  0.0   0.0  0.0  ...   0.0   \n98  0.0   0.0    0.0  0.000000  0.0  0.0   0.0  0.0   0.0  0.0  ...   0.0   \n99  0.0   0.0    0.0  0.000000  0.0  0.0   0.0  0.0   0.0  0.0  ...   0.0   \n\n       will      with  within  workflow   wx  yield  ym2      zika    αiibβ3  \n0   0.00000  0.000000     0.0       0.0  0.0    0.0  0.0  0.000000  0.000000  \n1   0.00000  0.183189     0.0       0.0  0.0    0.0  0.0  0.000000  0.310159  \n2   0.00000  0.000000     0.0       0.0  0.0    0.0  0.0  0.000000  0.000000  \n3   0.00000  0.000000     0.0       0.0  0.0    0.0  0.0  0.000000  0.000000  \n4   0.31981  0.000000     0.0       0.0  0.0    0.0  0.0  0.000000  0.000000  \n..      ...       ...     ...       ...  ...    ...  ...       ...       ...  \n95  0.00000  0.000000     0.0       0.0  0.0    0.0  0.0  0.000000  0.000000  \n96  0.00000  0.000000     0.0       0.0  0.0    0.0  0.0  0.000000  0.000000  \n97  0.00000  0.000000     0.0       0.0  0.0    0.0  0.0  0.282895  0.000000  \n98  0.00000  0.000000     0.0       0.0  0.0    0.0  0.0  0.267982  0.000000  \n99  0.00000  0.000000     0.0       0.0  0.0    0.0  0.0  0.000000  0.000000  \n\n[100 rows x 862 columns]\n"
    }
   ],
   "source": [
    "from sklearn.feature_extraction.text import TfidfVectorizer\n",
    "\n",
    "tfidf_vectorizer = TfidfVectorizer()\n",
    "tfidf_vectors = tfidf_vectorizer.fit_transform(list_titles)\n",
    "\n",
    "tfidfs = pd.DataFrame(data=tfidf_vectors.toarray(), columns=tfidf_vectorizer.get_feature_names())\n",
    "\n",
    "print(tfidfs)"
   ]
  },
  {
   "cell_type": "code",
   "execution_count": 82,
   "metadata": {},
   "outputs": [
    {
     "output_type": "stream",
     "name": "stdout",
     "text": "0\n0   5  splice site gc gt gt and gt gt gc variants ...\n1   platelet integrin αiibβ3 activation is associa...\n2   increased urinary exosomal syt17 levels in chr...\n3   mutational profiling of driver tumor suppresso...\n4   what will it take to build an expert group of ...\n..                                                ...\n95  cam guard cell anion channel activity follows ...\n96  fine-tuning the regulation of cas9 expression ...\n97  development and validation of real-time rt-lam...\n98  zika virus amplification using strand displace...\n99  heat stress inducible cytoplasmic isoform of c...\n\n[100 rows x 1 columns]\n"
    }
   ],
   "source": [
    "new_list = []\n",
    "\n",
    "for title in list_titles:\n",
    "    t = title.replace(\".\", \" \")\n",
    "    t = t.replace(\",\", \" \")\n",
    "    t = t.replace(\";\", \" \")\n",
    "    t = t.replace(\":\", \" \")\n",
    "    t = t.replace(\"(\", \" \")\n",
    "    t = t.replace(\")\", \" \")\n",
    "    t = t.replace(\"?\", \" \")\n",
    "    t = t.replace(\"&\", \" \")\n",
    "    t = t.replace(\"'\", \" \")\n",
    "    t = t.replace(\"<\", \" \")\n",
    "    t = t.replace(\">\", \" \")\n",
    "    t = t.replace(\"/i\", \" \")\n",
    "    t = t.lower()\n",
    "    new_list.append(t)\n",
    "\n",
    "df3 = pd.DataFrame(new_list)\n",
    "print(df3)"
   ]
  },
  {
   "cell_type": "markdown",
   "metadata": {},
   "source": [
    "## 7) Give me a problem statement.\n",
    "Below, write a problem statement. Keep in mind that your task is to tease out relationships in your data and eventually build a predictive model. Your problem statement can be vague, but you should have a goal in mind. Your problem statement should be between one sentence and one paragraph."
   ]
  },
  {
   "cell_type": "code",
   "execution_count": 14,
   "metadata": {},
   "outputs": [],
   "source": [
    "#It will be helpful for NIH administrators to know which aspects of a certain scientific area are most common in publications and which are least common. For example if we know that \"human\" is the most common term in a PubMed search of \"genomics\" publications, then we can learn that there is a strong human emphasis in genomic research."
   ]
  },
  {
   "cell_type": "markdown",
   "metadata": {},
   "source": [
    "## 8) What is your _y_-variable?\n",
    "For final project, you will need to perform a statistical model. This means you will have to accurately predict some y-variable for some combination of x-variables. From your problem statement in part 7, what is that y-variable?"
   ]
  },
  {
   "cell_type": "code",
   "execution_count": 15,
   "metadata": {},
   "outputs": [],
   "source": [
    "#How many times a word is used in publication abstract/titles."
   ]
  }
 ],
 "metadata": {
  "kernelspec": {
   "display_name": "Python 3.7.4 64-bit ('base': conda)",
   "language": "python",
   "name": "python37464bitbasecondad7e997a9f21d4c48a1361726b45a74df"
  },
  "language_info": {
   "codemirror_mode": {
    "name": "ipython",
    "version": 3
   },
   "file_extension": ".py",
   "mimetype": "text/x-python",
   "name": "python",
   "nbconvert_exporter": "python",
   "pygments_lexer": "ipython3",
   "version": "3.7.4-final"
  }
 },
 "nbformat": 4,
 "nbformat_minor": 4
}